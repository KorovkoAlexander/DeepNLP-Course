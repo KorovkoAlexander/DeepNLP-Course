{
 "cells": [
  {
   "cell_type": "code",
   "execution_count": 0,
   "metadata": {
    "colab": {},
    "colab_type": "code",
    "id": "P59NYU98GCb9"
   },
   "outputs": [],
   "source": [
    "# !pip3 -qq install torch==0.4.1\n",
    "# !pip install -qq bokeh==0.13.0\n",
    "# !pip install -qq gensim==3.6.0"
   ]
  },
  {
   "cell_type": "code",
   "execution_count": 1,
   "metadata": {
    "colab": {},
    "colab_type": "code",
    "id": "8sVtGHmA9aBM"
   },
   "outputs": [],
   "source": [
    "import numpy as np\n",
    "\n",
    "import torch\n",
    "import torch.nn as nn\n",
    "import torch.nn.functional as F\n",
    "import torch.optim as optim\n",
    "\n",
    "\n",
    "if torch.cuda.is_available():\n",
    "    from torch.cuda import FloatTensor, LongTensor\n",
    "else:\n",
    "    from torch import FloatTensor, LongTensor\n",
    "\n",
    "np.random.seed(42)"
   ]
  },
  {
   "cell_type": "markdown",
   "metadata": {
    "colab_type": "text",
    "id": "-6CNKM3b4hT1"
   },
   "source": [
    "# Рекуррентные нейронные сети, часть 2"
   ]
  },
  {
   "cell_type": "markdown",
   "metadata": {
    "colab_type": "text",
    "id": "O_XkoGNQUeGm"
   },
   "source": [
    "## POS Tagging"
   ]
  },
  {
   "cell_type": "markdown",
   "metadata": {
    "colab_type": "text",
    "id": "QFEtWrS_4rUs"
   },
   "source": [
    "Мы уже посмотрели на применение рекуррентных сетей для классификации.\n",
    "\n",
    "![RNN types](http://karpathy.github.io/assets/rnn/diags.jpeg \" \")\n",
    "\n",
    "*From [The Unreasonable Effectiveness of Recurrent Neural Networks](http://karpathy.github.io/2015/05/21/rnn-effectiveness/)*\n",
    "\n",
    "Перейдем к ещё одному варианту - sequence labeling (последняя картинка).\n",
    "\n",
    "Самые популярные примеры для такой постановки задачи - Part-of-Speech Tagging и Named Entity Recognition.\n",
    "\n",
    "Мы порешаем сейчас POS Tagging для английского.\n",
    "\n",
    "Будем работать с таким набором тегов:\n",
    "- ADJ - adjective (new, good, high, ...)\n",
    "- ADP - adposition (on, of, at, ...)\n",
    "- ADV - adverb (really, already, still, ...)\n",
    "- CONJ - conjunction (and, or, but, ...)\n",
    "- DET - determiner, article (the, a, some, ...)\n",
    "- NOUN - noun (year, home, costs, ...)\n",
    "- NUM - numeral (twenty-four, fourth, 1991, ...)\n",
    "- PRT - particle (at, on, out, ...)\n",
    "- PRON - pronoun (he, their, her, ...)\n",
    "- VERB - verb (is, say, told, ...)\n",
    "- . - punctuation marks (. , ;)\n",
    "- X - other (ersatz, esprit, dunno, ...)"
   ]
  },
  {
   "cell_type": "markdown",
   "metadata": {
    "colab_type": "text",
    "id": "EPIkKdFlHB-X"
   },
   "source": [
    "Скачаем данные:"
   ]
  },
  {
   "cell_type": "code",
   "execution_count": null,
   "metadata": {},
   "outputs": [],
   "source": []
  },
  {
   "cell_type": "code",
   "execution_count": 3,
   "metadata": {
    "colab": {},
    "colab_type": "code",
    "id": "TiA2dGmgF1rW"
   },
   "outputs": [
    {
     "name": "stderr",
     "output_type": "stream",
     "text": [
      "[nltk_data] Downloading package brown to /home/alexander/nltk_data...\n",
      "[nltk_data]   Unzipping corpora/brown.zip.\n",
      "[nltk_data] Downloading package universal_tagset to\n",
      "[nltk_data]     /home/alexander/nltk_data...\n",
      "[nltk_data]   Unzipping taggers/universal_tagset.zip.\n"
     ]
    }
   ],
   "source": [
    "import nltk\n",
    "from sklearn.model_selection import train_test_split\n",
    "\n",
    "nltk.download('brown')\n",
    "nltk.download('universal_tagset')\n",
    "\n",
    "data = nltk.corpus.brown.tagged_sents(tagset='universal')"
   ]
  },
  {
   "cell_type": "markdown",
   "metadata": {
    "colab_type": "text",
    "id": "d93g_swyJA_V"
   },
   "source": [
    "Пример размеченного предложения:"
   ]
  },
  {
   "cell_type": "code",
   "execution_count": 4,
   "metadata": {
    "colab": {},
    "colab_type": "code",
    "id": "QstS4NO0L97c"
   },
   "outputs": [
    {
     "name": "stdout",
     "output_type": "stream",
     "text": [
      "The            \tDET\n",
      "Fulton         \tNOUN\n",
      "County         \tNOUN\n",
      "Grand          \tADJ\n",
      "Jury           \tNOUN\n",
      "said           \tVERB\n",
      "Friday         \tNOUN\n",
      "an             \tDET\n",
      "investigation  \tNOUN\n",
      "of             \tADP\n",
      "Atlanta's      \tNOUN\n",
      "recent         \tADJ\n",
      "primary        \tNOUN\n",
      "election       \tNOUN\n",
      "produced       \tVERB\n",
      "``             \t.\n",
      "no             \tDET\n",
      "evidence       \tNOUN\n",
      "''             \t.\n",
      "that           \tADP\n",
      "any            \tDET\n",
      "irregularities \tNOUN\n",
      "took           \tVERB\n",
      "place          \tNOUN\n",
      ".              \t.\n"
     ]
    }
   ],
   "source": [
    "for word, tag in data[0]:\n",
    "    print('{:15}\\t{}'.format(word, tag))"
   ]
  },
  {
   "cell_type": "markdown",
   "metadata": {
    "colab_type": "text",
    "id": "epdW8u_YXcAv"
   },
   "source": [
    "Построим разбиение на train/val/test - наконец-то, всё как у нормальных людей.\n",
    "\n",
    "На train будем учиться, по val - подбирать параметры и делать всякие early stopping, а на test - принимать модель по ее финальному качеству."
   ]
  },
  {
   "cell_type": "code",
   "execution_count": 5,
   "metadata": {
    "colab": {},
    "colab_type": "code",
    "id": "xTai8Ta0lgwL"
   },
   "outputs": [
    {
     "name": "stdout",
     "output_type": "stream",
     "text": [
      "Words count in train set: 739769\n",
      "Words count in val set: 130954\n",
      "Words count in test set: 290469\n"
     ]
    }
   ],
   "source": [
    "train_data, test_data = train_test_split(data, test_size=0.25, random_state=42)\n",
    "train_data, val_data = train_test_split(train_data, test_size=0.15, random_state=42)\n",
    "\n",
    "print('Words count in train set:', sum(len(sent) for sent in train_data))\n",
    "print('Words count in val set:', sum(len(sent) for sent in val_data))\n",
    "print('Words count in test set:', sum(len(sent) for sent in test_data))"
   ]
  },
  {
   "cell_type": "markdown",
   "metadata": {
    "colab_type": "text",
    "id": "eChdLNGtXyP0"
   },
   "source": [
    "Построим маппинги из слов в индекс и из тега в индекс:\n"
   ]
  },
  {
   "cell_type": "code",
   "execution_count": 6,
   "metadata": {
    "colab": {},
    "colab_type": "code",
    "id": "pCjwwDs6Zq9x"
   },
   "outputs": [
    {
     "name": "stdout",
     "output_type": "stream",
     "text": [
      "Unique words in train = 45441. Tags = {'ADJ', 'X', 'VERB', 'ADP', 'PRON', 'ADV', 'PRT', 'NUM', 'DET', 'CONJ', 'NOUN', '.'}\n"
     ]
    }
   ],
   "source": [
    "words = {word for sample in train_data for word, tag in sample}\n",
    "word2ind = {word: ind + 1 for ind, word in enumerate(words)}\n",
    "word2ind['<pad>'] = 0\n",
    "\n",
    "tags = {tag for sample in train_data for word, tag in sample}\n",
    "tag2ind = {tag: ind + 1 for ind, tag in enumerate(tags)}\n",
    "tag2ind['<pad>'] = 0\n",
    "\n",
    "print('Unique words in train = {}. Tags = {}'.format(len(word2ind), tags))"
   ]
  },
  {
   "cell_type": "code",
   "execution_count": 7,
   "metadata": {
    "colab": {},
    "colab_type": "code",
    "id": "URC1B2nvPGFt"
   },
   "outputs": [
    {
     "data": {
      "image/png": "[encoded data removed]",
      "text/plain": [
       "<Figure size 720x360 with 1 Axes>"
      ]
     },
     "metadata": {
      "needs_background": "light"
     },
     "output_type": "display_data"
    }
   ],
   "source": [
    "import matplotlib.pyplot as plt\n",
    "%matplotlib inline\n",
    "\n",
    "from collections import Counter\n",
    "\n",
    "tag_distribution = Counter(tag for sample in train_data for _, tag in sample)\n",
    "tag_distribution = [tag_distribution[tag] for tag in tags]\n",
    "\n",
    "plt.figure(figsize=(10, 5))\n",
    "\n",
    "bar_width = 0.35\n",
    "plt.bar(np.arange(len(tags)), tag_distribution, bar_width, align='center', alpha=0.5)\n",
    "plt.xticks(np.arange(len(tags)), tags)\n",
    "    \n",
    "plt.show()"
   ]
  },
  {
   "cell_type": "markdown",
   "metadata": {
    "colab_type": "text",
    "id": "gArQwbzWWkgi"
   },
   "source": [
    "## Бейзлайн\n",
    "\n",
    "Какой самый простой теггер можно придумать? Давайте просто запоминать, какие теги самые вероятные для слова (или для последовательности):\n",
    "\n",
    "![tag-context](https://www.nltk.org/images/tag-context.png \" \")  \n",
    "*From [Categorizing and Tagging Words, nltk](https://www.nltk.org/book/ch05.html)*\n",
    "\n",
    "На картинке показано, что для предсказания $t_n$ используются два предыдущих предсказанных тега + текущее слово. По корпусу считаются вероятность для $P(t_n| w_n, t_{n-1}, t_{n-2})$, выбирается тег с максимальной вероятностью.\n",
    "\n",
    "Более аккуратно такая идея реализована в Hidden Markov Models: по тренировочному корпусу вычисляются вероятности $P(w_n| t_n), P(t_n|t_{n-1}, t_{n-2})$ и максимизируется их произведение.\n",
    "\n",
    "Простейший вариант - униграммная модель, учитывающая только слово:"
   ]
  },
  {
   "cell_type": "code",
   "execution_count": 8,
   "metadata": {
    "colab": {},
    "colab_type": "code",
    "id": "5rWmSToIaeAo"
   },
   "outputs": [
    {
     "name": "stdout",
     "output_type": "stream",
     "text": [
      "Accuracy of unigram tagger = 92.62%\n"
     ]
    }
   ],
   "source": [
    "import nltk\n",
    "\n",
    "default_tagger = nltk.DefaultTagger('NN')\n",
    "\n",
    "unigram_tagger = nltk.UnigramTagger(train_data, backoff=default_tagger)\n",
    "print('Accuracy of unigram tagger = {:.2%}'.format(unigram_tagger.evaluate(test_data)))"
   ]
  },
  {
   "cell_type": "markdown",
   "metadata": {
    "colab_type": "text",
    "id": "07Ymb_MkbWsF"
   },
   "source": [
    "Добавим вероятности переходов:"
   ]
  },
  {
   "cell_type": "code",
   "execution_count": 9,
   "metadata": {
    "colab": {},
    "colab_type": "code",
    "id": "vjz_Rk0bbMyH"
   },
   "outputs": [
    {
     "name": "stdout",
     "output_type": "stream",
     "text": [
      "Accuracy of bigram tagger = 93.42%\n"
     ]
    }
   ],
   "source": [
    "bigram_tagger = nltk.BigramTagger(train_data, backoff=unigram_tagger)\n",
    "print('Accuracy of bigram tagger = {:.2%}'.format(bigram_tagger.evaluate(test_data)))"
   ]
  },
  {
   "cell_type": "markdown",
   "metadata": {
    "colab_type": "text",
    "id": "uWMw6QHvbaDd"
   },
   "source": [
    "Обратите внимание, что `backoff` важен:"
   ]
  },
  {
   "cell_type": "code",
   "execution_count": 10,
   "metadata": {
    "colab": {},
    "colab_type": "code",
    "id": "8XCuxEBVbOY_"
   },
   "outputs": [
    {
     "name": "stdout",
     "output_type": "stream",
     "text": [
      "Accuracy of trigram tagger = 23.33%\n"
     ]
    }
   ],
   "source": [
    "trigram_tagger = nltk.TrigramTagger(train_data)\n",
    "print('Accuracy of trigram tagger = {:.2%}'.format(trigram_tagger.evaluate(test_data)))"
   ]
  },
  {
   "cell_type": "markdown",
   "metadata": {
    "colab_type": "text",
    "id": "4t3xyYd__8d-"
   },
   "source": [
    "## Увеличиваем контекст с рекуррентными сетями\n",
    "\n",
    "Униграмная модель работает на удивление хорошо, но мы же собрались учить сеточки.\n",
    "\n",
    "Омонимия - основная причина, почему униграмная модель плоха:\n",
    "*“he cashed a check at the **bank**”*  \n",
    "vs  \n",
    "*“he sat on the **bank** of the river”*\n",
    "\n",
    "Поэтому нам очень полезно учитывать контекст при предсказании тега.\n",
    "\n",
    "Воспользуемся LSTM - он умеет работать с контекстом очень даже хорошо:\n",
    "\n",
    "![](https://image.ibb.co/kgmoff/Baseline-Tagger.png \" \")\n",
    "\n",
    "Синим показано выделение фичей из слова, LSTM оранжевенький - он строит эмбеддинги слов с учетом контекста, а дальше зелененькая логистическая регрессия делает предсказания тегов."
   ]
  },
  {
   "cell_type": "code",
   "execution_count": 11,
   "metadata": {
    "colab": {},
    "colab_type": "code",
    "id": "RtRbz1SwgEqc"
   },
   "outputs": [],
   "source": [
    "def convert_data(data, word2ind, tag2ind):\n",
    "    X = [[word2ind.get(word, 0) for word, _ in sample] for sample in data]\n",
    "    y = [[tag2ind[tag] for _, tag in sample] for sample in data]\n",
    "    \n",
    "    return X, y\n",
    "\n",
    "X_train, y_train = convert_data(train_data, word2ind, tag2ind)\n",
    "X_val, y_val = convert_data(val_data, word2ind, tag2ind)\n",
    "X_test, y_test = convert_data(test_data, word2ind, tag2ind)"
   ]
  },
  {
   "cell_type": "code",
   "execution_count": 13,
   "metadata": {
    "colab": {},
    "colab_type": "code",
    "id": "DhsTKZalfih6"
   },
   "outputs": [],
   "source": [
    "def iterate_batches(data, batch_size):\n",
    "    X, y = data\n",
    "    n_samples = len(X)\n",
    "\n",
    "    indices = np.arange(n_samples)\n",
    "    np.random.shuffle(indices)\n",
    "    \n",
    "    for start in range(0, n_samples, batch_size):\n",
    "        end = min(start + batch_size, n_samples)\n",
    "        \n",
    "        batch_indices = indices[start:end]\n",
    "        \n",
    "        max_sent_len = max(len(X[ind]) for ind in batch_indices)\n",
    "        X_batch = np.zeros((max_sent_len, len(batch_indices)))\n",
    "        y_batch = np.zeros((max_sent_len, len(batch_indices)))\n",
    "        \n",
    "        for batch_ind, sample_ind in enumerate(batch_indices):\n",
    "            X_batch[:len(X[sample_ind]), batch_ind] = X[sample_ind]\n",
    "            y_batch[:len(y[sample_ind]), batch_ind] = y[sample_ind]\n",
    "            \n",
    "        yield X_batch, y_batch"
   ]
  },
  {
   "cell_type": "code",
   "execution_count": 14,
   "metadata": {
    "colab": {},
    "colab_type": "code",
    "id": "l4XsRII5kW5x"
   },
   "outputs": [
    {
     "data": {
      "text/plain": [
       "(array([[21398., 26868.,  3881., 20992.],\n",
       "        [20267.,  9311., 12955., 40657.],\n",
       "        [29480., 38434., 36588., 30422.],\n",
       "        [20992., 27309., 41708., 39782.],\n",
       "        [21624., 15737., 29480., 38434.],\n",
       "        [38434., 11440., 16813., 15369.],\n",
       "        [20992.,  8791., 38434., 40503.],\n",
       "        [30939.,  9010., 34128., 28820.],\n",
       "        [20412.,  7148.,  8824., 38245.],\n",
       "        [17583., 20992., 20992., 30804.],\n",
       "        [38434., 37399., 13409., 38434.],\n",
       "        [31211., 16267., 28683., 38245.],\n",
       "        [  473., 38434., 20992., 34503.],\n",
       "        [24312., 38807.,   387., 38075.],\n",
       "        [    0., 21565., 18505.,  8361.],\n",
       "        [    0., 20346., 38434., 33953.],\n",
       "        [    0., 13357., 20992., 12955.],\n",
       "        [    0., 28683., 25549., 31514.],\n",
       "        [    0., 20992., 28683., 38089.],\n",
       "        [    0., 23095.,  5203., 45058.],\n",
       "        [    0., 28683., 45188., 29480.],\n",
       "        [    0.,  6670., 17061., 17405.],\n",
       "        [    0., 24312., 39851., 24312.],\n",
       "        [    0.,     0., 18131.,     0.],\n",
       "        [    0.,     0., 34424.,     0.],\n",
       "        [    0.,     0., 15703.,     0.],\n",
       "        [    0.,     0., 31211.,     0.],\n",
       "        [    0.,     0.,  8361.,     0.],\n",
       "        [    0.,     0., 10704.,     0.],\n",
       "        [    0.,     0., 12078.,     0.],\n",
       "        [    0.,     0., 40404.,     0.],\n",
       "        [    0.,     0., 24312.,     0.]]), array([[ 2., 11.,  3.,  9.],\n",
       "        [11., 11.,  4., 11.],\n",
       "        [ 4., 12., 11.,  3.],\n",
       "        [ 9.,  5.,  6.,  1.],\n",
       "        [11.,  3.,  4., 12.],\n",
       "        [12., 11., 11.,  9.],\n",
       "        [ 9.,  2., 12., 11.],\n",
       "        [11.,  2., 11.,  1.],\n",
       "        [ 4.,  4.,  3., 10.],\n",
       "        [11.,  9.,  9.,  3.],\n",
       "        [12.,  3., 11., 12.],\n",
       "        [ 5., 11.,  4., 10.],\n",
       "        [ 3., 12.,  9.,  7.],\n",
       "        [12.,  3.,  1.,  3.],\n",
       "        [ 0.,  8., 11.,  6.],\n",
       "        [ 0.,  6., 12.,  3.],\n",
       "        [ 0.,  1.,  9.,  7.],\n",
       "        [ 0.,  4., 11.,  3.],\n",
       "        [ 0.,  9.,  4.,  1.],\n",
       "        [ 0., 11.,  9., 11.],\n",
       "        [ 0.,  4.,  9.,  4.],\n",
       "        [ 0., 11., 11.,  5.],\n",
       "        [ 0., 12.,  3., 12.],\n",
       "        [ 0.,  0.,  3.,  0.],\n",
       "        [ 0.,  0.,  3.,  0.],\n",
       "        [ 0.,  0.,  3.,  0.],\n",
       "        [ 0.,  0.,  5.,  0.],\n",
       "        [ 0.,  0.,  6.,  0.],\n",
       "        [ 0.,  0.,  9.,  0.],\n",
       "        [ 0.,  0.,  1.,  0.],\n",
       "        [ 0.,  0., 11.,  0.],\n",
       "        [ 0.,  0., 12.,  0.]]))"
      ]
     },
     "execution_count": 14,
     "metadata": {},
     "output_type": "execute_result"
    }
   ],
   "source": [
    "X_batch, y_batch = next(iterate_batches((X_train, y_train), 4))\n",
    "\n",
    "X_batch, y_batch"
   ]
  },
  {
   "cell_type": "markdown",
   "metadata": {
    "colab_type": "text",
    "id": "C5I9E9P6eFYv"
   },
   "source": [
    "**Задание** Реализуйте `LSTMTagger`:"
   ]
  },
  {
   "cell_type": "code",
   "execution_count": 30,
   "metadata": {
    "colab": {},
    "colab_type": "code",
    "id": "WVEHju54d68T"
   },
   "outputs": [],
   "source": [
    "class LSTMTagger(nn.Module):\n",
    "    def __init__(self, vocab_size, tagset_size, word_emb_dim=100, lstm_hidden_dim=128, lstm_layers_count=1):\n",
    "        super().__init__()\n",
    "        \n",
    "        self.emb = nn.Embedding(vocab_size, word_emb_dim)\n",
    "        self.lstm = nn.LSTM(word_emb_dim, lstm_hidden_dim, lstm_layers_count,)\n",
    "        self.lin = nn.Linear(lstm_hidden_dim, len(tag2ind))\n",
    "\n",
    "    def forward(self, inputs):\n",
    "        x = self.emb(inputs)\n",
    "        x, hidden = self.lstm(x)\n",
    "        x = self.lin(x)\n",
    "        return x"
   ]
  },
  {
   "cell_type": "markdown",
   "metadata": {
    "colab_type": "text",
    "id": "q_HA8zyheYGH"
   },
   "source": [
    "**Задание** Научитесь считать accuracy и loss (а заодно проверьте, что модель работает)"
   ]
  },
  {
   "cell_type": "code",
   "execution_count": 73,
   "metadata": {
    "colab": {},
    "colab_type": "code",
    "id": "jbrxsZ2mehWB"
   },
   "outputs": [
    {
     "data": {
      "text/plain": [
       "(tensor(5.), tensor(92.))"
      ]
     },
     "execution_count": 73,
     "metadata": {},
     "output_type": "execute_result"
    }
   ],
   "source": [
    "model = LSTMTagger(\n",
    "    vocab_size=len(word2ind),\n",
    "    tagset_size=len(tag2ind)\n",
    ")\n",
    "\n",
    "X_batch, y_batch = torch.LongTensor(X_batch), torch.LongTensor(y_batch)\n",
    "\n",
    "logits = model(X_batch)\n",
    "\n",
    "def get_accuracy(logits, target):\n",
    "    preds = torch.argmax(torch.sigmoid(logits), dim =2).reshape(-1)\n",
    "    y_true = target.reshape(-1)\n",
    "    return ((y_true == preds).float()*(y_true != 0).float()).sum(), (y_true != 0).float().sum()\n",
    "    \n",
    "get_accuracy(logits, y_batch)"
   ]
  },
  {
   "cell_type": "code",
   "execution_count": 74,
   "metadata": {
    "colab": {},
    "colab_type": "code",
    "id": "GMUyUm1hgpe3"
   },
   "outputs": [],
   "source": [
    "criterion = nn.CrossEntropyLoss(ignore_index=0)\n",
    "loss = criterion(logits.reshape((-1, len(tag2ind))), y_batch.reshape(-1))"
   ]
  },
  {
   "cell_type": "markdown",
   "metadata": {
    "colab_type": "text",
    "id": "nSgV3NPUpcjH"
   },
   "source": [
    "**Задание** Вставьте эти вычисление в функцию:"
   ]
  },
  {
   "cell_type": "code",
   "execution_count": 75,
   "metadata": {
    "colab": {},
    "colab_type": "code",
    "id": "FprPQ0gllo7b"
   },
   "outputs": [],
   "source": [
    "import math\n",
    "from tqdm import tqdm\n",
    "\n",
    "\n",
    "def do_epoch(model, criterion, data, batch_size, optimizer=None, name=None):\n",
    "    epoch_loss = 0\n",
    "    correct_count = 0\n",
    "    sum_count = 0\n",
    "    \n",
    "    is_train = not optimizer is None\n",
    "    name = name or ''\n",
    "    model.train(is_train)\n",
    "    \n",
    "    batches_count = math.ceil(len(data[0]) / batch_size)\n",
    "    \n",
    "    with torch.autograd.set_grad_enabled(is_train):\n",
    "        with tqdm(total=batches_count) as progress_bar:\n",
    "            for i, (X_batch, y_batch) in enumerate(iterate_batches(data, batch_size)):\n",
    "                X_batch, y_batch = LongTensor(X_batch), LongTensor(y_batch)\n",
    "                logits = model(X_batch)\n",
    "\n",
    "                loss = criterion(logits.reshape((-1, len(tag2ind))), y_batch.reshape(-1))\n",
    "\n",
    "                epoch_loss += loss.item()\n",
    "\n",
    "                if optimizer:\n",
    "                    optimizer.zero_grad()\n",
    "                    loss.backward()\n",
    "                    optimizer.step()\n",
    "\n",
    "                cur_correct_count, cur_sum_count = get_accuracy(logits, y_batch)\n",
    "                correct_count += cur_correct_count\n",
    "                sum_count += cur_sum_count\n",
    "\n",
    "                progress_bar.update()\n",
    "                progress_bar.set_description('{:>5s} Loss = {:.5f}, Accuracy = {:.2%}'.format(\n",
    "                    name, loss.item(), cur_correct_count / cur_sum_count)\n",
    "                )\n",
    "                \n",
    "            progress_bar.set_description('{:>5s} Loss = {:.5f}, Accuracy = {:.2%}'.format(\n",
    "                name, epoch_loss / batches_count, correct_count / sum_count)\n",
    "            )\n",
    "\n",
    "    return epoch_loss / batches_count, correct_count / sum_count\n",
    "\n",
    "\n",
    "def fit(model, criterion, optimizer, train_data, epochs_count=1, batch_size=32,\n",
    "        val_data=None, val_batch_size=None):\n",
    "        \n",
    "    if not val_data is None and val_batch_size is None:\n",
    "        val_batch_size = batch_size\n",
    "        \n",
    "    for epoch in range(epochs_count):\n",
    "        name_prefix = '[{} / {}] '.format(epoch + 1, epochs_count)\n",
    "        train_loss, train_acc = do_epoch(model, criterion, train_data, batch_size, optimizer, name_prefix + 'Train:')\n",
    "        \n",
    "        if not val_data is None:\n",
    "            val_loss, val_acc = do_epoch(model, criterion, val_data, val_batch_size, None, name_prefix + '  Val:')"
   ]
  },
  {
   "cell_type": "code",
   "execution_count": 76,
   "metadata": {
    "colab": {},
    "colab_type": "code",
    "id": "Pqfbeh1ltEYa"
   },
   "outputs": [
    {
     "name": "stderr",
     "output_type": "stream",
     "text": [
      "[1 / 50] Train: Loss = 0.31548, Accuracy = 71.90%: 100%|██████████| 572/572 [00:04<00:00, 132.93it/s]\n",
      "[1 / 50]   Val: Loss = 0.10298, Accuracy = 85.06%: 100%|██████████| 13/13 [00:00<00:00, 110.44it/s]\n",
      "[2 / 50] Train: Loss = 0.10097, Accuracy = 89.93%: 100%|██████████| 572/572 [00:04<00:00, 132.67it/s]\n",
      "[2 / 50]   Val: Loss = 0.07359, Accuracy = 89.66%: 100%|██████████| 13/13 [00:00<00:00, 109.22it/s]\n",
      "[3 / 50] Train: Loss = 0.06830, Accuracy = 93.15%: 100%|██████████| 572/572 [00:04<00:00, 132.86it/s]\n",
      "[3 / 50]   Val: Loss = 0.06532, Accuracy = 91.44%: 100%|██████████| 13/13 [00:00<00:00, 104.95it/s]\n",
      "[4 / 50] Train: Loss = 0.05122, Accuracy = 94.76%: 100%|██████████| 572/572 [00:04<00:00, 132.30it/s]\n",
      "[4 / 50]   Val: Loss = 0.06529, Accuracy = 92.25%: 100%|██████████| 13/13 [00:00<00:00, 109.45it/s]\n",
      "[5 / 50] Train: Loss = 0.04105, Accuracy = 95.81%: 100%|██████████| 572/572 [00:04<00:00, 131.52it/s]\n",
      "[5 / 50]   Val: Loss = 0.06182, Accuracy = 92.73%: 100%|██████████| 13/13 [00:00<00:00, 106.46it/s]\n",
      "[6 / 50] Train: Loss = 0.03342, Accuracy = 96.53%: 100%|██████████| 572/572 [00:04<00:00, 131.80it/s]\n",
      "[6 / 50]   Val: Loss = 0.06440, Accuracy = 93.06%: 100%|██████████| 13/13 [00:00<00:00, 102.48it/s]\n",
      "[7 / 50] Train: Loss = 0.02788, Accuracy = 97.14%: 100%|██████████| 572/572 [00:04<00:00, 131.35it/s]\n",
      "[7 / 50]   Val: Loss = 0.06259, Accuracy = 93.20%: 100%|██████████| 13/13 [00:00<00:00, 99.32it/s]\n",
      "[8 / 50] Train: Loss = 0.02289, Accuracy = 97.62%: 100%|██████████| 572/572 [00:04<00:00, 133.92it/s]\n",
      "[8 / 50]   Val: Loss = 0.06805, Accuracy = 93.34%: 100%|██████████| 13/13 [00:00<00:00, 109.78it/s]\n",
      "[9 / 50] Train: Loss = 0.01910, Accuracy = 98.00%: 100%|██████████| 572/572 [00:04<00:00, 131.40it/s]\n",
      "[9 / 50]   Val: Loss = 0.06789, Accuracy = 93.35%: 100%|██████████| 13/13 [00:00<00:00, 110.31it/s]\n",
      "[10 / 50] Train: Loss = 0.01594, Accuracy = 98.34%: 100%|██████████| 572/572 [00:04<00:00, 131.81it/s]\n",
      "[10 / 50]   Val: Loss = 0.07097, Accuracy = 93.32%: 100%|██████████| 13/13 [00:00<00:00, 109.87it/s]\n",
      "[11 / 50] Train: Loss = 0.01308, Accuracy = 98.65%: 100%|██████████| 572/572 [00:04<00:00, 131.76it/s]\n",
      "[11 / 50]   Val: Loss = 0.07548, Accuracy = 93.34%: 100%|██████████| 13/13 [00:00<00:00, 106.89it/s]\n",
      "[12 / 50] Train: Loss = 0.01091, Accuracy = 98.89%: 100%|██████████| 572/572 [00:04<00:00, 130.96it/s]\n",
      "[12 / 50]   Val: Loss = 0.07938, Accuracy = 93.27%: 100%|██████████| 13/13 [00:00<00:00, 110.26it/s]\n",
      "[13 / 50] Train: Loss = 0.00886, Accuracy = 99.11%: 100%|██████████| 572/572 [00:04<00:00, 131.81it/s]\n",
      "[13 / 50]   Val: Loss = 0.08428, Accuracy = 93.25%: 100%|██████████| 13/13 [00:00<00:00, 109.99it/s]\n",
      "[14 / 50] Train: Loss = 0.00730, Accuracy = 99.29%: 100%|██████████| 572/572 [00:04<00:00, 131.97it/s]\n",
      "[14 / 50]   Val: Loss = 0.08746, Accuracy = 93.17%: 100%|██████████| 13/13 [00:00<00:00, 108.86it/s]\n",
      "[15 / 50] Train: Loss = 0.00591, Accuracy = 99.45%: 100%|██████████| 572/572 [00:04<00:00, 131.04it/s] \n",
      "[15 / 50]   Val: Loss = 0.08972, Accuracy = 93.16%: 100%|██████████| 13/13 [00:00<00:00, 109.88it/s]\n",
      "[16 / 50] Train: Loss = 0.00486, Accuracy = 99.55%: 100%|██████████| 572/572 [00:04<00:00, 132.91it/s]\n",
      "[16 / 50]   Val: Loss = 0.08731, Accuracy = 93.12%: 100%|██████████| 13/13 [00:00<00:00, 104.70it/s]\n",
      "[17 / 50] Train: Loss = 0.00400, Accuracy = 99.63%: 100%|██████████| 572/572 [00:04<00:00, 132.70it/s] \n",
      "[17 / 50]   Val: Loss = 0.10051, Accuracy = 93.10%: 100%|██████████| 13/13 [00:00<00:00, 103.46it/s]\n",
      "[18 / 50] Train: Loss = 0.00333, Accuracy = 99.71%: 100%|██████████| 572/572 [00:04<00:00, 133.59it/s] \n",
      "[18 / 50]   Val: Loss = 0.10289, Accuracy = 93.11%: 100%|██████████| 13/13 [00:00<00:00, 108.47it/s]\n",
      "[19 / 50] Train: Loss = 0.00286, Accuracy = 99.74%: 100%|██████████| 572/572 [00:04<00:00, 131.94it/s] \n",
      "[19 / 50]   Val: Loss = 0.10896, Accuracy = 93.03%: 100%|██████████| 13/13 [00:00<00:00, 113.51it/s]\n",
      "[20 / 50] Train: Loss = 0.00240, Accuracy = 99.78%: 100%|██████████| 572/572 [00:04<00:00, 131.33it/s] \n",
      "[20 / 50]   Val: Loss = 0.10602, Accuracy = 93.06%: 100%|██████████| 13/13 [00:00<00:00, 107.52it/s]\n",
      "[21 / 50] Train: Loss = 0.00240, Accuracy = 99.77%: 100%|██████████| 572/572 [00:04<00:00, 132.68it/s] \n",
      "[21 / 50]   Val: Loss = 0.10965, Accuracy = 93.05%: 100%|██████████| 13/13 [00:00<00:00, 106.75it/s]\n",
      "[22 / 50] Train: Loss = 0.00210, Accuracy = 99.79%: 100%|██████████| 572/572 [00:04<00:00, 133.06it/s] \n",
      "[22 / 50]   Val: Loss = 0.11289, Accuracy = 93.01%: 100%|██████████| 13/13 [00:00<00:00, 107.21it/s]\n",
      "[23 / 50] Train: Loss = 0.00188, Accuracy = 99.81%: 100%|██████████| 572/572 [00:04<00:00, 132.05it/s] \n",
      "[23 / 50]   Val: Loss = 0.11549, Accuracy = 93.00%: 100%|██████████| 13/13 [00:00<00:00, 107.14it/s]\n",
      "[24 / 50] Train: Loss = 0.00180, Accuracy = 99.82%: 100%|██████████| 572/572 [00:04<00:00, 132.90it/s] \n",
      "[24 / 50]   Val: Loss = 0.11532, Accuracy = 93.03%: 100%|██████████| 13/13 [00:00<00:00, 107.43it/s]\n",
      "[25 / 50] Train: Loss = 0.00179, Accuracy = 99.81%: 100%|██████████| 572/572 [00:04<00:00, 132.81it/s] \n",
      "[25 / 50]   Val: Loss = 0.11648, Accuracy = 92.97%: 100%|██████████| 13/13 [00:00<00:00, 105.81it/s]\n",
      "[26 / 50] Train: Loss = 0.00177, Accuracy = 99.81%: 100%|██████████| 572/572 [00:04<00:00, 131.84it/s] \n",
      "[26 / 50]   Val: Loss = 0.13158, Accuracy = 93.01%: 100%|██████████| 13/13 [00:00<00:00, 109.24it/s]\n",
      "[27 / 50] Train: Loss = 0.00178, Accuracy = 99.80%: 100%|██████████| 572/572 [00:04<00:00, 131.55it/s] \n",
      "[27 / 50]   Val: Loss = 0.12668, Accuracy = 92.95%: 100%|██████████| 13/13 [00:00<00:00, 106.63it/s]\n",
      "[28 / 50] Train: Loss = 0.00192, Accuracy = 99.79%: 100%|██████████| 572/572 [00:04<00:00, 130.49it/s] \n",
      "[28 / 50]   Val: Loss = 0.12896, Accuracy = 92.97%: 100%|██████████| 13/13 [00:00<00:00, 108.10it/s]\n",
      "[29 / 50] Train: Loss = 0.00160, Accuracy = 99.81%: 100%|██████████| 572/572 [00:04<00:00, 133.82it/s] \n",
      "[29 / 50]   Val: Loss = 0.12848, Accuracy = 93.07%: 100%|██████████| 13/13 [00:00<00:00, 105.89it/s]\n",
      "[30 / 50] Train: Loss = 0.00147, Accuracy = 99.82%: 100%|██████████| 572/572 [00:04<00:00, 131.18it/s] \n",
      "[30 / 50]   Val: Loss = 0.13631, Accuracy = 93.05%: 100%|██████████| 13/13 [00:00<00:00, 108.61it/s]\n",
      "[31 / 50] Train: Loss = 0.00143, Accuracy = 99.83%: 100%|██████████| 572/572 [00:04<00:00, 130.40it/s] \n",
      "[31 / 50]   Val: Loss = 0.13825, Accuracy = 93.06%: 100%|██████████| 13/13 [00:00<00:00, 108.79it/s]\n",
      "[32 / 50] Train: Loss = 0.00172, Accuracy = 99.79%: 100%|██████████| 572/572 [00:04<00:00, 133.23it/s] \n",
      "[32 / 50]   Val: Loss = 0.14426, Accuracy = 93.02%: 100%|██████████| 13/13 [00:00<00:00, 110.16it/s]\n",
      "[33 / 50] Train: Loss = 0.00197, Accuracy = 99.76%: 100%|██████████| 572/572 [00:04<00:00, 131.83it/s] \n",
      "[33 / 50]   Val: Loss = 0.13290, Accuracy = 93.00%: 100%|██████████| 13/13 [00:00<00:00, 107.33it/s]\n",
      "[34 / 50] Train: Loss = 0.00156, Accuracy = 99.81%: 100%|██████████| 572/572 [00:04<00:00, 135.03it/s] \n",
      "[34 / 50]   Val: Loss = 0.13557, Accuracy = 93.07%: 100%|██████████| 13/13 [00:00<00:00, 106.08it/s]\n",
      "[35 / 50] Train: Loss = 0.00134, Accuracy = 99.83%: 100%|██████████| 572/572 [00:04<00:00, 132.80it/s] \n",
      "[35 / 50]   Val: Loss = 0.14793, Accuracy = 93.08%: 100%|██████████| 13/13 [00:00<00:00, 110.37it/s]\n",
      "[36 / 50] Train: Loss = 0.00131, Accuracy = 99.83%: 100%|██████████| 572/572 [00:04<00:00, 132.71it/s] \n",
      "[36 / 50]   Val: Loss = 0.13738, Accuracy = 93.07%: 100%|██████████| 13/13 [00:00<00:00, 105.52it/s]\n",
      "[37 / 50] Train: Loss = 0.00131, Accuracy = 99.83%: 100%|██████████| 572/572 [00:04<00:00, 130.42it/s] \n",
      "[37 / 50]   Val: Loss = 0.14449, Accuracy = 93.07%: 100%|██████████| 13/13 [00:00<00:00, 109.22it/s]\n",
      "[38 / 50] Train: Loss = 0.00155, Accuracy = 99.81%: 100%|██████████| 572/572 [00:04<00:00, 133.29it/s] \n",
      "[38 / 50]   Val: Loss = 0.15529, Accuracy = 92.91%: 100%|██████████| 13/13 [00:00<00:00, 112.44it/s]\n",
      "[39 / 50] Train: Loss = 0.00194, Accuracy = 99.76%: 100%|██████████| 572/572 [00:04<00:00, 131.88it/s] \n",
      "[39 / 50]   Val: Loss = 0.14323, Accuracy = 93.06%: 100%|██████████| 13/13 [00:00<00:00, 107.68it/s]\n",
      "[40 / 50] Train: Loss = 0.00141, Accuracy = 99.81%: 100%|██████████| 572/572 [00:04<00:00, 131.82it/s] \n",
      "[40 / 50]   Val: Loss = 0.14688, Accuracy = 93.12%: 100%|██████████| 13/13 [00:00<00:00, 108.62it/s]\n"
     ]
    },
    {
     "name": "stderr",
     "output_type": "stream",
     "text": [
      "[41 / 50] Train: Loss = 0.00125, Accuracy = 99.83%: 100%|██████████| 572/572 [00:04<00:00, 130.36it/s] \n",
      "[41 / 50]   Val: Loss = 0.15505, Accuracy = 93.08%: 100%|██████████| 13/13 [00:00<00:00, 106.20it/s]\n",
      "[42 / 50] Train: Loss = 0.00128, Accuracy = 99.83%: 100%|██████████| 572/572 [00:04<00:00, 133.55it/s] \n",
      "[42 / 50]   Val: Loss = 0.15738, Accuracy = 93.14%: 100%|██████████| 13/13 [00:00<00:00, 110.65it/s]\n",
      "[43 / 50] Train: Loss = 0.00127, Accuracy = 99.82%: 100%|██████████| 572/572 [00:04<00:00, 132.62it/s] \n",
      "[43 / 50]   Val: Loss = 0.15654, Accuracy = 93.11%: 100%|██████████| 13/13 [00:00<00:00, 108.96it/s]\n",
      "[44 / 50] Train: Loss = 0.00124, Accuracy = 99.83%: 100%|██████████| 572/572 [00:04<00:00, 131.11it/s] \n",
      "[44 / 50]   Val: Loss = 0.14877, Accuracy = 93.08%: 100%|██████████| 13/13 [00:00<00:00, 106.04it/s]\n",
      "[45 / 50] Train: Loss = 0.00128, Accuracy = 99.82%: 100%|██████████| 572/572 [00:04<00:00, 131.77it/s] \n",
      "[45 / 50]   Val: Loss = 0.15513, Accuracy = 93.11%: 100%|██████████| 13/13 [00:00<00:00, 108.11it/s]\n",
      "[46 / 50] Train: Loss = 0.00212, Accuracy = 99.73%: 100%|██████████| 572/572 [00:04<00:00, 132.17it/s] \n",
      "[46 / 50]   Val: Loss = 0.15965, Accuracy = 92.91%: 100%|██████████| 13/13 [00:00<00:00, 106.76it/s]\n",
      "[47 / 50] Train: Loss = 0.00189, Accuracy = 99.74%: 100%|██████████| 572/572 [00:04<00:00, 132.41it/s] \n",
      "[47 / 50]   Val: Loss = 0.16262, Accuracy = 93.02%: 100%|██████████| 13/13 [00:00<00:00, 109.02it/s]\n",
      "[48 / 50] Train: Loss = 0.00127, Accuracy = 99.82%: 100%|██████████| 572/572 [00:04<00:00, 130.65it/s] \n",
      "[48 / 50]   Val: Loss = 0.16290, Accuracy = 93.07%: 100%|██████████| 13/13 [00:00<00:00, 108.43it/s]\n",
      "[49 / 50] Train: Loss = 0.00121, Accuracy = 99.82%: 100%|██████████| 572/572 [00:04<00:00, 131.76it/s] \n",
      "[49 / 50]   Val: Loss = 0.15931, Accuracy = 93.09%: 100%|██████████| 13/13 [00:00<00:00, 106.23it/s]\n",
      "[50 / 50] Train: Loss = 0.00118, Accuracy = 99.82%: 100%|██████████| 572/572 [00:04<00:00, 130.93it/s] \n",
      "[50 / 50]   Val: Loss = 0.15682, Accuracy = 93.08%: 100%|██████████| 13/13 [00:00<00:00, 107.13it/s]\n"
     ]
    }
   ],
   "source": [
    "model = LSTMTagger(\n",
    "    vocab_size=len(word2ind),\n",
    "    tagset_size=len(tag2ind)\n",
    ").cuda()\n",
    "\n",
    "criterion = nn.CrossEntropyLoss().cuda()\n",
    "optimizer = optim.Adam(model.parameters())\n",
    "\n",
    "fit(model, criterion, optimizer, train_data=(X_train, y_train), epochs_count=50,\n",
    "    batch_size=64, val_data=(X_val, y_val), val_batch_size=512)"
   ]
  },
  {
   "cell_type": "markdown",
   "metadata": {
    "colab_type": "text",
    "id": "m0qGetIhfUE5"
   },
   "source": [
    "### Masking\n",
    "\n",
    "**Задание** Проверьте себя - не считаете ли вы потери и accuracy на паддингах - очень легко получить высокое качество за счет этого.\n",
    "\n",
    "У функции потерь есть параметр `ignore_index`, для таких целей. Для accuracy нужно использовать маскинг - умножение на маску из нулей и единиц, где нули на позициях паддингов (а потом усреднение по ненулевым позициям в маске)."
   ]
  },
  {
   "cell_type": "markdown",
   "metadata": {
    "colab_type": "text",
    "id": "nAfV2dEOfHo5"
   },
   "source": [
    "**Задание** Посчитайте качество модели на тесте"
   ]
  },
  {
   "cell_type": "code",
   "execution_count": 0,
   "metadata": {
    "colab": {},
    "colab_type": "code",
    "id": "98wr38_rw55D"
   },
   "outputs": [],
   "source": []
  },
  {
   "cell_type": "markdown",
   "metadata": {
    "colab_type": "text",
    "id": "PXUTSFaEHbDG"
   },
   "source": [
    "### Bidirectional LSTM\n",
    "\n",
    "Благодаря BiLSTM можно использовать сразу оба контеста при предсказании тега слова. Т.е. для каждого токена $w_i$ forward LSTM будет выдавать представление $\\mathbf{f_i} \\sim (w_1, \\ldots, w_i)$ - построенное по всему левому контексту - и $\\mathbf{b_i} \\sim (w_n, \\ldots, w_i)$ - представление правого контекста. Их конкатенация автоматически захватит весь доступный контекст слова: $\\mathbf{h_i} = [\\mathbf{f_i}, \\mathbf{b_i}] \\sim (w_1, \\ldots, w_n)$.\n",
    "\n",
    "![BiLSTM](https://www.researchgate.net/profile/Wang_Ling/publication/280912217/figure/fig2/AS:391505383575555@1470353565299/Illustration-of-our-neural-network-for-POS-tagging.png \" \")  \n",
    "*From [Finding Function in Form: Compositional Character Models for Open Vocabulary Word Representation](https://arxiv.org/abs/1508.02096)*\n",
    "\n",
    "**Задание** Добавьте Bidirectional LSTM."
   ]
  },
  {
   "cell_type": "markdown",
   "metadata": {
    "colab_type": "text",
    "id": "ZTXmYGD_ANhm"
   },
   "source": [
    "### Предобученные эмбеддинги\n",
    "\n",
    "Мы знаем, какая клёвая вещь - предобученные эмбеддинги. При текущем размере обучающей выборки еще можно было учить их и с нуля - с меньшей было бы совсем плохо.\n",
    "\n",
    "Поэтому стандартный пайплайн - скачать эмбеддинги, засунуть их в сеточку. Запустим его:"
   ]
  },
  {
   "cell_type": "code",
   "execution_count": 77,
   "metadata": {
    "colab": {},
    "colab_type": "code",
    "id": "uZpY_Q1xZ18h"
   },
   "outputs": [
    {
     "name": "stdout",
     "output_type": "stream",
     "text": [
      "[==================================================] 100.0% 128.1/128.1MB downloaded\n"
     ]
    }
   ],
   "source": [
    "import gensim.downloader as api\n",
    "\n",
    "w2v_model = api.load('glove-wiki-gigaword-100')"
   ]
  },
  {
   "cell_type": "markdown",
   "metadata": {
    "colab_type": "text",
    "id": "KYogOoKlgtcf"
   },
   "source": [
    "Построим подматрицу для слов из нашей тренировочной выборки:"
   ]
  },
  {
   "cell_type": "code",
   "execution_count": 78,
   "metadata": {
    "colab": {},
    "colab_type": "code",
    "id": "VsCstxiO03oT"
   },
   "outputs": [
    {
     "name": "stdout",
     "output_type": "stream",
     "text": [
      "Know 38736 out of 45441 word embeddings\n"
     ]
    }
   ],
   "source": [
    "known_count = 0\n",
    "embeddings = np.zeros((len(word2ind), w2v_model.vectors.shape[1]))\n",
    "for word, ind in word2ind.items():\n",
    "    word = word.lower()\n",
    "    if word in w2v_model.vocab:\n",
    "        embeddings[ind] = w2v_model.get_vector(word)\n",
    "        known_count += 1\n",
    "        \n",
    "print('Know {} out of {} word embeddings'.format(known_count, len(word2ind)))"
   ]
  },
  {
   "cell_type": "markdown",
   "metadata": {
    "colab_type": "text",
    "id": "HcG7i-R8hbY3"
   },
   "source": [
    "**Задание** Сделайте модель с предобученной матрицей. Используйте `nn.Embedding.from_pretrained`."
   ]
  },
  {
   "cell_type": "code",
   "execution_count": 0,
   "metadata": {
    "colab": {},
    "colab_type": "code",
    "id": "LxaRBpQd0pat"
   },
   "outputs": [],
   "source": [
    "class LSTMTaggerWithPretrainedEmbs(nn.Module):\n",
    "    def __init__(self, embeddings, tagset_size, lstm_hidden_dim=64, lstm_layers_count=1):\n",
    "        super().__init__()\n",
    "        \n",
    "        <create me>\n",
    "\n",
    "    def forward(self, inputs):\n",
    "        <use me>"
   ]
  },
  {
   "cell_type": "code",
   "execution_count": 0,
   "metadata": {
    "colab": {},
    "colab_type": "code",
    "id": "EBtI6BDE-Fc7"
   },
   "outputs": [],
   "source": [
    "model = LSTMTaggerWithPretrainedEmbs(\n",
    "    embeddings=embeddings,\n",
    "    tagset_size=len(tag2ind)\n",
    ").cuda()\n",
    "\n",
    "criterion = nn.CrossEntropyLoss(ignore_index=0)\n",
    "optimizer = optim.Adam(model.parameters())\n",
    "\n",
    "fit(model, criterion, optimizer, train_data=(X_train, y_train), epochs_count=50,\n",
    "    batch_size=64, val_data=(X_val, y_val), val_batch_size=512)"
   ]
  },
  {
   "cell_type": "markdown",
   "metadata": {
    "colab_type": "text",
    "id": "2Ne_8f24h8kg"
   },
   "source": [
    "**Задание** Оцените качество модели на тестовой выборке. Обратите внимание, вовсе не обязательно ограничиваться векторами из урезанной матрицы - вполне могут найтись слова в тесте, которых не было в трейне и для которых есть эмбеддинги."
   ]
  },
  {
   "cell_type": "code",
   "execution_count": 0,
   "metadata": {
    "colab": {},
    "colab_type": "code",
    "id": "HPUuAPGhEGVR"
   },
   "outputs": [],
   "source": [
    "<calc test accuracy>"
   ]
  },
  {
   "cell_type": "markdown",
   "metadata": {
    "colab_type": "text",
    "id": "enF9GAPAN3RB"
   },
   "source": [
    "### Дообучение предобученных векторов\n",
    "\n",
    "**Задание** Почему бы не попробовать дообучать вектора? Для этого нужно просто заменить флаг `freeze=False` в методе `from_pretrained`. Попробуйте."
   ]
  },
  {
   "cell_type": "code",
   "execution_count": 0,
   "metadata": {
    "colab": {},
    "colab_type": "code",
    "id": "5AdB6olUiyf7"
   },
   "outputs": [],
   "source": []
  },
  {
   "cell_type": "markdown",
   "metadata": {
    "colab_type": "text",
    "id": "ZVJet3RQix98"
   },
   "source": [
    "**Задание** На самом деле, понятно, почему это плохо - после этого нельзя использовать старые предобученные вектора (которые не попали в трейн). Проверьте, какое качество получается на тесте со старыми векторами.\n",
    "\n",
    "Чтобы бороться с этим, можно использовать такой прием: на предобученные вектора накладывать $l_2$-регуляризацию, чтобы они не удалялись от исходных векторов, а для слов, эмбеддинги которых мы не знаем, строить случайные вектора и учить их как обычно.\n",
    "\n",
    "Почитать про это можно чуть-чуть здесь: [Pseudo-rehearsal: A simple solution to catastrophic forgetting for NLP](https://explosion.ai/blog/pseudo-rehearsal-catastrophic-forgetting) либо в книжке Goldberg'а.\n",
    "\n",
    "**Задание** Попробуйте реализовать это."
   ]
  },
  {
   "cell_type": "code",
   "execution_count": 0,
   "metadata": {
    "colab": {},
    "colab_type": "code",
    "id": "23abeGwPp163"
   },
   "outputs": [],
   "source": []
  },
  {
   "cell_type": "markdown",
   "metadata": {
    "colab_type": "text",
    "id": "EfN1olf6RZne"
   },
   "source": [
    "## We need to go deeper, сети символьного уровня\n",
    "\n",
    "Напомню, на прошлом занятии мы строили LSTM сеть, которая обрабатывала последовательности символов, и предсказывала, к какому языку относится слово. \n",
    "\n",
    "LSTM выступал в роли feature extractor'а, работающего с произвольного размера последовательностью символов (ну, почти произвольного - мы ограничивались максимальной длиной слова). Батч для сети имел размерность `(max_word_len, batch_size)`.\n",
    "\n",
    "Теперь мы опять хотим использовать такую же идею для извлечения признаков из последовательности символов - потому что последовательность символов же должна быть полезной для предсказания части речи, правда?\n",
    "\n",
    "Сеть должна будет запомнить, например, что `-ly` - это часто про наречие, а `-tion` - про существительное.\n",
    "\n",
    "![](https://image.ibb.co/kzbh6L/Char-Bi-LSTM.png \" \")\n",
    "\n",
    "Остальная часть сети при этом будет такой же.\n",
    "\n",
    "Найдем границу для длины слов:"
   ]
  },
  {
   "cell_type": "code",
   "execution_count": 0,
   "metadata": {
    "colab": {},
    "colab_type": "code",
    "id": "SczGwL8Cy0Ws"
   },
   "outputs": [],
   "source": [
    "from collections import Counter \n",
    "    \n",
    "def find_max_len(counter, threshold):\n",
    "    sum_count = sum(counter.values())\n",
    "    cum_count = 0\n",
    "    for i in range(max(counter)):\n",
    "        cum_count += counter[i]\n",
    "        if cum_count > sum_count * threshold:\n",
    "            return i\n",
    "    return max(counter)\n",
    "\n",
    "word_len_counter = Counter()\n",
    "for sent in data:\n",
    "    for word, _ in sent:\n",
    "        word_len_counter[len(word)] += 1\n",
    "    \n",
    "threshold = 0.99\n",
    "MAX_WORD_LEN = find_max_len(word_len_counter, threshold)\n",
    "\n",
    "print('Max word len for {:.0%} of words is {}'.format(threshold, MAX_WORD_LEN))"
   ]
  },
  {
   "cell_type": "markdown",
   "metadata": {
    "colab_type": "text",
    "id": "YlArjEvqkMGk"
   },
   "source": [
    "Построим алфавит:"
   ]
  },
  {
   "cell_type": "code",
   "execution_count": 0,
   "metadata": {
    "colab": {},
    "colab_type": "code",
    "id": "-LWXHmXGcotd"
   },
   "outputs": [],
   "source": [
    "from string import punctuation\n",
    "\n",
    "def get_range(first_symb, last_symb):\n",
    "    return set(chr(c) for c in range(ord(first_symb), ord(last_symb) + 1))\n",
    "\n",
    "chars = get_range('a', 'z') | get_range('A', 'Z') | get_range('0', '9') | set(punctuation)\n",
    "char2ind = {c : i + 1 for i, c in enumerate(chars)}\n",
    "char2ind['<pad>'] = 0"
   ]
  },
  {
   "cell_type": "markdown",
   "metadata": {
    "colab_type": "text",
    "id": "v0OS9WQjkO9b"
   },
   "source": [
    "**Задание** Сконвертируйте данные, как в функции выше - только теперь слова должны отобразиться не в один индекс, а в последовательность.\n",
    "\n",
    "Обрезайте слова по `MAX_WORD_LEN`."
   ]
  },
  {
   "cell_type": "code",
   "execution_count": 0,
   "metadata": {
    "colab": {},
    "colab_type": "code",
    "id": "k3Q3arGCmgi-"
   },
   "outputs": [],
   "source": [
    "def convert_data(data, char2ind, tag2ind):\n",
    "    X, y = <calc it>\n",
    "    return X, y\n",
    "  \n",
    "X_train, y_train = convert_data(train_data, char2ind, tag2ind)\n",
    "X_val, y_val = convert_data(val_data, char2ind, tag2ind)\n",
    "X_test, y_test = convert_data(test_data, char2ind, tag2ind)"
   ]
  },
  {
   "cell_type": "markdown",
   "metadata": {
    "colab_type": "text",
    "id": "1SMmXMx5Rr5z"
   },
   "source": [
    "Напишем генератор батчей:"
   ]
  },
  {
   "cell_type": "code",
   "execution_count": 0,
   "metadata": {
    "colab": {},
    "colab_type": "code",
    "id": "c835LEVERXzl"
   },
   "outputs": [],
   "source": [
    "def iterate_batches(data, batch_size):\n",
    "    X, y = data\n",
    "    n_samples = len(X)\n",
    "\n",
    "    indices = np.arange(n_samples)\n",
    "    np.random.shuffle(indices)\n",
    "    \n",
    "    for start in range(0, n_samples, batch_size):\n",
    "        end = min(start + batch_size, n_samples)\n",
    "        \n",
    "        batch_indices = indices[start: end]\n",
    "        \n",
    "        sent_len = max(len(X[ind]) for ind in batch_indices)\n",
    "        word_len = max(len(word) for ind in batch_indices for word in X[ind])\n",
    "            \n",
    "        X_batch = np.zeros((sent_len, len(batch_indices), word_len))\n",
    "        y_batch = np.zeros((sent_len, len(batch_indices)))\n",
    "        \n",
    "        for batch_ind, sample_ind in enumerate(batch_indices):\n",
    "            for word_ind, word in enumerate(X[sample_ind]):\n",
    "                X_batch[word_ind, batch_ind, :len(word)] = word\n",
    "            y_batch[:len(y[sample_ind]), batch_ind] = y[sample_ind]\n",
    "            \n",
    "        yield X_batch, y_batch"
   ]
  },
  {
   "cell_type": "code",
   "execution_count": 0,
   "metadata": {
    "colab": {},
    "colab_type": "code",
    "id": "zWcRRe11jFI8"
   },
   "outputs": [],
   "source": [
    "X_batch, y_batch = next(iterate_batches((X_train, y_train), 4))\n",
    "\n",
    "X_batch.shape, y_batch.shape"
   ]
  },
  {
   "cell_type": "markdown",
   "metadata": {
    "colab_type": "text",
    "id": "yfY7FcXCknzX"
   },
   "source": [
    "**Задание** Реализуйте сеть, которая принимает батч размера `(seq_len, batch_size, word_len)` и возвращает `(seq_len, batch_size, word_emb_dim)`. Это может быть любая функция, которая умеет в последовательности произвольной длины. Мы уже смотрели на сверточные и рекуррентные сети для такой задачи - попробуйте обе."
   ]
  },
  {
   "cell_type": "code",
   "execution_count": 0,
   "metadata": {
    "colab": {},
    "colab_type": "code",
    "id": "f1qs96uAY3Wd"
   },
   "outputs": [],
   "source": [
    "class CharsEmbedding(nn.Module):\n",
    "    def __init__(self, vocab_size, char_emb_dim=24, word_emb_dim=100):\n",
    "        super().__init__()\n",
    "        \n",
    "        <create Conv or LSTM encoder>\n",
    "        \n",
    "    def forward(self, inputs):\n",
    "        <apply>"
   ]
  },
  {
   "cell_type": "markdown",
   "metadata": {
    "colab_type": "text",
    "id": "ag2R5sIglLhh"
   },
   "source": [
    "**Задание** Реализуйте теггер с эмбеддингами символьного уровня."
   ]
  },
  {
   "cell_type": "code",
   "execution_count": 0,
   "metadata": {
    "colab": {},
    "colab_type": "code",
    "id": "TRB8tAOAa_YW"
   },
   "outputs": [],
   "source": [
    "class LSTMTagger(nn.Module):\n",
    "    def __init__(self, char_vocab_size, tagset_size, char_emb_dim=24, \n",
    "                 word_emb_dim=128, lstm_hidden_dim=128, lstm_layers_count=1):\n",
    "        super().__init__()\n",
    "        \n",
    "        <create it>\n",
    "\n",
    "    def forward(self, inputs):\n",
    "        <apply>"
   ]
  },
  {
   "cell_type": "code",
   "execution_count": 0,
   "metadata": {
    "colab": {},
    "colab_type": "code",
    "id": "cEaWjN0qjFfe"
   },
   "outputs": [],
   "source": [
    "model = LSTMTagger(char_vocab_size=len(char2ind), tagset_size=len(tag2ind)).cuda()\n",
    "\n",
    "criterion = nn.CrossEntropyLoss(ignore_index=0).cuda()\n",
    "optimizer = optim.Adam(model.parameters())\n",
    "\n",
    "fit(model, criterion, optimizer, train_data=(X_train, y_train), epochs_count=20, \n",
    "    batch_size=24, val_data=(X_val, y_val), val_batch_size=32)"
   ]
  },
  {
   "cell_type": "markdown",
   "metadata": {
    "colab_type": "text",
    "id": "OGDJqyG9lTxV"
   },
   "source": [
    "**Задание** Оцените его качество."
   ]
  },
  {
   "cell_type": "code",
   "execution_count": 0,
   "metadata": {
    "colab": {},
    "colab_type": "code",
    "id": "OCUj9_nqjgrL"
   },
   "outputs": [],
   "source": [
    "_, test_accuracy = do_epoch(model, criterion, (X_test, y_test), batch_size=32)"
   ]
  },
  {
   "cell_type": "markdown",
   "metadata": {
    "colab_type": "text",
    "id": "12HYYmSzlZtm"
   },
   "source": [
    "### Визуализации\n",
    "\n",
    "**Задание** Посчитайте эмбеддинги символьного уровня (обученные внутри модели перед этим) для 1000 случайных слов из `word2ind`."
   ]
  },
  {
   "cell_type": "code",
   "execution_count": 0,
   "metadata": {
    "colab": {},
    "colab_type": "code",
    "id": "qyXEJ6MUG8PE"
   },
   "outputs": [],
   "source": [
    "embeddings, index2word = <calc me>"
   ]
  },
  {
   "cell_type": "code",
   "execution_count": 0,
   "metadata": {
    "colab": {},
    "colab_type": "code",
    "id": "K2klT31GSWlR"
   },
   "outputs": [],
   "source": [
    "import bokeh.models as bm, bokeh.plotting as pl\n",
    "from bokeh.io import output_notebook\n",
    "\n",
    "from sklearn.manifold import TSNE\n",
    "from sklearn.preprocessing import scale\n",
    "\n",
    "\n",
    "def draw_vectors(x, y, radius=10, alpha=0.25, color='blue',\n",
    "                 width=600, height=400, show=True, **kwargs):\n",
    "    \"\"\" draws an interactive plot for data points with auxilirary info on hover \"\"\"\n",
    "    output_notebook()\n",
    "    \n",
    "    if isinstance(color, str): \n",
    "        color = [color] * len(x)\n",
    "    data_source = bm.ColumnDataSource({ 'x' : x, 'y' : y, 'color': color, **kwargs })\n",
    "\n",
    "    fig = pl.figure(active_scroll='wheel_zoom', width=width, height=height)\n",
    "    fig.scatter('x', 'y', size=radius, color='color', alpha=alpha, source=data_source)\n",
    "\n",
    "    fig.add_tools(bm.HoverTool(tooltips=[(key, \"@\" + key) for key in kwargs.keys()]))\n",
    "    if show: \n",
    "        pl.show(fig)\n",
    "    return fig\n",
    "\n",
    "\n",
    "def get_tsne_projection(word_vectors):\n",
    "    tsne = TSNE(n_components=2, verbose=100)\n",
    "    return scale(tsne.fit_transform(word_vectors))\n",
    "    \n",
    "    \n",
    "def visualize_embeddings(embeddings, token):\n",
    "    tsne = get_tsne_projection(embeddings)\n",
    "    draw_vectors(tsne[:, 0], tsne[:, 1], token=token)\n",
    "    \n",
    "\n",
    "visualize_embeddings(embeddings, index2word)"
   ]
  },
  {
   "cell_type": "markdown",
   "metadata": {
    "colab_type": "text",
    "id": "TgmDHM9Dl7W7"
   },
   "source": [
    "**Задание** Посчитайте эмбеддинги для всех слов из трейна и для нескольких случайных слов из теста, которые не встречаются в трейне, найдите их ближайших соседей по их эмбеддигам символьного уровня."
   ]
  },
  {
   "cell_type": "code",
   "execution_count": 0,
   "metadata": {
    "colab": {},
    "colab_type": "code",
    "id": "1bctty__mOOz"
   },
   "outputs": [],
   "source": []
  },
  {
   "cell_type": "markdown",
   "metadata": {
    "colab_type": "text",
    "id": "WzAozOANpnT1"
   },
   "source": [
    "### Словные эмбеддинги\n",
    "\n",
    "**Задание** Только символьных эмбеддингов может быть недостаточно. Верните ещё словные эмбеддинги. Слова стоит приводить к нижнему регистру - признаки, связанные с регистром должны ухватываться символьный LSTM.\n",
    "\n",
    "Эти эмбеддинги можно просто сконкатенировать, можно складывать, а можно использовать гейт (как в LSTM). Например, по эмбеддингу слова предсказывать $o = \\sigma(w)$ - насколько он хорош и сочетать в такой пропорции с символьным эмбеддингом: $o \\odot w + (1 - o) \\odot \\tilde w$, где $\\tilde w$ - эмбеддинг слова, полученный по символьному уровню. Проверьте разные варианты.\n",
    "\n",
    "### Связь словных эмбеддингов и эмбеддингов символьного уровня\n",
    "В словных эмбеддингах мы строим отображение из слова в индекс. В итоге входной батч достаточно небольшой - это хорошо для обучения (быстрее передача на видеокарту). С символьными эмбеддингами беда - но это можно исправить.\n",
    "\n",
    "Давайте предпосчитаем для каждого слова в `word2ind` его последовательность индексов символов. Получится матрица. Эту матрицу можно вместе с моделью перенести на видеокарту. Тогда нужен будет батч из индексов слов - по нему можно сделать лукап (с помощью `F.embedding`) в матрице и получить трехмерную матрицу с символами.\n",
    "\n",
    "Преимущество - по одному батчу можно получить сразу и эмбеддинги слов, и эмбеддинги символьного уровня. Это удобно и энергоэффективно.\n",
    "\n",
    "Другая идея - после того, как мы обучили модель, можно предпосчитать эмбеддинги слов символьного уровня - лукап в таблице эмбеддингов гораздо проще, чем сверточная или рекуррентная сеть над символами. Таким образом, например, получаются эмбеддинги в [FastText](https://github.com/facebookresearch/fastText/blob/master/pretrained-vectors.md) - они также исходно считаются на символьном (N-граммном) уровне."
   ]
  },
  {
   "cell_type": "markdown",
   "metadata": {
    "colab_type": "text",
    "id": "9gzxhGe6okls"
   },
   "source": [
    "## Encoder-decoder\n",
    "\n",
    "Можно усложнить модель - добавить еще один рекуррентный слой. Первый слой будет служить энкодером последовательности, второй, более легкий - декодировать последовательность. Декодировать - значит, на вход он должен принимать как состояние для данного токена из энкодера, так и предыдущий предсказанный тег.\n",
    "\n",
    "Выглядеть всё будет как-то так:\n",
    "\n",
    "![encoder-decoder](https://image.ibb.co/jOrfT0/Encoder-Decoder.png =x600)\n",
    "\n",
    "Зеленое - уже `LSTM`, а не `Linear`, а принимает оно сразу скрытое состояние от предыдущего токена (зеленая стрелка), предыдущий предсказанный тег (пунктирная стрелка) и состояние из BiLSTM - контекстное представление слова.\n",
    "\n",
    "Тренироваться данная модель должна с teacher-forcing - передачей правильных меток в качестве ответов по пунктирным стрелкам. На предсказании же нужно реализовать beam search - держать сразу несколько лучших путей (последовательностей тегов) для декодируемой последовательности.\n",
    "\n",
    "**Задание** Рискните реализовать это.\n",
    "\n",
    "(А вообще мы будем разбираться с этим подробнее, когда дойдем до машинного перевода - можно вернуться сюда после него :) )"
   ]
  },
  {
   "cell_type": "markdown",
   "metadata": {
    "colab_type": "text",
    "id": "bEJAch5Bj4vQ"
   },
   "source": [
    "# Дополнительные материалы\n",
    "\n",
    "## Классические подходы\n",
    "Speech and Language Processing, Chapter 8, Part-of-speech Tagging. Daniel Jurafsky [[pdf](https://web.stanford.edu/~jurafsky/slp3/8.pdf)]\n",
    "\n",
    "## Статьи\n",
    "Learning Character-level Representations for Part-of-Speech Tagging, dos Santos et al, 2014 [pdf](http://proceedings.mlr.press/v32/santos14.pdf)  \n",
    "Finding Function in Form: Compositional Character Models for Open Vocabulary Word Representation, Wang Ling et al, 2015 [arxiv](https://arxiv.org/abs/1508.02096)  \n",
    "Bidirectional LSTM-CRF Models for Sequence Tagging, Zhiheng Huang et al, 2015 [arxiv](https://arxiv.org/abs/1508.01991)  \n",
    "End-to-end Sequence Labeling via Bi-directional LSTM-CNNs-CRF, Xuezhe Ma et al, 2016 [arxiv](https://arxiv.org/abs/1603.01354)  \n",
    "Improving Part-of-speech Tagging via Multi-task Learning and Character-level Word Representations, Daniil Anastasyev et al, 2018 [pdf](http://www.dialog-21.ru/media/4282/anastasyevdg.pdf) :)  "
   ]
  },
  {
   "cell_type": "markdown",
   "metadata": {
    "colab_type": "text",
    "id": "s8WVAmMWqsrS"
   },
   "source": [
    "# Сдача\n",
    "\n",
    "[Опрос](https://goo.gl/forms/R6UqcESWIjtVSA6J3)"
   ]
  }
 ],
 "metadata": {
  "accelerator": "GPU",
  "colab": {
   "collapsed_sections": [],
   "name": "Week 06 - RNNs, part 2.ipynb",
   "provenance": [],
   "version": "0.3.2"
  },
  "kernelspec": {
   "display_name": "Python 3",
   "language": "python",
   "name": "python3"
  },
  "language_info": {
   "codemirror_mode": {
    "name": "ipython",
    "version": 3
   },
   "file_extension": ".py",
   "mimetype": "text/x-python",
   "name": "python",
   "nbconvert_exporter": "python",
   "pygments_lexer": "ipython3",
   "version": "3.6.7"
  }
 },
 "nbformat": 4,
 "nbformat_minor": 1
}
