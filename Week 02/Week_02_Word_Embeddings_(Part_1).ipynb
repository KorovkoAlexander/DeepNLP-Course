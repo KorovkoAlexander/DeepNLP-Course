{
 "cells": [
  {
   "cell_type": "code",
   "execution_count": null,
   "metadata": {
    "colab": {},
    "colab_type": "code",
    "id": "wWzU9hqUomdU"
   },
   "outputs": [],
   "source": [
    "!wget -O quora.zip -qq --no-check-certificate \"https://drive.google.com/uc?export=download&id=1ERtxpdWOgGQ3HOigqAMHTJjmOE_tWvoF\"\n",
    "!unzip quora.zip\n",
    "!pip install -q --upgrade nltk gensim bokeh pandas\n",
    "\n",
    "import nltk\n",
    "nltk.download('punkt')\n",
    "nltk.download('stopwords')"
   ]
  },
  {
   "cell_type": "markdown",
   "metadata": {
    "colab_type": "text",
    "id": "VXl16AOdtlDk"
   },
   "source": [
    "# Словные эмбеддинги"
   ]
  },
  {
   "cell_type": "markdown",
   "metadata": {
    "colab_type": "text",
    "id": "ErZ_TOu0vAOR"
   },
   "source": [
    "Все видели такие картинки (я надеюсь):\n",
    "![embeddings relations](https://www.tensorflow.org/images/linear-relationships.png)\n",
    "*From [Vector Representations of Words, Tensorflow tutorial](https://www.tensorflow.org/tutorials/representation/word2vec)*\n",
    "\n",
    "Сегодня будем заниматься такими моделями.\n",
    "\n",
    "Начнём утро с визуализаций. Идём на сайт [http://rusvectores.org/ru/](http://rusvectores.org/ru/) и смотрим, что умеют обученные модели для русского.\n",
    "\n",
    "Обратите внимание на разделы *Похожие слова* и *Калькулятор*, а также на набор моделей, которые в них можно выбирать."
   ]
  },
  {
   "cell_type": "markdown",
   "metadata": {
    "colab_type": "text",
    "id": "FkxsGQqZNjxj"
   },
   "source": [
    "## Тренируем простую модель"
   ]
  },
  {
   "cell_type": "markdown",
   "metadata": {
    "colab_type": "text",
    "id": "PaOn69Bg1hH-"
   },
   "source": [
    "Просто так смотреть на чужие модели, конечно, неприкольно - поэтому будем постепенно приближаться к решению конкретной задачи: [Quora Question Pairs at kaggle](https://www.kaggle.com/c/quora-question-pairs):"
   ]
  },
  {
   "cell_type": "code",
   "execution_count": 1,
   "metadata": {
    "colab": {},
    "colab_type": "code",
    "id": "K-X7I7nc1gyS"
   },
   "outputs": [
    {
     "data": {
      "text/html": [
       "<div>\n",
       "<style scoped>\n",
       "    .dataframe tbody tr th:only-of-type {\n",
       "        vertical-align: middle;\n",
       "    }\n",
       "\n",
       "    .dataframe tbody tr th {\n",
       "        vertical-align: top;\n",
       "    }\n",
       "\n",
       "    .dataframe thead th {\n",
       "        text-align: right;\n",
       "    }\n",
       "</style>\n",
       "<table border=\"1\" class=\"dataframe\">\n",
       "  <thead>\n",
       "    <tr style=\"text-align: right;\">\n",
       "      <th></th>\n",
       "      <th>id</th>\n",
       "      <th>qid1</th>\n",
       "      <th>qid2</th>\n",
       "      <th>question1</th>\n",
       "      <th>question2</th>\n",
       "      <th>is_duplicate</th>\n",
       "    </tr>\n",
       "  </thead>\n",
       "  <tbody>\n",
       "    <tr>\n",
       "      <th>0</th>\n",
       "      <td>0</td>\n",
       "      <td>1</td>\n",
       "      <td>2</td>\n",
       "      <td>What is the step by step guide to invest in sh...</td>\n",
       "      <td>What is the step by step guide to invest in sh...</td>\n",
       "      <td>0</td>\n",
       "    </tr>\n",
       "    <tr>\n",
       "      <th>1</th>\n",
       "      <td>1</td>\n",
       "      <td>3</td>\n",
       "      <td>4</td>\n",
       "      <td>What is the story of Kohinoor (Koh-i-Noor) Dia...</td>\n",
       "      <td>What would happen if the Indian government sto...</td>\n",
       "      <td>0</td>\n",
       "    </tr>\n",
       "    <tr>\n",
       "      <th>2</th>\n",
       "      <td>2</td>\n",
       "      <td>5</td>\n",
       "      <td>6</td>\n",
       "      <td>How can I increase the speed of my internet co...</td>\n",
       "      <td>How can Internet speed be increased by hacking...</td>\n",
       "      <td>0</td>\n",
       "    </tr>\n",
       "    <tr>\n",
       "      <th>3</th>\n",
       "      <td>3</td>\n",
       "      <td>7</td>\n",
       "      <td>8</td>\n",
       "      <td>Why am I mentally very lonely? How can I solve...</td>\n",
       "      <td>Find the remainder when [math]23^{24}[/math] i...</td>\n",
       "      <td>0</td>\n",
       "    </tr>\n",
       "    <tr>\n",
       "      <th>4</th>\n",
       "      <td>4</td>\n",
       "      <td>9</td>\n",
       "      <td>10</td>\n",
       "      <td>Which one dissolve in water quikly sugar, salt...</td>\n",
       "      <td>Which fish would survive in salt water?</td>\n",
       "      <td>0</td>\n",
       "    </tr>\n",
       "  </tbody>\n",
       "</table>\n",
       "</div>"
      ],
      "text/plain": [
       "   id  qid1  qid2                                          question1  \\\n",
       "0   0     1     2  What is the step by step guide to invest in sh...   \n",
       "1   1     3     4  What is the story of Kohinoor (Koh-i-Noor) Dia...   \n",
       "2   2     5     6  How can I increase the speed of my internet co...   \n",
       "3   3     7     8  Why am I mentally very lonely? How can I solve...   \n",
       "4   4     9    10  Which one dissolve in water quikly sugar, salt...   \n",
       "\n",
       "                                           question2  is_duplicate  \n",
       "0  What is the step by step guide to invest in sh...             0  \n",
       "1  What would happen if the Indian government sto...             0  \n",
       "2  How can Internet speed be increased by hacking...             0  \n",
       "3  Find the remainder when [math]23^{24}[/math] i...             0  \n",
       "4            Which fish would survive in salt water?             0  "
      ]
     },
     "execution_count": 1,
     "metadata": {},
     "output_type": "execute_result"
    }
   ],
   "source": [
    "import pandas as pd\n",
    "\n",
    "quora_data = pd.read_csv('train.csv')\n",
    "\n",
    "quora_data.head()"
   ]
  },
  {
   "cell_type": "markdown",
   "metadata": {
    "colab_type": "text",
    "id": "p13HdkzWKtKe"
   },
   "source": [
    "Поучим на этих текстах Word2vec из gensim. \n",
    "\n",
    "Для начала объединим все тексты."
   ]
  },
  {
   "cell_type": "code",
   "execution_count": 2,
   "metadata": {
    "colab": {},
    "colab_type": "code",
    "id": "Mchv4fS_21OX"
   },
   "outputs": [
    {
     "data": {
      "text/plain": [
       "['What is the step by step guide to invest in share market in india?',\n",
       " 'What is the story of Kohinoor (Koh-i-Noor) Diamond?',\n",
       " 'How can I increase the speed of my internet connection while using a VPN?',\n",
       " 'Why am I mentally very lonely? How can I solve it?',\n",
       " 'Which one dissolve in water quikly sugar, salt, methane and carbon di oxide?',\n",
       " 'Astrology: I am a Capricorn Sun Cap moon and cap rising...what does that say about me?',\n",
       " 'Should I buy tiago?',\n",
       " 'How can I be a good geologist?',\n",
       " 'When do you use シ instead of し?',\n",
       " 'Motorola (company): Can I hack my Charter Motorolla DCX3400?']"
      ]
     },
     "execution_count": 2,
     "metadata": {},
     "output_type": "execute_result"
    }
   ],
   "source": [
    "import numpy as np\n",
    "\n",
    "quora_data.question1 = quora_data.question1.replace(np.nan, '', regex=True)\n",
    "quora_data.question2 = quora_data.question2.replace(np.nan, '', regex=True)\n",
    "\n",
    "texts = list(pd.concat([quora_data.question1, quora_data.question2]).unique())\n",
    "texts[:10]"
   ]
  },
  {
   "cell_type": "markdown",
   "metadata": {
    "colab_type": "text",
    "id": "-hZMFAmvK5b7"
   },
   "source": [
    "Для токенизации проще всего воспользоваться `nltk` (он быстрее `spacy`, но может быть хуже в отдельных случаях)."
   ]
  },
  {
   "cell_type": "code",
   "execution_count": 3,
   "metadata": {
    "colab": {},
    "colab_type": "code",
    "id": "LTxolf8nLM-n"
   },
   "outputs": [
    {
     "data": {
      "text/plain": [
       "['What',\n",
       " 'is',\n",
       " 'the',\n",
       " 'step',\n",
       " 'by',\n",
       " 'step',\n",
       " 'guide',\n",
       " 'to',\n",
       " 'invest',\n",
       " 'in',\n",
       " 'share',\n",
       " 'market',\n",
       " 'in',\n",
       " 'india',\n",
       " '?']"
      ]
     },
     "execution_count": 3,
     "metadata": {},
     "output_type": "execute_result"
    }
   ],
   "source": [
    "from nltk.tokenize import word_tokenize\n",
    "\n",
    "word_tokenize(texts[0])"
   ]
  },
  {
   "cell_type": "markdown",
   "metadata": {
    "colab_type": "text",
    "id": "fuJceE4JLRxK"
   },
   "source": [
    "**Задание** Приведите все тексты к нижнему регистру и токенизируйте их."
   ]
  },
  {
   "cell_type": "code",
   "execution_count": 4,
   "metadata": {
    "colab": {},
    "colab_type": "code",
    "id": "a7XbnSdt4REg"
   },
   "outputs": [],
   "source": [
    "tokenized_texts = [word_tokenize(text.lower()) for text in texts]\n",
    "\n",
    "assert all(isinstance(row, (list, tuple)) for row in tokenized_texts), \\\n",
    "    \"please convert each line into a list of tokens\"\n",
    "assert all(all(isinstance(tok, str) for tok in row) for row in tokenized_texts), \\\n",
    "    \"please convert each line into a list of tokens\"\n",
    "\n",
    "is_latin = lambda tok: all('a' <= x.lower() <= 'z' for x in tok)\n",
    "assert all(not is_latin(token) or token.islower() for tokens in tokenized_texts for token in tokens),\\\n",
    "    \"please lowercase each line\""
   ]
  },
  {
   "cell_type": "code",
   "execution_count": 5,
   "metadata": {
    "colab": {},
    "colab_type": "code",
    "id": "irl7RotC5C_B"
   },
   "outputs": [
    {
     "name": "stdout",
     "output_type": "stream",
     "text": [
      "['what is the step by step guide to invest in share market in india ?', 'what is the story of kohinoor ( koh-i-noor ) diamond ?']\n"
     ]
    }
   ],
   "source": [
    "print([' '.join(row) for row in tokenized_texts[:2]])"
   ]
  },
  {
   "cell_type": "markdown",
   "metadata": {
    "colab_type": "text",
    "id": "9kj4dC3iLdwH"
   },
   "source": [
    "Потренируем небольшую модель на полученных текстах:"
   ]
  },
  {
   "cell_type": "code",
   "execution_count": 6,
   "metadata": {
    "colab": {},
    "colab_type": "code",
    "id": "9GNuiLio8M25"
   },
   "outputs": [],
   "source": [
    "from gensim.models import Word2Vec\n",
    "\n",
    "model = Word2Vec(tokenized_texts, \n",
    "                 size=32,      # embedding vector size\n",
    "                 min_count=5,  # consider words that occured at least 5 times\n",
    "                 window=5).wv  # define context as a 5-word window around the target word"
   ]
  },
  {
   "cell_type": "markdown",
   "metadata": {
    "colab_type": "text",
    "id": "JclToDJMNwTy"
   },
   "source": [
    "## Изучаем полученную модель"
   ]
  },
  {
   "cell_type": "markdown",
   "metadata": {
    "colab_type": "text",
    "id": "JBVR2kY7LkCs"
   },
   "source": [
    "Ура, теперь можно делать то же, что было на `rusvectores`.\n",
    "\n",
    "Получить вектор для слова:"
   ]
  },
  {
   "cell_type": "code",
   "execution_count": 7,
   "metadata": {
    "colab": {},
    "colab_type": "code",
    "id": "Jk6Fgraj-j3c"
   },
   "outputs": [
    {
     "data": {
      "text/plain": [
       "array([ 2.199593  ,  3.235803  , -0.23519777, -2.2455592 ,  0.0342233 ,\n",
       "        0.6809146 , -1.6098799 , -0.7663983 ,  0.9463719 ,  3.704383  ,\n",
       "       -1.1812023 , -1.3031893 ,  1.3230419 , -5.778375  ,  0.8843493 ,\n",
       "       -0.4652613 , -2.446592  ,  0.55939907, -3.7332988 , -2.3577976 ,\n",
       "       -1.3424994 ,  0.9876267 , -0.7965509 , -0.98043513,  0.90772384,\n",
       "        2.4068813 , -2.006487  , -1.1047843 , -2.227893  ,  0.40094423,\n",
       "       -1.4013709 ,  0.6818166 ], dtype=float32)"
      ]
     },
     "execution_count": 7,
     "metadata": {},
     "output_type": "execute_result"
    }
   ],
   "source": [
    "model.get_vector('anything')"
   ]
  },
  {
   "cell_type": "markdown",
   "metadata": {
    "colab_type": "text",
    "id": "qHKRy7HyLuxH"
   },
   "source": [
    "Найти наиболее близкие слова:"
   ]
  },
  {
   "cell_type": "code",
   "execution_count": 8,
   "metadata": {
    "colab": {},
    "colab_type": "code",
    "id": "toyNzyTB-p70"
   },
   "outputs": [
    {
     "name": "stderr",
     "output_type": "stream",
     "text": [
      "/home/alexander/miniconda3/envs/temp3/lib/python3.6/site-packages/gensim/matutils.py:737: FutureWarning: Conversion of the second argument of issubdtype from `int` to `np.signedinteger` is deprecated. In future, it will be treated as `np.int64 == np.dtype(int).type`.\n",
      "  if np.issubdtype(vec.dtype, np.int):\n"
     ]
    },
    {
     "data": {
      "text/plain": [
       "[('rice', 0.9668948650360107),\n",
       " ('cheese', 0.9239578247070312),\n",
       " ('honey', 0.9208371639251709),\n",
       " ('potato', 0.9200029373168945),\n",
       " ('wine', 0.9197816848754883),\n",
       " ('fruit', 0.9106698036193848),\n",
       " ('beans', 0.9083821177482605),\n",
       " ('pasta', 0.9078223705291748),\n",
       " ('butter', 0.9069316387176514),\n",
       " ('vodka', 0.9045554995536804)]"
      ]
     },
     "execution_count": 8,
     "metadata": {},
     "output_type": "execute_result"
    }
   ],
   "source": [
    "model.most_similar('bread')"
   ]
  },
  {
   "cell_type": "markdown",
   "metadata": {
    "colab_type": "text",
    "id": "A510z5gTL00E"
   },
   "source": [
    "Или даже так:"
   ]
  },
  {
   "cell_type": "code",
   "execution_count": 9,
   "metadata": {
    "colab": {},
    "colab_type": "code",
    "id": "j2A_DF5E-ucq"
   },
   "outputs": [
    {
     "data": {
      "text/plain": [
       "[('mnc', 0.6460824012756348),\n",
       " ('cents', 0.6455078125),\n",
       " ('poker', 0.6411752700805664),\n",
       " ('freelancer', 0.6389911770820618),\n",
       " ('photographer', 0.6366746425628662),\n",
       " ('software', 0.6344296932220459),\n",
       " ('soccer', 0.6244983673095703),\n",
       " ('millionaire', 0.6182782053947449),\n",
       " ('classpass', 0.6103410720825195),\n",
       " ('dubai', 0.6096907258033752)]"
      ]
     },
     "execution_count": 9,
     "metadata": {},
     "output_type": "execute_result"
    }
   ],
   "source": [
    "model.most_similar(positive=['coder', 'money'], negative=['brain'])"
   ]
  },
  {
   "cell_type": "markdown",
   "metadata": {
    "colab_type": "text",
    "id": "H-_uKG4vNIJv"
   },
   "source": [
    "И так, конечно:"
   ]
  },
  {
   "cell_type": "code",
   "execution_count": 10,
   "metadata": {
    "colab": {},
    "colab_type": "code",
    "id": "l_mzQgi4L474"
   },
   "outputs": [
    {
     "data": {
      "text/plain": [
       "[('romantic', 0.7300705909729004),\n",
       " ('actress', 0.6730947494506836),\n",
       " ('punjabi', 0.6472324132919312),\n",
       " ('erotic', 0.6341289281845093),\n",
       " ('prettiest', 0.6319241523742676),\n",
       " ('sexy', 0.6294460296630859),\n",
       " ('handsome', 0.6283881664276123),\n",
       " ('singer', 0.6278672218322754),\n",
       " ('actor', 0.6196695566177368),\n",
       " ('bengali', 0.6154521107673645)]"
      ]
     },
     "execution_count": 10,
     "metadata": {},
     "output_type": "execute_result"
    }
   ],
   "source": [
    "model.most_similar([model.get_vector('politician') - model.get_vector('power') + model.get_vector('honesty')])"
   ]
  },
  {
   "cell_type": "markdown",
   "metadata": {
    "colab_type": "text",
    "id": "y5BAEyMyL2kx"
   },
   "source": [
    "**Задание** Поищите аналогии самостоятельно. "
   ]
  },
  {
   "cell_type": "markdown",
   "metadata": {
    "colab_type": "text",
    "id": "1FYuh4DKN1Fd"
   },
   "source": [
    "## Визуализируем модель"
   ]
  },
  {
   "cell_type": "markdown",
   "metadata": {
    "colab_type": "text",
    "id": "OdT0eIEiN4Ja"
   },
   "source": [
    "Посмотрим на проекции первых тысячи самых частотных слов."
   ]
  },
  {
   "cell_type": "code",
   "execution_count": 11,
   "metadata": {
    "colab": {},
    "colab_type": "code",
    "id": "d1e9yS0zBr6j"
   },
   "outputs": [
    {
     "name": "stdout",
     "output_type": "stream",
     "text": [
      "['?', 'money', 'study', 's', '6', 'physics', 'says', 'view', 'users', 'pressure']\n"
     ]
    }
   ],
   "source": [
    "words = sorted(model.vocab.keys(), \n",
    "               key=lambda word: model.vocab[word].count,\n",
    "               reverse=True)[:1000]\n",
    "\n",
    "print(words[::100])"
   ]
  },
  {
   "cell_type": "markdown",
   "metadata": {
    "colab_type": "text",
    "id": "0Yk5pgMXOESS"
   },
   "source": [
    "**Задание** Постройте матрицу из эмбеддингов этих слов:"
   ]
  },
  {
   "cell_type": "code",
   "execution_count": 12,
   "metadata": {
    "colab": {},
    "colab_type": "code",
    "id": "kQu724f2CAh0"
   },
   "outputs": [],
   "source": [
    "word_vectors = model.vectors[[model.vocab[word].index for word in words]]\n",
    "\n",
    "assert isinstance(word_vectors, np.ndarray)\n",
    "assert word_vectors.shape == (len(words), model.vectors.shape[1])\n",
    "assert np.isfinite(word_vectors).all()"
   ]
  },
  {
   "cell_type": "code",
   "execution_count": 13,
   "metadata": {},
   "outputs": [
    {
     "data": {
      "text/plain": [
       "(1000, 32)"
      ]
     },
     "execution_count": 13,
     "metadata": {},
     "output_type": "execute_result"
    }
   ],
   "source": [
    "word_vectors.shape"
   ]
  },
  {
   "cell_type": "markdown",
   "metadata": {
    "colab_type": "text",
    "id": "f7cgxin-OTvK"
   },
   "source": [
    "### PCA\n",
    "\n",
    "Простейший линейный метод сокращения размерностей - __P__rincipial __C__omponent __A__nalysis.\n",
    "\n",
    "PCA ищет оси, при проекции на которые данные будут иметь наибольший разброс.\n",
    "\n",
    "![pca](https://i.stack.imgur.com/Q7HIP.gif)\n",
    "*From [https://stats.stackexchange.com/a/140579](https://stats.stackexchange.com/a/140579)*\n",
    "\n",
    "В результате, можно взять проекции на несколько первых компонент - и сохранить как можно больше информации, сократив размерность.\n",
    "\n",
    "Красивые визуализации можно найти [здесь](http://setosa.io/ev/principal-component-analysis/).\n",
    "\n",
    "**Задание** Воспользуйтесь PCA из sklearn, а потом центрируйте и нормируйте результат."
   ]
  },
  {
   "cell_type": "code",
   "execution_count": 14,
   "metadata": {},
   "outputs": [],
   "source": [
    "from sklearn.preprocessing import StandardScaler\n",
    "from sklearn.decomposition import PCA"
   ]
  },
  {
   "cell_type": "code",
   "execution_count": 15,
   "metadata": {
    "colab": {},
    "colab_type": "code",
    "id": "V0fQKZw2Css4"
   },
   "outputs": [],
   "source": [
    "from sklearn.preprocessing import StandardScaler\n",
    "from sklearn.decomposition import PCA\n",
    "\n",
    "def get_pca_projection(word_vectors):\n",
    "    pca = PCA(n_components=2)\n",
    "    word_vectors = pca.fit_transform(word_vectors)\n",
    "    sc = StandardScaler()\n",
    "    word_vectors = sc.fit_transform(word_vectors)\n",
    "    return word_vectors"
   ]
  },
  {
   "cell_type": "code",
   "execution_count": 16,
   "metadata": {
    "colab": {},
    "colab_type": "code",
    "id": "a_9VtLl9CviW"
   },
   "outputs": [],
   "source": [
    "word_vectors_pca = get_pca_projection(word_vectors)\n",
    "\n",
    "assert word_vectors_pca.shape == (len(word_vectors), 2), \"there must be a 2d vector for each word\"\n",
    "assert max(abs(word_vectors_pca.mean(0))) < 1e-5, \"points must be zero-centered\"\n",
    "assert max(abs(1 - word_vectors_pca.std(0))) < 1e-5, \"points must have unit variance\""
   ]
  },
  {
   "cell_type": "markdown",
   "metadata": {
    "colab_type": "text",
    "id": "jGyvhrk7Rlyt"
   },
   "source": [
    "Визуализируем то, что получилось:"
   ]
  },
  {
   "cell_type": "code",
   "execution_count": 17,
   "metadata": {
    "colab": {},
    "colab_type": "code",
    "id": "1U58YxF3Cx0W"
   },
   "outputs": [],
   "source": [
    "import bokeh.models as bm, bokeh.plotting as pl\n",
    "from bokeh.io import output_notebook\n",
    "\n",
    "def draw_vectors(x, y, radius=10, alpha=0.25, color='blue',\n",
    "                 width=600, height=400, show=True, **kwargs):\n",
    "    \"\"\" draws an interactive plot for data points with auxilirary info on hover \"\"\"\n",
    "    output_notebook()\n",
    "    \n",
    "    if isinstance(color, str): \n",
    "        color = [color] * len(x)\n",
    "    data_source = bm.ColumnDataSource({ 'x' : x, 'y' : y, 'color': color, **kwargs })\n",
    "\n",
    "    fig = pl.figure(active_scroll='wheel_zoom', width=width, height=height)\n",
    "    fig.scatter('x', 'y', size=radius, color='color', alpha=alpha, source=data_source)\n",
    "\n",
    "    fig.add_tools(bm.HoverTool(tooltips=[(key, \"@\" + key) for key in kwargs.keys()]))\n",
    "    if show: \n",
    "        pl.show(fig)\n",
    "    return fig"
   ]
  },
  {
   "cell_type": "code",
   "execution_count": 18,
   "metadata": {
    "colab": {},
    "colab_type": "code",
    "id": "qBljy2hCC1qX"
   },
   "outputs": [
    {
     "data": {
      "text/html": [
       "\n",
       "    <div class=\"bk-root\">\n",
       "        <a href=\"https://bokeh.pydata.org\" target=\"_blank\" class=\"bk-logo bk-logo-small bk-logo-notebook\"></a>\n",
       "        <span id=\"1001\">Loading BokehJS ...</span>\n",
       "    </div>"
      ]
     },
     "metadata": {},
     "output_type": "display_data"
    },
    {
     "data": {
      "application/javascript": [
       "\n",
       "(function(root) {\n",
       "  function now() {\n",
       "    return new Date();\n",
       "  }\n",
       "\n",
       "  var force = true;\n",
       "\n",
       "  if (typeof (root._bokeh_onload_callbacks) === \"undefined\" || force === true) {\n",
       "    root._bokeh_onload_callbacks = [];\n",
       "    root._bokeh_is_loading = undefined;\n",
       "  }\n",
       "\n",
       "  var JS_MIME_TYPE = 'application/javascript';\n",
       "  var HTML_MIME_TYPE = 'text/html';\n",
       "  var EXEC_MIME_TYPE = 'application/vnd.bokehjs_exec.v0+json';\n",
       "  var CLASS_NAME = 'output_bokeh rendered_html';\n",
       "\n",
       "  /**\n",
       "   * Render data to the DOM node\n",
       "   */\n",
       "  function render(props, node) {\n",
       "    var script = document.createElement(\"script\");\n",
       "    node.appendChild(script);\n",
       "  }\n",
       "\n",
       "  /**\n",
       "   * Handle when an output is cleared or removed\n",
       "   */\n",
       "  function handleClearOutput(event, handle) {\n",
       "    var cell = handle.cell;\n",
       "\n",
       "    var id = cell.output_area._bokeh_element_id;\n",
       "    var server_id = cell.output_area._bokeh_server_id;\n",
       "    // Clean up Bokeh references\n",
       "    if (id != null && id in Bokeh.index) {\n",
       "      Bokeh.index[id].model.document.clear();\n",
       "      delete Bokeh.index[id];\n",
       "    }\n",
       "\n",
       "    if (server_id !== undefined) {\n",
       "      // Clean up Bokeh references\n",
       "      var cmd = \"from bokeh.io.state import curstate; print(curstate().uuid_to_server['\" + server_id + \"'].get_sessions()[0].document.roots[0]._id)\";\n",
       "      cell.notebook.kernel.execute(cmd, {\n",
       "        iopub: {\n",
       "          output: function(msg) {\n",
       "            var id = msg.content.text.trim();\n",
       "            if (id in Bokeh.index) {\n",
       "              Bokeh.index[id].model.document.clear();\n",
       "              delete Bokeh.index[id];\n",
       "            }\n",
       "          }\n",
       "        }\n",
       "      });\n",
       "      // Destroy server and session\n",
       "      var cmd = \"import bokeh.io.notebook as ion; ion.destroy_server('\" + server_id + \"')\";\n",
       "      cell.notebook.kernel.execute(cmd);\n",
       "    }\n",
       "  }\n",
       "\n",
       "  /**\n",
       "   * Handle when a new output is added\n",
       "   */\n",
       "  function handleAddOutput(event, handle) {\n",
       "    var output_area = handle.output_area;\n",
       "    var output = handle.output;\n",
       "\n",
       "    // limit handleAddOutput to display_data with EXEC_MIME_TYPE content only\n",
       "    if ((output.output_type != \"display_data\") || (!output.data.hasOwnProperty(EXEC_MIME_TYPE))) {\n",
       "      return\n",
       "    }\n",
       "\n",
       "    var toinsert = output_area.element.find(\".\" + CLASS_NAME.split(' ')[0]);\n",
       "\n",
       "    if (output.metadata[EXEC_MIME_TYPE][\"id\"] !== undefined) {\n",
       "      toinsert[toinsert.length - 1].firstChild.textContent = output.data[JS_MIME_TYPE];\n",
       "      // store reference to embed id on output_area\n",
       "      output_area._bokeh_element_id = output.metadata[EXEC_MIME_TYPE][\"id\"];\n",
       "    }\n",
       "    if (output.metadata[EXEC_MIME_TYPE][\"server_id\"] !== undefined) {\n",
       "      var bk_div = document.createElement(\"div\");\n",
       "      bk_div.innerHTML = output.data[HTML_MIME_TYPE];\n",
       "      var script_attrs = bk_div.children[0].attributes;\n",
       "      for (var i = 0; i < script_attrs.length; i++) {\n",
       "        toinsert[toinsert.length - 1].firstChild.setAttribute(script_attrs[i].name, script_attrs[i].value);\n",
       "      }\n",
       "      // store reference to server id on output_area\n",
       "      output_area._bokeh_server_id = output.metadata[EXEC_MIME_TYPE][\"server_id\"];\n",
       "    }\n",
       "  }\n",
       "\n",
       "  function register_renderer(events, OutputArea) {\n",
       "\n",
       "    function append_mime(data, metadata, element) {\n",
       "      // create a DOM node to render to\n",
       "      var toinsert = this.create_output_subarea(\n",
       "        metadata,\n",
       "        CLASS_NAME,\n",
       "        EXEC_MIME_TYPE\n",
       "      );\n",
       "      this.keyboard_manager.register_events(toinsert);\n",
       "      // Render to node\n",
       "      var props = {data: data, metadata: metadata[EXEC_MIME_TYPE]};\n",
       "      render(props, toinsert[toinsert.length - 1]);\n",
       "      element.append(toinsert);\n",
       "      return toinsert\n",
       "    }\n",
       "\n",
       "    /* Handle when an output is cleared or removed */\n",
       "    events.on('clear_output.CodeCell', handleClearOutput);\n",
       "    events.on('delete.Cell', handleClearOutput);\n",
       "\n",
       "    /* Handle when a new output is added */\n",
       "    events.on('output_added.OutputArea', handleAddOutput);\n",
       "\n",
       "    /**\n",
       "     * Register the mime type and append_mime function with output_area\n",
       "     */\n",
       "    OutputArea.prototype.register_mime_type(EXEC_MIME_TYPE, append_mime, {\n",
       "      /* Is output safe? */\n",
       "      safe: true,\n",
       "      /* Index of renderer in `output_area.display_order` */\n",
       "      index: 0\n",
       "    });\n",
       "  }\n",
       "\n",
       "  // register the mime type if in Jupyter Notebook environment and previously unregistered\n",
       "  if (root.Jupyter !== undefined) {\n",
       "    var events = require('base/js/events');\n",
       "    var OutputArea = require('notebook/js/outputarea').OutputArea;\n",
       "\n",
       "    if (OutputArea.prototype.mime_types().indexOf(EXEC_MIME_TYPE) == -1) {\n",
       "      register_renderer(events, OutputArea);\n",
       "    }\n",
       "  }\n",
       "\n",
       "  \n",
       "  if (typeof (root._bokeh_timeout) === \"undefined\" || force === true) {\n",
       "    root._bokeh_timeout = Date.now() + 5000;\n",
       "    root._bokeh_failed_load = false;\n",
       "  }\n",
       "\n",
       "  var NB_LOAD_WARNING = {'data': {'text/html':\n",
       "     \"<div style='background-color: #fdd'>\\n\"+\n",
       "     \"<p>\\n\"+\n",
       "     \"BokehJS does not appear to have successfully loaded. If loading BokehJS from CDN, this \\n\"+\n",
       "     \"may be due to a slow or bad network connection. Possible fixes:\\n\"+\n",
       "     \"</p>\\n\"+\n",
       "     \"<ul>\\n\"+\n",
       "     \"<li>re-rerun `output_notebook()` to attempt to load from CDN again, or</li>\\n\"+\n",
       "     \"<li>use INLINE resources instead, as so:</li>\\n\"+\n",
       "     \"</ul>\\n\"+\n",
       "     \"<code>\\n\"+\n",
       "     \"from bokeh.resources import INLINE\\n\"+\n",
       "     \"output_notebook(resources=INLINE)\\n\"+\n",
       "     \"</code>\\n\"+\n",
       "     \"</div>\"}};\n",
       "\n",
       "  function display_loaded() {\n",
       "    var el = document.getElementById(\"1001\");\n",
       "    if (el != null) {\n",
       "      el.textContent = \"BokehJS is loading...\";\n",
       "    }\n",
       "    if (root.Bokeh !== undefined) {\n",
       "      if (el != null) {\n",
       "        el.textContent = \"BokehJS \" + root.Bokeh.version + \" successfully loaded.\";\n",
       "      }\n",
       "    } else if (Date.now() < root._bokeh_timeout) {\n",
       "      setTimeout(display_loaded, 100)\n",
       "    }\n",
       "  }\n",
       "\n",
       "\n",
       "  function run_callbacks() {\n",
       "    try {\n",
       "      root._bokeh_onload_callbacks.forEach(function(callback) { callback() });\n",
       "    }\n",
       "    finally {\n",
       "      delete root._bokeh_onload_callbacks\n",
       "    }\n",
       "    console.info(\"Bokeh: all callbacks have finished\");\n",
       "  }\n",
       "\n",
       "  function load_libs(js_urls, callback) {\n",
       "    root._bokeh_onload_callbacks.push(callback);\n",
       "    if (root._bokeh_is_loading > 0) {\n",
       "      console.log(\"Bokeh: BokehJS is being loaded, scheduling callback at\", now());\n",
       "      return null;\n",
       "    }\n",
       "    if (js_urls == null || js_urls.length === 0) {\n",
       "      run_callbacks();\n",
       "      return null;\n",
       "    }\n",
       "    console.log(\"Bokeh: BokehJS not loaded, scheduling load and callback at\", now());\n",
       "    root._bokeh_is_loading = js_urls.length;\n",
       "    for (var i = 0; i < js_urls.length; i++) {\n",
       "      var url = js_urls[i];\n",
       "      var s = document.createElement('script');\n",
       "      s.src = url;\n",
       "      s.async = false;\n",
       "      s.onreadystatechange = s.onload = function() {\n",
       "        root._bokeh_is_loading--;\n",
       "        if (root._bokeh_is_loading === 0) {\n",
       "          console.log(\"Bokeh: all BokehJS libraries loaded\");\n",
       "          run_callbacks()\n",
       "        }\n",
       "      };\n",
       "      s.onerror = function() {\n",
       "        console.warn(\"failed to load library \" + url);\n",
       "      };\n",
       "      console.log(\"Bokeh: injecting script tag for BokehJS library: \", url);\n",
       "      document.getElementsByTagName(\"head\")[0].appendChild(s);\n",
       "    }\n",
       "  };var element = document.getElementById(\"1001\");\n",
       "  if (element == null) {\n",
       "    console.log(\"Bokeh: ERROR: autoload.js configured with elementid '1001' but no matching script tag was found. \")\n",
       "    return false;\n",
       "  }\n",
       "\n",
       "  var js_urls = [\"https://cdn.pydata.org/bokeh/release/bokeh-1.0.2.min.js\", \"https://cdn.pydata.org/bokeh/release/bokeh-widgets-1.0.2.min.js\", \"https://cdn.pydata.org/bokeh/release/bokeh-tables-1.0.2.min.js\", \"https://cdn.pydata.org/bokeh/release/bokeh-gl-1.0.2.min.js\"];\n",
       "\n",
       "  var inline_js = [\n",
       "    function(Bokeh) {\n",
       "      Bokeh.set_log_level(\"info\");\n",
       "    },\n",
       "    \n",
       "    function(Bokeh) {\n",
       "      \n",
       "    },\n",
       "    function(Bokeh) {\n",
       "      console.log(\"Bokeh: injecting CSS: https://cdn.pydata.org/bokeh/release/bokeh-1.0.2.min.css\");\n",
       "      Bokeh.embed.inject_css(\"https://cdn.pydata.org/bokeh/release/bokeh-1.0.2.min.css\");\n",
       "      console.log(\"Bokeh: injecting CSS: https://cdn.pydata.org/bokeh/release/bokeh-widgets-1.0.2.min.css\");\n",
       "      Bokeh.embed.inject_css(\"https://cdn.pydata.org/bokeh/release/bokeh-widgets-1.0.2.min.css\");\n",
       "      console.log(\"Bokeh: injecting CSS: https://cdn.pydata.org/bokeh/release/bokeh-tables-1.0.2.min.css\");\n",
       "      Bokeh.embed.inject_css(\"https://cdn.pydata.org/bokeh/release/bokeh-tables-1.0.2.min.css\");\n",
       "    }\n",
       "  ];\n",
       "\n",
       "  function run_inline_js() {\n",
       "    \n",
       "    if ((root.Bokeh !== undefined) || (force === true)) {\n",
       "      for (var i = 0; i < inline_js.length; i++) {\n",
       "        inline_js[i].call(root, root.Bokeh);\n",
       "      }if (force === true) {\n",
       "        display_loaded();\n",
       "      }} else if (Date.now() < root._bokeh_timeout) {\n",
       "      setTimeout(run_inline_js, 100);\n",
       "    } else if (!root._bokeh_failed_load) {\n",
       "      console.log(\"Bokeh: BokehJS failed to load within specified timeout.\");\n",
       "      root._bokeh_failed_load = true;\n",
       "    } else if (force !== true) {\n",
       "      var cell = $(document.getElementById(\"1001\")).parents('.cell').data().cell;\n",
       "      cell.output_area.append_execute_result(NB_LOAD_WARNING)\n",
       "    }\n",
       "\n",
       "  }\n",
       "\n",
       "  if (root._bokeh_is_loading === 0) {\n",
       "    console.log(\"Bokeh: BokehJS loaded, going straight to plotting\");\n",
       "    run_inline_js();\n",
       "  } else {\n",
       "    load_libs(js_urls, function() {\n",
       "      console.log(\"Bokeh: BokehJS plotting callback run at\", now());\n",
       "      run_inline_js();\n",
       "    });\n",
       "  }\n",
       "}(window));"
      ],
      "application/vnd.bokehjs_load.v0+json": "\n(function(root) {\n  function now() {\n    return new Date();\n  }\n\n  var force = true;\n\n  if (typeof (root._bokeh_onload_callbacks) === \"undefined\" || force === true) {\n    root._bokeh_onload_callbacks = [];\n    root._bokeh_is_loading = undefined;\n  }\n\n  \n\n  \n  if (typeof (root._bokeh_timeout) === \"undefined\" || force === true) {\n    root._bokeh_timeout = Date.now() + 5000;\n    root._bokeh_failed_load = false;\n  }\n\n  var NB_LOAD_WARNING = {'data': {'text/html':\n     \"<div style='background-color: #fdd'>\\n\"+\n     \"<p>\\n\"+\n     \"BokehJS does not appear to have successfully loaded. If loading BokehJS from CDN, this \\n\"+\n     \"may be due to a slow or bad network connection. Possible fixes:\\n\"+\n     \"</p>\\n\"+\n     \"<ul>\\n\"+\n     \"<li>re-rerun `output_notebook()` to attempt to load from CDN again, or</li>\\n\"+\n     \"<li>use INLINE resources instead, as so:</li>\\n\"+\n     \"</ul>\\n\"+\n     \"<code>\\n\"+\n     \"from bokeh.resources import INLINE\\n\"+\n     \"output_notebook(resources=INLINE)\\n\"+\n     \"</code>\\n\"+\n     \"</div>\"}};\n\n  function display_loaded() {\n    var el = document.getElementById(\"1001\");\n    if (el != null) {\n      el.textContent = \"BokehJS is loading...\";\n    }\n    if (root.Bokeh !== undefined) {\n      if (el != null) {\n        el.textContent = \"BokehJS \" + root.Bokeh.version + \" successfully loaded.\";\n      }\n    } else if (Date.now() < root._bokeh_timeout) {\n      setTimeout(display_loaded, 100)\n    }\n  }\n\n\n  function run_callbacks() {\n    try {\n      root._bokeh_onload_callbacks.forEach(function(callback) { callback() });\n    }\n    finally {\n      delete root._bokeh_onload_callbacks\n    }\n    console.info(\"Bokeh: all callbacks have finished\");\n  }\n\n  function load_libs(js_urls, callback) {\n    root._bokeh_onload_callbacks.push(callback);\n    if (root._bokeh_is_loading > 0) {\n      console.log(\"Bokeh: BokehJS is being loaded, scheduling callback at\", now());\n      return null;\n    }\n    if (js_urls == null || js_urls.length === 0) {\n      run_callbacks();\n      return null;\n    }\n    console.log(\"Bokeh: BokehJS not loaded, scheduling load and callback at\", now());\n    root._bokeh_is_loading = js_urls.length;\n    for (var i = 0; i < js_urls.length; i++) {\n      var url = js_urls[i];\n      var s = document.createElement('script');\n      s.src = url;\n      s.async = false;\n      s.onreadystatechange = s.onload = function() {\n        root._bokeh_is_loading--;\n        if (root._bokeh_is_loading === 0) {\n          console.log(\"Bokeh: all BokehJS libraries loaded\");\n          run_callbacks()\n        }\n      };\n      s.onerror = function() {\n        console.warn(\"failed to load library \" + url);\n      };\n      console.log(\"Bokeh: injecting script tag for BokehJS library: \", url);\n      document.getElementsByTagName(\"head\")[0].appendChild(s);\n    }\n  };var element = document.getElementById(\"1001\");\n  if (element == null) {\n    console.log(\"Bokeh: ERROR: autoload.js configured with elementid '1001' but no matching script tag was found. \")\n    return false;\n  }\n\n  var js_urls = [\"https://cdn.pydata.org/bokeh/release/bokeh-1.0.2.min.js\", \"https://cdn.pydata.org/bokeh/release/bokeh-widgets-1.0.2.min.js\", \"https://cdn.pydata.org/bokeh/release/bokeh-tables-1.0.2.min.js\", \"https://cdn.pydata.org/bokeh/release/bokeh-gl-1.0.2.min.js\"];\n\n  var inline_js = [\n    function(Bokeh) {\n      Bokeh.set_log_level(\"info\");\n    },\n    \n    function(Bokeh) {\n      \n    },\n    function(Bokeh) {\n      console.log(\"Bokeh: injecting CSS: https://cdn.pydata.org/bokeh/release/bokeh-1.0.2.min.css\");\n      Bokeh.embed.inject_css(\"https://cdn.pydata.org/bokeh/release/bokeh-1.0.2.min.css\");\n      console.log(\"Bokeh: injecting CSS: https://cdn.pydata.org/bokeh/release/bokeh-widgets-1.0.2.min.css\");\n      Bokeh.embed.inject_css(\"https://cdn.pydata.org/bokeh/release/bokeh-widgets-1.0.2.min.css\");\n      console.log(\"Bokeh: injecting CSS: https://cdn.pydata.org/bokeh/release/bokeh-tables-1.0.2.min.css\");\n      Bokeh.embed.inject_css(\"https://cdn.pydata.org/bokeh/release/bokeh-tables-1.0.2.min.css\");\n    }\n  ];\n\n  function run_inline_js() {\n    \n    if ((root.Bokeh !== undefined) || (force === true)) {\n      for (var i = 0; i < inline_js.length; i++) {\n        inline_js[i].call(root, root.Bokeh);\n      }if (force === true) {\n        display_loaded();\n      }} else if (Date.now() < root._bokeh_timeout) {\n      setTimeout(run_inline_js, 100);\n    } else if (!root._bokeh_failed_load) {\n      console.log(\"Bokeh: BokehJS failed to load within specified timeout.\");\n      root._bokeh_failed_load = true;\n    } else if (force !== true) {\n      var cell = $(document.getElementById(\"1001\")).parents('.cell').data().cell;\n      cell.output_area.append_execute_result(NB_LOAD_WARNING)\n    }\n\n  }\n\n  if (root._bokeh_is_loading === 0) {\n    console.log(\"Bokeh: BokehJS loaded, going straight to plotting\");\n    run_inline_js();\n  } else {\n    load_libs(js_urls, function() {\n      console.log(\"Bokeh: BokehJS plotting callback run at\", now());\n      run_inline_js();\n    });\n  }\n}(window));"
     },
     "metadata": {},
     "output_type": "display_data"
    },
    {
     "data": {
      "text/html": [
       "\n",
       "\n",
       "\n",
       "\n",
       "\n",
       "\n",
       "  <div class=\"bk-root\" id=\"239d8524-bd28-41b4-8b03-26dbc6471a31\"></div>\n"
      ]
     },
     "metadata": {},
     "output_type": "display_data"
    },
    {
     "data": {
      "application/javascript": [
       "(function(root) {\n",
       "  function embed_document(root) {\n",
       "    \n",
       "  var docs_json = {\"8e0d954f-8827-467e-a6b8-a5a8c3904c22\":{\"roots\":{\"references\":[{\"attributes\":{\"below\":[{\"id\":\"1012\",\"type\":\"LinearAxis\"}],\"left\":[{\"id\":\"1017\",\"type\":\"LinearAxis\"}],\"plot_height\":400,\"renderers\":[{\"id\":\"1012\",\"type\":\"LinearAxis\"},{\"id\":\"1016\",\"type\":\"Grid\"},{\"id\":\"1017\",\"type\":\"LinearAxis\"},{\"id\":\"1021\",\"type\":\"Grid\"},{\"id\":\"1030\",\"type\":\"BoxAnnotation\"},{\"id\":\"1040\",\"type\":\"GlyphRenderer\"}],\"title\":{\"id\":\"1045\",\"type\":\"Title\"},\"toolbar\":{\"id\":\"1028\",\"type\":\"Toolbar\"},\"x_range\":{\"id\":\"1004\",\"type\":\"DataRange1d\"},\"x_scale\":{\"id\":\"1008\",\"type\":\"LinearScale\"},\"y_range\":{\"id\":\"1006\",\"type\":\"DataRange1d\"},\"y_scale\":{\"id\":\"1010\",\"type\":\"LinearScale\"}},\"id\":\"1003\",\"subtype\":\"Figure\",\"type\":\"Plot\"},{\"attributes\":{\"bottom_units\":\"screen\",\"fill_alpha\":{\"value\":0.5},\"fill_color\":{\"value\":\"lightgrey\"},\"left_units\":\"screen\",\"level\":\"overlay\",\"line_alpha\":{\"value\":1.0},\"line_color\":{\"value\":\"black\"},\"line_dash\":[4,4],\"line_width\":{\"value\":2},\"plot\":null,\"render_mode\":\"css\",\"right_units\":\"screen\",\"top_units\":\"screen\"},\"id\":\"1030\",\"type\":\"BoxAnnotation\"},{\"attributes\":{},\"id\":\"1010\",\"type\":\"LinearScale\"},{\"attributes\":{},\"id\":\"1008\",\"type\":\"LinearScale\"},{\"attributes\":{\"plot\":null,\"text\":\"\"},\"id\":\"1045\",\"type\":\"Title\"},{\"attributes\":{\"data_source\":{\"id\":\"1002\",\"type\":\"ColumnDataSource\"},\"glyph\":{\"id\":\"1038\",\"type\":\"Scatter\"},\"hover_glyph\":null,\"muted_glyph\":null,\"nonselection_glyph\":{\"id\":\"1039\",\"type\":\"Scatter\"},\"selection_glyph\":null,\"view\":{\"id\":\"1041\",\"type\":\"CDSView\"}},\"id\":\"1040\",\"type\":\"GlyphRenderer\"},{\"attributes\":{\"callback\":null,\"tooltips\":[[\"token\",\"@token\"]]},\"id\":\"1042\",\"type\":\"HoverTool\"},{\"attributes\":{},\"id\":\"1022\",\"type\":\"PanTool\"},{\"attributes\":{\"formatter\":{\"id\":\"1047\",\"type\":\"BasicTickFormatter\"},\"plot\":{\"id\":\"1003\",\"subtype\":\"Figure\",\"type\":\"Plot\"},\"ticker\":{\"id\":\"1013\",\"type\":\"BasicTicker\"}},\"id\":\"1012\",\"type\":\"LinearAxis\"},{\"attributes\":{\"callback\":null},\"id\":\"1006\",\"type\":\"DataRange1d\"},{\"attributes\":{},\"id\":\"1047\",\"type\":\"BasicTickFormatter\"},{\"attributes\":{},\"id\":\"1049\",\"type\":\"BasicTickFormatter\"},{\"attributes\":{\"active_drag\":\"auto\",\"active_inspect\":\"auto\",\"active_multi\":null,\"active_scroll\":{\"id\":\"1023\",\"type\":\"WheelZoomTool\"},\"active_tap\":\"auto\",\"tools\":[{\"id\":\"1022\",\"type\":\"PanTool\"},{\"id\":\"1023\",\"type\":\"WheelZoomTool\"},{\"id\":\"1024\",\"type\":\"BoxZoomTool\"},{\"id\":\"1025\",\"type\":\"SaveTool\"},{\"id\":\"1026\",\"type\":\"ResetTool\"},{\"id\":\"1027\",\"type\":\"HelpTool\"},{\"id\":\"1042\",\"type\":\"HoverTool\"}]},\"id\":\"1028\",\"type\":\"Toolbar\"},{\"attributes\":{\"formatter\":{\"id\":\"1049\",\"type\":\"BasicTickFormatter\"},\"plot\":{\"id\":\"1003\",\"subtype\":\"Figure\",\"type\":\"Plot\"},\"ticker\":{\"id\":\"1018\",\"type\":\"BasicTicker\"}},\"id\":\"1017\",\"type\":\"LinearAxis\"},{\"attributes\":{},\"id\":\"1027\",\"type\":\"HelpTool\"},{\"attributes\":{\"fill_alpha\":{\"value\":0.25},\"fill_color\":{\"field\":\"color\"},\"line_alpha\":{\"value\":0.25},\"line_color\":{\"field\":\"color\"},\"size\":{\"units\":\"screen\",\"value\":10},\"x\":{\"field\":\"x\"},\"y\":{\"field\":\"y\"}},\"id\":\"1038\",\"type\":\"Scatter\"},{\"attributes\":{\"callback\":null},\"id\":\"1004\",\"type\":\"DataRange1d\"},{\"attributes\":{},\"id\":\"1050\",\"type\":\"Selection\"},{\"attributes\":{},\"id\":\"1051\",\"type\":\"UnionRenderers\"},{\"attributes\":{},\"id\":\"1023\",\"type\":\"WheelZoomTool\"},{\"attributes\":{\"dimension\":1,\"plot\":{\"id\":\"1003\",\"subtype\":\"Figure\",\"type\":\"Plot\"},\"ticker\":{\"id\":\"1018\",\"type\":\"BasicTicker\"}},\"id\":\"1021\",\"type\":\"Grid\"},{\"attributes\":{\"source\":{\"id\":\"1002\",\"type\":\"ColumnDataSource\"}},\"id\":\"1041\",\"type\":\"CDSView\"},{\"attributes\":{},\"id\":\"1013\",\"type\":\"BasicTicker\"},{\"attributes\":{\"fill_alpha\":{\"value\":0.1},\"fill_color\":{\"value\":\"#1f77b4\"},\"line_alpha\":{\"value\":0.1},\"line_color\":{\"value\":\"#1f77b4\"},\"size\":{\"units\":\"screen\",\"value\":10},\"x\":{\"field\":\"x\"},\"y\":{\"field\":\"y\"}},\"id\":\"1039\",\"type\":\"Scatter\"},{\"attributes\":{},\"id\":\"1018\",\"type\":\"BasicTicker\"},{\"attributes\":{\"callback\":null,\"data\":{\"color\":[\"blue\",\"blue\",\"blue\",\"blue\",\"blue\",\"blue\",\"blue\",\"blue\",\"blue\",\"blue\",\"blue\",\"blue\",\"blue\",\"blue\",\"blue\",\"blue\",\"blue\",\"blue\",\"blue\",\"blue\",\"blue\",\"blue\",\"blue\",\"blue\",\"blue\",\"blue\",\"blue\",\"blue\",\"blue\",\"blue\",\"blue\",\"blue\",\"blue\",\"blue\",\"blue\",\"blue\",\"blue\",\"blue\",\"blue\",\"blue\",\"blue\",\"blue\",\"blue\",\"blue\",\"blue\",\"blue\",\"blue\",\"blue\",\"blue\",\"blue\",\"blue\",\"blue\",\"blue\",\"blue\",\"blue\",\"blue\",\"blue\",\"blue\",\"blue\",\"blue\",\"blue\",\"blue\",\"blue\",\"blue\",\"blue\",\"blue\",\"blue\",\"blue\",\"blue\",\"blue\",\"blue\",\"blue\",\"blue\",\"blue\",\"blue\",\"blue\",\"blue\",\"blue\",\"blue\",\"blue\",\"blue\",\"blue\",\"blue\",\"blue\",\"blue\",\"blue\",\"blue\",\"blue\",\"blue\",\"blue\",\"blue\",\"blue\",\"blue\",\"blue\",\"blue\",\"blue\",\"blue\",\"blue\",\"blue\",\"blue\",\"blue\",\"blue\",\"blue\",\"blue\",\"blue\",\"blue\",\"blue\",\"blue\",\"blue\",\"blue\",\"blue\",\"blue\",\"blue\",\"blue\",\"blue\",\"blue\",\"blue\",\"blue\",\"blue\",\"blue\",\"blue\",\"blue\",\"blue\",\"blue\",\"blue\",\"blue\",\"blue\",\"blue\",\"blue\",\"blue\",\"blue\",\"blue\",\"blue\",\"blue\",\"blue\",\"blue\",\"blue\",\"blue\",\"blue\",\"blue\",\"blue\",\"blue\",\"blue\",\"blue\",\"blue\",\"blue\",\"blue\",\"blue\",\"blue\",\"blue\",\"blue\",\"blue\",\"blue\",\"blue\",\"blue\",\"blue\",\"blue\",\"blue\",\"blue\",\"blue\",\"blue\",\"blue\",\"blue\",\"blue\",\"blue\",\"blue\",\"blue\",\"blue\",\"blue\",\"blue\",\"blue\",\"blue\",\"blue\",\"blue\",\"blue\",\"blue\",\"blue\",\"blue\",\"blue\",\"blue\",\"blue\",\"blue\",\"blue\",\"blue\",\"blue\",\"blue\",\"blue\",\"blue\",\"blue\",\"blue\",\"blue\",\"blue\",\"blue\",\"blue\",\"blue\",\"blue\",\"blue\",\"blue\",\"blue\",\"blue\",\"blue\",\"blue\",\"blue\",\"blue\",\"blue\",\"blue\",\"blue\",\"blue\",\"blue\",\"blue\",\"blue\",\"blue\",\"blue\",\"blue\",\"blue\",\"blue\",\"blue\",\"blue\",\"blue\",\"blue\",\"blue\",\"blue\",\"blue\",\"blue\",\"blue\",\"blue\",\"blue\",\"blue\",\"blue\",\"blue\",\"blue\",\"blue\",\"blue\",\"blue\",\"blue\",\"blue\",\"blue\",\"blue\",\"blue\",\"blue\",\"blue\",\"blue\",\"blue\",\"blue\",\"blue\",\"blue\",\"blue\",\"blue\",\"blue\",\"blue\",\"blue\",\"blue\",\"blue\",\"blue\",\"blue\",\"blue\",\"blue\",\"blue\",\"blue\",\"blue\",\"blue\",\"blue\",\"blue\",\"blue\",\"blue\",\"blue\",\"blue\",\"blue\",\"blue\",\"blue\",\"blue\",\"blue\",\"blue\",\"blue\",\"blue\",\"blue\",\"blue\",\"blue\",\"blue\",\"blue\",\"blue\",\"blue\",\"blue\",\"blue\",\"blue\",\"blue\",\"blue\",\"blue\",\"blue\",\"blue\",\"blue\",\"blue\",\"blue\",\"blue\",\"blue\",\"blue\",\"blue\",\"blue\",\"blue\",\"blue\",\"blue\",\"blue\",\"blue\",\"blue\",\"blue\",\"blue\",\"blue\",\"blue\",\"blue\",\"blue\",\"blue\",\"blue\",\"blue\",\"blue\",\"blue\",\"blue\",\"blue\",\"blue\",\"blue\",\"blue\",\"blue\",\"blue\",\"blue\",\"blue\",\"blue\",\"blue\",\"blue\",\"blue\",\"blue\",\"blue\",\"blue\",\"blue\",\"blue\",\"blue\",\"blue\",\"blue\",\"blue\",\"blue\",\"blue\",\"blue\",\"blue\",\"blue\",\"blue\",\"blue\",\"blue\",\"blue\",\"blue\",\"blue\",\"blue\",\"blue\",\"blue\",\"blue\",\"blue\",\"blue\",\"blue\",\"blue\",\"blue\",\"blue\",\"blue\",\"blue\",\"blue\",\"blue\",\"blue\",\"blue\",\"blue\",\"blue\",\"blue\",\"blue\",\"blue\",\"blue\",\"blue\",\"blue\",\"blue\",\"blue\",\"blue\",\"blue\",\"blue\",\"blue\",\"blue\",\"blue\",\"blue\",\"blue\",\"blue\",\"blue\",\"blue\",\"blue\",\"blue\",\"blue\",\"blue\",\"blue\",\"blue\",\"blue\",\"blue\",\"blue\",\"blue\",\"blue\",\"blue\",\"blue\",\"blue\",\"blue\",\"blue\",\"blue\",\"blue\",\"blue\",\"blue\",\"blue\",\"blue\",\"blue\",\"blue\",\"blue\",\"blue\",\"blue\",\"blue\",\"blue\",\"blue\",\"blue\",\"blue\",\"blue\",\"blue\",\"blue\",\"blue\",\"blue\",\"blue\",\"blue\",\"blue\",\"blue\",\"blue\",\"blue\",\"blue\",\"blue\",\"blue\",\"blue\",\"blue\",\"blue\",\"blue\",\"blue\",\"blue\",\"blue\",\"blue\",\"blue\",\"blue\",\"blue\",\"blue\",\"blue\",\"blue\",\"blue\",\"blue\",\"blue\",\"blue\",\"blue\",\"blue\",\"blue\",\"blue\",\"blue\",\"blue\",\"blue\",\"blue\",\"blue\",\"blue\",\"blue\",\"blue\",\"blue\",\"blue\",\"blue\",\"blue\",\"blue\",\"blue\",\"blue\",\"blue\",\"blue\",\"blue\",\"blue\",\"blue\",\"blue\",\"blue\",\"blue\",\"blue\",\"blue\",\"blue\",\"blue\",\"blue\",\"blue\",\"blue\",\"blue\",\"blue\",\"blue\",\"blue\",\"blue\",\"blue\",\"blue\",\"blue\",\"blue\",\"blue\",\"blue\",\"blue\",\"blue\",\"blue\",\"blue\",\"blue\",\"blue\",\"blue\",\"blue\",\"blue\",\"blue\",\"blue\",\"blue\",\"blue\",\"blue\",\"blue\",\"blue\",\"blue\",\"blue\",\"blue\",\"blue\",\"blue\",\"blue\",\"blue\",\"blue\",\"blue\",\"blue\",\"blue\",\"blue\",\"blue\",\"blue\",\"blue\",\"blue\",\"blue\",\"blue\",\"blue\",\"blue\",\"blue\",\"blue\",\"blue\",\"blue\",\"blue\",\"blue\",\"blue\",\"blue\",\"blue\",\"blue\",\"blue\",\"blue\",\"blue\",\"blue\",\"blue\",\"blue\",\"blue\",\"blue\",\"blue\",\"blue\",\"blue\",\"blue\",\"blue\",\"blue\",\"blue\",\"blue\",\"blue\",\"blue\",\"blue\",\"blue\",\"blue\",\"blue\",\"blue\",\"blue\",\"blue\",\"blue\",\"blue\",\"blue\",\"blue\",\"blue\",\"blue\",\"blue\",\"blue\",\"blue\",\"blue\",\"blue\",\"blue\",\"blue\",\"blue\",\"blue\",\"blue\",\"blue\",\"blue\",\"blue\",\"blue\",\"blue\",\"blue\",\"blue\",\"blue\",\"blue\",\"blue\",\"blue\",\"blue\",\"blue\",\"blue\",\"blue\",\"blue\",\"blue\",\"blue\",\"blue\",\"blue\",\"blue\",\"blue\",\"blue\",\"blue\",\"blue\",\"blue\",\"blue\",\"blue\",\"blue\",\"blue\",\"blue\",\"blue\",\"blue\",\"blue\",\"blue\",\"blue\",\"blue\",\"blue\",\"blue\",\"blue\",\"blue\",\"blue\",\"blue\",\"blue\",\"blue\",\"blue\",\"blue\",\"blue\",\"blue\",\"blue\",\"blue\",\"blue\",\"blue\",\"blue\",\"blue\",\"blue\",\"blue\",\"blue\",\"blue\",\"blue\",\"blue\",\"blue\",\"blue\",\"blue\",\"blue\",\"blue\",\"blue\",\"blue\",\"blue\",\"blue\",\"blue\",\"blue\",\"blue\",\"blue\",\"blue\",\"blue\",\"blue\",\"blue\",\"blue\",\"blue\",\"blue\",\"blue\",\"blue\",\"blue\",\"blue\",\"blue\",\"blue\",\"blue\",\"blue\",\"blue\",\"blue\",\"blue\",\"blue\",\"blue\",\"blue\",\"blue\",\"blue\",\"blue\",\"blue\",\"blue\",\"blue\",\"blue\",\"blue\",\"blue\",\"blue\",\"blue\",\"blue\",\"blue\",\"blue\",\"blue\",\"blue\",\"blue\",\"blue\",\"blue\",\"blue\",\"blue\",\"blue\",\"blue\",\"blue\",\"blue\",\"blue\",\"blue\",\"blue\",\"blue\",\"blue\",\"blue\",\"blue\",\"blue\",\"blue\",\"blue\",\"blue\",\"blue\",\"blue\",\"blue\",\"blue\",\"blue\",\"blue\",\"blue\",\"blue\",\"blue\",\"blue\",\"blue\",\"blue\",\"blue\",\"blue\",\"blue\",\"blue\",\"blue\",\"blue\",\"blue\",\"blue\",\"blue\",\"blue\",\"blue\",\"blue\",\"blue\",\"blue\",\"blue\",\"blue\",\"blue\",\"blue\",\"blue\",\"blue\",\"blue\",\"blue\",\"blue\",\"blue\",\"blue\",\"blue\",\"blue\",\"blue\",\"blue\",\"blue\",\"blue\",\"blue\",\"blue\",\"blue\",\"blue\",\"blue\",\"blue\",\"blue\",\"blue\",\"blue\",\"blue\",\"blue\",\"blue\",\"blue\",\"blue\",\"blue\",\"blue\",\"blue\",\"blue\",\"blue\",\"blue\",\"blue\",\"blue\",\"blue\",\"blue\",\"blue\",\"blue\",\"blue\",\"blue\",\"blue\",\"blue\",\"blue\",\"blue\",\"blue\",\"blue\",\"blue\",\"blue\",\"blue\",\"blue\",\"blue\",\"blue\",\"blue\",\"blue\",\"blue\",\"blue\",\"blue\",\"blue\",\"blue\",\"blue\",\"blue\",\"blue\",\"blue\",\"blue\",\"blue\",\"blue\",\"blue\",\"blue\",\"blue\",\"blue\",\"blue\",\"blue\",\"blue\",\"blue\",\"blue\",\"blue\",\"blue\",\"blue\",\"blue\",\"blue\",\"blue\",\"blue\",\"blue\",\"blue\",\"blue\",\"blue\",\"blue\",\"blue\",\"blue\",\"blue\",\"blue\",\"blue\",\"blue\",\"blue\",\"blue\",\"blue\",\"blue\",\"blue\",\"blue\",\"blue\",\"blue\",\"blue\",\"blue\",\"blue\",\"blue\",\"blue\",\"blue\",\"blue\",\"blue\",\"blue\",\"blue\",\"blue\",\"blue\",\"blue\",\"blue\",\"blue\",\"blue\",\"blue\",\"blue\",\"blue\",\"blue\",\"blue\",\"blue\",\"blue\",\"blue\",\"blue\",\"blue\",\"blue\",\"blue\",\"blue\",\"blue\",\"blue\",\"blue\",\"blue\",\"blue\",\"blue\",\"blue\",\"blue\",\"blue\",\"blue\",\"blue\",\"blue\",\"blue\",\"blue\",\"blue\",\"blue\",\"blue\",\"blue\",\"blue\",\"blue\",\"blue\",\"blue\",\"blue\",\"blue\",\"blue\",\"blue\",\"blue\",\"blue\",\"blue\",\"blue\",\"blue\",\"blue\",\"blue\",\"blue\",\"blue\",\"blue\",\"blue\",\"blue\",\"blue\",\"blue\",\"blue\",\"blue\",\"blue\",\"blue\",\"blue\",\"blue\",\"blue\",\"blue\",\"blue\",\"blue\",\"blue\",\"blue\",\"blue\",\"blue\",\"blue\",\"blue\",\"blue\",\"blue\",\"blue\",\"blue\",\"blue\",\"blue\",\"blue\",\"blue\",\"blue\",\"blue\",\"blue\",\"blue\",\"blue\",\"blue\",\"blue\",\"blue\",\"blue\",\"blue\",\"blue\",\"blue\",\"blue\",\"blue\",\"blue\",\"blue\",\"blue\",\"blue\",\"blue\",\"blue\",\"blue\",\"blue\",\"blue\",\"blue\",\"blue\",\"blue\",\"blue\",\"blue\",\"blue\",\"blue\",\"blue\",\"blue\",\"blue\",\"blue\",\"blue\",\"blue\",\"blue\",\"blue\",\"blue\",\"blue\",\"blue\",\"blue\",\"blue\",\"blue\",\"blue\",\"blue\",\"blue\",\"blue\",\"blue\",\"blue\",\"blue\",\"blue\",\"blue\",\"blue\",\"blue\",\"blue\",\"blue\",\"blue\",\"blue\",\"blue\",\"blue\",\"blue\",\"blue\"],\"token\":[\"?\",\"the\",\"what\",\"is\",\"a\",\"i\",\"to\",\"in\",\"how\",\"of\",\"do\",\"are\",\"and\",\"for\",\",\",\"can\",\"you\",\"why\",\"it\",\"my\",\"does\",\"best\",\"on\",\".\",\"or\",\"have\",\"if\",\"be\",\"with\",\"which\",\"that\",\"an\",\"some\",\"should\",\"'s\",\"get\",\"from\",\")\",\"your\",\"(\",\"like\",\"when\",\"at\",\"india\",\"good\",\"who\",\"there\",\"will\",\"as\",\"would\",\"people\",\"not\",\"n't\",\"about\",\"``\",\"''\",\"between\",\"one\",\"did\",\"any\",\"we\",\"me\",\"where\",\"most\",\"was\",\"by\",\"make\",\"so\",\"they\",\"this\",\"am\",\"after\",\"way\",\":\",\"has\",\"use\",\"much\",\"difference\",\"time\",\"life\",\"their\",\"know\",\"work\",\"many\",\"but\",\"than\",\"more\",\"all\",\"want\",\"quora\",\"someone\",\"learn\",\"find\",\"other\",\"think\",\"new\",\"better\",\"job\",\"indian\",\"out\",\"money\",\"mean\",\"become\",\"ever\",\"world\",\"without\",\"he\",\"start\",\"take\",\"us\",\"up\",\"first\",\"feel\",\"year\",\"into\",\"go\",\"online\",\"used\",\"engineering\",\"could\",\"love\",\"'m\",\"person\",\"were\",\"possible\",\"day\",\"buy\",\"things\",\"being\",\"need\",\"business\",\"using\",\"them\",\"really\",\"trump\",\"girl\",\"'\",\"her\",\"his\",\"years\",\"different\",\"long\",\"phone\",\"google\",\"company\",\"been\",\"old\",\"only\",\"no\",\"now\",\"just\",\"2\",\"app\",\"college\",\"facebook\",\"number\",\"free\",\"books\",\"2016\",\"movie\",\"still\",\"its\",\"account\",\"ca\",\"women\",\"book\",\"english\",\"while\",\"she\",\"had\",\"change\",\"ways\",\"computer\",\"thing\",\"examples\",\"data\",\"country\",\"over\",\"see\",\"android\",\"help\",\"science\",\"live\",\"school\",\"software\",\"before\",\"&\",\"language\",\"same\",\"going\",\"bad\",\"sex\",\"student\",\"stop\",\"university\",\"happen\",\"back\",\"made\",\"3\",\"1\",\"study\",\"our\",\"two\",\"through\",\"system\",\"name\",\"say\",\"real\",\"during\",\"prepare\",\"water\",\"iphone\",\"website\",\"top\",\"car\",\"questions\",\"important\",\"men\",\"give\",\"getting\",\"anyone\",\"companies\",\"high\",\"black\",\"card\",\"read\",\"programming\",\"war\",\"learning\",\"10\",\"5\",\"\\u2019\",\"exam\",\"[\",\"then\",\"]\",\"even\",\"movies\",\"china\",\"mobile\",\"cost\",\"donald\",\"right\",\"doing\",\"friend\",\"him\",\"working\",\"under\",\"come\",\"president\",\"own\",\"question\",\"career\",\"experience\",\"bank\",\"true\",\"friends\",\"guy\",\"word\",\"hair\",\"home\",\"video\",\"having\",\"look\",\"usa\",\"tell\",\"man\",\"social\",\"web\",\"interview\",\"very\",\"engineer\",\"write\",\"game\",\"government\",\"weight\",\"earth\",\"girls\",\"service\",\"food\",\"students\",\"play\",\"countries\",\"human\",\"place\",\"future\",\"improve\",\"off\",\"big\",\"days\",\"happens\",\"'ve\",\"done\",\"class\",\"eat\",\"tv\",\"process\",\"got\",\"state\",\"average\",\"s\",\"meaning\",\"relationship\",\"music\",\"too\",\"math\",\"create\",\"instagram\",\"every\",\"history\",\"last\",\"pay\",\"windows\",\"4\",\"white\",\"watch\",\"%\",\"salary\",\"body\",\"power\",\"safe\",\"clinton\",\"ask\",\"age\",\"laptop\",\"makes\",\"$\",\"each\",\"hard\",\"lose\",\"american\",\"delhi\",\"youtube\",\"energy\",\"worth\",\"earn\",\"states\",\"against\",\"win\",\"girlfriend\",\"great\",\"keep\",\"test\",\"god\",\"hillary\",\"compare\",\"market\",\"differences\",\"making\",\"considered\",\"something\",\"answer\",\"apply\",\"myself\",\"mba\",\"tips\",\"around\",\"never\",\"next\",\"always\",\"mechanical\",\"another\",\"united\",\"java\",\"increase\",\"c\",\"such\",\"course\",\"jobs\",\"download\",\"song\",\"parents\",\"kind\",\"internet\",\"common\",\"review\",\"woman\",\"code\",\"design\",\"per\",\"employees\",\"end\",\"development\",\"chinese\",\"series\",\"score\",\"interesting\",\"degree\",\"month\",\"travel\",\"show\",\"management\",\"months\",\"able\",\"believe\",\"open\",\"program\",\"living\",\"looking\",\"because\",\"6\",\"type\",\"bangalore\",\"light\",\"favorite\",\"america\",\"today\",\"actually\",\"major\",\"family\",\"marketing\",\"pakistan\",\"universities\",\"technology\",\"law\",\"call\",\"affect\",\"whatsapp\",\"idea\",\"{\",\"build\",\"}\",\"choose\",\"cat\",\"current\",\"support\",\"problem\",\"popular\",\"speed\",\"air\",\"rid\",\"deal\",\"visa\",\"join\",\"run\",\"games\",\"space\",\"down\",\"both\",\"well\",\"city\",\"2017\",\"house\",\"exist\",\"services\",\"available\",\"civil\",\"u.s.\",\"site\",\"culture\",\"also\",\"normal\",\"given\",\"wrong\",\"apple\",\"7\",\"small\",\"order\",\"date\",\"wear\",\"apps\",\"places\",\"songs\",\"differ\",\"project\",\"product\",\"international\",\"x\",\"behind\",\"main\",\"research\",\"happened\",\"boyfriend\",\"media\",\"public\",\"canada\",\"value\",\"jee\",\"cause\",\"reason\",\"uk\",\"education\",\"email\",\"ms\",\"sleep\",\"-\",\"amazon\",\"instead\",\"these\",\"benefits\",\"startup\",\"less\",\"iit\",\"part\",\"list\",\"based\",\"die\",\"medical\",\"websites\",\"etc\",\"physics\",\"skills\",\"child\",\"form\",\"health\",\"causes\",\"called\",\"times\",\"visit\",\"hate\",\"level\",\"worst\",\"police\",\"legal\",\"control\",\"terms\",\"stay\",\"products\",\"mumbai\",\"post\",\"facts\",\"mind\",\"face\",\"application\",\"rate\",\"sites\",\"field\",\"file\",\"required\",\"humans\",\"sell\",\"seen\",\"story\",\"machine\",\"private\",\"dog\",\"notes\",\"stock\",\"modi\",\"biggest\",\"asked\",\"invest\",\"children\",\"point\",\"writing\",\"move\",\"night\",\"problems\",\"gate\",\"put\",\"'re\",\"successful\",\"single\",\"anything\",\"indians\",\"others\",\"remove\",\"compared\",\"theory\",\"death\",\"ideas\",\"talk\",\"marks\",\"answers\",\"plan\",\"similar\",\"sentence\",\"low\",\"group\",\"institute\",\"side\",\"hours\",\"again\",\"effects\",\"/math\",\"coaching\",\"australia\",\"solve\",\"advantages\",\"correct\",\"function\",\"tax\",\"lot\",\"center\",\"famous\",\"send\",\"germany\",\"guys\",\"add\",\"set\",\"offer\",\"south\",\"force\",\"credit\",\"foreign\",\"universe\",\"information\",\"fall\",\"period\",\"daily\",\"says\",\"developer\",\"training\",\"full\",\"videos\",\"area\",\"industry\",\"oil\",\"model\",\"general\",\"studying\",\"majors\",\"star\",\"colleges\",\"graduate\",\"size\",\"yourself\",\"drive\",\"python\",\"2015\",\"blood\",\"near\",\"search\",\"enough\",\"price\",\"kill\",\"quality\",\"words\",\"8\",\"cons\",\"marriage\",\"found\",\"often\",\"\\u201d\",\"leave\",\"pros\",\"fast\",\"grow\",\"courses\",\"started\",\"week\",\"fix\",\"related\",\"purpose\",\"network\",\"types\",\"russia\",\"advice\",\"those\",\"password\",\"follow\",\"taking\",\"married\",\"mass\",\"male\",\"store\",\"turn\",\"party\",\"left\",\"brain\",\"rs\",\"\\u201c\",\"numbers\",\"100\",\"500\",\"female\",\"share\",\"digital\",\"team\",\"1000\",\"effective\",\"economy\",\"term\",\"text\",\"delete\",\"election\",\"cell\",\"pc\",\"master\",\"office\",\"matter\",\"few\",\"role\",\"since\",\"preparation\",\"fat\",\"second\",\"page\",\"dark\",\"short\",\"said\",\"happy\",\"red\",\"line\",\"away\",\"security\",\"options\",\"easy\",\"effect\",\"three\",\"view\",\"admission\",\"must\",\"chemical\",\"source\",\"lost\",\"try\",\"dream\",\"understand\",\"care\",\"exams\",\"convert\",\"americans\",\"past\",\"electrical\",\"dogs\",\"profile\",\"alcohol\",\"exactly\",\"north\",\"ios\",\"develop\",\"paper\",\"japanese\",\"investment\",\"tech\",\"difficult\",\"hotel\",\"check\",\"beautiful\",\"personal\",\"calculate\",\"japan\",\"uber\",\"letter\",\"eating\",\"religion\",\"20\",\"explain\",\"languages\",\"c++\",\"b\",\"hyderabad\",\"topics\",\"british\",\"twitter\",\"basic\",\"news\",\"california\",\"self\",\"green\",\"political\",\"transfer\",\"wife\",\"12\",\"fight\",\"rank\",\"drug\",\"let\",\"porn\",\"film\",\"scope\",\"t\",\"army\",\"pune\",\"national\",\"once\",\"contact\",\"note\",\"known\",\"avoid\",\"boy\",\"gain\",\"please\",\"address\",\"wants\",\"reasons\",\"paid\",\"obama\",\"engine\",\"europe\",\"ex\",\"currently\",\"bollywood\",\"samsung\",\"smart\",\"everyone\",\"season\",\"phd\",\"income\",\"officer\",\"chances\",\"reduce\",\"option\",\"overcome\",\"everything\",\"across\",\"reading\",\"military\",\"else\",\"users\",\"meet\",\"15\",\"solar\",\"message\",\"charge\",\"knowledge\",\"due\",\"sound\",\"balance\",\"microsoft\",\"!\",\"internship\",\"faster\",\"photos\",\"pregnant\",\"sim\",\"yes\",\"moon\",\"taken\",\"financial\",\"hindi\",\"disadvantages\",\"pass\",\"animals\",\"messages\",\"gay\",\"/\",\"hack\",\"healthy\",\"pain\",\"systems\",\"amount\",\"color\",\"interested\",\"singapore\",\"ias\",\"natural\",\"skin\",\"screen\",\"chance\",\"names\",\"special\",\"height\",\"board\",\"case\",\"structure\",\"passport\",\"break\",\"pro\",\"created\",\"professional\",\"drink\",\"already\",\"percentage\",\"useful\",\"french\",\"crush\",\"sun\",\"dating\",\"likes\",\"presidential\",\"battery\",\"interest\",\"access\",\"coming\",\"provide\",\"muslim\",\"starting\",\"modern\",\"linux\",\"recover\",\"camera\",\"german\",\"expect\",\"vote\",\"muslims\",\"blue\",\"least\",\"install\",\"train\",\"studies\",\"solution\",\"thinking\",\"following\",\"negative\",\"mother\",\"jio\",\"mac\",\"user\",\"spend\",\"prime\",\"written\",\"buying\",\"feeling\",\"running\",\"football\",\"gift\",\"cold\",\"changed\",\"pressure\",\"allowed\",\"character\",\"brand\",\"rich\",\"snapchat\",\"resources\",\"within\",\"speak\",\"impact\",\"islam\",\"yet\",\"non\",\"marry\",\"eyes\",\"society\",\"bill\",\"likely\",\"though\",\"determine\",\"shows\",\"fake\",\"save\",\"capital\",\"final\",\"gmail\",\"picture\",\"laws\",\"middle\",\"applications\",\"nuclear\",\"chemistry\",\"young\",\"kids\",\"prefer\",\"device\",\"iq\",\"father\",\"views\",\"galaxy\",\"manager\",\"doctor\",\"personality\",\"hand\",\"greatest\",\"currency\",\"inside\",\"illegal\",\"stories\",\"strategy\",\"recruit\",\"pursue\",\"cs\",\"abroad\",\"gold\",\"projects\",\"consider\",\"works\",\"blog\",\"crack\",\"memory\",\"example\",\"neet\",\"growth\",\"schools\",\"necessary\",\"husband\",\"insurance\",\"alone\",\"economics\",\"depression\",\"higher\",\"dead\",\"b.tech\",\"30\",\"cse\",\"loss\",\"among\",\"files\",\"deleted\",\"easiest\",\"macbook\",\"together\",\"art\",\"wifi\",\"vs\",\"gas\",\"suggest\",\"late\",\"intelligence\",\"method\",\"gre\",\"head\",\"minimum\",\"version\",\"tools\",\"easily\",\"chennai\",\"cars\",\"suitable\"],\"x\":{\"__ndarray__\":\"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\",\"dtype\":\"float32\",\"shape\":[1000]},\"y\":{\"__ndarray__\":\"txqDvhqTaL7cfVa9aT8Ev47ELj/44gdAFfi6P5uoPT43MX4+A6AOv1vwqz5Ckmy/V+ncvTGMHD+Rl+e+YNqmP2Ym0T6+yKS/8b6IP070bj+MZBm+G8cIPykEP7+DtHc/lrryvWwppL9rRow+otdfv2Uvtr5cjz4/F5AUPqgzXD+vn4y+UJDXP+6egb+RDiS/k9Vkvn7OdL10juC+VnTjveaEY79BXFi+/SjkPYYGgj/gQ3g/bVs8Ppm3oz1bPIU/0P+YPmZlGD/CyBo91duuvqiZvb5xczm/ktgSv1+PkL9uDAnA2YUaP7m3C79RRM0+QhwmP/qy4D/mixY/6otCv7JTxb/5mG+/ohbmv5eyGr9HuUI++1vtPmO9tT94Kt8+LAByP9kYmL9tjLW/nqvUv/PtpL3XtdS+VmR8P/McQD9zocq+jnWUvyDJqr04gGO/uQosPxt5pb/ikyE+89ACv0gBiT8VIDI/xKsKPzsHgT3bELO/EwISvkotGcBMMQo/2W5YP0POUECftrE+OpPUvUbnnz+4vgPAK2FZv+tpKb81dUG+q6KfvlPXij5NJjK9LpZMvqzCbD9r1tw+PeP5PhCjjb9eLRBA1JcRPf9r6L79R6Y/3KkUv5SKSUBPOcc+54JIvxgDdj+8qZ0+ESwGwIDcIz8se6Q+HSKcv/zqET+jBoQ9L9+1PkDD3D8VwwO/KwUxPx07577ceNQ9Q+53P6Laf7+w/Rk/T6C8vnZZ2D8PJkK/G9d9PtAOGj/UbqI/uGkCQKwgSL54U2w+gMGhvk+7j770URo/AQWBveU4Ij/8NIM/W2MfQL9ypj5WNJA+rdwQP2IMez+O4Z0/KTMBv5sNDr5Ffoq+vj6BP7QGGT/Ve588mOIvP5Ptjj8GAR++0z2fPvOjpL8YgLK/F2E+P4tnvD/9gYK+0ASjv1jDvT+h4zs/GkOyvpd0BsD6Too/L6y5vtKFkj+Tyhe/OFf/PzZ5BkDLYHO98TeuvKZmVz/EWP2+FZ6PP7fSAr8/KVE+hww7QOvj7r/ZsxJAoT0TwHyi+b09aLG/0DfKPthVLT/sAIQ/Nxpxv3Q8Mb5yxcU8gnX+PkA8zr2djQzADIZivwJdDb8KbZs/+dFavosq2T4vb80/jb3qPsSyBD89kZw/xoQlvwDsnr5F6Ka/xIgwP3rlhz9QKfs/coO/PvaS+r+/bcM/gpLwvn7A2z//Xx0+ziSeP58x4z4XvDA+NtGovxUENECZQGa/d4WcvjiCPb+rQSW+XJl2vqY6IL1MOk8/DRfZPPKDUr/ldwI+niNzP2BMJT9Q7WQ/BlWMP0PtX76xWsG/AscjP6xV/758qz0/0UkgQErlmz9n3cM/Nz/Mv/0iJD/syDE/rH4Dv6FBEb97DnY/x5IFPmy2kr4kYo2/RQuOP75oBcDsq8++E9gIPpcMoj8QUuI/KEfmPjHbMkASiAC/ChOPvckoaz+5Ezs/LSKgv63s/z5XqFY/tSGMvk7QCUDUIIm//O8SPzffbr8uC2Q/CzwtP9nshr+oNEC+Lsb2vsO/eT/17sK/ezEfv+UBLD9FS6w/3WkKwEcNpb60USs/7bSuPJAs1z4DNAU8MNkyv2K6qr+TCgI/0mSbviiPoz6zO4Q/Zb/JvwULnD6N7na+70SavqWKCL+SYCk+QORrP9FEhz5BKQTAulu2v+a4LD+MoAVAsp0Av6U3lb4vLSE+wgvPvlgINb/i6g0/Ga60P7bJ9r8F/pw/jYOdvs9dLj8H+rq/cOYfvzeUqT9Z4wc/ktKTPtqWCj7Yt6q+8HoZPwPb0r/ripi/FrxVPxks1b4taM6/YZUTP6lkh78KvNK+9f1EwD6wCj/o0Gm/ZaL3viS0kb/J/3i99c9OvEfUhD9WlcY/B5RcQEMyvD/aVkq/6RgNv6ve8z6Gsxm/mpEXQBeqhbttVVw91MvmP0oEkr9T+pM/j5bjvlCXHkBar+w/lXNYvxOhbL/w8/4+yMUkv34I3j6eBIS/4NBDvzvWyDwp9Tk/UysEP8JKsD7vVbo/xok7v8DHVz8gAxG/WPMzv6Lp4D8seyq/jC4iQPXK1D9ph9a9A3PovxMFsz9Hm+s/vXk9P1/rIMD7bQK/Bse6P+Yk4j1Ht1U/9olJv2Qulj6Oc4C/44q2P00ngb9jn8u/srUHvkQ/Xb42gna/5XUPPg18Dz5a75c/1ZxdPh5huj/UQlY/k74PP9OhVr/GOBfASTdJPiUHWT9Yx4u/txWVv5s2dL+CkqC+H1aVPxwXBz7xYpS/4dapPYC3KL8A1Tw+/UdLPnS0k7+M9ae/Tpk5QOcaiz5Ugzu/x4APvrOx5L7RKWi/phu9voUg6D4ifKg+Oyf4P0BVvr4wiQ7A3ImtP18UAT8IaqQ/Xs4SPp+Zjj9AaQS+tH5DPo0Usr4jBAG/zKWMvtrvDb2NP2e9mJRyveVACD83xTU+N//+v0zGSj8KapU/wtnrvjGGCsBqoMI/7AhdP21YhD/j1wK/UV4GwBA1Nr8ixsE/F+m2v7S2tj4aeo2+tfraPoMRxT+gS6i+OekZQFmNDcBB+r2+jbB+P7aTbD8FSwY/p1kPQG7i4b4vW6O+zgeVPxZNb79NWoW+kzahvun20T/OG/g9HRInQBcZtL4L4JQ+HnyCvgvt9L8v98s//vSIPy3R8z2MwpU/MjimP1wpMj5vWRW/UU1iPhGHBMD0Gum/grVTvgP627yU0AfAhctMP/FxIb/HgAY/gkoiPdLtkb9vc3I+qia/vjC1CL5KyqI/rmzFPjaLsb8oQiq/sA2Jv792oz8kVYu+52pCP+z9hz8psJc+/AiCPwY6eb8aYoS/y4Siv8hvT7/84uo+Aq1LP45TN79Bwaw+kY5uP9Nelj3xOai/YlOwPQa9bj4Zify8ZLUJv7iSRz8NJji/EVeKvcagJj0BWChAR8PVv45szL/GTdq8qzxcvp+OpD3KqFw+/2K9vSE+GsCYr5q/XvRIv3aQlr8ig0Q//gKfv4+p7T8V4TA+JPM5P+/+t7/5WY89riKNPiKvE75dRg5AsMN/v7cedD8MLjg+PG+ev3kFwr7C1xpAxFdyPzmSv78QLJa+il3dvkPHQL9K1Fw/8gOHvgneO76Lole/y4ilvwDpcT83VCs99kK0vyfcW79F8Ws/aM6SvmD9Xb9WdT8/UataP3zUYr/Spgg/hwVbv8ZsIj86JrM9pX/cv4Ci3D/vxac/spbevYdnrLyo6jU+BEgWP5gliL7CsMG9aRMwP1mcxT+ABWU/DDWnvxRUMUD10gZA7Lpdv791QD66XRy/YvqIPxD4iD/QB/6+Z1ogv/JI5r4UoCA/v9CKPr+SNMA2bOg9Q3h7vn4/mD39Xem+CEnRPtJVir9yX4C/HIqTvz/LT7+xLJy+R1zhvp5Yub8zDQ9A4yOlPln5PD9R5/K/i6yBv2K7U797O/0+2IZrvxLGZD3ksHY/NJFtvr32iz5cDYW/PB1LPvkCjT5uW9K+ZiaAvlU8n76HZ+6/KBdCPuuLRr8VyE2/ffCQP5b7ab+cmB49DXhovYX4q77NxBO/jOI/vwe0Kj/qats+uLh8vvDMB7+va8Y927XkPSj3Ab8MruC/8x3KPQK5jL94FRU/gDDWP+mhIj8/spa/wZwGPphAIr6gNUK/OE7yP+mfyb2RijE+ocKMvCL/0L89muS9hdzMv4YS+L6B4Nq/7nb+vqVFUb7wo+4+eSTYP5y+DT++mJi/ot30vt7bvr/9JzRAY1EXP+DBrD5HMgQ/esAsv7cWB7/3qB6/O/C+vyb4P7+/6Q1AlL7uv1iwAr+o+kQ8BeOwP8Nrgr+0dgo/iF7TvsNFYL9/pwi/fic7P6lCl7/nFTQ/UNoqv/f4rj9hGao/z1bfPn7jXD8ldkS/iMqdvyTdPz7PHMO//4RwvcTEBz+XzLY/qbtHv/BOM79huCY+SyUIwNrnCT/gx20/stI3P0ftrD/hFJo/r+cQvzf6Pb5gS7A+DeXSvszvXD7Hur4+Gk4OvzCPPr4Xg2O/ORWwPMXTRT/BdrW/nhnnPwNAyL0Vw0a/9uAfv52Cyr0kIr0/WnumPSeY4T5O/7Y/4hv1PCIaR76sDxe/nxaavr2kar8XV6O/O6uGPMN0W7+P+Fg/Mc9JPCB6qD54eyy+T5Q7P5VRJ74CmFc9guefPmqzfb3KFRQ/n24Ov6F/3r5nofS+rlNLvklOFb+GKgNA3fszP9o4nz8515U/DBDJv2PgnT/xk8u/Jl4svptpkL92UFA+XmgRPidqZ78ffAm+RUfSv84F6j4hgJW+MYkNv9H39b58zks/2qp2v7rAfr+Jejk+gQrlPjU8zb6OFhhAp/CsvfTBx76S/dQ93fYzP+UCH75vqta/d7SSPX7lhD8bGcq9UGwCv/otVL4W9oC/EVv6vhTWU7+VygW/9ZGpvwtKu74+2xS/EJZnP+/BQL1g1cS/xBXVPo18PT9CVQRAljlqv9qEfr+bm9W+qB2AP8G02b5doR2/GEixPNTXQz8SK7k8nNuKPMmzvD+Bp4W/Kw0EPjJStb/je1U/7XO1v/nauL2/ooq+smcAvguibb6ONae9kpq1v2K++r6RLn2/M2bAPb/zL771Scc+5nYBv2ipkL6zTDK/3VAdvxWgDz+uOm+/yeMXP544x783trW9gQUdvmn+ZD6Nkai+8wMwv2ii6L/eqL48hN5nvzp7Rr/FWb4/2yShvRv03r2SHi2/Y+R/vyLPxL7eWzU/nK8NPKfaCT6TWY2/MfG+vf01Gr28bZ6+0jjHvvCJV74RsKM+X5T3PXQbVL/no3C/W2hivtXRNb47v5C/kc7CvlWVgb6aUfW+E+QkP3CUib5xZ6u/HNV3v/E9T79UOne+GT8Jvh7kj78F4JK/DEfcvglHq77XUQy/yYYev1qz/b/q15S/Mf+Ev7uew783tvU+x0qRP1d6nj07wxS/pWGkvtd9zL7UsGY+ytpQv9IfYz/NbY6+7766PSsHgL/l3h4+e8evPhUFvr59YiS/Ycs2vz07Sj9hb0Q/MHR9v8efeL2YNqq/Br4UvmLuqb9Q9D+/7UAUv/XXXz942wC/26A/Pz6AEkAHqM0/JzKovsGfnD+gu6y/0phGv1vHKj95wWw+wMhCvmhnRL2JEvo/SMt/vLNGrD+fF5k+9yeWOqPChz7mpO49VC+1P33FH744lQw/LGvUv04ZFUAt/Ew+sIkhQDxzDL/Xg4i/OJ3/O1vTVb+kjHm+W26TPmEyJL/UAIs+beyDPrGvQr9t6hC/l94ov/Mw0z6YZCQ9MTwkPj1sA0CJnFO/tcrmPnOqY77NArg+Ds5jvWFadT+h96u9Gtj6PQ==\",\"dtype\":\"float32\",\"shape\":[1000]}},\"selected\":{\"id\":\"1050\",\"type\":\"Selection\"},\"selection_policy\":{\"id\":\"1051\",\"type\":\"UnionRenderers\"}},\"id\":\"1002\",\"type\":\"ColumnDataSource\"},{\"attributes\":{},\"id\":\"1026\",\"type\":\"ResetTool\"},{\"attributes\":{\"overlay\":{\"id\":\"1030\",\"type\":\"BoxAnnotation\"}},\"id\":\"1024\",\"type\":\"BoxZoomTool\"},{\"attributes\":{\"plot\":{\"id\":\"1003\",\"subtype\":\"Figure\",\"type\":\"Plot\"},\"ticker\":{\"id\":\"1013\",\"type\":\"BasicTicker\"}},\"id\":\"1016\",\"type\":\"Grid\"},{\"attributes\":{},\"id\":\"1025\",\"type\":\"SaveTool\"}],\"root_ids\":[\"1003\"]},\"title\":\"Bokeh Application\",\"version\":\"1.0.2\"}};\n",
       "  var render_items = [{\"docid\":\"8e0d954f-8827-467e-a6b8-a5a8c3904c22\",\"roots\":{\"1003\":\"239d8524-bd28-41b4-8b03-26dbc6471a31\"}}];\n",
       "  root.Bokeh.embed.embed_items_notebook(docs_json, render_items);\n",
       "\n",
       "  }\n",
       "  if (root.Bokeh !== undefined) {\n",
       "    embed_document(root);\n",
       "  } else {\n",
       "    var attempts = 0;\n",
       "    var timer = setInterval(function(root) {\n",
       "      if (root.Bokeh !== undefined) {\n",
       "        embed_document(root);\n",
       "        clearInterval(timer);\n",
       "      }\n",
       "      attempts++;\n",
       "      if (attempts > 100) {\n",
       "        console.log(\"Bokeh: ERROR: Unable to run BokehJS code because BokehJS library is missing\");\n",
       "        clearInterval(timer);\n",
       "      }\n",
       "    }, 10, root)\n",
       "  }\n",
       "})(window);"
      ],
      "application/vnd.bokehjs_exec.v0+json": ""
     },
     "metadata": {
      "application/vnd.bokehjs_exec.v0+json": {
       "id": "1003"
      }
     },
     "output_type": "display_data"
    },
    {
     "data": {
      "text/html": [
       "<div style=\"display: table;\"><div style=\"display: table-row;\"><div style=\"display: table-cell;\"><b title=\"bokeh.plotting.figure.Figure\">Figure</b>(</div><div style=\"display: table-cell;\">id&nbsp;=&nbsp;'1003', <span id=\"1108\" style=\"cursor: pointer;\">&hellip;)</span></div></div><div class=\"1107\" style=\"display: none;\"><div style=\"display: table-cell;\"></div><div style=\"display: table-cell;\">above&nbsp;=&nbsp;[],</div></div><div class=\"1107\" style=\"display: none;\"><div style=\"display: table-cell;\"></div><div style=\"display: table-cell;\">aspect_scale&nbsp;=&nbsp;1,</div></div><div class=\"1107\" style=\"display: none;\"><div style=\"display: table-cell;\"></div><div style=\"display: table-cell;\">background_fill_alpha&nbsp;=&nbsp;{'value': 1.0},</div></div><div class=\"1107\" style=\"display: none;\"><div style=\"display: table-cell;\"></div><div style=\"display: table-cell;\">background_fill_color&nbsp;=&nbsp;{'value': '#ffffff'},</div></div><div class=\"1107\" style=\"display: none;\"><div style=\"display: table-cell;\"></div><div style=\"display: table-cell;\">below&nbsp;=&nbsp;[LinearAxis(id='1012', ...)],</div></div><div class=\"1107\" style=\"display: none;\"><div style=\"display: table-cell;\"></div><div style=\"display: table-cell;\">border_fill_alpha&nbsp;=&nbsp;{'value': 1.0},</div></div><div class=\"1107\" style=\"display: none;\"><div style=\"display: table-cell;\"></div><div style=\"display: table-cell;\">border_fill_color&nbsp;=&nbsp;{'value': '#ffffff'},</div></div><div class=\"1107\" style=\"display: none;\"><div style=\"display: table-cell;\"></div><div style=\"display: table-cell;\">css_classes&nbsp;=&nbsp;[],</div></div><div class=\"1107\" style=\"display: none;\"><div style=\"display: table-cell;\"></div><div style=\"display: table-cell;\">disabled&nbsp;=&nbsp;False,</div></div><div class=\"1107\" style=\"display: none;\"><div style=\"display: table-cell;\"></div><div style=\"display: table-cell;\">extra_x_ranges&nbsp;=&nbsp;{},</div></div><div class=\"1107\" style=\"display: none;\"><div style=\"display: table-cell;\"></div><div style=\"display: table-cell;\">extra_y_ranges&nbsp;=&nbsp;{},</div></div><div class=\"1107\" style=\"display: none;\"><div style=\"display: table-cell;\"></div><div style=\"display: table-cell;\">h_symmetry&nbsp;=&nbsp;True,</div></div><div class=\"1107\" style=\"display: none;\"><div style=\"display: table-cell;\"></div><div style=\"display: table-cell;\">height&nbsp;=&nbsp;None,</div></div><div class=\"1107\" style=\"display: none;\"><div style=\"display: table-cell;\"></div><div style=\"display: table-cell;\">hidpi&nbsp;=&nbsp;True,</div></div><div class=\"1107\" style=\"display: none;\"><div style=\"display: table-cell;\"></div><div style=\"display: table-cell;\">js_event_callbacks&nbsp;=&nbsp;{},</div></div><div class=\"1107\" style=\"display: none;\"><div style=\"display: table-cell;\"></div><div style=\"display: table-cell;\">js_property_callbacks&nbsp;=&nbsp;{},</div></div><div class=\"1107\" style=\"display: none;\"><div style=\"display: table-cell;\"></div><div style=\"display: table-cell;\">left&nbsp;=&nbsp;[LinearAxis(id='1017', ...)],</div></div><div class=\"1107\" style=\"display: none;\"><div style=\"display: table-cell;\"></div><div style=\"display: table-cell;\">lod_factor&nbsp;=&nbsp;10,</div></div><div class=\"1107\" style=\"display: none;\"><div style=\"display: table-cell;\"></div><div style=\"display: table-cell;\">lod_interval&nbsp;=&nbsp;300,</div></div><div class=\"1107\" style=\"display: none;\"><div style=\"display: table-cell;\"></div><div style=\"display: table-cell;\">lod_threshold&nbsp;=&nbsp;2000,</div></div><div class=\"1107\" style=\"display: none;\"><div style=\"display: table-cell;\"></div><div style=\"display: table-cell;\">lod_timeout&nbsp;=&nbsp;500,</div></div><div class=\"1107\" style=\"display: none;\"><div style=\"display: table-cell;\"></div><div style=\"display: table-cell;\">match_aspect&nbsp;=&nbsp;False,</div></div><div class=\"1107\" style=\"display: none;\"><div style=\"display: table-cell;\"></div><div style=\"display: table-cell;\">min_border&nbsp;=&nbsp;5,</div></div><div class=\"1107\" style=\"display: none;\"><div style=\"display: table-cell;\"></div><div style=\"display: table-cell;\">min_border_bottom&nbsp;=&nbsp;None,</div></div><div class=\"1107\" style=\"display: none;\"><div style=\"display: table-cell;\"></div><div style=\"display: table-cell;\">min_border_left&nbsp;=&nbsp;None,</div></div><div class=\"1107\" style=\"display: none;\"><div style=\"display: table-cell;\"></div><div style=\"display: table-cell;\">min_border_right&nbsp;=&nbsp;None,</div></div><div class=\"1107\" style=\"display: none;\"><div style=\"display: table-cell;\"></div><div style=\"display: table-cell;\">min_border_top&nbsp;=&nbsp;None,</div></div><div class=\"1107\" style=\"display: none;\"><div style=\"display: table-cell;\"></div><div style=\"display: table-cell;\">name&nbsp;=&nbsp;None,</div></div><div class=\"1107\" style=\"display: none;\"><div style=\"display: table-cell;\"></div><div style=\"display: table-cell;\">outline_line_alpha&nbsp;=&nbsp;{'value': 1.0},</div></div><div class=\"1107\" style=\"display: none;\"><div style=\"display: table-cell;\"></div><div style=\"display: table-cell;\">outline_line_cap&nbsp;=&nbsp;'butt',</div></div><div class=\"1107\" style=\"display: none;\"><div style=\"display: table-cell;\"></div><div style=\"display: table-cell;\">outline_line_color&nbsp;=&nbsp;{'value': '#e5e5e5'},</div></div><div class=\"1107\" style=\"display: none;\"><div style=\"display: table-cell;\"></div><div style=\"display: table-cell;\">outline_line_dash&nbsp;=&nbsp;[],</div></div><div class=\"1107\" style=\"display: none;\"><div style=\"display: table-cell;\"></div><div style=\"display: table-cell;\">outline_line_dash_offset&nbsp;=&nbsp;0,</div></div><div class=\"1107\" style=\"display: none;\"><div style=\"display: table-cell;\"></div><div style=\"display: table-cell;\">outline_line_join&nbsp;=&nbsp;'bevel',</div></div><div class=\"1107\" style=\"display: none;\"><div style=\"display: table-cell;\"></div><div style=\"display: table-cell;\">outline_line_width&nbsp;=&nbsp;{'value': 1},</div></div><div class=\"1107\" style=\"display: none;\"><div style=\"display: table-cell;\"></div><div style=\"display: table-cell;\">output_backend&nbsp;=&nbsp;'canvas',</div></div><div class=\"1107\" style=\"display: none;\"><div style=\"display: table-cell;\"></div><div style=\"display: table-cell;\">plot_height&nbsp;=&nbsp;400,</div></div><div class=\"1107\" style=\"display: none;\"><div style=\"display: table-cell;\"></div><div style=\"display: table-cell;\">plot_width&nbsp;=&nbsp;600,</div></div><div class=\"1107\" style=\"display: none;\"><div style=\"display: table-cell;\"></div><div style=\"display: table-cell;\">renderers&nbsp;=&nbsp;[LinearAxis(id='1012', ...), Grid(id='1016', ...), LinearAxis(id='1017', ...), Grid(id='1021', ...), BoxAnnotation(id='1030', ...), GlyphRenderer(id='1040', ...)],</div></div><div class=\"1107\" style=\"display: none;\"><div style=\"display: table-cell;\"></div><div style=\"display: table-cell;\">right&nbsp;=&nbsp;[],</div></div><div class=\"1107\" style=\"display: none;\"><div style=\"display: table-cell;\"></div><div style=\"display: table-cell;\">sizing_mode&nbsp;=&nbsp;'fixed',</div></div><div class=\"1107\" style=\"display: none;\"><div style=\"display: table-cell;\"></div><div style=\"display: table-cell;\">subscribed_events&nbsp;=&nbsp;[],</div></div><div class=\"1107\" style=\"display: none;\"><div style=\"display: table-cell;\"></div><div style=\"display: table-cell;\">tags&nbsp;=&nbsp;[],</div></div><div class=\"1107\" style=\"display: none;\"><div style=\"display: table-cell;\"></div><div style=\"display: table-cell;\">title&nbsp;=&nbsp;Title(id='1045', ...),</div></div><div class=\"1107\" style=\"display: none;\"><div style=\"display: table-cell;\"></div><div style=\"display: table-cell;\">title_location&nbsp;=&nbsp;'above',</div></div><div class=\"1107\" style=\"display: none;\"><div style=\"display: table-cell;\"></div><div style=\"display: table-cell;\">toolbar&nbsp;=&nbsp;Toolbar(id='1028', ...),</div></div><div class=\"1107\" style=\"display: none;\"><div style=\"display: table-cell;\"></div><div style=\"display: table-cell;\">toolbar_location&nbsp;=&nbsp;'right',</div></div><div class=\"1107\" style=\"display: none;\"><div style=\"display: table-cell;\"></div><div style=\"display: table-cell;\">toolbar_sticky&nbsp;=&nbsp;True,</div></div><div class=\"1107\" style=\"display: none;\"><div style=\"display: table-cell;\"></div><div style=\"display: table-cell;\">v_symmetry&nbsp;=&nbsp;False,</div></div><div class=\"1107\" style=\"display: none;\"><div style=\"display: table-cell;\"></div><div style=\"display: table-cell;\">width&nbsp;=&nbsp;None,</div></div><div class=\"1107\" style=\"display: none;\"><div style=\"display: table-cell;\"></div><div style=\"display: table-cell;\">x_range&nbsp;=&nbsp;DataRange1d(id='1004', ...),</div></div><div class=\"1107\" style=\"display: none;\"><div style=\"display: table-cell;\"></div><div style=\"display: table-cell;\">x_scale&nbsp;=&nbsp;LinearScale(id='1008', ...),</div></div><div class=\"1107\" style=\"display: none;\"><div style=\"display: table-cell;\"></div><div style=\"display: table-cell;\">y_range&nbsp;=&nbsp;DataRange1d(id='1006', ...),</div></div><div class=\"1107\" style=\"display: none;\"><div style=\"display: table-cell;\"></div><div style=\"display: table-cell;\">y_scale&nbsp;=&nbsp;LinearScale(id='1010', ...))</div></div></div>\n",
       "<script>\n",
       "(function() {\n",
       "  var expanded = false;\n",
       "  var ellipsis = document.getElementById(\"1108\");\n",
       "  ellipsis.addEventListener(\"click\", function() {\n",
       "    var rows = document.getElementsByClassName(\"1107\");\n",
       "    for (var i = 0; i < rows.length; i++) {\n",
       "      var el = rows[i];\n",
       "      el.style.display = expanded ? \"none\" : \"table-row\";\n",
       "    }\n",
       "    ellipsis.innerHTML = expanded ? \"&hellip;)\" : \"&lsaquo;&lsaquo;&lsaquo;\";\n",
       "    expanded = !expanded;\n",
       "  });\n",
       "})();\n",
       "</script>\n"
      ],
      "text/plain": [
       "Figure(id='1003', ...)"
      ]
     },
     "execution_count": 18,
     "metadata": {},
     "output_type": "execute_result"
    }
   ],
   "source": [
    "draw_vectors(word_vectors_pca[:, 0], word_vectors_pca[:, 1], token=words)"
   ]
  },
  {
   "cell_type": "markdown",
   "metadata": {
    "colab_type": "text",
    "id": "VOIU8uXnSItf"
   },
   "source": [
    "### TSNE\n",
    "\n",
    "Более интересный и сложный (нелинейный) метод для визуализации высокоразмерных пространств - TSNE. Подробно посмотреть на него можно [здесь](https://distill.pub/2016/misread-tsne/) (ещё более красивые картинки!).\n",
    "\n",
    "**Задание** Как и с PCA - воспользуйтесь TSNE из sklearn и нормируйте + центрируйте результат."
   ]
  },
  {
   "cell_type": "code",
   "execution_count": 19,
   "metadata": {
    "colab": {},
    "colab_type": "code",
    "id": "F-nlN4_aDF9G"
   },
   "outputs": [],
   "source": [
    "from sklearn.manifold import TSNE\n",
    "\n",
    "def get_tsne_projection(word_vectors):\n",
    "    tsne = TSNE(n_components=2)\n",
    "    word_vectors = tsne.fit_transform(word_vectors)\n",
    "    sc = StandardScaler()\n",
    "    word_vectors = sc.fit_transform(word_vectors)\n",
    "    return word_vectors"
   ]
  },
  {
   "cell_type": "code",
   "execution_count": 20,
   "metadata": {
    "colab": {},
    "colab_type": "code",
    "id": "D_YFR_rYDK2n"
   },
   "outputs": [
    {
     "data": {
      "text/html": [
       "\n",
       "    <div class=\"bk-root\">\n",
       "        <a href=\"https://bokeh.pydata.org\" target=\"_blank\" class=\"bk-logo bk-logo-small bk-logo-notebook\"></a>\n",
       "        <span id=\"1111\">Loading BokehJS ...</span>\n",
       "    </div>"
      ]
     },
     "metadata": {},
     "output_type": "display_data"
    },
    {
     "data": {
      "application/javascript": [
       "\n",
       "(function(root) {\n",
       "  function now() {\n",
       "    return new Date();\n",
       "  }\n",
       "\n",
       "  var force = true;\n",
       "\n",
       "  if (typeof (root._bokeh_onload_callbacks) === \"undefined\" || force === true) {\n",
       "    root._bokeh_onload_callbacks = [];\n",
       "    root._bokeh_is_loading = undefined;\n",
       "  }\n",
       "\n",
       "  var JS_MIME_TYPE = 'application/javascript';\n",
       "  var HTML_MIME_TYPE = 'text/html';\n",
       "  var EXEC_MIME_TYPE = 'application/vnd.bokehjs_exec.v0+json';\n",
       "  var CLASS_NAME = 'output_bokeh rendered_html';\n",
       "\n",
       "  /**\n",
       "   * Render data to the DOM node\n",
       "   */\n",
       "  function render(props, node) {\n",
       "    var script = document.createElement(\"script\");\n",
       "    node.appendChild(script);\n",
       "  }\n",
       "\n",
       "  /**\n",
       "   * Handle when an output is cleared or removed\n",
       "   */\n",
       "  function handleClearOutput(event, handle) {\n",
       "    var cell = handle.cell;\n",
       "\n",
       "    var id = cell.output_area._bokeh_element_id;\n",
       "    var server_id = cell.output_area._bokeh_server_id;\n",
       "    // Clean up Bokeh references\n",
       "    if (id != null && id in Bokeh.index) {\n",
       "      Bokeh.index[id].model.document.clear();\n",
       "      delete Bokeh.index[id];\n",
       "    }\n",
       "\n",
       "    if (server_id !== undefined) {\n",
       "      // Clean up Bokeh references\n",
       "      var cmd = \"from bokeh.io.state import curstate; print(curstate().uuid_to_server['\" + server_id + \"'].get_sessions()[0].document.roots[0]._id)\";\n",
       "      cell.notebook.kernel.execute(cmd, {\n",
       "        iopub: {\n",
       "          output: function(msg) {\n",
       "            var id = msg.content.text.trim();\n",
       "            if (id in Bokeh.index) {\n",
       "              Bokeh.index[id].model.document.clear();\n",
       "              delete Bokeh.index[id];\n",
       "            }\n",
       "          }\n",
       "        }\n",
       "      });\n",
       "      // Destroy server and session\n",
       "      var cmd = \"import bokeh.io.notebook as ion; ion.destroy_server('\" + server_id + \"')\";\n",
       "      cell.notebook.kernel.execute(cmd);\n",
       "    }\n",
       "  }\n",
       "\n",
       "  /**\n",
       "   * Handle when a new output is added\n",
       "   */\n",
       "  function handleAddOutput(event, handle) {\n",
       "    var output_area = handle.output_area;\n",
       "    var output = handle.output;\n",
       "\n",
       "    // limit handleAddOutput to display_data with EXEC_MIME_TYPE content only\n",
       "    if ((output.output_type != \"display_data\") || (!output.data.hasOwnProperty(EXEC_MIME_TYPE))) {\n",
       "      return\n",
       "    }\n",
       "\n",
       "    var toinsert = output_area.element.find(\".\" + CLASS_NAME.split(' ')[0]);\n",
       "\n",
       "    if (output.metadata[EXEC_MIME_TYPE][\"id\"] !== undefined) {\n",
       "      toinsert[toinsert.length - 1].firstChild.textContent = output.data[JS_MIME_TYPE];\n",
       "      // store reference to embed id on output_area\n",
       "      output_area._bokeh_element_id = output.metadata[EXEC_MIME_TYPE][\"id\"];\n",
       "    }\n",
       "    if (output.metadata[EXEC_MIME_TYPE][\"server_id\"] !== undefined) {\n",
       "      var bk_div = document.createElement(\"div\");\n",
       "      bk_div.innerHTML = output.data[HTML_MIME_TYPE];\n",
       "      var script_attrs = bk_div.children[0].attributes;\n",
       "      for (var i = 0; i < script_attrs.length; i++) {\n",
       "        toinsert[toinsert.length - 1].firstChild.setAttribute(script_attrs[i].name, script_attrs[i].value);\n",
       "      }\n",
       "      // store reference to server id on output_area\n",
       "      output_area._bokeh_server_id = output.metadata[EXEC_MIME_TYPE][\"server_id\"];\n",
       "    }\n",
       "  }\n",
       "\n",
       "  function register_renderer(events, OutputArea) {\n",
       "\n",
       "    function append_mime(data, metadata, element) {\n",
       "      // create a DOM node to render to\n",
       "      var toinsert = this.create_output_subarea(\n",
       "        metadata,\n",
       "        CLASS_NAME,\n",
       "        EXEC_MIME_TYPE\n",
       "      );\n",
       "      this.keyboard_manager.register_events(toinsert);\n",
       "      // Render to node\n",
       "      var props = {data: data, metadata: metadata[EXEC_MIME_TYPE]};\n",
       "      render(props, toinsert[toinsert.length - 1]);\n",
       "      element.append(toinsert);\n",
       "      return toinsert\n",
       "    }\n",
       "\n",
       "    /* Handle when an output is cleared or removed */\n",
       "    events.on('clear_output.CodeCell', handleClearOutput);\n",
       "    events.on('delete.Cell', handleClearOutput);\n",
       "\n",
       "    /* Handle when a new output is added */\n",
       "    events.on('output_added.OutputArea', handleAddOutput);\n",
       "\n",
       "    /**\n",
       "     * Register the mime type and append_mime function with output_area\n",
       "     */\n",
       "    OutputArea.prototype.register_mime_type(EXEC_MIME_TYPE, append_mime, {\n",
       "      /* Is output safe? */\n",
       "      safe: true,\n",
       "      /* Index of renderer in `output_area.display_order` */\n",
       "      index: 0\n",
       "    });\n",
       "  }\n",
       "\n",
       "  // register the mime type if in Jupyter Notebook environment and previously unregistered\n",
       "  if (root.Jupyter !== undefined) {\n",
       "    var events = require('base/js/events');\n",
       "    var OutputArea = require('notebook/js/outputarea').OutputArea;\n",
       "\n",
       "    if (OutputArea.prototype.mime_types().indexOf(EXEC_MIME_TYPE) == -1) {\n",
       "      register_renderer(events, OutputArea);\n",
       "    }\n",
       "  }\n",
       "\n",
       "  \n",
       "  if (typeof (root._bokeh_timeout) === \"undefined\" || force === true) {\n",
       "    root._bokeh_timeout = Date.now() + 5000;\n",
       "    root._bokeh_failed_load = false;\n",
       "  }\n",
       "\n",
       "  var NB_LOAD_WARNING = {'data': {'text/html':\n",
       "     \"<div style='background-color: #fdd'>\\n\"+\n",
       "     \"<p>\\n\"+\n",
       "     \"BokehJS does not appear to have successfully loaded. If loading BokehJS from CDN, this \\n\"+\n",
       "     \"may be due to a slow or bad network connection. Possible fixes:\\n\"+\n",
       "     \"</p>\\n\"+\n",
       "     \"<ul>\\n\"+\n",
       "     \"<li>re-rerun `output_notebook()` to attempt to load from CDN again, or</li>\\n\"+\n",
       "     \"<li>use INLINE resources instead, as so:</li>\\n\"+\n",
       "     \"</ul>\\n\"+\n",
       "     \"<code>\\n\"+\n",
       "     \"from bokeh.resources import INLINE\\n\"+\n",
       "     \"output_notebook(resources=INLINE)\\n\"+\n",
       "     \"</code>\\n\"+\n",
       "     \"</div>\"}};\n",
       "\n",
       "  function display_loaded() {\n",
       "    var el = document.getElementById(\"1111\");\n",
       "    if (el != null) {\n",
       "      el.textContent = \"BokehJS is loading...\";\n",
       "    }\n",
       "    if (root.Bokeh !== undefined) {\n",
       "      if (el != null) {\n",
       "        el.textContent = \"BokehJS \" + root.Bokeh.version + \" successfully loaded.\";\n",
       "      }\n",
       "    } else if (Date.now() < root._bokeh_timeout) {\n",
       "      setTimeout(display_loaded, 100)\n",
       "    }\n",
       "  }\n",
       "\n",
       "\n",
       "  function run_callbacks() {\n",
       "    try {\n",
       "      root._bokeh_onload_callbacks.forEach(function(callback) { callback() });\n",
       "    }\n",
       "    finally {\n",
       "      delete root._bokeh_onload_callbacks\n",
       "    }\n",
       "    console.info(\"Bokeh: all callbacks have finished\");\n",
       "  }\n",
       "\n",
       "  function load_libs(js_urls, callback) {\n",
       "    root._bokeh_onload_callbacks.push(callback);\n",
       "    if (root._bokeh_is_loading > 0) {\n",
       "      console.log(\"Bokeh: BokehJS is being loaded, scheduling callback at\", now());\n",
       "      return null;\n",
       "    }\n",
       "    if (js_urls == null || js_urls.length === 0) {\n",
       "      run_callbacks();\n",
       "      return null;\n",
       "    }\n",
       "    console.log(\"Bokeh: BokehJS not loaded, scheduling load and callback at\", now());\n",
       "    root._bokeh_is_loading = js_urls.length;\n",
       "    for (var i = 0; i < js_urls.length; i++) {\n",
       "      var url = js_urls[i];\n",
       "      var s = document.createElement('script');\n",
       "      s.src = url;\n",
       "      s.async = false;\n",
       "      s.onreadystatechange = s.onload = function() {\n",
       "        root._bokeh_is_loading--;\n",
       "        if (root._bokeh_is_loading === 0) {\n",
       "          console.log(\"Bokeh: all BokehJS libraries loaded\");\n",
       "          run_callbacks()\n",
       "        }\n",
       "      };\n",
       "      s.onerror = function() {\n",
       "        console.warn(\"failed to load library \" + url);\n",
       "      };\n",
       "      console.log(\"Bokeh: injecting script tag for BokehJS library: \", url);\n",
       "      document.getElementsByTagName(\"head\")[0].appendChild(s);\n",
       "    }\n",
       "  };var element = document.getElementById(\"1111\");\n",
       "  if (element == null) {\n",
       "    console.log(\"Bokeh: ERROR: autoload.js configured with elementid '1111' but no matching script tag was found. \")\n",
       "    return false;\n",
       "  }\n",
       "\n",
       "  var js_urls = [\"https://cdn.pydata.org/bokeh/release/bokeh-1.0.2.min.js\", \"https://cdn.pydata.org/bokeh/release/bokeh-widgets-1.0.2.min.js\", \"https://cdn.pydata.org/bokeh/release/bokeh-tables-1.0.2.min.js\", \"https://cdn.pydata.org/bokeh/release/bokeh-gl-1.0.2.min.js\"];\n",
       "\n",
       "  var inline_js = [\n",
       "    function(Bokeh) {\n",
       "      Bokeh.set_log_level(\"info\");\n",
       "    },\n",
       "    \n",
       "    function(Bokeh) {\n",
       "      \n",
       "    },\n",
       "    function(Bokeh) {\n",
       "      console.log(\"Bokeh: injecting CSS: https://cdn.pydata.org/bokeh/release/bokeh-1.0.2.min.css\");\n",
       "      Bokeh.embed.inject_css(\"https://cdn.pydata.org/bokeh/release/bokeh-1.0.2.min.css\");\n",
       "      console.log(\"Bokeh: injecting CSS: https://cdn.pydata.org/bokeh/release/bokeh-widgets-1.0.2.min.css\");\n",
       "      Bokeh.embed.inject_css(\"https://cdn.pydata.org/bokeh/release/bokeh-widgets-1.0.2.min.css\");\n",
       "      console.log(\"Bokeh: injecting CSS: https://cdn.pydata.org/bokeh/release/bokeh-tables-1.0.2.min.css\");\n",
       "      Bokeh.embed.inject_css(\"https://cdn.pydata.org/bokeh/release/bokeh-tables-1.0.2.min.css\");\n",
       "    }\n",
       "  ];\n",
       "\n",
       "  function run_inline_js() {\n",
       "    \n",
       "    if ((root.Bokeh !== undefined) || (force === true)) {\n",
       "      for (var i = 0; i < inline_js.length; i++) {\n",
       "        inline_js[i].call(root, root.Bokeh);\n",
       "      }if (force === true) {\n",
       "        display_loaded();\n",
       "      }} else if (Date.now() < root._bokeh_timeout) {\n",
       "      setTimeout(run_inline_js, 100);\n",
       "    } else if (!root._bokeh_failed_load) {\n",
       "      console.log(\"Bokeh: BokehJS failed to load within specified timeout.\");\n",
       "      root._bokeh_failed_load = true;\n",
       "    } else if (force !== true) {\n",
       "      var cell = $(document.getElementById(\"1111\")).parents('.cell').data().cell;\n",
       "      cell.output_area.append_execute_result(NB_LOAD_WARNING)\n",
       "    }\n",
       "\n",
       "  }\n",
       "\n",
       "  if (root._bokeh_is_loading === 0) {\n",
       "    console.log(\"Bokeh: BokehJS loaded, going straight to plotting\");\n",
       "    run_inline_js();\n",
       "  } else {\n",
       "    load_libs(js_urls, function() {\n",
       "      console.log(\"Bokeh: BokehJS plotting callback run at\", now());\n",
       "      run_inline_js();\n",
       "    });\n",
       "  }\n",
       "}(window));"
      ],
      "application/vnd.bokehjs_load.v0+json": "\n(function(root) {\n  function now() {\n    return new Date();\n  }\n\n  var force = true;\n\n  if (typeof (root._bokeh_onload_callbacks) === \"undefined\" || force === true) {\n    root._bokeh_onload_callbacks = [];\n    root._bokeh_is_loading = undefined;\n  }\n\n  \n\n  \n  if (typeof (root._bokeh_timeout) === \"undefined\" || force === true) {\n    root._bokeh_timeout = Date.now() + 5000;\n    root._bokeh_failed_load = false;\n  }\n\n  var NB_LOAD_WARNING = {'data': {'text/html':\n     \"<div style='background-color: #fdd'>\\n\"+\n     \"<p>\\n\"+\n     \"BokehJS does not appear to have successfully loaded. If loading BokehJS from CDN, this \\n\"+\n     \"may be due to a slow or bad network connection. Possible fixes:\\n\"+\n     \"</p>\\n\"+\n     \"<ul>\\n\"+\n     \"<li>re-rerun `output_notebook()` to attempt to load from CDN again, or</li>\\n\"+\n     \"<li>use INLINE resources instead, as so:</li>\\n\"+\n     \"</ul>\\n\"+\n     \"<code>\\n\"+\n     \"from bokeh.resources import INLINE\\n\"+\n     \"output_notebook(resources=INLINE)\\n\"+\n     \"</code>\\n\"+\n     \"</div>\"}};\n\n  function display_loaded() {\n    var el = document.getElementById(\"1111\");\n    if (el != null) {\n      el.textContent = \"BokehJS is loading...\";\n    }\n    if (root.Bokeh !== undefined) {\n      if (el != null) {\n        el.textContent = \"BokehJS \" + root.Bokeh.version + \" successfully loaded.\";\n      }\n    } else if (Date.now() < root._bokeh_timeout) {\n      setTimeout(display_loaded, 100)\n    }\n  }\n\n\n  function run_callbacks() {\n    try {\n      root._bokeh_onload_callbacks.forEach(function(callback) { callback() });\n    }\n    finally {\n      delete root._bokeh_onload_callbacks\n    }\n    console.info(\"Bokeh: all callbacks have finished\");\n  }\n\n  function load_libs(js_urls, callback) {\n    root._bokeh_onload_callbacks.push(callback);\n    if (root._bokeh_is_loading > 0) {\n      console.log(\"Bokeh: BokehJS is being loaded, scheduling callback at\", now());\n      return null;\n    }\n    if (js_urls == null || js_urls.length === 0) {\n      run_callbacks();\n      return null;\n    }\n    console.log(\"Bokeh: BokehJS not loaded, scheduling load and callback at\", now());\n    root._bokeh_is_loading = js_urls.length;\n    for (var i = 0; i < js_urls.length; i++) {\n      var url = js_urls[i];\n      var s = document.createElement('script');\n      s.src = url;\n      s.async = false;\n      s.onreadystatechange = s.onload = function() {\n        root._bokeh_is_loading--;\n        if (root._bokeh_is_loading === 0) {\n          console.log(\"Bokeh: all BokehJS libraries loaded\");\n          run_callbacks()\n        }\n      };\n      s.onerror = function() {\n        console.warn(\"failed to load library \" + url);\n      };\n      console.log(\"Bokeh: injecting script tag for BokehJS library: \", url);\n      document.getElementsByTagName(\"head\")[0].appendChild(s);\n    }\n  };var element = document.getElementById(\"1111\");\n  if (element == null) {\n    console.log(\"Bokeh: ERROR: autoload.js configured with elementid '1111' but no matching script tag was found. \")\n    return false;\n  }\n\n  var js_urls = [\"https://cdn.pydata.org/bokeh/release/bokeh-1.0.2.min.js\", \"https://cdn.pydata.org/bokeh/release/bokeh-widgets-1.0.2.min.js\", \"https://cdn.pydata.org/bokeh/release/bokeh-tables-1.0.2.min.js\", \"https://cdn.pydata.org/bokeh/release/bokeh-gl-1.0.2.min.js\"];\n\n  var inline_js = [\n    function(Bokeh) {\n      Bokeh.set_log_level(\"info\");\n    },\n    \n    function(Bokeh) {\n      \n    },\n    function(Bokeh) {\n      console.log(\"Bokeh: injecting CSS: https://cdn.pydata.org/bokeh/release/bokeh-1.0.2.min.css\");\n      Bokeh.embed.inject_css(\"https://cdn.pydata.org/bokeh/release/bokeh-1.0.2.min.css\");\n      console.log(\"Bokeh: injecting CSS: https://cdn.pydata.org/bokeh/release/bokeh-widgets-1.0.2.min.css\");\n      Bokeh.embed.inject_css(\"https://cdn.pydata.org/bokeh/release/bokeh-widgets-1.0.2.min.css\");\n      console.log(\"Bokeh: injecting CSS: https://cdn.pydata.org/bokeh/release/bokeh-tables-1.0.2.min.css\");\n      Bokeh.embed.inject_css(\"https://cdn.pydata.org/bokeh/release/bokeh-tables-1.0.2.min.css\");\n    }\n  ];\n\n  function run_inline_js() {\n    \n    if ((root.Bokeh !== undefined) || (force === true)) {\n      for (var i = 0; i < inline_js.length; i++) {\n        inline_js[i].call(root, root.Bokeh);\n      }if (force === true) {\n        display_loaded();\n      }} else if (Date.now() < root._bokeh_timeout) {\n      setTimeout(run_inline_js, 100);\n    } else if (!root._bokeh_failed_load) {\n      console.log(\"Bokeh: BokehJS failed to load within specified timeout.\");\n      root._bokeh_failed_load = true;\n    } else if (force !== true) {\n      var cell = $(document.getElementById(\"1111\")).parents('.cell').data().cell;\n      cell.output_area.append_execute_result(NB_LOAD_WARNING)\n    }\n\n  }\n\n  if (root._bokeh_is_loading === 0) {\n    console.log(\"Bokeh: BokehJS loaded, going straight to plotting\");\n    run_inline_js();\n  } else {\n    load_libs(js_urls, function() {\n      console.log(\"Bokeh: BokehJS plotting callback run at\", now());\n      run_inline_js();\n    });\n  }\n}(window));"
     },
     "metadata": {},
     "output_type": "display_data"
    },
    {
     "data": {
      "text/html": [
       "\n",
       "\n",
       "\n",
       "\n",
       "\n",
       "\n",
       "  <div class=\"bk-root\" id=\"ba061735-9c43-4a5f-b0d1-7e4d677b34fb\"></div>\n"
      ]
     },
     "metadata": {},
     "output_type": "display_data"
    },
    {
     "data": {
      "application/javascript": [
       "(function(root) {\n",
       "  function embed_document(root) {\n",
       "    \n",
       "  var docs_json = {\"c20ba333-ea75-4e49-9228-6f0d7cfa20c7\":{\"roots\":{\"references\":[{\"attributes\":{\"below\":[{\"id\":\"1122\",\"type\":\"LinearAxis\"}],\"left\":[{\"id\":\"1127\",\"type\":\"LinearAxis\"}],\"plot_height\":400,\"renderers\":[{\"id\":\"1122\",\"type\":\"LinearAxis\"},{\"id\":\"1126\",\"type\":\"Grid\"},{\"id\":\"1127\",\"type\":\"LinearAxis\"},{\"id\":\"1131\",\"type\":\"Grid\"},{\"id\":\"1140\",\"type\":\"BoxAnnotation\"},{\"id\":\"1150\",\"type\":\"GlyphRenderer\"}],\"title\":{\"id\":\"1164\",\"type\":\"Title\"},\"toolbar\":{\"id\":\"1138\",\"type\":\"Toolbar\"},\"x_range\":{\"id\":\"1114\",\"type\":\"DataRange1d\"},\"x_scale\":{\"id\":\"1118\",\"type\":\"LinearScale\"},\"y_range\":{\"id\":\"1116\",\"type\":\"DataRange1d\"},\"y_scale\":{\"id\":\"1120\",\"type\":\"LinearScale\"}},\"id\":\"1113\",\"subtype\":\"Figure\",\"type\":\"Plot\"},{\"attributes\":{\"formatter\":{\"id\":\"1168\",\"type\":\"BasicTickFormatter\"},\"plot\":{\"id\":\"1113\",\"subtype\":\"Figure\",\"type\":\"Plot\"},\"ticker\":{\"id\":\"1128\",\"type\":\"BasicTicker\"}},\"id\":\"1127\",\"type\":\"LinearAxis\"},{\"attributes\":{\"formatter\":{\"id\":\"1166\",\"type\":\"BasicTickFormatter\"},\"plot\":{\"id\":\"1113\",\"subtype\":\"Figure\",\"type\":\"Plot\"},\"ticker\":{\"id\":\"1123\",\"type\":\"BasicTicker\"}},\"id\":\"1122\",\"type\":\"LinearAxis\"},{\"attributes\":{},\"id\":\"1133\",\"type\":\"WheelZoomTool\"},{\"attributes\":{\"overlay\":{\"id\":\"1140\",\"type\":\"BoxAnnotation\"}},\"id\":\"1134\",\"type\":\"BoxZoomTool\"},{\"attributes\":{},\"id\":\"1135\",\"type\":\"SaveTool\"},{\"attributes\":{},\"id\":\"1118\",\"type\":\"LinearScale\"},{\"attributes\":{\"callback\":null},\"id\":\"1114\",\"type\":\"DataRange1d\"},{\"attributes\":{},\"id\":\"1136\",\"type\":\"ResetTool\"},{\"attributes\":{},\"id\":\"1120\",\"type\":\"LinearScale\"},{\"attributes\":{\"callback\":null,\"data\":{\"color\":[\"green\",\"green\",\"green\",\"green\",\"green\",\"green\",\"green\",\"green\",\"green\",\"green\",\"green\",\"green\",\"green\",\"green\",\"green\",\"green\",\"green\",\"green\",\"green\",\"green\",\"green\",\"green\",\"green\",\"green\",\"green\",\"green\",\"green\",\"green\",\"green\",\"green\",\"green\",\"green\",\"green\",\"green\",\"green\",\"green\",\"green\",\"green\",\"green\",\"green\",\"green\",\"green\",\"green\",\"green\",\"green\",\"green\",\"green\",\"green\",\"green\",\"green\",\"green\",\"green\",\"green\",\"green\",\"green\",\"green\",\"green\",\"green\",\"green\",\"green\",\"green\",\"green\",\"green\",\"green\",\"green\",\"green\",\"green\",\"green\",\"green\",\"green\",\"green\",\"green\",\"green\",\"green\",\"green\",\"green\",\"green\",\"green\",\"green\",\"green\",\"green\",\"green\",\"green\",\"green\",\"green\",\"green\",\"green\",\"green\",\"green\",\"green\",\"green\",\"green\",\"green\",\"green\",\"green\",\"green\",\"green\",\"green\",\"green\",\"green\",\"green\",\"green\",\"green\",\"green\",\"green\",\"green\",\"green\",\"green\",\"green\",\"green\",\"green\",\"green\",\"green\",\"green\",\"green\",\"green\",\"green\",\"green\",\"green\",\"green\",\"green\",\"green\",\"green\",\"green\",\"green\",\"green\",\"green\",\"green\",\"green\",\"green\",\"green\",\"green\",\"green\",\"green\",\"green\",\"green\",\"green\",\"green\",\"green\",\"green\",\"green\",\"green\",\"green\",\"green\",\"green\",\"green\",\"green\",\"green\",\"green\",\"green\",\"green\",\"green\",\"green\",\"green\",\"green\",\"green\",\"green\",\"green\",\"green\",\"green\",\"green\",\"green\",\"green\",\"green\",\"green\",\"green\",\"green\",\"green\",\"green\",\"green\",\"green\",\"green\",\"green\",\"green\",\"green\",\"green\",\"green\",\"green\",\"green\",\"green\",\"green\",\"green\",\"green\",\"green\",\"green\",\"green\",\"green\",\"green\",\"green\",\"green\",\"green\",\"green\",\"green\",\"green\",\"green\",\"green\",\"green\",\"green\",\"green\",\"green\",\"green\",\"green\",\"green\",\"green\",\"green\",\"green\",\"green\",\"green\",\"green\",\"green\",\"green\",\"green\",\"green\",\"green\",\"green\",\"green\",\"green\",\"green\",\"green\",\"green\",\"green\",\"green\",\"green\",\"green\",\"green\",\"green\",\"green\",\"green\",\"green\",\"green\",\"green\",\"green\",\"green\",\"green\",\"green\",\"green\",\"green\",\"green\",\"green\",\"green\",\"green\",\"green\",\"green\",\"green\",\"green\",\"green\",\"green\",\"green\",\"green\",\"green\",\"green\",\"green\",\"green\",\"green\",\"green\",\"green\",\"green\",\"green\",\"green\",\"green\",\"green\",\"green\",\"green\",\"green\",\"green\",\"green\",\"green\",\"green\",\"green\",\"green\",\"green\",\"green\",\"green\",\"green\",\"green\",\"green\",\"green\",\"green\",\"green\",\"green\",\"green\",\"green\",\"green\",\"green\",\"green\",\"green\",\"green\",\"green\",\"green\",\"green\",\"green\",\"green\",\"green\",\"green\",\"green\",\"green\",\"green\",\"green\",\"green\",\"green\",\"green\",\"green\",\"green\",\"green\",\"green\",\"green\",\"green\",\"green\",\"green\",\"green\",\"green\",\"green\",\"green\",\"green\",\"green\",\"green\",\"green\",\"green\",\"green\",\"green\",\"green\",\"green\",\"green\",\"green\",\"green\",\"green\",\"green\",\"green\",\"green\",\"green\",\"green\",\"green\",\"green\",\"green\",\"green\",\"green\",\"green\",\"green\",\"green\",\"green\",\"green\",\"green\",\"green\",\"green\",\"green\",\"green\",\"green\",\"green\",\"green\",\"green\",\"green\",\"green\",\"green\",\"green\",\"green\",\"green\",\"green\",\"green\",\"green\",\"green\",\"green\",\"green\",\"green\",\"green\",\"green\",\"green\",\"green\",\"green\",\"green\",\"green\",\"green\",\"green\",\"green\",\"green\",\"green\",\"green\",\"green\",\"green\",\"green\",\"green\",\"green\",\"green\",\"green\",\"green\",\"green\",\"green\",\"green\",\"green\",\"green\",\"green\",\"green\",\"green\",\"green\",\"green\",\"green\",\"green\",\"green\",\"green\",\"green\",\"green\",\"green\",\"green\",\"green\",\"green\",\"green\",\"green\",\"green\",\"green\",\"green\",\"green\",\"green\",\"green\",\"green\",\"green\",\"green\",\"green\",\"green\",\"green\",\"green\",\"green\",\"green\",\"green\",\"green\",\"green\",\"green\",\"green\",\"green\",\"green\",\"green\",\"green\",\"green\",\"green\",\"green\",\"green\",\"green\",\"green\",\"green\",\"green\",\"green\",\"green\",\"green\",\"green\",\"green\",\"green\",\"green\",\"green\",\"green\",\"green\",\"green\",\"green\",\"green\",\"green\",\"green\",\"green\",\"green\",\"green\",\"green\",\"green\",\"green\",\"green\",\"green\",\"green\",\"green\",\"green\",\"green\",\"green\",\"green\",\"green\",\"green\",\"green\",\"green\",\"green\",\"green\",\"green\",\"green\",\"green\",\"green\",\"green\",\"green\",\"green\",\"green\",\"green\",\"green\",\"green\",\"green\",\"green\",\"green\",\"green\",\"green\",\"green\",\"green\",\"green\",\"green\",\"green\",\"green\",\"green\",\"green\",\"green\",\"green\",\"green\",\"green\",\"green\",\"green\",\"green\",\"green\",\"green\",\"green\",\"green\",\"green\",\"green\",\"green\",\"green\",\"green\",\"green\",\"green\",\"green\",\"green\",\"green\",\"green\",\"green\",\"green\",\"green\",\"green\",\"green\",\"green\",\"green\",\"green\",\"green\",\"green\",\"green\",\"green\",\"green\",\"green\",\"green\",\"green\",\"green\",\"green\",\"green\",\"green\",\"green\",\"green\",\"green\",\"green\",\"green\",\"green\",\"green\",\"green\",\"green\",\"green\",\"green\",\"green\",\"green\",\"green\",\"green\",\"green\",\"green\",\"green\",\"green\",\"green\",\"green\",\"green\",\"green\",\"green\",\"green\",\"green\",\"green\",\"green\",\"green\",\"green\",\"green\",\"green\",\"green\",\"green\",\"green\",\"green\",\"green\",\"green\",\"green\",\"green\",\"green\",\"green\",\"green\",\"green\",\"green\",\"green\",\"green\",\"green\",\"green\",\"green\",\"green\",\"green\",\"green\",\"green\",\"green\",\"green\",\"green\",\"green\",\"green\",\"green\",\"green\",\"green\",\"green\",\"green\",\"green\",\"green\",\"green\",\"green\",\"green\",\"green\",\"green\",\"green\",\"green\",\"green\",\"green\",\"green\",\"green\",\"green\",\"green\",\"green\",\"green\",\"green\",\"green\",\"green\",\"green\",\"green\",\"green\",\"green\",\"green\",\"green\",\"green\",\"green\",\"green\",\"green\",\"green\",\"green\",\"green\",\"green\",\"green\",\"green\",\"green\",\"green\",\"green\",\"green\",\"green\",\"green\",\"green\",\"green\",\"green\",\"green\",\"green\",\"green\",\"green\",\"green\",\"green\",\"green\",\"green\",\"green\",\"green\",\"green\",\"green\",\"green\",\"green\",\"green\",\"green\",\"green\",\"green\",\"green\",\"green\",\"green\",\"green\",\"green\",\"green\",\"green\",\"green\",\"green\",\"green\",\"green\",\"green\",\"green\",\"green\",\"green\",\"green\",\"green\",\"green\",\"green\",\"green\",\"green\",\"green\",\"green\",\"green\",\"green\",\"green\",\"green\",\"green\",\"green\",\"green\",\"green\",\"green\",\"green\",\"green\",\"green\",\"green\",\"green\",\"green\",\"green\",\"green\",\"green\",\"green\",\"green\",\"green\",\"green\",\"green\",\"green\",\"green\",\"green\",\"green\",\"green\",\"green\",\"green\",\"green\",\"green\",\"green\",\"green\",\"green\",\"green\",\"green\",\"green\",\"green\",\"green\",\"green\",\"green\",\"green\",\"green\",\"green\",\"green\",\"green\",\"green\",\"green\",\"green\",\"green\",\"green\",\"green\",\"green\",\"green\",\"green\",\"green\",\"green\",\"green\",\"green\",\"green\",\"green\",\"green\",\"green\",\"green\",\"green\",\"green\",\"green\",\"green\",\"green\",\"green\",\"green\",\"green\",\"green\",\"green\",\"green\",\"green\",\"green\",\"green\",\"green\",\"green\",\"green\",\"green\",\"green\",\"green\",\"green\",\"green\",\"green\",\"green\",\"green\",\"green\",\"green\",\"green\",\"green\",\"green\",\"green\",\"green\",\"green\",\"green\",\"green\",\"green\",\"green\",\"green\",\"green\",\"green\",\"green\",\"green\",\"green\",\"green\",\"green\",\"green\",\"green\",\"green\",\"green\",\"green\",\"green\",\"green\",\"green\",\"green\",\"green\",\"green\",\"green\",\"green\",\"green\",\"green\",\"green\",\"green\",\"green\",\"green\",\"green\",\"green\",\"green\",\"green\",\"green\",\"green\",\"green\",\"green\",\"green\",\"green\",\"green\",\"green\",\"green\",\"green\",\"green\",\"green\",\"green\",\"green\",\"green\",\"green\",\"green\",\"green\",\"green\",\"green\",\"green\",\"green\",\"green\",\"green\",\"green\",\"green\",\"green\",\"green\",\"green\",\"green\",\"green\",\"green\",\"green\",\"green\",\"green\",\"green\",\"green\",\"green\",\"green\",\"green\",\"green\",\"green\",\"green\",\"green\",\"green\",\"green\",\"green\",\"green\",\"green\",\"green\",\"green\",\"green\",\"green\",\"green\",\"green\",\"green\",\"green\",\"green\",\"green\",\"green\",\"green\",\"green\",\"green\",\"green\",\"green\",\"green\",\"green\",\"green\",\"green\",\"green\",\"green\",\"green\",\"green\",\"green\",\"green\",\"green\",\"green\",\"green\",\"green\",\"green\",\"green\",\"green\",\"green\",\"green\",\"green\",\"green\",\"green\",\"green\",\"green\",\"green\",\"green\",\"green\",\"green\",\"green\",\"green\",\"green\",\"green\",\"green\",\"green\",\"green\",\"green\",\"green\",\"green\",\"green\",\"green\",\"green\",\"green\",\"green\",\"green\",\"green\",\"green\",\"green\",\"green\",\"green\",\"green\",\"green\",\"green\",\"green\",\"green\",\"green\",\"green\",\"green\",\"green\",\"green\",\"green\",\"green\",\"green\",\"green\",\"green\",\"green\",\"green\",\"green\",\"green\",\"green\",\"green\",\"green\",\"green\",\"green\",\"green\",\"green\",\"green\",\"green\",\"green\",\"green\",\"green\",\"green\",\"green\",\"green\",\"green\",\"green\",\"green\",\"green\",\"green\",\"green\",\"green\",\"green\",\"green\",\"green\",\"green\",\"green\",\"green\",\"green\",\"green\",\"green\",\"green\",\"green\",\"green\",\"green\",\"green\",\"green\",\"green\",\"green\",\"green\",\"green\",\"green\",\"green\",\"green\",\"green\"],\"token\":[\"?\",\"the\",\"what\",\"is\",\"a\",\"i\",\"to\",\"in\",\"how\",\"of\",\"do\",\"are\",\"and\",\"for\",\",\",\"can\",\"you\",\"why\",\"it\",\"my\",\"does\",\"best\",\"on\",\".\",\"or\",\"have\",\"if\",\"be\",\"with\",\"which\",\"that\",\"an\",\"some\",\"should\",\"'s\",\"get\",\"from\",\")\",\"your\",\"(\",\"like\",\"when\",\"at\",\"india\",\"good\",\"who\",\"there\",\"will\",\"as\",\"would\",\"people\",\"not\",\"n't\",\"about\",\"``\",\"''\",\"between\",\"one\",\"did\",\"any\",\"we\",\"me\",\"where\",\"most\",\"was\",\"by\",\"make\",\"so\",\"they\",\"this\",\"am\",\"after\",\"way\",\":\",\"has\",\"use\",\"much\",\"difference\",\"time\",\"life\",\"their\",\"know\",\"work\",\"many\",\"but\",\"than\",\"more\",\"all\",\"want\",\"quora\",\"someone\",\"learn\",\"find\",\"other\",\"think\",\"new\",\"better\",\"job\",\"indian\",\"out\",\"money\",\"mean\",\"become\",\"ever\",\"world\",\"without\",\"he\",\"start\",\"take\",\"us\",\"up\",\"first\",\"feel\",\"year\",\"into\",\"go\",\"online\",\"used\",\"engineering\",\"could\",\"love\",\"'m\",\"person\",\"were\",\"possible\",\"day\",\"buy\",\"things\",\"being\",\"need\",\"business\",\"using\",\"them\",\"really\",\"trump\",\"girl\",\"'\",\"her\",\"his\",\"years\",\"different\",\"long\",\"phone\",\"google\",\"company\",\"been\",\"old\",\"only\",\"no\",\"now\",\"just\",\"2\",\"app\",\"college\",\"facebook\",\"number\",\"free\",\"books\",\"2016\",\"movie\",\"still\",\"its\",\"account\",\"ca\",\"women\",\"book\",\"english\",\"while\",\"she\",\"had\",\"change\",\"ways\",\"computer\",\"thing\",\"examples\",\"data\",\"country\",\"over\",\"see\",\"android\",\"help\",\"science\",\"live\",\"school\",\"software\",\"before\",\"&\",\"language\",\"same\",\"going\",\"bad\",\"sex\",\"student\",\"stop\",\"university\",\"happen\",\"back\",\"made\",\"3\",\"1\",\"study\",\"our\",\"two\",\"through\",\"system\",\"name\",\"say\",\"real\",\"during\",\"prepare\",\"water\",\"iphone\",\"website\",\"top\",\"car\",\"questions\",\"important\",\"men\",\"give\",\"getting\",\"anyone\",\"companies\",\"high\",\"black\",\"card\",\"read\",\"programming\",\"war\",\"learning\",\"10\",\"5\",\"\\u2019\",\"exam\",\"[\",\"then\",\"]\",\"even\",\"movies\",\"china\",\"mobile\",\"cost\",\"donald\",\"right\",\"doing\",\"friend\",\"him\",\"working\",\"under\",\"come\",\"president\",\"own\",\"question\",\"career\",\"experience\",\"bank\",\"true\",\"friends\",\"guy\",\"word\",\"hair\",\"home\",\"video\",\"having\",\"look\",\"usa\",\"tell\",\"man\",\"social\",\"web\",\"interview\",\"very\",\"engineer\",\"write\",\"game\",\"government\",\"weight\",\"earth\",\"girls\",\"service\",\"food\",\"students\",\"play\",\"countries\",\"human\",\"place\",\"future\",\"improve\",\"off\",\"big\",\"days\",\"happens\",\"'ve\",\"done\",\"class\",\"eat\",\"tv\",\"process\",\"got\",\"state\",\"average\",\"s\",\"meaning\",\"relationship\",\"music\",\"too\",\"math\",\"create\",\"instagram\",\"every\",\"history\",\"last\",\"pay\",\"windows\",\"4\",\"white\",\"watch\",\"%\",\"salary\",\"body\",\"power\",\"safe\",\"clinton\",\"ask\",\"age\",\"laptop\",\"makes\",\"$\",\"each\",\"hard\",\"lose\",\"american\",\"delhi\",\"youtube\",\"energy\",\"worth\",\"earn\",\"states\",\"against\",\"win\",\"girlfriend\",\"great\",\"keep\",\"test\",\"god\",\"hillary\",\"compare\",\"market\",\"differences\",\"making\",\"considered\",\"something\",\"answer\",\"apply\",\"myself\",\"mba\",\"tips\",\"around\",\"never\",\"next\",\"always\",\"mechanical\",\"another\",\"united\",\"java\",\"increase\",\"c\",\"such\",\"course\",\"jobs\",\"download\",\"song\",\"parents\",\"kind\",\"internet\",\"common\",\"review\",\"woman\",\"code\",\"design\",\"per\",\"employees\",\"end\",\"development\",\"chinese\",\"series\",\"score\",\"interesting\",\"degree\",\"month\",\"travel\",\"show\",\"management\",\"months\",\"able\",\"believe\",\"open\",\"program\",\"living\",\"looking\",\"because\",\"6\",\"type\",\"bangalore\",\"light\",\"favorite\",\"america\",\"today\",\"actually\",\"major\",\"family\",\"marketing\",\"pakistan\",\"universities\",\"technology\",\"law\",\"call\",\"affect\",\"whatsapp\",\"idea\",\"{\",\"build\",\"}\",\"choose\",\"cat\",\"current\",\"support\",\"problem\",\"popular\",\"speed\",\"air\",\"rid\",\"deal\",\"visa\",\"join\",\"run\",\"games\",\"space\",\"down\",\"both\",\"well\",\"city\",\"2017\",\"house\",\"exist\",\"services\",\"available\",\"civil\",\"u.s.\",\"site\",\"culture\",\"also\",\"normal\",\"given\",\"wrong\",\"apple\",\"7\",\"small\",\"order\",\"date\",\"wear\",\"apps\",\"places\",\"songs\",\"differ\",\"project\",\"product\",\"international\",\"x\",\"behind\",\"main\",\"research\",\"happened\",\"boyfriend\",\"media\",\"public\",\"canada\",\"value\",\"jee\",\"cause\",\"reason\",\"uk\",\"education\",\"email\",\"ms\",\"sleep\",\"-\",\"amazon\",\"instead\",\"these\",\"benefits\",\"startup\",\"less\",\"iit\",\"part\",\"list\",\"based\",\"die\",\"medical\",\"websites\",\"etc\",\"physics\",\"skills\",\"child\",\"form\",\"health\",\"causes\",\"called\",\"times\",\"visit\",\"hate\",\"level\",\"worst\",\"police\",\"legal\",\"control\",\"terms\",\"stay\",\"products\",\"mumbai\",\"post\",\"facts\",\"mind\",\"face\",\"application\",\"rate\",\"sites\",\"field\",\"file\",\"required\",\"humans\",\"sell\",\"seen\",\"story\",\"machine\",\"private\",\"dog\",\"notes\",\"stock\",\"modi\",\"biggest\",\"asked\",\"invest\",\"children\",\"point\",\"writing\",\"move\",\"night\",\"problems\",\"gate\",\"put\",\"'re\",\"successful\",\"single\",\"anything\",\"indians\",\"others\",\"remove\",\"compared\",\"theory\",\"death\",\"ideas\",\"talk\",\"marks\",\"answers\",\"plan\",\"similar\",\"sentence\",\"low\",\"group\",\"institute\",\"side\",\"hours\",\"again\",\"effects\",\"/math\",\"coaching\",\"australia\",\"solve\",\"advantages\",\"correct\",\"function\",\"tax\",\"lot\",\"center\",\"famous\",\"send\",\"germany\",\"guys\",\"add\",\"set\",\"offer\",\"south\",\"force\",\"credit\",\"foreign\",\"universe\",\"information\",\"fall\",\"period\",\"daily\",\"says\",\"developer\",\"training\",\"full\",\"videos\",\"area\",\"industry\",\"oil\",\"model\",\"general\",\"studying\",\"majors\",\"star\",\"colleges\",\"graduate\",\"size\",\"yourself\",\"drive\",\"python\",\"2015\",\"blood\",\"near\",\"search\",\"enough\",\"price\",\"kill\",\"quality\",\"words\",\"8\",\"cons\",\"marriage\",\"found\",\"often\",\"\\u201d\",\"leave\",\"pros\",\"fast\",\"grow\",\"courses\",\"started\",\"week\",\"fix\",\"related\",\"purpose\",\"network\",\"types\",\"russia\",\"advice\",\"those\",\"password\",\"follow\",\"taking\",\"married\",\"mass\",\"male\",\"store\",\"turn\",\"party\",\"left\",\"brain\",\"rs\",\"\\u201c\",\"numbers\",\"100\",\"500\",\"female\",\"share\",\"digital\",\"team\",\"1000\",\"effective\",\"economy\",\"term\",\"text\",\"delete\",\"election\",\"cell\",\"pc\",\"master\",\"office\",\"matter\",\"few\",\"role\",\"since\",\"preparation\",\"fat\",\"second\",\"page\",\"dark\",\"short\",\"said\",\"happy\",\"red\",\"line\",\"away\",\"security\",\"options\",\"easy\",\"effect\",\"three\",\"view\",\"admission\",\"must\",\"chemical\",\"source\",\"lost\",\"try\",\"dream\",\"understand\",\"care\",\"exams\",\"convert\",\"americans\",\"past\",\"electrical\",\"dogs\",\"profile\",\"alcohol\",\"exactly\",\"north\",\"ios\",\"develop\",\"paper\",\"japanese\",\"investment\",\"tech\",\"difficult\",\"hotel\",\"check\",\"beautiful\",\"personal\",\"calculate\",\"japan\",\"uber\",\"letter\",\"eating\",\"religion\",\"20\",\"explain\",\"languages\",\"c++\",\"b\",\"hyderabad\",\"topics\",\"british\",\"twitter\",\"basic\",\"news\",\"california\",\"self\",\"green\",\"political\",\"transfer\",\"wife\",\"12\",\"fight\",\"rank\",\"drug\",\"let\",\"porn\",\"film\",\"scope\",\"t\",\"army\",\"pune\",\"national\",\"once\",\"contact\",\"note\",\"known\",\"avoid\",\"boy\",\"gain\",\"please\",\"address\",\"wants\",\"reasons\",\"paid\",\"obama\",\"engine\",\"europe\",\"ex\",\"currently\",\"bollywood\",\"samsung\",\"smart\",\"everyone\",\"season\",\"phd\",\"income\",\"officer\",\"chances\",\"reduce\",\"option\",\"overcome\",\"everything\",\"across\",\"reading\",\"military\",\"else\",\"users\",\"meet\",\"15\",\"solar\",\"message\",\"charge\",\"knowledge\",\"due\",\"sound\",\"balance\",\"microsoft\",\"!\",\"internship\",\"faster\",\"photos\",\"pregnant\",\"sim\",\"yes\",\"moon\",\"taken\",\"financial\",\"hindi\",\"disadvantages\",\"pass\",\"animals\",\"messages\",\"gay\",\"/\",\"hack\",\"healthy\",\"pain\",\"systems\",\"amount\",\"color\",\"interested\",\"singapore\",\"ias\",\"natural\",\"skin\",\"screen\",\"chance\",\"names\",\"special\",\"height\",\"board\",\"case\",\"structure\",\"passport\",\"break\",\"pro\",\"created\",\"professional\",\"drink\",\"already\",\"percentage\",\"useful\",\"french\",\"crush\",\"sun\",\"dating\",\"likes\",\"presidential\",\"battery\",\"interest\",\"access\",\"coming\",\"provide\",\"muslim\",\"starting\",\"modern\",\"linux\",\"recover\",\"camera\",\"german\",\"expect\",\"vote\",\"muslims\",\"blue\",\"least\",\"install\",\"train\",\"studies\",\"solution\",\"thinking\",\"following\",\"negative\",\"mother\",\"jio\",\"mac\",\"user\",\"spend\",\"prime\",\"written\",\"buying\",\"feeling\",\"running\",\"football\",\"gift\",\"cold\",\"changed\",\"pressure\",\"allowed\",\"character\",\"brand\",\"rich\",\"snapchat\",\"resources\",\"within\",\"speak\",\"impact\",\"islam\",\"yet\",\"non\",\"marry\",\"eyes\",\"society\",\"bill\",\"likely\",\"though\",\"determine\",\"shows\",\"fake\",\"save\",\"capital\",\"final\",\"gmail\",\"picture\",\"laws\",\"middle\",\"applications\",\"nuclear\",\"chemistry\",\"young\",\"kids\",\"prefer\",\"device\",\"iq\",\"father\",\"views\",\"galaxy\",\"manager\",\"doctor\",\"personality\",\"hand\",\"greatest\",\"currency\",\"inside\",\"illegal\",\"stories\",\"strategy\",\"recruit\",\"pursue\",\"cs\",\"abroad\",\"gold\",\"projects\",\"consider\",\"works\",\"blog\",\"crack\",\"memory\",\"example\",\"neet\",\"growth\",\"schools\",\"necessary\",\"husband\",\"insurance\",\"alone\",\"economics\",\"depression\",\"higher\",\"dead\",\"b.tech\",\"30\",\"cse\",\"loss\",\"among\",\"files\",\"deleted\",\"easiest\",\"macbook\",\"together\",\"art\",\"wifi\",\"vs\",\"gas\",\"suggest\",\"late\",\"intelligence\",\"method\",\"gre\",\"head\",\"minimum\",\"version\",\"tools\",\"easily\",\"chennai\",\"cars\",\"suitable\"],\"x\":{\"__ndarray__\":\"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\",\"dtype\":\"float32\",\"shape\":[1000]},\"y\":{\"__ndarray__\":\"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\",\"dtype\":\"float32\",\"shape\":[1000]}},\"selected\":{\"id\":\"1169\",\"type\":\"Selection\"},\"selection_policy\":{\"id\":\"1170\",\"type\":\"UnionRenderers\"}},\"id\":\"1112\",\"type\":\"ColumnDataSource\"},{\"attributes\":{},\"id\":\"1137\",\"type\":\"HelpTool\"},{\"attributes\":{\"active_drag\":\"auto\",\"active_inspect\":\"auto\",\"active_multi\":null,\"active_scroll\":{\"id\":\"1133\",\"type\":\"WheelZoomTool\"},\"active_tap\":\"auto\",\"tools\":[{\"id\":\"1132\",\"type\":\"PanTool\"},{\"id\":\"1133\",\"type\":\"WheelZoomTool\"},{\"id\":\"1134\",\"type\":\"BoxZoomTool\"},{\"id\":\"1135\",\"type\":\"SaveTool\"},{\"id\":\"1136\",\"type\":\"ResetTool\"},{\"id\":\"1137\",\"type\":\"HelpTool\"},{\"id\":\"1152\",\"type\":\"HoverTool\"}]},\"id\":\"1138\",\"type\":\"Toolbar\"},{\"attributes\":{},\"id\":\"1123\",\"type\":\"BasicTicker\"},{\"attributes\":{\"bottom_units\":\"screen\",\"fill_alpha\":{\"value\":0.5},\"fill_color\":{\"value\":\"lightgrey\"},\"left_units\":\"screen\",\"level\":\"overlay\",\"line_alpha\":{\"value\":1.0},\"line_color\":{\"value\":\"black\"},\"line_dash\":[4,4],\"line_width\":{\"value\":2},\"plot\":null,\"render_mode\":\"css\",\"right_units\":\"screen\",\"top_units\":\"screen\"},\"id\":\"1140\",\"type\":\"BoxAnnotation\"},{\"attributes\":{\"plot\":{\"id\":\"1113\",\"subtype\":\"Figure\",\"type\":\"Plot\"},\"ticker\":{\"id\":\"1123\",\"type\":\"BasicTicker\"}},\"id\":\"1126\",\"type\":\"Grid\"},{\"attributes\":{\"callback\":null},\"id\":\"1116\",\"type\":\"DataRange1d\"},{\"attributes\":{\"plot\":null,\"text\":\"\"},\"id\":\"1164\",\"type\":\"Title\"},{\"attributes\":{\"source\":{\"id\":\"1112\",\"type\":\"ColumnDataSource\"}},\"id\":\"1151\",\"type\":\"CDSView\"},{\"attributes\":{\"callback\":null,\"tooltips\":[[\"token\",\"@token\"]]},\"id\":\"1152\",\"type\":\"HoverTool\"},{\"attributes\":{},\"id\":\"1166\",\"type\":\"BasicTickFormatter\"},{\"attributes\":{},\"id\":\"1168\",\"type\":\"BasicTickFormatter\"},{\"attributes\":{},\"id\":\"1128\",\"type\":\"BasicTicker\"},{\"attributes\":{},\"id\":\"1169\",\"type\":\"Selection\"},{\"attributes\":{\"dimension\":1,\"plot\":{\"id\":\"1113\",\"subtype\":\"Figure\",\"type\":\"Plot\"},\"ticker\":{\"id\":\"1128\",\"type\":\"BasicTicker\"}},\"id\":\"1131\",\"type\":\"Grid\"},{\"attributes\":{},\"id\":\"1170\",\"type\":\"UnionRenderers\"},{\"attributes\":{\"fill_alpha\":{\"value\":0.1},\"fill_color\":{\"value\":\"#1f77b4\"},\"line_alpha\":{\"value\":0.1},\"line_color\":{\"value\":\"#1f77b4\"},\"size\":{\"units\":\"screen\",\"value\":10},\"x\":{\"field\":\"x\"},\"y\":{\"field\":\"y\"}},\"id\":\"1149\",\"type\":\"Scatter\"},{\"attributes\":{\"fill_alpha\":{\"value\":0.25},\"fill_color\":{\"field\":\"color\"},\"line_alpha\":{\"value\":0.25},\"line_color\":{\"field\":\"color\"},\"size\":{\"units\":\"screen\",\"value\":10},\"x\":{\"field\":\"x\"},\"y\":{\"field\":\"y\"}},\"id\":\"1148\",\"type\":\"Scatter\"},{\"attributes\":{\"data_source\":{\"id\":\"1112\",\"type\":\"ColumnDataSource\"},\"glyph\":{\"id\":\"1148\",\"type\":\"Scatter\"},\"hover_glyph\":null,\"muted_glyph\":null,\"nonselection_glyph\":{\"id\":\"1149\",\"type\":\"Scatter\"},\"selection_glyph\":null,\"view\":{\"id\":\"1151\",\"type\":\"CDSView\"}},\"id\":\"1150\",\"type\":\"GlyphRenderer\"},{\"attributes\":{},\"id\":\"1132\",\"type\":\"PanTool\"}],\"root_ids\":[\"1113\"]},\"title\":\"Bokeh Application\",\"version\":\"1.0.2\"}};\n",
       "  var render_items = [{\"docid\":\"c20ba333-ea75-4e49-9228-6f0d7cfa20c7\",\"roots\":{\"1113\":\"ba061735-9c43-4a5f-b0d1-7e4d677b34fb\"}}];\n",
       "  root.Bokeh.embed.embed_items_notebook(docs_json, render_items);\n",
       "\n",
       "  }\n",
       "  if (root.Bokeh !== undefined) {\n",
       "    embed_document(root);\n",
       "  } else {\n",
       "    var attempts = 0;\n",
       "    var timer = setInterval(function(root) {\n",
       "      if (root.Bokeh !== undefined) {\n",
       "        embed_document(root);\n",
       "        clearInterval(timer);\n",
       "      }\n",
       "      attempts++;\n",
       "      if (attempts > 100) {\n",
       "        console.log(\"Bokeh: ERROR: Unable to run BokehJS code because BokehJS library is missing\");\n",
       "        clearInterval(timer);\n",
       "      }\n",
       "    }, 10, root)\n",
       "  }\n",
       "})(window);"
      ],
      "application/vnd.bokehjs_exec.v0+json": ""
     },
     "metadata": {
      "application/vnd.bokehjs_exec.v0+json": {
       "id": "1113"
      }
     },
     "output_type": "display_data"
    },
    {
     "data": {
      "text/html": [
       "<div style=\"display: table;\"><div style=\"display: table-row;\"><div style=\"display: table-cell;\"><b title=\"bokeh.plotting.figure.Figure\">Figure</b>(</div><div style=\"display: table-cell;\">id&nbsp;=&nbsp;'1113', <span id=\"1227\" style=\"cursor: pointer;\">&hellip;)</span></div></div><div class=\"1226\" style=\"display: none;\"><div style=\"display: table-cell;\"></div><div style=\"display: table-cell;\">above&nbsp;=&nbsp;[],</div></div><div class=\"1226\" style=\"display: none;\"><div style=\"display: table-cell;\"></div><div style=\"display: table-cell;\">aspect_scale&nbsp;=&nbsp;1,</div></div><div class=\"1226\" style=\"display: none;\"><div style=\"display: table-cell;\"></div><div style=\"display: table-cell;\">background_fill_alpha&nbsp;=&nbsp;{'value': 1.0},</div></div><div class=\"1226\" style=\"display: none;\"><div style=\"display: table-cell;\"></div><div style=\"display: table-cell;\">background_fill_color&nbsp;=&nbsp;{'value': '#ffffff'},</div></div><div class=\"1226\" style=\"display: none;\"><div style=\"display: table-cell;\"></div><div style=\"display: table-cell;\">below&nbsp;=&nbsp;[LinearAxis(id='1122', ...)],</div></div><div class=\"1226\" style=\"display: none;\"><div style=\"display: table-cell;\"></div><div style=\"display: table-cell;\">border_fill_alpha&nbsp;=&nbsp;{'value': 1.0},</div></div><div class=\"1226\" style=\"display: none;\"><div style=\"display: table-cell;\"></div><div style=\"display: table-cell;\">border_fill_color&nbsp;=&nbsp;{'value': '#ffffff'},</div></div><div class=\"1226\" style=\"display: none;\"><div style=\"display: table-cell;\"></div><div style=\"display: table-cell;\">css_classes&nbsp;=&nbsp;[],</div></div><div class=\"1226\" style=\"display: none;\"><div style=\"display: table-cell;\"></div><div style=\"display: table-cell;\">disabled&nbsp;=&nbsp;False,</div></div><div class=\"1226\" style=\"display: none;\"><div style=\"display: table-cell;\"></div><div style=\"display: table-cell;\">extra_x_ranges&nbsp;=&nbsp;{},</div></div><div class=\"1226\" style=\"display: none;\"><div style=\"display: table-cell;\"></div><div style=\"display: table-cell;\">extra_y_ranges&nbsp;=&nbsp;{},</div></div><div class=\"1226\" style=\"display: none;\"><div style=\"display: table-cell;\"></div><div style=\"display: table-cell;\">h_symmetry&nbsp;=&nbsp;True,</div></div><div class=\"1226\" style=\"display: none;\"><div style=\"display: table-cell;\"></div><div style=\"display: table-cell;\">height&nbsp;=&nbsp;None,</div></div><div class=\"1226\" style=\"display: none;\"><div style=\"display: table-cell;\"></div><div style=\"display: table-cell;\">hidpi&nbsp;=&nbsp;True,</div></div><div class=\"1226\" style=\"display: none;\"><div style=\"display: table-cell;\"></div><div style=\"display: table-cell;\">js_event_callbacks&nbsp;=&nbsp;{},</div></div><div class=\"1226\" style=\"display: none;\"><div style=\"display: table-cell;\"></div><div style=\"display: table-cell;\">js_property_callbacks&nbsp;=&nbsp;{},</div></div><div class=\"1226\" style=\"display: none;\"><div style=\"display: table-cell;\"></div><div style=\"display: table-cell;\">left&nbsp;=&nbsp;[LinearAxis(id='1127', ...)],</div></div><div class=\"1226\" style=\"display: none;\"><div style=\"display: table-cell;\"></div><div style=\"display: table-cell;\">lod_factor&nbsp;=&nbsp;10,</div></div><div class=\"1226\" style=\"display: none;\"><div style=\"display: table-cell;\"></div><div style=\"display: table-cell;\">lod_interval&nbsp;=&nbsp;300,</div></div><div class=\"1226\" style=\"display: none;\"><div style=\"display: table-cell;\"></div><div style=\"display: table-cell;\">lod_threshold&nbsp;=&nbsp;2000,</div></div><div class=\"1226\" style=\"display: none;\"><div style=\"display: table-cell;\"></div><div style=\"display: table-cell;\">lod_timeout&nbsp;=&nbsp;500,</div></div><div class=\"1226\" style=\"display: none;\"><div style=\"display: table-cell;\"></div><div style=\"display: table-cell;\">match_aspect&nbsp;=&nbsp;False,</div></div><div class=\"1226\" style=\"display: none;\"><div style=\"display: table-cell;\"></div><div style=\"display: table-cell;\">min_border&nbsp;=&nbsp;5,</div></div><div class=\"1226\" style=\"display: none;\"><div style=\"display: table-cell;\"></div><div style=\"display: table-cell;\">min_border_bottom&nbsp;=&nbsp;None,</div></div><div class=\"1226\" style=\"display: none;\"><div style=\"display: table-cell;\"></div><div style=\"display: table-cell;\">min_border_left&nbsp;=&nbsp;None,</div></div><div class=\"1226\" style=\"display: none;\"><div style=\"display: table-cell;\"></div><div style=\"display: table-cell;\">min_border_right&nbsp;=&nbsp;None,</div></div><div class=\"1226\" style=\"display: none;\"><div style=\"display: table-cell;\"></div><div style=\"display: table-cell;\">min_border_top&nbsp;=&nbsp;None,</div></div><div class=\"1226\" style=\"display: none;\"><div style=\"display: table-cell;\"></div><div style=\"display: table-cell;\">name&nbsp;=&nbsp;None,</div></div><div class=\"1226\" style=\"display: none;\"><div style=\"display: table-cell;\"></div><div style=\"display: table-cell;\">outline_line_alpha&nbsp;=&nbsp;{'value': 1.0},</div></div><div class=\"1226\" style=\"display: none;\"><div style=\"display: table-cell;\"></div><div style=\"display: table-cell;\">outline_line_cap&nbsp;=&nbsp;'butt',</div></div><div class=\"1226\" style=\"display: none;\"><div style=\"display: table-cell;\"></div><div style=\"display: table-cell;\">outline_line_color&nbsp;=&nbsp;{'value': '#e5e5e5'},</div></div><div class=\"1226\" style=\"display: none;\"><div style=\"display: table-cell;\"></div><div style=\"display: table-cell;\">outline_line_dash&nbsp;=&nbsp;[],</div></div><div class=\"1226\" style=\"display: none;\"><div style=\"display: table-cell;\"></div><div style=\"display: table-cell;\">outline_line_dash_offset&nbsp;=&nbsp;0,</div></div><div class=\"1226\" style=\"display: none;\"><div style=\"display: table-cell;\"></div><div style=\"display: table-cell;\">outline_line_join&nbsp;=&nbsp;'bevel',</div></div><div class=\"1226\" style=\"display: none;\"><div style=\"display: table-cell;\"></div><div style=\"display: table-cell;\">outline_line_width&nbsp;=&nbsp;{'value': 1},</div></div><div class=\"1226\" style=\"display: none;\"><div style=\"display: table-cell;\"></div><div style=\"display: table-cell;\">output_backend&nbsp;=&nbsp;'canvas',</div></div><div class=\"1226\" style=\"display: none;\"><div style=\"display: table-cell;\"></div><div style=\"display: table-cell;\">plot_height&nbsp;=&nbsp;400,</div></div><div class=\"1226\" style=\"display: none;\"><div style=\"display: table-cell;\"></div><div style=\"display: table-cell;\">plot_width&nbsp;=&nbsp;600,</div></div><div class=\"1226\" style=\"display: none;\"><div style=\"display: table-cell;\"></div><div style=\"display: table-cell;\">renderers&nbsp;=&nbsp;[LinearAxis(id='1122', ...), Grid(id='1126', ...), LinearAxis(id='1127', ...), Grid(id='1131', ...), BoxAnnotation(id='1140', ...), GlyphRenderer(id='1150', ...)],</div></div><div class=\"1226\" style=\"display: none;\"><div style=\"display: table-cell;\"></div><div style=\"display: table-cell;\">right&nbsp;=&nbsp;[],</div></div><div class=\"1226\" style=\"display: none;\"><div style=\"display: table-cell;\"></div><div style=\"display: table-cell;\">sizing_mode&nbsp;=&nbsp;'fixed',</div></div><div class=\"1226\" style=\"display: none;\"><div style=\"display: table-cell;\"></div><div style=\"display: table-cell;\">subscribed_events&nbsp;=&nbsp;[],</div></div><div class=\"1226\" style=\"display: none;\"><div style=\"display: table-cell;\"></div><div style=\"display: table-cell;\">tags&nbsp;=&nbsp;[],</div></div><div class=\"1226\" style=\"display: none;\"><div style=\"display: table-cell;\"></div><div style=\"display: table-cell;\">title&nbsp;=&nbsp;Title(id='1164', ...),</div></div><div class=\"1226\" style=\"display: none;\"><div style=\"display: table-cell;\"></div><div style=\"display: table-cell;\">title_location&nbsp;=&nbsp;'above',</div></div><div class=\"1226\" style=\"display: none;\"><div style=\"display: table-cell;\"></div><div style=\"display: table-cell;\">toolbar&nbsp;=&nbsp;Toolbar(id='1138', ...),</div></div><div class=\"1226\" style=\"display: none;\"><div style=\"display: table-cell;\"></div><div style=\"display: table-cell;\">toolbar_location&nbsp;=&nbsp;'right',</div></div><div class=\"1226\" style=\"display: none;\"><div style=\"display: table-cell;\"></div><div style=\"display: table-cell;\">toolbar_sticky&nbsp;=&nbsp;True,</div></div><div class=\"1226\" style=\"display: none;\"><div style=\"display: table-cell;\"></div><div style=\"display: table-cell;\">v_symmetry&nbsp;=&nbsp;False,</div></div><div class=\"1226\" style=\"display: none;\"><div style=\"display: table-cell;\"></div><div style=\"display: table-cell;\">width&nbsp;=&nbsp;None,</div></div><div class=\"1226\" style=\"display: none;\"><div style=\"display: table-cell;\"></div><div style=\"display: table-cell;\">x_range&nbsp;=&nbsp;DataRange1d(id='1114', ...),</div></div><div class=\"1226\" style=\"display: none;\"><div style=\"display: table-cell;\"></div><div style=\"display: table-cell;\">x_scale&nbsp;=&nbsp;LinearScale(id='1118', ...),</div></div><div class=\"1226\" style=\"display: none;\"><div style=\"display: table-cell;\"></div><div style=\"display: table-cell;\">y_range&nbsp;=&nbsp;DataRange1d(id='1116', ...),</div></div><div class=\"1226\" style=\"display: none;\"><div style=\"display: table-cell;\"></div><div style=\"display: table-cell;\">y_scale&nbsp;=&nbsp;LinearScale(id='1120', ...))</div></div></div>\n",
       "<script>\n",
       "(function() {\n",
       "  var expanded = false;\n",
       "  var ellipsis = document.getElementById(\"1227\");\n",
       "  ellipsis.addEventListener(\"click\", function() {\n",
       "    var rows = document.getElementsByClassName(\"1226\");\n",
       "    for (var i = 0; i < rows.length; i++) {\n",
       "      var el = rows[i];\n",
       "      el.style.display = expanded ? \"none\" : \"table-row\";\n",
       "    }\n",
       "    ellipsis.innerHTML = expanded ? \"&hellip;)\" : \"&lsaquo;&lsaquo;&lsaquo;\";\n",
       "    expanded = !expanded;\n",
       "  });\n",
       "})();\n",
       "</script>\n"
      ],
      "text/plain": [
       "Figure(id='1113', ...)"
      ]
     },
     "execution_count": 20,
     "metadata": {},
     "output_type": "execute_result"
    }
   ],
   "source": [
    "word_tsne = get_tsne_projection(word_vectors)\n",
    "draw_vectors(word_tsne[:, 0], word_tsne[:, 1], color='green', token=words)"
   ]
  },
  {
   "cell_type": "markdown",
   "metadata": {
    "colab_type": "text",
    "id": "sz6uHYMbSjuE"
   },
   "source": [
    "## Эмбеддим фразы"
   ]
  },
  {
   "cell_type": "markdown",
   "metadata": {
    "colab_type": "text",
    "id": "L4GEypE4SokX"
   },
   "source": [
    "Сейчас для тестов будет полезно пользоваться фиксированными эмбеддингами. Загрузим уже обученную модель.  \n",
    "(посмотреть, какие вообще модели и корпуса доступны, можно вызовом `api.info()`)"
   ]
  },
  {
   "cell_type": "code",
   "execution_count": 21,
   "metadata": {
    "colab": {},
    "colab_type": "code",
    "id": "GUDRtumXXF3S"
   },
   "outputs": [],
   "source": [
    "import gensim.downloader as api\n",
    "\n",
    "model = api.load('glove-twitter-100')"
   ]
  },
  {
   "cell_type": "markdown",
   "metadata": {
    "colab_type": "text",
    "id": "eypMhlOSXFWN"
   },
   "source": [
    "Простой и дешевый способ посчитать эмбеддинг фразы, когда есть эмбеддинги слов - усреднить.\n",
    "\n",
    "Вот этим и займемся: токенизируйте и приведите к нижнему регистру фразу, усредните эмбеддинги тех слов, для которых они подсчитаны.\n",
    "\n",
    "**Задание** Напишите функцию для подсчета эмбеддинга фразы."
   ]
  },
  {
   "cell_type": "code",
   "execution_count": 22,
   "metadata": {
    "colab": {},
    "colab_type": "code",
    "id": "F76HGRGDEPVq"
   },
   "outputs": [],
   "source": [
    "def get_phrase_embedding(model, phrase):    \n",
    "    vector = np.zeros([model.vector_size], dtype='float32')\n",
    "    tokens = word_tokenize(phrase.lower())\n",
    "    k = 0\n",
    "    for token in tokens:\n",
    "        if token in model.vocab:\n",
    "            k += 1\n",
    "            vector += model.get_vector(token)\n",
    "    \n",
    "    if k != 0:\n",
    "        return vector/k\n",
    "    return vector"
   ]
  },
  {
   "cell_type": "code",
   "execution_count": 23,
   "metadata": {
    "colab": {},
    "colab_type": "code",
    "id": "i12XsqnIXfko"
   },
   "outputs": [],
   "source": [
    "vector = get_phrase_embedding(model, \"I'm very sure. This never happened to me before...\")\n",
    "assert np.allclose(vector[::10],\n",
    "                   np.array([ 0.30757686, -0.05861897,  0.143751  , -0.11104885, -0.96929336,\n",
    "                             -0.21928601,  0.21652265,  0.14978765,  1.4842536 ,  0.017826  ],\n",
    "                              dtype=np.float32))"
   ]
  },
  {
   "cell_type": "markdown",
   "metadata": {
    "colab_type": "text",
    "id": "Yl2nBZG0WAUx"
   },
   "source": [
    "Подсчитаем вектора всех фраз."
   ]
  },
  {
   "cell_type": "code",
   "execution_count": 24,
   "metadata": {
    "colab": {},
    "colab_type": "code",
    "id": "40LezFEJFwv3"
   },
   "outputs": [],
   "source": [
    "text_vectors = np.array([get_phrase_embedding(model, phrase) for phrase in texts])"
   ]
  },
  {
   "cell_type": "markdown",
   "metadata": {
    "colab_type": "text",
    "id": "nBj8XMZvWFTv"
   },
   "source": [
    "И научимся искать ближайшие!\n",
    "\n",
    "**Задание** По строке найти k ближайших к ней вопросов."
   ]
  },
  {
   "cell_type": "code",
   "execution_count": 25,
   "metadata": {
    "colab": {},
    "colab_type": "code",
    "id": "fjw7kTQ-FP11"
   },
   "outputs": [],
   "source": [
    "from sklearn.metrics.pairwise import cosine_similarity\n",
    "\n",
    "def find_nearest(model, text_vectors, texts, query, k=10):\n",
    "    emb = get_phrase_embedding(model, query)\n",
    "    sm = cosine_similarity(text_vectors, emb[np.newaxis, :]).ravel()\n",
    "    return [texts[i] for i in np.argsort(sm)[-k:]][::-1]"
   ]
  },
  {
   "cell_type": "code",
   "execution_count": 26,
   "metadata": {
    "colab": {},
    "colab_type": "code",
    "id": "c2yK0twNGWaQ"
   },
   "outputs": [
    {
     "name": "stdout",
     "output_type": "stream",
     "text": [
      "How do I download the Mengto's Design-Code book?\n",
      "How do I get to the dark web?\n",
      "What should I do to enter hollywood?\n",
      "How do I use the Greenify app?\n",
      "What can I do to save the world?\n",
      "How do I win this?\n",
      "How do I think out of the box? How do I learn to think out of the box?\n",
      "How do I find the 5th dimension?\n",
      "How do I use the pad in MMA?\n",
      "How do I estimate the competition?\n"
     ]
    }
   ],
   "source": [
    "results = find_nearest(model, text_vectors, texts, query=\"How do i enter the matrix?\", k=10)\n",
    "\n",
    "print('\\n'.join(results))\n",
    "\n",
    "assert len(results) == 10 and isinstance(results[0], str)\n",
    "assert results[1] == 'How do I get to the dark web?'\n",
    "assert results[4] == 'What can I do to save the world?'"
   ]
  },
  {
   "cell_type": "code",
   "execution_count": 27,
   "metadata": {
    "colab": {},
    "colab_type": "code",
    "id": "AutTfxbDGhku"
   },
   "outputs": [
    {
     "data": {
      "text/plain": [
       "['What does Donald Trump think about Israel?',\n",
       " 'What books does Donald Trump like?',\n",
       " 'What does Donald Trump think of India?',\n",
       " 'What does India think of Donald Trump?',\n",
       " 'What does Donald Trump think of China?',\n",
       " 'What does Donald Trump think about Pakistan?',\n",
       " 'What companies does Donald Trump own?',\n",
       " 'What does Dushka Zapata think about Donald Trump?',\n",
       " 'Does Donald Trump have dementia/alzheimers?',\n",
       " 'How does it feel to date Ivanka Trump?']"
      ]
     },
     "execution_count": 27,
     "metadata": {},
     "output_type": "execute_result"
    }
   ],
   "source": [
    "find_nearest(model, text_vectors, texts, query=\"How does Trump?\", k=10)"
   ]
  },
  {
   "cell_type": "code",
   "execution_count": 28,
   "metadata": {
    "colab": {},
    "colab_type": "code",
    "id": "47Ff7heKGiGV"
   },
   "outputs": [
    {
     "data": {
      "text/plain": [
       "[\"Why do you always answer a question with a question? I don't, or do I?\",\n",
       " 'Why do I ask this question?',\n",
       " 'How do I ask a question?',\n",
       " 'How do I ask a question on this?',\n",
       " \"Why do I have to ask a girl out? Why can't she ask me?\",\n",
       " 'How do I downvote a question?',\n",
       " 'How do I ask someone on a date?',\n",
       " 'Why do I question myself about this?',\n",
       " \"How do I ask a girl I don't know to fuck?\",\n",
       " 'How do you ask a question?']"
      ]
     },
     "execution_count": 28,
     "metadata": {},
     "output_type": "execute_result"
    }
   ],
   "source": [
    "find_nearest(model, text_vectors, texts, query=\"Why don't i ask a question myself?\", k=10)"
   ]
  },
  {
   "cell_type": "markdown",
   "metadata": {
    "colab_type": "text",
    "id": "5BhDEF11ZnTY"
   },
   "source": [
    "## Начинаем классификацию"
   ]
  },
  {
   "cell_type": "markdown",
   "metadata": {
    "colab_type": "text",
    "id": "2D_LEV8cm0z3"
   },
   "source": [
    "### Bag-of-words"
   ]
  },
  {
   "cell_type": "markdown",
   "metadata": {
    "colab_type": "text",
    "id": "jGge73gDid99"
   },
   "source": [
    "**Задание** Соберем для начала токенизированные вопросы."
   ]
  },
  {
   "cell_type": "code",
   "execution_count": 29,
   "metadata": {
    "colab": {},
    "colab_type": "code",
    "id": "FJTjqdgiih7O"
   },
   "outputs": [],
   "source": [
    "tokenized_question1 = np.array([get_phrase_embedding(model, phrase) for phrase in quora_data.question1])\n",
    "tokenized_question2 = np.array([get_phrase_embedding(model, phrase) for phrase in quora_data.question2])"
   ]
  },
  {
   "cell_type": "code",
   "execution_count": 30,
   "metadata": {},
   "outputs": [
    {
     "data": {
      "text/plain": [
       "(404290, 100)"
      ]
     },
     "execution_count": 30,
     "metadata": {},
     "output_type": "execute_result"
    }
   ],
   "source": [
    "tokenized_question1.shape"
   ]
  },
  {
   "cell_type": "markdown",
   "metadata": {
    "colab_type": "text",
    "id": "0VBcipE7Ztkc"
   },
   "source": [
    "**Задание** Посчитайте косинусную близость между вопросами.\n",
    "\n",
    "Проще всего реализовать функцию ее вычисления руками:\n",
    "$$\\text{cosine_similarity}(x, y) = \\frac{x^{T} y}{||x||\\cdot ||y||}$$"
   ]
  },
  {
   "cell_type": "code",
   "execution_count": 31,
   "metadata": {
    "colab": {},
    "colab_type": "code",
    "id": "ItJLR_ENHGtI"
   },
   "outputs": [],
   "source": [
    "from sklearn.metrics.pairwise import cosine_similarity\n",
    "cosine_similarities = np.array([\n",
    "    cosine_similarity(\n",
    "        tokenized_question1[i][np.newaxis, :], \n",
    "        tokenized_question2[i][np.newaxis, :]\n",
    "    ) \n",
    "    for i in range(len(quora_data))\n",
    "])"
   ]
  },
  {
   "cell_type": "code",
   "execution_count": 32,
   "metadata": {},
   "outputs": [
    {
     "data": {
      "text/plain": [
       "(404290,)"
      ]
     },
     "execution_count": 32,
     "metadata": {},
     "output_type": "execute_result"
    }
   ],
   "source": [
    "cosine_similarities = cosine_similarities.ravel()\n",
    "cosine_similarities.shape"
   ]
  },
  {
   "cell_type": "markdown",
   "metadata": {
    "colab_type": "text",
    "id": "NgCVueJ4Z3DQ"
   },
   "source": [
    "Подберём порог близости, при котором будем считать тексты одинаковыми.\n",
    "\n",
    "**Задание** Реализуйте функцию `accuracy`, вычисляющую точность классификации при заданном пороге."
   ]
  },
  {
   "cell_type": "code",
   "execution_count": 33,
   "metadata": {
    "colab": {},
    "colab_type": "code",
    "id": "41hRIb-KSA3F"
   },
   "outputs": [
    {
     "data": {
      "text/plain": [
       "[<matplotlib.lines.Line2D at 0x7fdcfc58eba8>]"
      ]
     },
     "execution_count": 33,
     "metadata": {},
     "output_type": "execute_result"
    },
    {
     "data": {
      "image/png": "[encoded data removed]",
      "text/plain": [
       "<Figure size 432x288 with 1 Axes>"
      ]
     },
     "metadata": {
      "needs_background": "light"
     },
     "output_type": "display_data"
    }
   ],
   "source": [
    "import matplotlib.pyplot as plt\n",
    "from sklearn.metrics import accuracy_score\n",
    "%matplotlib inline\n",
    "def accuracy(cosine_similarities, threshold):\n",
    "    return accuracy_score(quora_data.is_duplicate, (cosine_similarities > threshold).astype(\"int\"))\n",
    "\n",
    "thresholds = np.linspace(0, 1, 100, endpoint=False)\n",
    "plt.plot(thresholds, [accuracy(cosine_similarities, th) for th in thresholds])"
   ]
  },
  {
   "cell_type": "markdown",
   "metadata": {
    "colab_type": "text",
    "id": "kOxJSE38msmX"
   },
   "source": [
    "И запустим оптимизацию:"
   ]
  },
  {
   "cell_type": "code",
   "execution_count": 34,
   "metadata": {
    "colab": {},
    "colab_type": "code",
    "id": "R3LVCJwqSgZz"
   },
   "outputs": [
    {
     "name": "stdout",
     "output_type": "stream",
     "text": [
      "Threshold = 0.97940, Accuracy = 65.10%\n"
     ]
    }
   ],
   "source": [
    "from scipy.optimize import minimize_scalar\n",
    "\n",
    "res = minimize_scalar(lambda x: -accuracy(cosine_similarities, x), bounds=(0.5, 0.99), method='bounded')\n",
    "best_threshold = res.x\n",
    "print('Threshold = {:.5f}, Accuracy = {:.2%}'.format(best_threshold, accuracy(cosine_similarities, best_threshold)))"
   ]
  },
  {
   "cell_type": "markdown",
   "metadata": {
    "colab_type": "text",
    "id": "H8yFlaffm34A"
   },
   "source": [
    "### Tf-idf weights"
   ]
  },
  {
   "cell_type": "markdown",
   "metadata": {
    "colab_type": "text",
    "id": "-cpeSa-4m64H"
   },
   "source": [
    "Вместо того, чтобы тупо усреднять вектора, можно усреднять их с учетом весов - поможет в этом уже знакомые tf-idf.\n",
    "\n",
    "**Задание** Посчитайте взвешенные вектора вопросов. Используйте `TfidfVectorizer`\n",
    "\n",
    "`TfidfVectorizer` возвращает матрицу `(samples_count, words_count)`. А наши эмбеддинги имеют размерность `(words_count, embedding_dim)`. Значит, их можно просто перемножить. Тогда каждая фраза - последовательность слов $w_1, \\ldots, w_k$ - преобразуется в вектор $\\sum_i \\text{idf}(w_i) \\cdot \\text{embedding}(w_i)$. Этот вектор, вероятно, стоит нормировать на число слов $k$.\n",
    "\n",
    "**Задание** Кроме tf-idf можно добавить фильтрацию стоп-слов и пунктуации.  \n",
    "Стоп-слова можно взять из `nltk`:\n",
    "```python\n",
    "from nltk.corpus import stopwords\n",
    "stop_words = stopwords.words('english')\n",
    "```"
   ]
  },
  {
   "cell_type": "code",
   "execution_count": 35,
   "metadata": {
    "colab": {},
    "colab_type": "code",
    "id": "UoYjVExHd_OC"
   },
   "outputs": [],
   "source": [
    "import re\n",
    "from sklearn.feature_extraction.text import TfidfVectorizer\n",
    "from nltk.corpus import stopwords\n",
    "from string import punctuation\n",
    "\n",
    "stop_words = stopwords.words('english')"
   ]
  },
  {
   "cell_type": "code",
   "execution_count": 48,
   "metadata": {},
   "outputs": [
    {
     "data": {
      "text/plain": [
       "TfidfVectorizer(analyzer='word', binary=False, decode_error='strict',\n",
       "        dtype=<class 'numpy.float64'>, encoding='utf-8', input='content',\n",
       "        lowercase=True, max_df=1.0, max_features=None, min_df=1,\n",
       "        ngram_range=(1, 1), norm='l1', preprocessor=None, smooth_idf=True,\n",
       "        stop_words=['i', 'me', 'my', 'myself', 'we', 'our', 'ours', 'ourselves', 'you', \"you're\", \"you've\", \"you'll\", \"you'd\", 'your', 'yours', 'yourself', 'yourselves', 'he', 'him', 'his', 'himself', 'she', \"she's\", 'her', 'hers', 'herself', 'it', \"it's\", 'its', 'itself', 'they', 'them', 'their', 'theirs',... 'shouldn', \"shouldn't\", 'wasn', \"wasn't\", 'weren', \"weren't\", 'won', \"won't\", 'wouldn', \"wouldn't\"],\n",
       "        strip_accents=None, sublinear_tf=False,\n",
       "        token_pattern='(?u)\\\\b\\\\w\\\\w+\\\\b', tokenizer=None, use_idf=True,\n",
       "        vocabulary=None)"
      ]
     },
     "execution_count": 48,
     "metadata": {},
     "output_type": "execute_result"
    }
   ],
   "source": [
    "vectorizer = TfidfVectorizer(\n",
    "    analyzer='word',\n",
    "    stop_words = stop_words, norm = 'l1')\n",
    "\n",
    "vectorizer.fit(texts)"
   ]
  },
  {
   "cell_type": "code",
   "execution_count": 49,
   "metadata": {},
   "outputs": [],
   "source": [
    "tfidf1 = vectorizer.transform(quora_data.question1)\n",
    "tfidf2 = vectorizer.transform(quora_data.question2)"
   ]
  },
  {
   "cell_type": "code",
   "execution_count": 50,
   "metadata": {},
   "outputs": [
    {
     "data": {
      "text/plain": [
       "((404290, 86010), (404290, 86010))"
      ]
     },
     "execution_count": 50,
     "metadata": {},
     "output_type": "execute_result"
    }
   ],
   "source": [
    "tfidf1.shape, tfidf2.shape"
   ]
  },
  {
   "cell_type": "code",
   "execution_count": 39,
   "metadata": {},
   "outputs": [],
   "source": [
    "embeddings = np.array([\n",
    "    list(model.get_vector(k)) \n",
    "    if k in model.vocab \n",
    "    else list(np.zeros([model.vector_size], dtype='float32')) \n",
    "    for k in vectorizer.vocabulary_.keys()])"
   ]
  },
  {
   "cell_type": "code",
   "execution_count": 40,
   "metadata": {},
   "outputs": [
    {
     "data": {
      "text/plain": [
       "(86010, 100)"
      ]
     },
     "execution_count": 40,
     "metadata": {},
     "output_type": "execute_result"
    }
   ],
   "source": [
    "embeddings.shape"
   ]
  },
  {
   "cell_type": "code",
   "execution_count": 51,
   "metadata": {},
   "outputs": [],
   "source": [
    "tfidf_question1 = tfidf1.dot(embeddings)\n",
    "tfidf_question2 = tfidf2.dot(embeddings)"
   ]
  },
  {
   "cell_type": "code",
   "execution_count": 52,
   "metadata": {},
   "outputs": [
    {
     "data": {
      "text/plain": [
       "(404290, 100)"
      ]
     },
     "execution_count": 52,
     "metadata": {},
     "output_type": "execute_result"
    }
   ],
   "source": [
    "tfidf_question1.shape"
   ]
  },
  {
   "cell_type": "markdown",
   "metadata": {
    "colab_type": "text",
    "id": "34Di8jXxoBxg"
   },
   "source": [
    "Посмотрим, что получается после фильтрации и векторизации:"
   ]
  },
  {
   "cell_type": "code",
   "execution_count": null,
   "metadata": {
    "colab": {},
    "colab_type": "code",
    "id": "k52NtVJKf1Wl"
   },
   "outputs": [],
   "source": [
    "for col in tfidf1[0].tocoo().col:\n",
    "    print(model.index2word[col], end=' ')\n",
    "\n",
    "print('\\n' + ' '.join(tokenized_question1[0]))"
   ]
  },
  {
   "cell_type": "markdown",
   "metadata": {
    "colab_type": "text",
    "id": "3fMqY5tOoL9r"
   },
   "source": [
    "**Задание** Посчитайте качество с новыми векторами."
   ]
  },
  {
   "cell_type": "code",
   "execution_count": 53,
   "metadata": {
    "colab": {},
    "colab_type": "code",
    "id": "Chf2qy7uhbPF"
   },
   "outputs": [
    {
     "name": "stdout",
     "output_type": "stream",
     "text": [
      "Threshold = 0.84312, Accuracy = 66.67%\n"
     ]
    }
   ],
   "source": [
    "cosine_similarities = np.array([\n",
    "    cosine_similarity(\n",
    "        tfidf_question1[i][np.newaxis, :], \n",
    "        tfidf_question2[i][np.newaxis, :]\n",
    "    ) \n",
    "    for i in range(len(quora_data))\n",
    "]).ravel()\n",
    "\n",
    "res = minimize_scalar(lambda x: -accuracy(cosine_similarities, x), bounds=(0.8, 0.99), method='bounded')\n",
    "best_threshold = res.x\n",
    "print('Threshold = {:.5f}, Accuracy = {:.2%}'.format(best_threshold, accuracy(cosine_similarities, best_threshold)))"
   ]
  },
  {
   "cell_type": "markdown",
   "metadata": {
    "colab_type": "text",
    "id": "qXi24B78sbsg"
   },
   "source": [
    "## Посмотрим внутрь обучения словных эмбеддингов"
   ]
  },
  {
   "cell_type": "markdown",
   "metadata": {
    "colab_type": "text",
    "id": "6GSDgSXfswp7"
   },
   "source": [
    "Ключевая идея - слово можно определить по контексту, в котором оно встречается:\n",
    "![contexts](https://image.ibb.co/mnQ2uz/2018_09_17_21_07_08.png)\n",
    "*From [cs224n, Lecture 2](http://web.stanford.edu/class/cs224n/lectures/lecture2.pdf)*\n",
    "\n",
    "Смотреть, как всё учится, будем здесь: [https://ronxin.github.io/wevi/](https://ronxin.github.io/wevi/)."
   ]
  },
  {
   "cell_type": "markdown",
   "metadata": {
    "colab_type": "text",
    "id": "xvqrFUS6vVhh"
   },
   "source": [
    "## Запилим пословный машинный перевод!"
   ]
  },
  {
   "cell_type": "code",
   "execution_count": null,
   "metadata": {
    "colab": {},
    "colab_type": "code",
    "id": "1CXcr-ypzGXg"
   },
   "outputs": [],
   "source": [
    "!wget -O ukr_rus.train.txt -qq --no-check-certificate \"https://drive.google.com/uc?export=download&id=1vAK0SWXUqei4zTimMvIhH3ufGPsbnC_O\"\n",
    "!wget -O ukr_rus.test.txt -qq --no-check-certificate \"https://drive.google.com/uc?export=download&id=1W9R2F8OeKHXruo2sicZ6FgBJUTJc8Us_\"\n",
    "!wget -O fairy_tale.txt -qq --no-check-certificate \"https://drive.google.com/uc?export=download&id=1sq8zSroFeg_afw-60OmY8RATdu_T1tej\"\n",
    "\n",
    "!unzip cc.ru.300.vec.zip\n",
    "!unzip cc.uk.300.vec.zip"
   ]
  },
  {
   "cell_type": "markdown",
   "metadata": {
    "colab_type": "text",
    "id": "7RqUeOXxws8y"
   },
   "source": [
    "Напишем простенькую реализацию модели машинного перевода.\n",
    "\n",
    "Идея основана на статье [Word Translation Without Parallel Data](https://arxiv.org/pdf/1710.04087.pdf). У авторов в репозитории еще много интересного: [https://github.com/facebookresearch/MUSE](https://github.com/facebookresearch/MUSE).\n",
    "\n",
    "А мы будем переводить с украинского на русский.\n",
    "\n",
    "![](https://raw.githubusercontent.com/yandexdataschool/nlp_course/master/resources/blue_cat_blue_whale.png)   \n",
    "*синій кіт* vs. *синій кит*"
   ]
  },
  {
   "cell_type": "code",
   "execution_count": null,
   "metadata": {
    "colab": {},
    "colab_type": "code",
    "id": "jjPj9FTRry0U"
   },
   "outputs": [],
   "source": [
    "from gensim.models import KeyedVectors\n",
    "\n",
    "ru_emb = KeyedVectors.load_word2vec_format(\"cc.ru.300.vec\")\n",
    "uk_emb = KeyedVectors.load_word2vec_format(\"cc.uk.300.vec\")"
   ]
  },
  {
   "cell_type": "markdown",
   "metadata": {
    "colab_type": "text",
    "id": "7rGx4TXWFJ65"
   },
   "source": [
    "Посмотрим на пару серпень-август (являющихся переводом)"
   ]
  },
  {
   "cell_type": "code",
   "execution_count": null,
   "metadata": {
    "colab": {},
    "colab_type": "code",
    "id": "FkHer36xyh4n"
   },
   "outputs": [],
   "source": [
    "ru_emb.most_similar([ru_emb[\"август\"]])"
   ]
  },
  {
   "cell_type": "code",
   "execution_count": null,
   "metadata": {
    "colab": {},
    "colab_type": "code",
    "id": "1RSDixWvylEP"
   },
   "outputs": [],
   "source": [
    "uk_emb.most_similar([uk_emb[\"серпень\"]])"
   ]
  },
  {
   "cell_type": "code",
   "execution_count": null,
   "metadata": {
    "colab": {},
    "colab_type": "code",
    "id": "iwmm3YQ1yl1U"
   },
   "outputs": [],
   "source": [
    "ru_emb.most_similar([uk_emb[\"серпень\"]])"
   ]
  },
  {
   "cell_type": "code",
   "execution_count": null,
   "metadata": {
    "colab": {},
    "colab_type": "code",
    "id": "lAsW7oxszE_I"
   },
   "outputs": [],
   "source": [
    "def load_word_pairs(filename):\n",
    "    uk_ru_pairs = []\n",
    "    uk_vectors = []\n",
    "    ru_vectors = []\n",
    "    with open(filename, \"r\", encoding='utf8') as inpf:\n",
    "        for line in inpf:\n",
    "            uk, ru = line.rstrip().split(\"\\t\")\n",
    "            if uk not in uk_emb or ru not in ru_emb:\n",
    "                continue\n",
    "            uk_ru_pairs.append((uk, ru))\n",
    "            uk_vectors.append(uk_emb[uk])\n",
    "            ru_vectors.append(ru_emb[ru])\n",
    "    return uk_ru_pairs, np.array(uk_vectors), np.array(ru_vectors)\n",
    "\n",
    "\n",
    "uk_ru_train, X_train, Y_train = load_word_pairs(\"ukr_rus.train.txt\")\n",
    "uk_ru_test, X_test, Y_test = load_word_pairs(\"ukr_rus.test.txt\")"
   ]
  },
  {
   "cell_type": "markdown",
   "metadata": {
    "colab_type": "text",
    "id": "9z6ts7DC0XmN"
   },
   "source": [
    "### Учим маппинг из одного пространства эмбеддингов в другое\n",
    "\n",
    "У нас есть пары слов, соответствующих друг другу, и их эмбеддинги. Найдем преобразование из одного пространства в другое, чтобы приблизить известные нам слова:\n",
    "\n",
    "$$W^*= \\arg\\min_W ||WX - Y||_F, \\text{где} ||*||_F - \\text{норма Фробениуса}$$\n",
    "\n",
    "Эта функция очень похожа на линейную регрессию (без биаса).\n",
    "\n",
    "**Задание** Реализуйте её - воспользуйтесь `LinearRegression` из sklearn с `fit_intercept=False`:"
   ]
  },
  {
   "cell_type": "code",
   "execution_count": null,
   "metadata": {
    "colab": {},
    "colab_type": "code",
    "id": "fraTOQtu1YWI"
   },
   "outputs": [],
   "source": [
    "mapping = ..."
   ]
  },
  {
   "cell_type": "markdown",
   "metadata": {
    "colab_type": "text",
    "id": "PrzRk3ja1b_6"
   },
   "source": [
    "Проверим, куда перейдет `серпень`:"
   ]
  },
  {
   "cell_type": "code",
   "execution_count": null,
   "metadata": {
    "colab": {},
    "colab_type": "code",
    "id": "Quax6HnF1aON"
   },
   "outputs": [],
   "source": [
    "august = mapping.predict(uk_emb[\"серпень\"].reshape(1, -1))\n",
    "ru_emb.most_similar(august)"
   ]
  },
  {
   "cell_type": "markdown",
   "metadata": {
    "colab_type": "text",
    "id": "ih1GLNZt1nZX"
   },
   "source": [
    "Должно получиться, что в топе содержатся разные месяцы, но август не первый.\n",
    "\n",
    "Будем мерять percision top-k с k = 1, 5, 10.\n",
    "\n",
    "**Задание** Реализуйте следующую функцию:"
   ]
  },
  {
   "cell_type": "code",
   "execution_count": null,
   "metadata": {
    "colab": {},
    "colab_type": "code",
    "id": "JnmrLp9y2gNI"
   },
   "outputs": [],
   "source": [
    "def precision(pairs, mapped_vectors, topn=1):\n",
    "    \"\"\"\n",
    "    :args:\n",
    "        pairs = list of right word pairs [(uk_word_0, ru_word_0), ...]\n",
    "        mapped_vectors = list of embeddings after mapping from source embedding space to destination embedding space\n",
    "        topn = the number of nearest neighbours in destination embedding space to choose from\n",
    "    :returns:\n",
    "        precision_val, float number, total number of words for those we can find right translation at top K.\n",
    "    \"\"\"\n",
    "    assert len(pairs) == len(ru_vectors)\n",
    "    num_matches = 0\n",
    "    for i, (_, ru) in enumerate(pairs):\n",
    "        <write code here>\n",
    "    precision_val = num_matches / len(pairs)\n",
    "    return precision_val"
   ]
  },
  {
   "cell_type": "code",
   "execution_count": null,
   "metadata": {
    "colab": {},
    "colab_type": "code",
    "id": "-1NIvhSH2olG"
   },
   "outputs": [],
   "source": [
    "assert precision([(\"серпень\", \"август\")], august, topn=5) == 0.0\n",
    "assert precision([(\"серпень\", \"август\")], august, topn=9) == 1.0\n",
    "assert precision([(\"серпень\", \"август\")], august, topn=10) == 1.0"
   ]
  },
  {
   "cell_type": "code",
   "execution_count": null,
   "metadata": {
    "colab": {},
    "colab_type": "code",
    "id": "9Ml_w1Tl2r7Y"
   },
   "outputs": [],
   "source": [
    "assert precision(uk_ru_test, X_test) == 0.0\n",
    "assert precision(uk_ru_test, Y_test) == 1.0"
   ]
  },
  {
   "cell_type": "code",
   "execution_count": null,
   "metadata": {
    "colab": {},
    "colab_type": "code",
    "id": "-d9KQHMr2tx8"
   },
   "outputs": [],
   "source": [
    "precision_top1 = precision(uk_ru_test, mapping.predict(X_test), 1)\n",
    "precision_top5 = precision(uk_ru_test, mapping.predict(X_test), 5)\n",
    "\n",
    "assert precision_top1 >= 0.635\n",
    "assert precision_top5 >= 0.813"
   ]
  },
  {
   "cell_type": "markdown",
   "metadata": {
    "colab_type": "text",
    "id": "JNbDTP502urT"
   },
   "source": [
    "### Улучшаем маппинг\n",
    "\n",
    "Можно показать, что маппинг лучше строить ортогональным:\n",
    "$$W^*= \\arg\\min_W ||WX - Y||_F \\text{, где: } W^TW = I$$\n",
    "\n",
    "Искать его можно через SVD:\n",
    "$$X^TY=U\\Sigma V^T\\text{, singular value decompostion}$$\n",
    "\n",
    "$$W^*=UV^T$$\n",
    "\n",
    "**Задание** Реализуйте эту функцию."
   ]
  },
  {
   "cell_type": "code",
   "execution_count": null,
   "metadata": {
    "colab": {},
    "colab_type": "code",
    "id": "9de8XZ_F3v53"
   },
   "outputs": [],
   "source": [
    "def learn_transform(X_train, Y_train):\n",
    "    \"\"\" \n",
    "    :returns: W* : float matrix[emb_dim x emb_dim] as defined in formulae above\n",
    "    \"\"\"\n",
    "    <write code there>"
   ]
  },
  {
   "cell_type": "code",
   "execution_count": null,
   "metadata": {
    "colab": {},
    "colab_type": "code",
    "id": "8WeCadzN382y"
   },
   "outputs": [],
   "source": [
    "W = learn_transform(X_train, Y_train)"
   ]
  },
  {
   "cell_type": "code",
   "execution_count": null,
   "metadata": {
    "colab": {},
    "colab_type": "code",
    "id": "p6qaMb0E3-f9"
   },
   "outputs": [],
   "source": [
    "ru_emb.most_similar([np.matmul(uk_emb[\"серпень\"], W)])"
   ]
  },
  {
   "cell_type": "code",
   "execution_count": null,
   "metadata": {
    "colab": {},
    "colab_type": "code",
    "id": "_Nn58crh4AH0"
   },
   "outputs": [],
   "source": [
    "assert precision(uk_ru_test, np.matmul(X_test, W)) >= 0.653\n",
    "assert precision(uk_ru_test, np.matmul(X_test, W), 5) >= 0.824"
   ]
  },
  {
   "cell_type": "markdown",
   "metadata": {
    "colab_type": "text",
    "id": "lqgcYk-c4DE5"
   },
   "source": [
    "### Пишем переводчик"
   ]
  },
  {
   "cell_type": "markdown",
   "metadata": {
    "colab_type": "text",
    "id": "hwi70fP6FaAN"
   },
   "source": [
    "Реализуем простой пословный переводчик - для каждого слова будем искать его ближайшего соседа в общем пространстве эмбеддингов. Если слова нет в эмбеддингах - просто копируем его."
   ]
  },
  {
   "cell_type": "code",
   "execution_count": null,
   "metadata": {
    "colab": {},
    "colab_type": "code",
    "id": "0etAHUks4JOr"
   },
   "outputs": [],
   "source": [
    "with open(\"fairy_tale.txt\", \"r\") as in f:\n",
    "    uk_sentences = [line.rstrip().lower() for line in in f]"
   ]
  },
  {
   "cell_type": "code",
   "execution_count": null,
   "metadata": {
    "colab": {},
    "colab_type": "code",
    "id": "JK_FJGmn4N7V"
   },
   "outputs": [],
   "source": [
    "def translate(sentence):\n",
    "    \"\"\"\n",
    "    :args:\n",
    "        sentence - sentence in Ukrainian (str)\n",
    "    :returns:\n",
    "        translation - sentence in Russian (str)\n",
    "\n",
    "    * find ukrainian embedding for each word in sentence\n",
    "    * transform ukrainian embedding vector\n",
    "    * find nearest russian word and replace\n",
    "    \"\"\"\n",
    "    <implement it!>"
   ]
  },
  {
   "cell_type": "code",
   "execution_count": null,
   "metadata": {
    "colab": {},
    "colab_type": "code",
    "id": "H47pbFyk4P6D"
   },
   "outputs": [],
   "source": [
    "assert translate(\".\") == \".\"\n",
    "assert translate(\"1 , 3\") == \"1 , 3\"\n",
    "assert translate(\"кіт зловив мишу\") == \"кот поймал мышку\""
   ]
  },
  {
   "cell_type": "code",
   "execution_count": null,
   "metadata": {
    "colab": {},
    "colab_type": "code",
    "id": "PAVWK7mE4RYU"
   },
   "outputs": [],
   "source": [
    "for sentence in uk_sentences:\n",
    "    print(\"src: {}\\ndst: {}\\n\".format(sentence, translate(sentence)))"
   ]
  },
  {
   "cell_type": "markdown",
   "metadata": {
    "colab_type": "text",
    "id": "pDnIPVLg4Sg7"
   },
   "source": [
    "# Сдача задания\n",
    "\n",
    "[Форма для сдачи](https://goo.gl/forms/GGjrH7axdGJr6yTp2)  \n",
    "[Опрос](https://goo.gl/forms/3QRwLTmLgBzl5VVm2)"
   ]
  },
  {
   "cell_type": "markdown",
   "metadata": {
    "colab_type": "text",
    "id": "_5GrChTeFqIg"
   },
   "source": [
    "# Дополнительные материалы"
   ]
  },
  {
   "cell_type": "markdown",
   "metadata": {
    "colab_type": "text",
    "id": "HwffxpbmFwDh"
   },
   "source": [
    "## Почитать\n",
    "### База:  \n",
    "[On word embeddings - Part 1, Sebastian Ruder](http://ruder.io/word-embeddings-1/)  \n",
    "[Deep Learning, NLP, and Representations, Christopher Olah](http://colah.github.io/posts/2014-07-NLP-RNNs-Representations/)  \n",
    "\n",
    "### Как кластеризовать смыслы многозначных слов:  \n",
    "[Making Sense of Word Embeddings (2016), Pelevina et al](http://anthology.aclweb.org/W16-1620)    \n",
    "\n",
    "### Как оценивать эмбеддинги\n",
    "[Evaluation methods for unsupervised word embeddings (2015), T. Schnabel](http://www.aclweb.org/anthology/D15-1036)  \n",
    "[Intrinsic Evaluation of Word Vectors Fails to Predict Extrinsic Performance (2016), B. Chiu](https://www.aclweb.org/anthology/W/W16/W16-2501.pdf)  \n",
    "[Problems With Evaluation of Word Embeddings Using Word Similarity Tasks (2016), M. Faruqui](https://arxiv.org/pdf/1605.02276.pdf)  \n",
    "[Improving Reliability of Word Similarity Evaluation by Redesigning Annotation Task and Performance Measure (2016), Oded Avraham, Yoav Goldberg](https://arxiv.org/pdf/1611.03641.pdf)  \n",
    "[Evaluating Word Embeddings Using a Representative Suite of Practical Tasks (2016), N. Nayak](https://cs.stanford.edu/~angeli/papers/2016-acl-veceval.pdf)  \n",
    "\n",
    "\n",
    "## Посмотреть\n",
    "[Word Vector Representations: word2vec, Lecture 2, cs224n](https://www.youtube.com/watch?v=ERibwqs9p38)"
   ]
  }
 ],
 "metadata": {
  "colab": {
   "collapsed_sections": [],
   "name": "Week 02 - Word Embeddings (Part 1).ipynb",
   "provenance": [],
   "version": "0.3.2"
  },
  "kernelspec": {
   "display_name": "Python 3",
   "language": "python",
   "name": "python3"
  },
  "language_info": {
   "codemirror_mode": {
    "name": "ipython",
    "version": 3
   },
   "file_extension": ".py",
   "mimetype": "text/x-python",
   "name": "python",
   "nbconvert_exporter": "python",
   "pygments_lexer": "ipython3",
   "version": "3.6.7"
  }
 },
 "nbformat": 4,
 "nbformat_minor": 1
}
