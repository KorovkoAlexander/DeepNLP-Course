{
 "cells": [
  {
   "cell_type": "code",
   "execution_count": 3,
   "metadata": {
    "colab": {},
    "colab_type": "code",
    "id": "OE7fXh-OSJYF"
   },
   "outputs": [],
   "source": [
    "#!pip3 -qq install torch==0.4.1\n",
    "#!pip -qq install torchtext==0.3.1\n",
    "#!pip -qq install gensim==3.6.0\n",
    "# !pip install pyldavis==2.1.2\n",
    "# !pip install attrs==18.2.0\n",
    "# !wget --no-check-certificate 'https://drive.google.com/uc?export=download&id=1OIU9ICMebvZXJ0Grc2SLlMep3x9EkZtz' -O perashki.txt\n",
    "# !wget --no-check-certificate 'https://drive.google.com/uc?export=download&id=1v66uAEKL3KunyylYitNKggdl2gCeYgZZ' -O poroshki.txt\n",
    "# !git clone https://github.com/UniversalDependencies/UD_Russian-SynTagRus.git\n",
    "# !wget https://raw.githubusercontent.com/DanAnastasyev/neuromorphy/master/neuromorphy/train/corpus_iterator.py"
   ]
  },
  {
   "cell_type": "code",
   "execution_count": 4,
   "metadata": {
    "colab": {},
    "colab_type": "code",
    "id": "uhvfH55PUJ8K"
   },
   "outputs": [],
   "source": [
    "import numpy as np\n",
    "\n",
    "import torch\n",
    "import torch.nn as nn\n",
    "import torch.nn.functional as F\n",
    "import torch.optim as optim\n",
    "\n",
    "\n",
    "if torch.cuda.is_available():\n",
    "    from torch.cuda import FloatTensor, LongTensor\n",
    "    DEVICE = torch.device('cuda')\n",
    "else:\n",
    "    from torch import FloatTensor, LongTensor\n",
    "    DEVICE = torch.device('cpu')\n",
    "\n",
    "np.random.seed(42)"
   ]
  },
  {
   "cell_type": "markdown",
   "metadata": {
    "colab_type": "text",
    "id": "txWqIO_74A4s"
   },
   "source": [
    "# Word-Level Text Generation"
   ]
  },
  {
   "cell_type": "markdown",
   "metadata": {
    "colab_type": "text",
    "id": "KOD_3I7d4oDV"
   },
   "source": [
    "Сегодня занимаемся, в основном, тем, что генерируем *пирожки* и *порошки*.\n",
    "\n",
    "*(Данные без спросу скачаны с сайта http://poetory.ru)*\n",
    "\n",
    "Пирожки - это вот:"
   ]
  },
  {
   "cell_type": "code",
   "execution_count": 5,
   "metadata": {
    "colab": {},
    "colab_type": "code",
    "id": "d2vMrlrRQpuJ"
   },
   "outputs": [
    {
     "name": "stdout",
     "output_type": "stream",
     "text": [
      "старик вытягивает сети\n",
      "они пусты и лишь в конце\n",
      "записка рыба недоступна\n",
      "или вне действия сети\n",
      "\n",
      "олег адепт шизофрении\n",
      "шагает бодро из окна\n",
      "и жызнь летит перед глазами\n",
      "да не одна а сразу две\n",
      "\n"
     ]
    }
   ],
   "source": [
    "!head perashki.txt"
   ]
  },
  {
   "cell_type": "markdown",
   "metadata": {
    "colab_type": "text",
    "id": "0Lm0-PeG5Dh9"
   },
   "source": [
    "Порошки вот:"
   ]
  },
  {
   "cell_type": "code",
   "execution_count": 6,
   "metadata": {
    "colab": {},
    "colab_type": "code",
    "id": "2-Jf88bxVTGj"
   },
   "outputs": [
    {
     "name": "stdout",
     "output_type": "stream",
     "text": [
      "кто любит цоя кто покушать\n",
      "кто на рассвете пенье птиц\n",
      "а я люблю в коротких платьях\n",
      "физлиц\n",
      "\n",
      "твой монолог так гениален\n",
      "что я чуть не открыла дверь\n",
      "но станиславский тихо сверху\n",
      "не верь\n",
      "\n"
     ]
    }
   ],
   "source": [
    "!head poroshki.txt"
   ]
  },
  {
   "cell_type": "markdown",
   "metadata": {
    "colab_type": "text",
    "id": "AgYh4FNP5FyX"
   },
   "source": [
    "Не перепутайте!\n",
    "\n",
    "Вообще, пирожок - это четверостишие, написанное четырехстопным ямбом по схеме 9-8-9-8. У порошка схема 9-8-9-2."
   ]
  },
  {
   "cell_type": "code",
   "execution_count": 7,
   "metadata": {
    "colab": {},
    "colab_type": "code",
    "id": "bSBpLFRgGaXS"
   },
   "outputs": [],
   "source": [
    "vowels = 'ёуеыаоэяию'\n",
    "\n",
    "odd_pattern = '-+-+-+-+-'\n",
    "even_pattern = '-+-+-+-+'"
   ]
  },
  {
   "cell_type": "markdown",
   "metadata": {
    "colab_type": "text",
    "id": "Hl9BFoug519c"
   },
   "source": [
    "Считываем данные:"
   ]
  },
  {
   "cell_type": "code",
   "execution_count": 8,
   "metadata": {
    "colab": {},
    "colab_type": "code",
    "id": "O3aFzzOQKLlD"
   },
   "outputs": [],
   "source": [
    "def read_poem(path):\n",
    "    poem = []\n",
    "    with open(path, encoding='utf8') as f:\n",
    "        for line in f:\n",
    "            line = line.rstrip()\n",
    "            if len(line) == 0:\n",
    "                yield poem\n",
    "                poem = []\n",
    "                continue\n",
    "            \n",
    "            poem.extend(line.split() + ['\\\\n'])\n",
    "            \n",
    "perashki = list(read_poem('perashki.txt'))\n",
    "poroshki = list(read_poem('poroshki.txt'))"
   ]
  },
  {
   "cell_type": "markdown",
   "metadata": {
    "colab_type": "text",
    "id": "xiRq1vbf55qN"
   },
   "source": [
    "Построим датасет для порошков:"
   ]
  },
  {
   "cell_type": "code",
   "execution_count": 9,
   "metadata": {
    "colab": {},
    "colab_type": "code",
    "id": "ZOBgLAgVTrk1"
   },
   "outputs": [
    {
     "name": "stdout",
     "output_type": "stream",
     "text": [
      "Vocab size = 6298\n"
     ]
    }
   ],
   "source": [
    "from torchtext.data import Field, Example, Dataset, BucketIterator\n",
    "\n",
    "text_field = Field(init_token='<s>', eos_token='</s>')\n",
    "        \n",
    "fields = [('text', text_field)]\n",
    "examples = [Example.fromlist([poem], fields) for poem in poroshki]\n",
    "dataset = Dataset(examples, fields)\n",
    "\n",
    "text_field.build_vocab(dataset, min_freq=7)\n",
    "\n",
    "print('Vocab size =', len(text_field.vocab))\n",
    "train_dataset, test_dataset = dataset.split(split_ratio=0.9)\n",
    "\n",
    "train_iter, test_iter = BucketIterator.splits(datasets=(train_dataset, test_dataset), batch_sizes=(32, 128), \n",
    "                                              shuffle=True, device=DEVICE, sort=False)"
   ]
  },
  {
   "cell_type": "markdown",
   "metadata": {
    "colab_type": "text",
    "id": "8FYJe2CA8GcY"
   },
   "source": [
    "**Задание** Напишите класс языковой модели."
   ]
  },
  {
   "cell_type": "code",
   "execution_count": 14,
   "metadata": {
    "colab": {},
    "colab_type": "code",
    "id": "x8ndCRZLl4ZZ"
   },
   "outputs": [],
   "source": [
    "class LMModel(nn.Module):\n",
    "    def __init__(self, vocab_size, emb_dim=256, lstm_hidden_dim=256, num_layers=1):\n",
    "        super().__init__()\n",
    "\n",
    "        self._emb = nn.Embedding(vocab_size, emb_dim)\n",
    "        self._rnn = nn.LSTM(input_size=emb_dim, hidden_size=lstm_hidden_dim)\n",
    "        \n",
    "        self._out_layer = nn.Linear(lstm_hidden_dim, vocab_size)\n",
    "        \n",
    "        self._init_weights()\n",
    "\n",
    "    def _init_weights(self, init_range=0.1):\n",
    "        self._emb.weight.data.uniform_(-init_range, init_range)\n",
    "        self._out_layer.bias.data.zero_()\n",
    "        self._out_layer.weight.data.uniform_(-init_range, init_range)\n",
    "\n",
    "    def forward(self, inputs, hidden=None):\n",
    "        x = self._emb(inputs)\n",
    "        x, hidden = self._rnn(x, hidden)\n",
    "        x = self._out_layer(x)\n",
    "        return x, hidden"
   ]
  },
  {
   "cell_type": "code",
   "execution_count": 15,
   "metadata": {
    "colab": {},
    "colab_type": "code",
    "id": "ySJ4tUAqvFvB"
   },
   "outputs": [],
   "source": [
    "batch = next(iter(train_iter))"
   ]
  },
  {
   "cell_type": "code",
   "execution_count": 16,
   "metadata": {
    "colab": {},
    "colab_type": "code",
    "id": "5_qVuSL8QJg4"
   },
   "outputs": [
    {
     "data": {
      "text/plain": [
       "torch.Size([24, 32, 6298])"
      ]
     },
     "execution_count": 16,
     "metadata": {},
     "output_type": "execute_result"
    }
   ],
   "source": [
    "model = LMModel(vocab_size=len(train_iter.dataset.fields['text'].vocab)).to(DEVICE)\n",
    "\n",
    "model(batch.text)[0].shape"
   ]
  },
  {
   "cell_type": "markdown",
   "metadata": {
    "colab_type": "text",
    "id": "Rsh3_eR08PqQ"
   },
   "source": [
    "**Задание** Добавьте подсчет потерей с маскингом паддингов."
   ]
  },
  {
   "cell_type": "code",
   "execution_count": 17,
   "metadata": {
    "colab": {},
    "colab_type": "code",
    "id": "_E2JxfRuphch"
   },
   "outputs": [],
   "source": [
    "import math\n",
    "from tqdm import tqdm\n",
    "tqdm.get_lock().locks = []\n",
    "\n",
    "\n",
    "def do_epoch(model, criterion, data_iter, unk_idx, pad_idx, optimizer=None, name=None):\n",
    "    epoch_loss = 0\n",
    "    \n",
    "    is_train = not optimizer is None\n",
    "    name = name or ''\n",
    "    model.train(is_train)\n",
    "    \n",
    "    batches_count = len(data_iter)\n",
    "    \n",
    "    with torch.autograd.set_grad_enabled(is_train):\n",
    "        with tqdm(total=batches_count) as progress_bar:\n",
    "            for i, batch in enumerate(data_iter):                \n",
    "                logits, _ = model(batch.text)\n",
    "\n",
    "                targets = torch.cat(\n",
    "                    [\n",
    "                        batch.text[1:], batch.text.new_ones((1, batch.text.shape[1]))\n",
    "                    ]\n",
    "                )\n",
    "                \n",
    "                loss = criterion(logits.view(-1, logits.shape[-1]), targets.view(-1))\n",
    "                \n",
    "                mask = (1 - ((targets.view(-1) == unk_idx) + (targets.view(-1) == pad_idx))).float().cuda()\n",
    "                \n",
    "                loss = (loss * mask).sum() / mask.sum()\n",
    "\n",
    "                epoch_loss += loss.item()\n",
    "\n",
    "                if optimizer:\n",
    "                    optimizer.zero_grad()\n",
    "                    loss.backward()\n",
    "                    nn.utils.clip_grad_norm_(model.parameters(), 1.)\n",
    "                    optimizer.step()\n",
    "\n",
    "                progress_bar.update()\n",
    "                progress_bar.set_description('{:>5s} Loss = {:.5f}, PPX = {:.2f}'.format(name, loss.item(), \n",
    "                                                                                         math.exp(loss.item())))\n",
    "                \n",
    "            progress_bar.set_description('{:>5s} Loss = {:.5f}, PPX = {:.2f}'.format(\n",
    "                name, epoch_loss / batches_count, math.exp(epoch_loss / batches_count))\n",
    "            )\n",
    "            progress_bar.refresh()\n",
    "\n",
    "    return epoch_loss / batches_count\n",
    "\n",
    "\n",
    "def fit(model, criterion, optimizer, train_iter, epochs_count=1, unk_idx=0, pad_idx=1, val_iter=None):\n",
    "    best_val_loss = None\n",
    "    for epoch in range(epochs_count):\n",
    "        name_prefix = '[{} / {}] '.format(epoch + 1, epochs_count)\n",
    "        train_loss = do_epoch(model, criterion, train_iter, unk_idx, pad_idx, optimizer, name_prefix + 'Train:')\n",
    "        \n",
    "        if not val_iter is None:\n",
    "            val_loss = do_epoch(model, criterion, val_iter, unk_idx, pad_idx, None, name_prefix + '  Val:')\n",
    "            \n",
    "            if best_val_loss and val_loss > best_val_loss:\n",
    "                optimizer.param_groups[0]['lr'] /= 4.\n",
    "                print('Optimizer lr = {:g}'.format(optimizer.param_groups[0]['lr']))\n",
    "            else:\n",
    "                best_val_loss = val_loss\n",
    "        print()\n",
    "        generate(model)\n",
    "        print()"
   ]
  },
  {
   "cell_type": "markdown",
   "metadata": {
    "colab_type": "text",
    "id": "ufpoSwQ-8bcN"
   },
   "source": [
    "**Задание** Напишите функцию-генератор для модели."
   ]
  },
  {
   "cell_type": "code",
   "execution_count": 18,
   "metadata": {
    "colab": {},
    "colab_type": "code",
    "id": "BYoHY1se2bhB"
   },
   "outputs": [
    {
     "name": "stdout",
     "output_type": "stream",
     "text": [
      "изольдаработойтихдарилпошёлпослалновыйвлезаетдрожитотличносталсталинступайбасёнужнысветамашинутикчапаевстатуслососьясностуквасянаденьместиписатьпоследнимвидалсвоейкассберуженепсихологсменыпомаданамногоайильивтроёмсутьзачатпрошулягутанябрюктолпаскользульфиятрудспрошукинулполкйогрубнесетсяднёмдетствонебоморковьскажемпришлосьсолнышкорастётискатьдровлбупещеребудьфомаистинанесутбылпрощеньяомлетстоиминфарктпутиссыгагаринверишьолеречьшепчетстрахамировстрастнорядыжывотсошлисьиногдапомогитедикийплодикарженоюстремясьспасгодосталсяконечнорассказэсонегинлососяжопойклассгорисъелильсиськипримеруотпечаткиполучишьприпёрсягарсонплатокворонаизвиняюсьграблиполоскикапканглазуборщаснегасоскиредутбуднейктопервыхогнёмдаёткричатбокпохмельекускироднянекстатиайфонстоныскажытенашаизъянзапомниодинокийбудтокрайнеймедведиоксанудрожа"
     ]
    }
   ],
   "source": [
    "def sample(probs, temp):\n",
    "    probs = F.log_softmax(probs.squeeze(), dim=0)\n",
    "    probs = (probs / temp).exp()\n",
    "    probs /= probs.sum()\n",
    "    probs = probs.cpu().numpy()\n",
    "\n",
    "    return np.random.choice(np.arange(len(probs)), p=probs)\n",
    "\n",
    "\n",
    "def generate(model, temp=0.6):\n",
    "    model.eval()\n",
    "    with torch.no_grad():        \n",
    "        prev_token = train_iter.dataset.fields['text'].vocab.stoi['<s>']\n",
    "        end_token = train_iter.dataset.fields['text'].vocab.stoi['</s>']\n",
    "        \n",
    "        hidden = None\n",
    "        for _ in range(150):\n",
    "            probs, hidden = model(LongTensor([[prev_token]]), hidden)\n",
    "            prev_token = sample(probs, temp)\n",
    "            print(train_iter.dataset.fields['text'].vocab.itos[prev_token], end='')\n",
    "            \n",
    "            if prev_token == end_token:\n",
    "                return\n",
    "                \n",
    "generate(model)"
   ]
  },
  {
   "cell_type": "code",
   "execution_count": 20,
   "metadata": {
    "colab": {},
    "colab_type": "code",
    "id": "5X2kYDU_rCjP"
   },
   "outputs": [
    {
     "name": "stderr",
     "output_type": "stream",
     "text": [
      "[1 / 300] Train: Loss = 4.86832, PPX = 130.10: 100%|██████████| 677/677 [00:04<00:00, 147.99it/s]\n",
      "[1 / 300]   Val: Loss = 4.46477, PPX = 86.90: 100%|██████████| 19/19 [00:00<00:00, 156.19it/s]\n",
      "[2 / 300] Train: Loss = 4.23776, PPX = 69.25:   3%|▎         | 23/677 [00:00<00:05, 123.79it/s]"
     ]
    },
    {
     "name": "stdout",
     "output_type": "stream",
     "text": [
      "\n",
      "вомневконцеколхозивдеревне\\nаяневтобоюине\\nявмоейегоивтомс\\nлица\\n</s>\n"
     ]
    },
    {
     "name": "stderr",
     "output_type": "stream",
     "text": [
      "[2 / 300] Train: Loss = 4.36090, PPX = 78.33: 100%|██████████| 677/677 [00:04<00:00, 153.49it/s]\n",
      "[2 / 300]   Val: Loss = 4.34162, PPX = 76.83: 100%|██████████| 19/19 [00:00<00:00, 158.17it/s]\n",
      "[3 / 300] Train: Loss = 4.36067, PPX = 78.31:   3%|▎         | 22/677 [00:00<00:05, 122.87it/s]"
     ]
    },
    {
     "name": "stdout",
     "output_type": "stream",
     "text": [
      "\n",
      "ненадояестьтамвдетстве\\nакактонехватаетаянемной\\nновсёжевынеможетбыло\\nия\\n</s>\n"
     ]
    },
    {
     "name": "stderr",
     "output_type": "stream",
     "text": [
      "[3 / 300] Train: Loss = 4.18086, PPX = 65.42: 100%|██████████| 677/677 [00:04<00:00, 150.29it/s]\n",
      "[3 / 300]   Val: Loss = 4.19850, PPX = 66.59: 100%|██████████| 19/19 [00:00<00:00, 156.23it/s]\n",
      "[4 / 300] Train: Loss = 4.05257, PPX = 57.55:   3%|▎         | 23/677 [00:00<00:05, 116.69it/s]"
     ]
    },
    {
     "name": "stdout",
     "output_type": "stream",
     "text": [
      "\n",
      "ятаклюблютебянепротив\\nичтобскемнинаваснебог\\nпотомнакухнюяпополю\\nивлес\\n</s>\n"
     ]
    },
    {
     "name": "stderr",
     "output_type": "stream",
     "text": [
      "[4 / 300] Train: Loss = 4.03099, PPX = 56.32: 100%|██████████| 677/677 [00:04<00:00, 148.89it/s]\n",
      "[4 / 300]   Val: Loss = 4.14998, PPX = 63.43: 100%|██████████| 19/19 [00:00<00:00, 150.89it/s]\n",
      "[5 / 300] Train: Loss = 3.79760, PPX = 44.59:   3%|▎         | 23/677 [00:00<00:05, 119.73it/s]"
     ]
    },
    {
     "name": "stdout",
     "output_type": "stream",
     "text": [
      "\n",
      "уваспришлапроблемы\\nвеготоннеляясама\\nноятоэтотдлянепомню\\nнете\\n</s>\n"
     ]
    },
    {
     "name": "stderr",
     "output_type": "stream",
     "text": [
      "[5 / 300] Train: Loss = 3.91028, PPX = 49.91: 100%|██████████| 677/677 [00:04<00:00, 149.07it/s]\n",
      "[5 / 300]   Val: Loss = 4.13410, PPX = 62.43: 100%|██████████| 19/19 [00:00<00:00, 152.64it/s]\n",
      "[6 / 300] Train: Loss = 3.83194, PPX = 46.15:   4%|▎         | 24/677 [00:00<00:05, 127.26it/s]"
     ]
    },
    {
     "name": "stdout",
     "output_type": "stream",
     "text": [
      "\n",
      "царьвдушеснестобою\\nянемогутебялюблю\\nаялюблютебясработы\\nиты\\n</s>\n"
     ]
    },
    {
     "name": "stderr",
     "output_type": "stream",
     "text": [
      "[6 / 300] Train: Loss = 3.88976, PPX = 48.90: 100%|██████████| 677/677 [00:04<00:00, 151.92it/s]\n",
      "[6 / 300]   Val: Loss = 4.13795, PPX = 62.67: 100%|██████████| 19/19 [00:00<00:00, 159.29it/s]\n",
      "[7 / 300] Train: Loss = 3.66248, PPX = 38.96:   4%|▎         | 24/677 [00:00<00:05, 125.67it/s]"
     ]
    },
    {
     "name": "stdout",
     "output_type": "stream",
     "text": [
      "Optimizer lr = 5\n",
      "\n",
      "вконцеконцовнепонимаю\\nинеткаквсамомделев\\nневсмыслеауваслишьтолько\\nаврот\\n</s>\n"
     ]
    },
    {
     "name": "stderr",
     "output_type": "stream",
     "text": [
      "[7 / 300] Train: Loss = 3.56639, PPX = 35.39: 100%|██████████| 677/677 [00:04<00:00, 147.29it/s]\n",
      "[7 / 300]   Val: Loss = 4.09394, PPX = 59.98: 100%|██████████| 19/19 [00:00<00:00, 148.32it/s]\n",
      "[8 / 300] Train: Loss = 3.34252, PPX = 28.29:   3%|▎         | 22/677 [00:00<00:05, 115.31it/s]"
     ]
    },
    {
     "name": "stdout",
     "output_type": "stream",
     "text": [
      "\n",
      "ивандосталдомойсулыбкой\\nитолькосталохорошо\\nдатыжуженеможетпросто\\nия\\n</s>\n"
     ]
    },
    {
     "name": "stderr",
     "output_type": "stream",
     "text": [
      "[8 / 300] Train: Loss = 3.49068, PPX = 32.81: 100%|██████████| 677/677 [00:04<00:00, 148.64it/s]\n",
      "[8 / 300]   Val: Loss = 4.10514, PPX = 60.65: 100%|██████████| 19/19 [00:00<00:00, 162.53it/s]\n",
      "[9 / 300] Train: Loss = 3.42868, PPX = 30.84:   4%|▎         | 24/677 [00:00<00:05, 123.32it/s]"
     ]
    },
    {
     "name": "stdout",
     "output_type": "stream",
     "text": [
      "Optimizer lr = 1.25\n",
      "\n",
      "олегподумалкаквподарок\\nивдетствебыловсёвбреду\\nатамнанейвдеревневпиво\\nнасвет\\n</s>\n"
     ]
    },
    {
     "name": "stderr",
     "output_type": "stream",
     "text": [
      "[9 / 300] Train: Loss = 3.37976, PPX = 29.36: 100%|██████████| 677/677 [00:04<00:00, 151.89it/s]\n",
      "[9 / 300]   Val: Loss = 4.11189, PPX = 61.06: 100%|██████████| 19/19 [00:00<00:00, 154.46it/s]\n",
      "[10 / 300] Train: Loss = 3.49465, PPX = 32.94:   4%|▎         | 24/677 [00:00<00:05, 127.56it/s]"
     ]
    },
    {
     "name": "stdout",
     "output_type": "stream",
     "text": [
      "Optimizer lr = 0.3125\n",
      "\n",
      "янаписалтебеприслали\\nивсердцевстарыймиг\\nавамиправданевначале\\nхотьраз\\n</s>\n"
     ]
    },
    {
     "name": "stderr",
     "output_type": "stream",
     "text": [
      "[10 / 300] Train: Loss = 3.34092, PPX = 28.25: 100%|██████████| 677/677 [00:04<00:00, 153.88it/s]\n",
      "[10 / 300]   Val: Loss = 4.11354, PPX = 61.16: 100%|██████████| 19/19 [00:00<00:00, 150.17it/s]\n",
      "[11 / 300] Train: Loss = 3.44249, PPX = 31.26:   3%|▎         | 23/677 [00:00<00:05, 123.80it/s]"
     ]
    },
    {
     "name": "stdout",
     "output_type": "stream",
     "text": [
      "Optimizer lr = 0.078125\n",
      "\n",
      "неспитмнепоказалосьчтоты\\nнезналалияваснавас\\nавымнесовестьневла\\nнессу\\n</s>\n"
     ]
    },
    {
     "name": "stderr",
     "output_type": "stream",
     "text": [
      "[11 / 300] Train: Loss = 3.33026, PPX = 27.95: 100%|██████████| 677/677 [00:04<00:00, 150.92it/s]\n",
      "[11 / 300]   Val: Loss = 4.11545, PPX = 61.28: 100%|██████████| 19/19 [00:00<00:00, 156.65it/s]\n",
      "[12 / 300] Train: Loss = 3.39427, PPX = 29.79:   3%|▎         | 23/677 [00:00<00:05, 124.89it/s]"
     ]
    },
    {
     "name": "stdout",
     "output_type": "stream",
     "text": [
      "Optimizer lr = 0.0195312\n",
      "\n",
      "какбылотакнепротивженщин\\nкакмыстобойнаполныйроль\\nиябнамненеслишкомдаже\\nнокак\\n</s>\n"
     ]
    },
    {
     "name": "stderr",
     "output_type": "stream",
     "text": [
      "[12 / 300] Train: Loss = 3.32771, PPX = 27.87: 100%|██████████| 677/677 [00:04<00:00, 152.03it/s]\n",
      "[12 / 300]   Val: Loss = 4.11526, PPX = 61.27: 100%|██████████| 19/19 [00:00<00:00, 156.00it/s]\n",
      "[13 / 300] Train: Loss = 3.35028, PPX = 28.51:   3%|▎         | 23/677 [00:00<00:05, 118.34it/s]"
     ]
    },
    {
     "name": "stdout",
     "output_type": "stream",
     "text": [
      "Optimizer lr = 0.00488281\n",
      "\n",
      "янемогупонятьреальность\\nчтонемогубымнепомочь\\nнонемогуинепокрайнейи\\nместах\\n</s>\n"
     ]
    },
    {
     "name": "stderr",
     "output_type": "stream",
     "text": [
      "[13 / 300] Train: Loss = 3.32684, PPX = 27.85: 100%|██████████| 677/677 [00:04<00:00, 155.07it/s]\n",
      "[13 / 300]   Val: Loss = 4.11576, PPX = 61.30: 100%|██████████| 19/19 [00:00<00:00, 170.09it/s]\n",
      "[14 / 300] Train: Loss = 3.41311, PPX = 30.36:   4%|▎         | 24/677 [00:00<00:05, 124.31it/s]"
     ]
    },
    {
     "name": "stdout",
     "output_type": "stream",
     "text": [
      "Optimizer lr = 0.0012207\n",
      "\n",
      "олегневерилинаденьрожденья\\nмужчинывнебонюия\\nавотнаголовевпостели\\nилью\\n</s>\n"
     ]
    },
    {
     "name": "stderr",
     "output_type": "stream",
     "text": [
      "[14 / 300] Train: Loss = 3.32675, PPX = 27.85: 100%|██████████| 677/677 [00:04<00:00, 157.30it/s]\n",
      "[14 / 300]   Val: Loss = 4.11491, PPX = 61.25: 100%|██████████| 19/19 [00:00<00:00, 166.57it/s]\n",
      "[15 / 300] Train: Loss = 3.51649, PPX = 33.67:   4%|▎         | 24/677 [00:00<00:05, 125.87it/s]"
     ]
    },
    {
     "name": "stdout",
     "output_type": "stream",
     "text": [
      "Optimizer lr = 0.000305176\n",
      "\n",
      "янелюблютебядосмерти\\nпрошувасввасяввасо\\nхотябнанейтакможно\\nваду\\n</s>\n"
     ]
    },
    {
     "name": "stderr",
     "output_type": "stream",
     "text": [
      "[15 / 300] Train: Loss = 3.32660, PPX = 27.84: 100%|██████████| 677/677 [00:04<00:00, 150.61it/s]\n",
      "[15 / 300]   Val: Loss = 4.11514, PPX = 61.26: 100%|██████████| 19/19 [00:00<00:00, 151.00it/s]\n",
      "[16 / 300] Train: Loss = 3.33151, PPX = 27.98:   4%|▎         | 24/677 [00:00<00:05, 126.10it/s]"
     ]
    },
    {
     "name": "stdout",
     "output_type": "stream",
     "text": [
      "Optimizer lr = 7.62939e-05\n",
      "\n",
      "незнаючтотакоезоя\\nненадонасвконцетоннеля\\nпростинотысказалавыбор\\nменя\\n</s>\n"
     ]
    },
    {
     "name": "stderr",
     "output_type": "stream",
     "text": [
      "[16 / 300] Train: Loss = 3.32671, PPX = 27.85: 100%|██████████| 677/677 [00:04<00:00, 150.44it/s]\n",
      "[16 / 300]   Val: Loss = 4.11615, PPX = 61.32: 100%|██████████| 19/19 [00:00<00:00, 155.29it/s]\n",
      "[17 / 300] Train: Loss = 3.38646, PPX = 29.56:   3%|▎         | 23/677 [00:00<00:05, 119.48it/s]"
     ]
    },
    {
     "name": "stdout",
     "output_type": "stream",
     "text": [
      "Optimizer lr = 1.90735e-05\n",
      "\n",
      "ачтовызнаетемнеэто\\nчтомненеговоритьзагод\\nянедляэтогоотваших\\nменя\\n</s>\n"
     ]
    },
    {
     "name": "stderr",
     "output_type": "stream",
     "text": [
      "[17 / 300] Train: Loss = 3.32674, PPX = 27.85: 100%|██████████| 677/677 [00:04<00:00, 150.76it/s]\n",
      "[17 / 300]   Val: Loss = 4.11412, PPX = 61.20: 100%|██████████| 19/19 [00:00<00:00, 160.26it/s]\n",
      "[18 / 300] Train: Loss = 3.45071, PPX = 31.52:   4%|▎         | 25/677 [00:00<00:05, 125.13it/s]"
     ]
    },
    {
     "name": "stdout",
     "output_type": "stream",
     "text": [
      "Optimizer lr = 4.76837e-06\n",
      "\n",
      "азаокномпришлиинету\\nненадомноювидиран\\nинаграницегрудине\\nменя\\n</s>\n"
     ]
    },
    {
     "name": "stderr",
     "output_type": "stream",
     "text": [
      "[18 / 300] Train: Loss = 3.32650, PPX = 27.84: 100%|██████████| 677/677 [00:04<00:00, 150.40it/s]\n",
      "[18 / 300]   Val: Loss = 4.11618, PPX = 61.32: 100%|██████████| 19/19 [00:00<00:00, 159.35it/s]\n",
      "[19 / 300] Train: Loss = 3.38802, PPX = 29.61:   4%|▎         | 24/677 [00:00<00:05, 123.43it/s]"
     ]
    },
    {
     "name": "stdout",
     "output_type": "stream",
     "text": [
      "Optimizer lr = 1.19209e-06\n",
      "\n",
      "влесустобоюнадиване\\nяихнепомнюинебыть\\nинагрудикогдаты\\nнестой\\n</s>\n"
     ]
    },
    {
     "name": "stderr",
     "output_type": "stream",
     "text": [
      "[19 / 300] Train: Loss = 3.32647, PPX = 27.84: 100%|██████████| 677/677 [00:04<00:00, 151.86it/s]\n",
      "[19 / 300]   Val: Loss = 4.11505, PPX = 61.26: 100%|██████████| 19/19 [00:00<00:00, 153.59it/s]\n",
      "[20 / 300] Train: Loss = 3.34706, PPX = 28.42:   3%|▎         | 23/677 [00:00<00:05, 118.81it/s]"
     ]
    },
    {
     "name": "stdout",
     "output_type": "stream",
     "text": [
      "Optimizer lr = 2.98023e-07\n",
      "\n",
      "олегсмотрелвокнококсане\\nитолькотакжеснимкней\\nаможетбытьещёипросто\\nнебыть\\n</s>\n"
     ]
    },
    {
     "name": "stderr",
     "output_type": "stream",
     "text": [
      "[20 / 300] Train: Loss = 3.32660, PPX = 27.84: 100%|██████████| 677/677 [00:04<00:00, 156.10it/s]\n",
      "[20 / 300]   Val: Loss = 4.11578, PPX = 61.30: 100%|██████████| 19/19 [00:00<00:00, 163.35it/s]\n",
      "[21 / 300] Train: Loss = 3.36541, PPX = 28.95:   3%|▎         | 23/677 [00:00<00:05, 119.44it/s]"
     ]
    },
    {
     "name": "stdout",
     "output_type": "stream",
     "text": [
      "Optimizer lr = 7.45058e-08\n",
      "\n",
      "янелюблюсказалевгений\\nнепотомучтовжизнинет\\nаянеточтооннемёртва\\nвответ\\n</s>\n"
     ]
    },
    {
     "name": "stderr",
     "output_type": "stream",
     "text": [
      "[21 / 300] Train: Loss = 3.32654, PPX = 27.84: 100%|██████████| 677/677 [00:04<00:00, 149.09it/s]\n",
      "[21 / 300]   Val: Loss = 4.11691, PPX = 61.37: 100%|██████████| 19/19 [00:00<00:00, 152.75it/s]\n",
      "[22 / 300] Train: Loss = 3.35301, PPX = 28.59:   3%|▎         | 23/677 [00:00<00:05, 119.93it/s]"
     ]
    },
    {
     "name": "stdout",
     "output_type": "stream",
     "text": [
      "Optimizer lr = 1.86265e-08\n",
      "\n",
      "наэтотгодприходятвдоме\\nмирназакатогромныйшок\\nивнебополучилпоморде\\nневтой\\n</s>\n"
     ]
    },
    {
     "name": "stderr",
     "output_type": "stream",
     "text": [
      "[22 / 300] Train: Loss = 3.32679, PPX = 27.85: 100%|██████████| 677/677 [00:04<00:00, 150.06it/s]\n",
      "[22 / 300]   Val: Loss = 4.11486, PPX = 61.24: 100%|██████████| 19/19 [00:00<00:00, 157.93it/s]\n",
      "[23 / 300] Train: Loss = 3.20063, PPX = 24.55:   3%|▎         | 23/677 [00:00<00:05, 123.79it/s]"
     ]
    },
    {
     "name": "stdout",
     "output_type": "stream",
     "text": [
      "Optimizer lr = 4.65661e-09\n",
      "\n",
      "явдетствебылсказаладагде\\nнемойвменяхрустальваду\\nновсеравноябылстобою\\nзимы\\n</s>\n"
     ]
    },
    {
     "name": "stderr",
     "output_type": "stream",
     "text": [
      "[23 / 300] Train: Loss = 3.32668, PPX = 27.85: 100%|██████████| 677/677 [00:04<00:00, 150.03it/s]\n",
      "[23 / 300]   Val: Loss = 4.11463, PPX = 61.23: 100%|██████████| 19/19 [00:00<00:00, 150.91it/s]\n",
      "[24 / 300] Train: Loss = 3.22333, PPX = 25.11:   3%|▎         | 23/677 [00:00<00:05, 124.25it/s]"
     ]
    },
    {
     "name": "stdout",
     "output_type": "stream",
     "text": [
      "Optimizer lr = 1.16415e-09\n",
      "\n",
      "давайневклубсказалевгений\\nаянезнаюкаквотвам\\nмыкакбымненасамомделе\\nневив\\n</s>\n"
     ]
    },
    {
     "name": "stderr",
     "output_type": "stream",
     "text": [
      "[24 / 300] Train: Loss = 3.32665, PPX = 27.84: 100%|██████████| 677/677 [00:04<00:00, 149.30it/s]\n",
      "[24 / 300]   Val: Loss = 4.11641, PPX = 61.34: 100%|██████████| 19/19 [00:00<00:00, 151.75it/s]\n",
      "[25 / 300] Train: Loss = 3.31883, PPX = 27.63:   3%|▎         | 22/677 [00:00<00:05, 122.78it/s]"
     ]
    },
    {
     "name": "stdout",
     "output_type": "stream",
     "text": [
      "Optimizer lr = 2.91038e-10\n",
      "\n",
      "намквамродилсятовдушу\\nтоябтебенаэтутосутра\\nаэтобылсовсемнелюбишь\\nкакмог\\n</s>\n"
     ]
    },
    {
     "name": "stderr",
     "output_type": "stream",
     "text": [
      "[25 / 300] Train: Loss = 3.32634, PPX = 27.84: 100%|██████████| 677/677 [00:04<00:00, 150.78it/s]\n",
      "[25 / 300]   Val: Loss = 4.11620, PPX = 61.33: 100%|██████████| 19/19 [00:00<00:00, 157.22it/s]\n",
      "[26 / 300] Train: Loss = 3.29467, PPX = 26.97:   3%|▎         | 23/677 [00:00<00:05, 118.19it/s]"
     ]
    },
    {
     "name": "stdout",
     "output_type": "stream",
     "text": [
      "Optimizer lr = 7.27596e-11\n",
      "\n",
      "мывсеумрёмкакнистранно\\nневидишьнинашуткулет\\nаточтовнебеправдатоже\\nвчера\\n</s>\n"
     ]
    },
    {
     "name": "stderr",
     "output_type": "stream",
     "text": [
      "[26 / 300] Train: Loss = 3.32688, PPX = 27.85: 100%|██████████| 677/677 [00:04<00:00, 149.94it/s]\n",
      "[26 / 300]   Val: Loss = 4.11545, PPX = 61.28: 100%|██████████| 19/19 [00:00<00:00, 155.94it/s]\n",
      "[27 / 300] Train: Loss = 3.34686, PPX = 28.41:   3%|▎         | 23/677 [00:00<00:05, 122.70it/s]"
     ]
    },
    {
     "name": "stdout",
     "output_type": "stream",
     "text": [
      "Optimizer lr = 1.81899e-11\n",
      "\n",
      "актоунасбываетпарень\\nипеснинетувтишине\\nамнетовроткакинепоколено\\nавто\\n</s>\n"
     ]
    },
    {
     "name": "stderr",
     "output_type": "stream",
     "text": [
      "[27 / 300] Train: Loss = 3.32660, PPX = 27.84: 100%|██████████| 677/677 [00:04<00:00, 151.03it/s]\n",
      "[27 / 300]   Val: Loss = 4.11528, PPX = 61.27: 100%|██████████| 19/19 [00:00<00:00, 153.64it/s]\n",
      "[28 / 300] Train: Loss = 3.40197, PPX = 30.02:   3%|▎         | 23/677 [00:00<00:05, 119.43it/s]"
     ]
    },
    {
     "name": "stdout",
     "output_type": "stream",
     "text": [
      "Optimizer lr = 4.54747e-12\n",
      "\n",
      "яввасвдушевлюблёни\\nяивомнеуснул\\nивпрошлойжизнибылвпорядке\\nлуне\\n</s>\n"
     ]
    },
    {
     "name": "stderr",
     "output_type": "stream",
     "text": [
      "[28 / 300] Train: Loss = 3.32655, PPX = 27.84: 100%|██████████| 677/677 [00:04<00:00, 150.07it/s]\n",
      "[28 / 300]   Val: Loss = 4.11587, PPX = 61.31: 100%|██████████| 19/19 [00:00<00:00, 158.01it/s]\n",
      "[29 / 300] Train: Loss = 3.28806, PPX = 26.79:   4%|▎         | 24/677 [00:00<00:05, 125.19it/s]"
     ]
    },
    {
     "name": "stdout",
     "output_type": "stream",
     "text": [
      "Optimizer lr = 1.13687e-12\n",
      "\n",
      "всвязисутрадороги\\nзамнойиговоритнето\\nвовремямиратихошепчет\\nиплачь\\n</s>\n"
     ]
    },
    {
     "name": "stderr",
     "output_type": "stream",
     "text": [
      "[29 / 300] Train: Loss = 3.32693, PPX = 27.85: 100%|██████████| 677/677 [00:04<00:00, 155.28it/s]\n",
      "[29 / 300]   Val: Loss = 4.11705, PPX = 61.38: 100%|██████████| 19/19 [00:00<00:00, 166.64it/s]\n",
      "[30 / 300] Train: Loss = 3.30083, PPX = 27.14:   4%|▎         | 24/677 [00:00<00:05, 125.17it/s]"
     ]
    },
    {
     "name": "stdout",
     "output_type": "stream",
     "text": [
      "Optimizer lr = 2.84217e-13\n",
      "\n",
      "наденьсвятоговалентина\\nянемогуаянерад\\nнукакужтыихватит\\nнетак\\n</s>\n"
     ]
    },
    {
     "name": "stderr",
     "output_type": "stream",
     "text": [
      "[30 / 300] Train: Loss = 3.34989, PPX = 28.50:   6%|▌         | 41/677 [00:00<00:04, 144.32it/s]\n"
     ]
    },
    {
     "ename": "KeyboardInterrupt",
     "evalue": "",
     "output_type": "error",
     "traceback": [
      "\u001b[0;31m---------------------------------------------------------------------------\u001b[0m",
      "\u001b[0;31mKeyboardInterrupt\u001b[0m                         Traceback (most recent call last)",
      "\u001b[0;32m<ipython-input-20-b8468f4bb9bd>\u001b[0m in \u001b[0;36m<module>\u001b[0;34m\u001b[0m\n\u001b[1;32m      7\u001b[0m \u001b[0moptimizer\u001b[0m \u001b[0;34m=\u001b[0m \u001b[0moptim\u001b[0m\u001b[0;34m.\u001b[0m\u001b[0mSGD\u001b[0m\u001b[0;34m(\u001b[0m\u001b[0mmodel\u001b[0m\u001b[0;34m.\u001b[0m\u001b[0mparameters\u001b[0m\u001b[0;34m(\u001b[0m\u001b[0;34m)\u001b[0m\u001b[0;34m,\u001b[0m \u001b[0mlr\u001b[0m\u001b[0;34m=\u001b[0m\u001b[0;36m20.\u001b[0m\u001b[0;34m,\u001b[0m \u001b[0mweight_decay\u001b[0m\u001b[0;34m=\u001b[0m\u001b[0;36m1e-6\u001b[0m\u001b[0;34m)\u001b[0m\u001b[0;34m\u001b[0m\u001b[0;34m\u001b[0m\u001b[0m\n\u001b[1;32m      8\u001b[0m \u001b[0;34m\u001b[0m\u001b[0m\n\u001b[0;32m----> 9\u001b[0;31m \u001b[0mfit\u001b[0m\u001b[0;34m(\u001b[0m\u001b[0mmodel\u001b[0m\u001b[0;34m,\u001b[0m \u001b[0mcriterion\u001b[0m\u001b[0;34m,\u001b[0m \u001b[0moptimizer\u001b[0m\u001b[0;34m,\u001b[0m \u001b[0mtrain_iter\u001b[0m\u001b[0;34m,\u001b[0m \u001b[0mepochs_count\u001b[0m\u001b[0;34m=\u001b[0m\u001b[0;36m300\u001b[0m\u001b[0;34m,\u001b[0m \u001b[0munk_idx\u001b[0m\u001b[0;34m=\u001b[0m\u001b[0munk_idx\u001b[0m\u001b[0;34m,\u001b[0m \u001b[0mpad_idx\u001b[0m\u001b[0;34m=\u001b[0m\u001b[0mpad_idx\u001b[0m\u001b[0;34m,\u001b[0m \u001b[0mval_iter\u001b[0m\u001b[0;34m=\u001b[0m\u001b[0mtest_iter\u001b[0m\u001b[0;34m)\u001b[0m\u001b[0;34m\u001b[0m\u001b[0;34m\u001b[0m\u001b[0m\n\u001b[0m",
      "\u001b[0;32m<ipython-input-17-fb66259e34ed>\u001b[0m in \u001b[0;36mfit\u001b[0;34m(model, criterion, optimizer, train_iter, epochs_count, unk_idx, pad_idx, val_iter)\u001b[0m\n\u001b[1;32m     54\u001b[0m     \u001b[0;32mfor\u001b[0m \u001b[0mepoch\u001b[0m \u001b[0;32min\u001b[0m \u001b[0mrange\u001b[0m\u001b[0;34m(\u001b[0m\u001b[0mepochs_count\u001b[0m\u001b[0;34m)\u001b[0m\u001b[0;34m:\u001b[0m\u001b[0;34m\u001b[0m\u001b[0;34m\u001b[0m\u001b[0m\n\u001b[1;32m     55\u001b[0m         \u001b[0mname_prefix\u001b[0m \u001b[0;34m=\u001b[0m \u001b[0;34m'[{} / {}] '\u001b[0m\u001b[0;34m.\u001b[0m\u001b[0mformat\u001b[0m\u001b[0;34m(\u001b[0m\u001b[0mepoch\u001b[0m \u001b[0;34m+\u001b[0m \u001b[0;36m1\u001b[0m\u001b[0;34m,\u001b[0m \u001b[0mepochs_count\u001b[0m\u001b[0;34m)\u001b[0m\u001b[0;34m\u001b[0m\u001b[0;34m\u001b[0m\u001b[0m\n\u001b[0;32m---> 56\u001b[0;31m         \u001b[0mtrain_loss\u001b[0m \u001b[0;34m=\u001b[0m \u001b[0mdo_epoch\u001b[0m\u001b[0;34m(\u001b[0m\u001b[0mmodel\u001b[0m\u001b[0;34m,\u001b[0m \u001b[0mcriterion\u001b[0m\u001b[0;34m,\u001b[0m \u001b[0mtrain_iter\u001b[0m\u001b[0;34m,\u001b[0m \u001b[0munk_idx\u001b[0m\u001b[0;34m,\u001b[0m \u001b[0mpad_idx\u001b[0m\u001b[0;34m,\u001b[0m \u001b[0moptimizer\u001b[0m\u001b[0;34m,\u001b[0m \u001b[0mname_prefix\u001b[0m \u001b[0;34m+\u001b[0m \u001b[0;34m'Train:'\u001b[0m\u001b[0;34m)\u001b[0m\u001b[0;34m\u001b[0m\u001b[0;34m\u001b[0m\u001b[0m\n\u001b[0m\u001b[1;32m     57\u001b[0m \u001b[0;34m\u001b[0m\u001b[0m\n\u001b[1;32m     58\u001b[0m         \u001b[0;32mif\u001b[0m \u001b[0;32mnot\u001b[0m \u001b[0mval_iter\u001b[0m \u001b[0;32mis\u001b[0m \u001b[0;32mNone\u001b[0m\u001b[0;34m:\u001b[0m\u001b[0;34m\u001b[0m\u001b[0;34m\u001b[0m\u001b[0m\n",
      "\u001b[0;32m<ipython-input-17-fb66259e34ed>\u001b[0m in \u001b[0;36mdo_epoch\u001b[0;34m(model, criterion, data_iter, unk_idx, pad_idx, optimizer, name)\u001b[0m\n\u001b[1;32m     36\u001b[0m                     \u001b[0mloss\u001b[0m\u001b[0;34m.\u001b[0m\u001b[0mbackward\u001b[0m\u001b[0;34m(\u001b[0m\u001b[0;34m)\u001b[0m\u001b[0;34m\u001b[0m\u001b[0;34m\u001b[0m\u001b[0m\n\u001b[1;32m     37\u001b[0m                     \u001b[0mnn\u001b[0m\u001b[0;34m.\u001b[0m\u001b[0mutils\u001b[0m\u001b[0;34m.\u001b[0m\u001b[0mclip_grad_norm_\u001b[0m\u001b[0;34m(\u001b[0m\u001b[0mmodel\u001b[0m\u001b[0;34m.\u001b[0m\u001b[0mparameters\u001b[0m\u001b[0;34m(\u001b[0m\u001b[0;34m)\u001b[0m\u001b[0;34m,\u001b[0m \u001b[0;36m1.\u001b[0m\u001b[0;34m)\u001b[0m\u001b[0;34m\u001b[0m\u001b[0;34m\u001b[0m\u001b[0m\n\u001b[0;32m---> 38\u001b[0;31m                     \u001b[0moptimizer\u001b[0m\u001b[0;34m.\u001b[0m\u001b[0mstep\u001b[0m\u001b[0;34m(\u001b[0m\u001b[0;34m)\u001b[0m\u001b[0;34m\u001b[0m\u001b[0;34m\u001b[0m\u001b[0m\n\u001b[0m\u001b[1;32m     39\u001b[0m \u001b[0;34m\u001b[0m\u001b[0m\n\u001b[1;32m     40\u001b[0m                 \u001b[0mprogress_bar\u001b[0m\u001b[0;34m.\u001b[0m\u001b[0mupdate\u001b[0m\u001b[0;34m(\u001b[0m\u001b[0;34m)\u001b[0m\u001b[0;34m\u001b[0m\u001b[0;34m\u001b[0m\u001b[0m\n",
      "\u001b[0;32m~/miniconda3/envs/temp3/lib/python3.6/site-packages/torch/optim/sgd.py\u001b[0m in \u001b[0;36mstep\u001b[0;34m(self, closure)\u001b[0m\n\u001b[1;32m     91\u001b[0m                 \u001b[0md_p\u001b[0m \u001b[0;34m=\u001b[0m \u001b[0mp\u001b[0m\u001b[0;34m.\u001b[0m\u001b[0mgrad\u001b[0m\u001b[0;34m.\u001b[0m\u001b[0mdata\u001b[0m\u001b[0;34m\u001b[0m\u001b[0;34m\u001b[0m\u001b[0m\n\u001b[1;32m     92\u001b[0m                 \u001b[0;32mif\u001b[0m \u001b[0mweight_decay\u001b[0m \u001b[0;34m!=\u001b[0m \u001b[0;36m0\u001b[0m\u001b[0;34m:\u001b[0m\u001b[0;34m\u001b[0m\u001b[0;34m\u001b[0m\u001b[0m\n\u001b[0;32m---> 93\u001b[0;31m                     \u001b[0md_p\u001b[0m\u001b[0;34m.\u001b[0m\u001b[0madd_\u001b[0m\u001b[0;34m(\u001b[0m\u001b[0mweight_decay\u001b[0m\u001b[0;34m,\u001b[0m \u001b[0mp\u001b[0m\u001b[0;34m.\u001b[0m\u001b[0mdata\u001b[0m\u001b[0;34m)\u001b[0m\u001b[0;34m\u001b[0m\u001b[0;34m\u001b[0m\u001b[0m\n\u001b[0m\u001b[1;32m     94\u001b[0m                 \u001b[0;32mif\u001b[0m \u001b[0mmomentum\u001b[0m \u001b[0;34m!=\u001b[0m \u001b[0;36m0\u001b[0m\u001b[0;34m:\u001b[0m\u001b[0;34m\u001b[0m\u001b[0;34m\u001b[0m\u001b[0m\n\u001b[1;32m     95\u001b[0m                     \u001b[0mparam_state\u001b[0m \u001b[0;34m=\u001b[0m \u001b[0mself\u001b[0m\u001b[0;34m.\u001b[0m\u001b[0mstate\u001b[0m\u001b[0;34m[\u001b[0m\u001b[0mp\u001b[0m\u001b[0;34m]\u001b[0m\u001b[0;34m\u001b[0m\u001b[0;34m\u001b[0m\u001b[0m\n",
      "\u001b[0;31mKeyboardInterrupt\u001b[0m: "
     ]
    }
   ],
   "source": [
    "model = LMModel(vocab_size=len(train_iter.dataset.fields['text'].vocab)).to(DEVICE)\n",
    "\n",
    "pad_idx = train_iter.dataset.fields['text'].vocab.stoi['<pad>']\n",
    "unk_idx = train_iter.dataset.fields['text'].vocab.stoi['<unk>']\n",
    "criterion = nn.CrossEntropyLoss(reduction='none').to(DEVICE)\n",
    "\n",
    "optimizer = optim.SGD(model.parameters(), lr=20., weight_decay=1e-6)\n",
    "\n",
    "fit(model, criterion, optimizer, train_iter, epochs_count=300, unk_idx=unk_idx, pad_idx=pad_idx, val_iter=test_iter)"
   ]
  },
  {
   "cell_type": "markdown",
   "metadata": {
    "colab_type": "text",
    "id": "r_YtM4ms8v--"
   },
   "source": [
    "**Задание** Добавьте маскинг `<unk>` токенов при тренировке модели."
   ]
  },
  {
   "cell_type": "markdown",
   "metadata": {
    "colab_type": "text",
    "id": "LzGwmgVf9Dkg"
   },
   "source": [
    "## Улучшаем модель"
   ]
  },
  {
   "cell_type": "markdown",
   "metadata": {
    "colab_type": "text",
    "id": "BHneb8br9WXh"
   },
   "source": [
    "### Tying input and output embeddings\n",
    "\n",
    "В модели есть два эмбеддинга - входной и выходной. Красивая и полезная в жизни идея - учить только одну матрицу, расшаренную между ними: [Using the Output Embedding to Improve Language Models](http://www.aclweb.org/anthology/E17-2025).\n",
    "\n",
    "От идеи одни плюсы: получается намного меньше обучаемых параметров и при этом достаточно заметно более высокое качество.\n",
    "\n",
    "**Задание** Реализуйте это. Достаточно написать что-то типа этого в конструкторе:\n",
    "\n",
    "`self._out_layer.weight = self._emb.weight`"
   ]
  },
  {
   "cell_type": "code",
   "execution_count": 21,
   "metadata": {},
   "outputs": [],
   "source": [
    "class LMModelv2(nn.Module):\n",
    "    def __init__(self, vocab_size, emb_dim=256, lstm_hidden_dim=256, num_layers=1):\n",
    "        super().__init__()\n",
    "\n",
    "        self._emb = nn.Embedding(vocab_size, emb_dim)\n",
    "        self._rnn = nn.LSTM(input_size=emb_dim, hidden_size=lstm_hidden_dim)\n",
    "        \n",
    "        self._out_layer = nn.Linear(lstm_hidden_dim, vocab_size)\n",
    "        \n",
    "        #self._out_layer.weight = self._emb.weight\n",
    "        self._init_weights()\n",
    "        self._out_layer.weight = self._emb.weight\n",
    "\n",
    "    def _init_weights(self, init_range=0.1):\n",
    "        self._emb.weight.data.uniform_(-init_range, init_range)\n",
    "        self._out_layer.bias.data.zero_()\n",
    "        self._out_layer.weight.data.uniform_(-init_range, init_range)\n",
    "\n",
    "    def forward(self, inputs, hidden=None):\n",
    "        x = self._emb(inputs)\n",
    "        x, hidden = self._rnn(x, hidden)\n",
    "        x = self._out_layer(x)\n",
    "        return x, hidden"
   ]
  },
  {
   "cell_type": "code",
   "execution_count": 22,
   "metadata": {},
   "outputs": [
    {
     "name": "stderr",
     "output_type": "stream",
     "text": [
      "[1 / 300] Train: Loss = 4.98509, PPX = 146.22: 100%|██████████| 677/677 [00:04<00:00, 158.88it/s]\n",
      "[1 / 300]   Val: Loss = 4.43801, PPX = 84.61: 100%|██████████| 19/19 [00:00<00:00, 168.97it/s]\n",
      "[2 / 300] Train: Loss = 4.38860, PPX = 80.53:   4%|▎         | 25/677 [00:00<00:04, 132.14it/s]"
     ]
    },
    {
     "name": "stdout",
     "output_type": "stream",
     "text": [
      "\n",
      "явсвоёмденьвночи\\nанамиреянебуду\\nсегоднябывгоститотамчтото\\nвметро\\n</s>\n"
     ]
    },
    {
     "name": "stderr",
     "output_type": "stream",
     "text": [
      "[2 / 300] Train: Loss = 4.30738, PPX = 74.25: 100%|██████████| 677/677 [00:04<00:00, 158.87it/s]\n",
      "[2 / 300]   Val: Loss = 4.24582, PPX = 69.81: 100%|██████████| 19/19 [00:00<00:00, 168.29it/s]\n",
      "[3 / 300] Train: Loss = 3.90480, PPX = 49.64:   4%|▎         | 24/677 [00:00<00:05, 126.29it/s]"
     ]
    },
    {
     "name": "stdout",
     "output_type": "stream",
     "text": [
      "\n",
      "незнаюмамачтоненадо\\nвсёяпонимчтонини\\nивтрёхбредунасвете\\nикаждый\\n</s>\n"
     ]
    },
    {
     "name": "stderr",
     "output_type": "stream",
     "text": [
      "[3 / 300] Train: Loss = 4.10161, PPX = 60.44: 100%|██████████| 677/677 [00:04<00:00, 158.93it/s]\n",
      "[3 / 300]   Val: Loss = 4.16132, PPX = 64.16: 100%|██████████| 19/19 [00:00<00:00, 149.03it/s]\n",
      "[4 / 300] Train: Loss = 3.92239, PPX = 50.52:   4%|▎         | 24/677 [00:00<00:05, 123.92it/s]"
     ]
    },
    {
     "name": "stdout",
     "output_type": "stream",
     "text": [
      "\n",
      "сутравтуманеинебуду\\nнасветунастуттамтозамуж\\nаяснимвнихкнейпоморде\\nсутра\\n</s>\n"
     ]
    },
    {
     "name": "stderr",
     "output_type": "stream",
     "text": [
      "[4 / 300] Train: Loss = 3.95735, PPX = 52.32: 100%|██████████| 677/677 [00:04<00:00, 153.41it/s]\n",
      "[4 / 300]   Val: Loss = 4.11471, PPX = 61.23: 100%|██████████| 19/19 [00:00<00:00, 168.13it/s]\n",
      "[5 / 300] Train: Loss = 3.73614, PPX = 41.94:   4%|▎         | 25/677 [00:00<00:05, 129.10it/s]"
     ]
    },
    {
     "name": "stdout",
     "output_type": "stream",
     "text": [
      "\n",
      "втишисветауменяподутро\\nолегвпрудуизвсехгода\\nактотамтамещёипросто\\nухсын\\n</s>\n"
     ]
    },
    {
     "name": "stderr",
     "output_type": "stream",
     "text": [
      "[5 / 300] Train: Loss = 4.02100, PPX = 55.76: 100%|██████████| 677/677 [00:04<00:00, 160.47it/s]\n",
      "[5 / 300]   Val: Loss = 4.16859, PPX = 64.62: 100%|██████████| 19/19 [00:00<00:00, 170.80it/s]\n",
      "[6 / 300] Train: Loss = 3.71982, PPX = 41.26:   4%|▍         | 26/677 [00:00<00:05, 126.69it/s]"
     ]
    },
    {
     "name": "stdout",
     "output_type": "stream",
     "text": [
      "Optimizer lr = 5\n",
      "\n",
      "вчеранапляжеуолега\\nисамыйгодомсталодна\\nаяхочуинехочуя\\nяне\\n</s>\n"
     ]
    },
    {
     "name": "stderr",
     "output_type": "stream",
     "text": [
      "[6 / 300] Train: Loss = 3.66725, PPX = 39.14: 100%|██████████| 677/677 [00:04<00:00, 158.74it/s]\n",
      "[6 / 300]   Val: Loss = 4.07586, PPX = 58.90: 100%|██████████| 19/19 [00:00<00:00, 155.32it/s]\n",
      "[7 / 300] Train: Loss = 3.65198, PPX = 38.55:   3%|▎         | 23/677 [00:00<00:05, 126.29it/s]"
     ]
    },
    {
     "name": "stdout",
     "output_type": "stream",
     "text": [
      "\n",
      "яизсебявупорсцветами\\nиестьиниколайнетрожь\\n-ненадобмнебыбыбыно\\nнета\\n</s>\n"
     ]
    },
    {
     "name": "stderr",
     "output_type": "stream",
     "text": [
      "[7 / 300] Train: Loss = 3.57539, PPX = 35.71: 100%|██████████| 677/677 [00:04<00:00, 153.50it/s]\n",
      "[7 / 300]   Val: Loss = 4.07891, PPX = 59.08: 100%|██████████| 19/19 [00:00<00:00, 155.22it/s]\n",
      "[8 / 300] Train: Loss = 3.47446, PPX = 32.28:   4%|▎         | 24/677 [00:00<00:05, 126.77it/s]"
     ]
    },
    {
     "name": "stdout",
     "output_type": "stream",
     "text": [
      "Optimizer lr = 1.25\n",
      "\n",
      "янелюблювассвасдухом\\nнепотомучтоглебдурак\\nвитогечушьчтоонвпространстве\\nпетра\\n</s>\n"
     ]
    },
    {
     "name": "stderr",
     "output_type": "stream",
     "text": [
      "[8 / 300] Train: Loss = 3.46268, PPX = 31.90: 100%|██████████| 677/677 [00:04<00:00, 155.16it/s]\n",
      "[8 / 300]   Val: Loss = 4.08058, PPX = 59.18: 100%|██████████| 19/19 [00:00<00:00, 148.85it/s]\n",
      "[9 / 300] Train: Loss = 3.49627, PPX = 32.99:   3%|▎         | 23/677 [00:00<00:05, 122.78it/s]"
     ]
    },
    {
     "name": "stdout",
     "output_type": "stream",
     "text": [
      "Optimizer lr = 0.3125\n",
      "\n",
      "янелюблювасзапивом\\nичтобыдажебезсоюз\\nавытутвнебескрикомскриком\\nисним\\n</s>\n"
     ]
    },
    {
     "name": "stderr",
     "output_type": "stream",
     "text": [
      "[9 / 300] Train: Loss = 3.42371, PPX = 30.68: 100%|██████████| 677/677 [00:04<00:00, 162.83it/s]\n",
      "[9 / 300]   Val: Loss = 4.07984, PPX = 59.14: 100%|██████████| 19/19 [00:00<00:00, 154.42it/s]\n",
      "[10 / 300] Train: Loss = 3.44546, PPX = 31.36:   4%|▎         | 24/677 [00:00<00:05, 124.07it/s]"
     ]
    },
    {
     "name": "stdout",
     "output_type": "stream",
     "text": [
      "Optimizer lr = 0.078125\n",
      "\n",
      "чеговытутмнешлисбогом\\nядажепотебенебог\\nтоятовцеломнепроходит\\nнепрям\\n</s>\n"
     ]
    },
    {
     "name": "stderr",
     "output_type": "stream",
     "text": [
      "[10 / 300] Train: Loss = 3.41327, PPX = 30.36: 100%|██████████| 677/677 [00:04<00:00, 154.32it/s]\n",
      "[10 / 300]   Val: Loss = 4.08120, PPX = 59.22: 100%|██████████| 19/19 [00:00<00:00, 148.43it/s]\n",
      "[11 / 300] Train: Loss = 3.45051, PPX = 31.52:   4%|▎         | 24/677 [00:00<00:05, 126.13it/s]"
     ]
    },
    {
     "name": "stdout",
     "output_type": "stream",
     "text": [
      "Optimizer lr = 0.0195312\n",
      "\n",
      "былтихийвечерупоэта\\nвпостелисотсутствиемтруб\\nчтовэтомразитихолезет\\nивдуш\\n</s>\n"
     ]
    },
    {
     "name": "stderr",
     "output_type": "stream",
     "text": [
      "[11 / 300] Train: Loss = 3.41025, PPX = 30.27: 100%|██████████| 677/677 [00:04<00:00, 155.81it/s]\n",
      "[11 / 300]   Val: Loss = 4.08304, PPX = 59.33: 100%|██████████| 19/19 [00:00<00:00, 153.54it/s]\n",
      "[12 / 300] Train: Loss = 3.55009, PPX = 34.82:   4%|▎         | 25/677 [00:00<00:05, 127.31it/s]"
     ]
    },
    {
     "name": "stdout",
     "output_type": "stream",
     "text": [
      "Optimizer lr = 0.00488281\n",
      "\n",
      "ясдетстваднёмипесенвкрасном\\nапослевассудьбы\\nинаберегунепара\\nавём\\n</s>\n"
     ]
    },
    {
     "name": "stderr",
     "output_type": "stream",
     "text": [
      "[12 / 300] Train: Loss = 3.41000, PPX = 30.27: 100%|██████████| 677/677 [00:04<00:00, 155.32it/s]\n",
      "[12 / 300]   Val: Loss = 4.08277, PPX = 59.31: 100%|██████████| 19/19 [00:00<00:00, 158.81it/s]\n",
      "[13 / 300] Train: Loss = 3.43530, PPX = 31.04:   3%|▎         | 22/677 [00:00<00:05, 119.84it/s]"
     ]
    },
    {
     "name": "stdout",
     "output_type": "stream",
     "text": [
      "Optimizer lr = 0.0012207\n",
      "\n",
      "мынерабывглазанебудет\\nтыкакжечортменякоза\\nновынетакужмноговжизни\\nнесъел\\n</s>\n"
     ]
    },
    {
     "name": "stderr",
     "output_type": "stream",
     "text": [
      "[13 / 300] Train: Loss = 3.40968, PPX = 30.26: 100%|██████████| 677/677 [00:04<00:00, 154.49it/s]\n",
      "[13 / 300]   Val: Loss = 4.08230, PPX = 59.28: 100%|██████████| 19/19 [00:00<00:00, 150.51it/s]\n",
      "[14 / 300] Train: Loss = 3.35575, PPX = 28.67:   3%|▎         | 22/677 [00:00<00:06, 107.05it/s]"
     ]
    },
    {
     "name": "stdout",
     "output_type": "stream",
     "text": [
      "Optimizer lr = 0.000305176\n",
      "\n",
      "янеумеютакпрекрасна\\nивэтомнетеёнегость\\nтыпростодолженбытькакдура\\nибред\\n</s>\n"
     ]
    },
    {
     "name": "stderr",
     "output_type": "stream",
     "text": [
      "[14 / 300] Train: Loss = 3.40958, PPX = 30.25: 100%|██████████| 677/677 [00:04<00:00, 152.72it/s]\n",
      "[14 / 300]   Val: Loss = 4.08197, PPX = 59.26: 100%|██████████| 19/19 [00:00<00:00, 156.52it/s]\n",
      "[15 / 300] Train: Loss = 3.46920, PPX = 32.11:   3%|▎         | 23/677 [00:00<00:05, 122.50it/s]"
     ]
    },
    {
     "name": "stdout",
     "output_type": "stream",
     "text": [
      "Optimizer lr = 7.62939e-05\n",
      "\n",
      "явваслюблютебязатридцать\\nаялюблютебякаквнём\\nатонанейбылбылоине\\nневерь\\n</s>\n"
     ]
    },
    {
     "name": "stderr",
     "output_type": "stream",
     "text": [
      "[15 / 300] Train: Loss = 3.40987, PPX = 30.26: 100%|██████████| 677/677 [00:04<00:00, 153.45it/s]\n",
      "[15 / 300]   Val: Loss = 4.08218, PPX = 59.27: 100%|██████████| 19/19 [00:00<00:00, 156.89it/s]\n",
      "[16 / 300] Train: Loss = 3.46925, PPX = 32.11:   4%|▎         | 24/677 [00:00<00:05, 125.91it/s]"
     ]
    },
    {
     "name": "stdout",
     "output_type": "stream",
     "text": [
      "Optimizer lr = 1.90735e-05\n",
      "\n",
      "счеготывэтойжизнибылвночи\\nнаточтобылеёнето\\nавывкредититакужбольно\\nтоя\\n</s>\n"
     ]
    },
    {
     "name": "stderr",
     "output_type": "stream",
     "text": [
      "[16 / 300] Train: Loss = 3.40965, PPX = 30.25: 100%|██████████| 677/677 [00:04<00:00, 157.34it/s]\n",
      "[16 / 300]   Val: Loss = 4.08295, PPX = 59.32: 100%|██████████| 19/19 [00:00<00:00, 152.90it/s]\n",
      "[17 / 300] Train: Loss = 3.42955, PPX = 30.86:   3%|▎         | 22/677 [00:00<00:05, 123.03it/s]"
     ]
    },
    {
     "name": "stdout",
     "output_type": "stream",
     "text": [
      "Optimizer lr = 4.76837e-06\n",
      "\n",
      "ниянивчёмпоэтимнето\\nнезналчтодумаюотом\\nчтоянезналчтоостаётся\\nнаты\\n</s>\n"
     ]
    },
    {
     "name": "stderr",
     "output_type": "stream",
     "text": [
      "[17 / 300] Train: Loss = 3.40968, PPX = 30.26: 100%|██████████| 677/677 [00:04<00:00, 153.80it/s]\n",
      "[17 / 300]   Val: Loss = 4.08211, PPX = 59.27: 100%|██████████| 19/19 [00:00<00:00, 155.01it/s]\n",
      "[18 / 300] Train: Loss = 3.52533, PPX = 33.97:   3%|▎         | 23/677 [00:00<00:05, 123.97it/s]"
     ]
    },
    {
     "name": "stdout",
     "output_type": "stream",
     "text": [
      "Optimizer lr = 1.19209e-06\n",
      "\n",
      "вокносработыкаждыйдесять\\nияединственныйитру\\nитолькочтоонимненужен\\nамуж\\n</s>\n"
     ]
    },
    {
     "name": "stderr",
     "output_type": "stream",
     "text": [
      "[18 / 300] Train: Loss = 3.40969, PPX = 30.26: 100%|██████████| 677/677 [00:04<00:00, 157.47it/s]\n",
      "[18 / 300]   Val: Loss = 4.08354, PPX = 59.36: 100%|██████████| 19/19 [00:00<00:00, 159.98it/s]\n",
      "[19 / 300] Train: Loss = 3.49720, PPX = 33.02:   4%|▎         | 24/677 [00:00<00:05, 127.63it/s]"
     ]
    },
    {
     "name": "stdout",
     "output_type": "stream",
     "text": [
      "Optimizer lr = 2.98023e-07\n",
      "\n",
      "чтозначитвэтоммиреможно\\nспросиляпьюикактаков\\nаяужеинежелает\\nавнем\\n</s>\n"
     ]
    },
    {
     "name": "stderr",
     "output_type": "stream",
     "text": [
      "[19 / 300] Train: Loss = 3.40949, PPX = 30.25: 100%|██████████| 677/677 [00:04<00:00, 156.60it/s]\n",
      "[19 / 300]   Val: Loss = 4.08268, PPX = 59.30: 100%|██████████| 19/19 [00:00<00:00, 151.51it/s]\n",
      "[20 / 300] Train: Loss = 3.19376, PPX = 24.38:   4%|▎         | 24/677 [00:00<00:05, 123.60it/s]"
     ]
    },
    {
     "name": "stdout",
     "output_type": "stream",
     "text": [
      "Optimizer lr = 7.45058e-08\n",
      "\n",
      "янехочупоэтуводу\\nневсилахливэтомневчом\\nвотвотужехотьнаработу\\nия\\n</s>\n"
     ]
    },
    {
     "name": "stderr",
     "output_type": "stream",
     "text": [
      "[20 / 300] Train: Loss = 3.40982, PPX = 30.26: 100%|██████████| 677/677 [00:04<00:00, 153.12it/s]\n",
      "[20 / 300]   Val: Loss = 4.08100, PPX = 59.20: 100%|██████████| 19/19 [00:00<00:00, 150.30it/s]\n",
      "[21 / 300] Train: Loss = 3.39221, PPX = 29.73:   4%|▎         | 24/677 [00:00<00:05, 125.69it/s]"
     ]
    },
    {
     "name": "stdout",
     "output_type": "stream",
     "text": [
      "Optimizer lr = 1.86265e-08\n",
      "\n",
      "втвоихрукенавсётовшляпе\\nиэтоткрестпотомвесьдень\\nанаменяниподнестанет\\nнинет\\n</s>\n"
     ]
    },
    {
     "name": "stderr",
     "output_type": "stream",
     "text": [
      "[21 / 300] Train: Loss = 3.40968, PPX = 30.26: 100%|██████████| 677/677 [00:04<00:00, 151.86it/s]\n",
      "[21 / 300]   Val: Loss = 4.08273, PPX = 59.31: 100%|██████████| 19/19 [00:00<00:00, 152.34it/s]\n",
      "[22 / 300] Train: Loss = 3.44157, PPX = 31.24:   4%|▎         | 25/677 [00:00<00:05, 128.58it/s]"
     ]
    },
    {
     "name": "stdout",
     "output_type": "stream",
     "text": [
      "Optimizer lr = 4.65661e-09\n",
      "\n",
      "напляжетихоопустился\\nвглазахуженщинынахрам\\nинехватаетмнессобой\\nнева\\n</s>\n"
     ]
    },
    {
     "name": "stderr",
     "output_type": "stream",
     "text": [
      "[22 / 300] Train: Loss = 3.40960, PPX = 30.25: 100%|██████████| 677/677 [00:04<00:00, 154.81it/s]\n",
      "[22 / 300]   Val: Loss = 4.08212, PPX = 59.27: 100%|██████████| 19/19 [00:00<00:00, 169.83it/s]\n",
      "[23 / 300] Train: Loss = 3.47803, PPX = 32.40:   4%|▍         | 26/677 [00:00<00:04, 134.60it/s]"
     ]
    },
    {
     "name": "stdout",
     "output_type": "stream",
     "text": [
      "Optimizer lr = 1.16415e-09\n",
      "\n",
      "ядумалчтотамзаздоровье\\nипоутрамвсегдасемья\\nнонехватаетисместа\\nсума\\n</s>\n"
     ]
    },
    {
     "name": "stderr",
     "output_type": "stream",
     "text": [
      "[23 / 300] Train: Loss = 3.40974, PPX = 30.26: 100%|██████████| 677/677 [00:04<00:00, 156.54it/s]\n",
      "[23 / 300]   Val: Loss = 4.08259, PPX = 59.30: 100%|██████████| 19/19 [00:00<00:00, 152.10it/s]\n",
      "[24 / 300] Train: Loss = 3.31789, PPX = 27.60:   4%|▎         | 24/677 [00:00<00:05, 124.39it/s]"
     ]
    },
    {
     "name": "stdout",
     "output_type": "stream",
     "text": [
      "Optimizer lr = 2.91038e-10\n",
      "\n",
      "янехочубытьзанами\\nневиднобольшечемнето\\nаточтоэтобылпоследний\\nзачем\\n</s>\n"
     ]
    },
    {
     "name": "stderr",
     "output_type": "stream",
     "text": [
      "[24 / 300] Train: Loss = 3.40978, PPX = 30.26: 100%|██████████| 677/677 [00:04<00:00, 153.35it/s]\n",
      "[24 / 300]   Val: Loss = 4.08246, PPX = 59.29: 100%|██████████| 19/19 [00:00<00:00, 156.08it/s]\n",
      "[25 / 300] Train: Loss = 3.31423, PPX = 27.50:   4%|▎         | 24/677 [00:00<00:05, 126.63it/s]"
     ]
    },
    {
     "name": "stdout",
     "output_type": "stream",
     "text": [
      "Optimizer lr = 7.27596e-11\n",
      "\n",
      "вкостюмеотношенийнапороге\\nвдругвдругнаголовевлесу\\nатонеможетбытькакраньше\\nнета\\n</s>\n"
     ]
    },
    {
     "name": "stderr",
     "output_type": "stream",
     "text": [
      "[25 / 300] Train: Loss = 3.40957, PPX = 30.25: 100%|██████████| 677/677 [00:04<00:00, 154.23it/s]\n",
      "[25 / 300]   Val: Loss = 4.08206, PPX = 59.27: 100%|██████████| 19/19 [00:00<00:00, 148.72it/s]\n",
      "[26 / 300] Train: Loss = 3.46126, PPX = 31.86:   3%|▎         | 23/677 [00:00<00:05, 124.65it/s]"
     ]
    },
    {
     "name": "stdout",
     "output_type": "stream",
     "text": [
      "Optimizer lr = 1.81899e-11\n",
      "\n",
      "увасвадуестьгдетовэтом\\nсказаламамаэтобольно\\nимнестобоюделатьбвночьль\\nнете\\n</s>\n"
     ]
    },
    {
     "name": "stderr",
     "output_type": "stream",
     "text": [
      "[26 / 300] Train: Loss = 3.40960, PPX = 30.25: 100%|██████████| 677/677 [00:04<00:00, 161.81it/s]\n",
      "[26 / 300]   Val: Loss = 4.08350, PPX = 59.35: 100%|██████████| 19/19 [00:00<00:00, 151.82it/s]\n",
      "[27 / 300] Train: Loss = 3.40608, PPX = 30.15:   4%|▎         | 25/677 [00:00<00:04, 135.79it/s]"
     ]
    },
    {
     "name": "stdout",
     "output_type": "stream",
     "text": [
      "Optimizer lr = 4.54747e-12\n",
      "\n",
      "янаночьпостепенноколя\\nивнёмотэтогонестал\\nатакжекакбыянепомню\\nничей\\n</s>\n"
     ]
    },
    {
     "name": "stderr",
     "output_type": "stream",
     "text": [
      "[27 / 300] Train: Loss = 3.40932, PPX = 30.24: 100%|██████████| 677/677 [00:04<00:00, 154.48it/s]\n",
      "[27 / 300]   Val: Loss = 4.08187, PPX = 59.26: 100%|██████████| 19/19 [00:00<00:00, 154.86it/s]\n",
      "[28 / 300] Train: Loss = 3.30222, PPX = 27.17:   3%|▎         | 23/677 [00:00<00:05, 126.28it/s]"
     ]
    },
    {
     "name": "stdout",
     "output_type": "stream",
     "text": [
      "Optimizer lr = 1.13687e-12\n",
      "\n",
      "онвсёбезнаснеговорили\\nнавсехтехктобылводном\\nаможетбытьещёнеможет\\nизъян\\n</s>\n"
     ]
    },
    {
     "name": "stderr",
     "output_type": "stream",
     "text": [
      "[28 / 300] Train: Loss = 3.40970, PPX = 30.26: 100%|██████████| 677/677 [00:04<00:00, 154.46it/s]\n",
      "[28 / 300]   Val: Loss = 4.08217, PPX = 59.27: 100%|██████████| 19/19 [00:00<00:00, 153.90it/s]\n",
      "[29 / 300] Train: Loss = 3.33672, PPX = 28.13:   4%|▎         | 24/677 [00:00<00:05, 127.59it/s]"
     ]
    },
    {
     "name": "stdout",
     "output_type": "stream",
     "text": [
      "Optimizer lr = 2.84217e-13\n",
      "\n",
      "мысвамикакнибудьвприхожей\\nявтомчтовнёмвсёпьянивней\\nнукакжетыменянелюбишь\\nкутру\\n</s>\n"
     ]
    },
    {
     "name": "stderr",
     "output_type": "stream",
     "text": [
      "[29 / 300] Train: Loss = 3.40967, PPX = 30.26: 100%|██████████| 677/677 [00:04<00:00, 155.14it/s]\n",
      "[29 / 300]   Val: Loss = 4.08179, PPX = 59.25: 100%|██████████| 19/19 [00:00<00:00, 153.88it/s]\n",
      "[30 / 300] Train: Loss = 3.20728, PPX = 24.71:   4%|▎         | 25/677 [00:00<00:05, 126.13it/s]"
     ]
    },
    {
     "name": "stdout",
     "output_type": "stream",
     "text": [
      "Optimizer lr = 7.10543e-14\n",
      "\n",
      "янелюблюваспостоянно\\nненадобытьбыладавно\\nатакжедниивовсене\\nнеплачь\\n</s>\n"
     ]
    },
    {
     "name": "stderr",
     "output_type": "stream",
     "text": [
      "[30 / 300] Train: Loss = 3.40967, PPX = 30.26: 100%|██████████| 677/677 [00:04<00:00, 152.60it/s]\n",
      "[30 / 300]   Val: Loss = 4.08154, PPX = 59.24: 100%|██████████| 19/19 [00:00<00:00, 155.30it/s]\n",
      "[31 / 300] Train: Loss = 3.35783, PPX = 28.73:   4%|▎         | 25/677 [00:00<00:05, 124.68it/s]"
     ]
    },
    {
     "name": "stdout",
     "output_type": "stream",
     "text": [
      "Optimizer lr = 1.77636e-14\n",
      "\n",
      "когдаявнашколхозприехал\\nвнутрименябольшойипуст\\nауменянаэтотслучай\\nвночь\\n</s>\n"
     ]
    },
    {
     "name": "stderr",
     "output_type": "stream",
     "text": [
      "[31 / 300] Train: Loss = 3.40941, PPX = 30.25: 100%|██████████| 677/677 [00:04<00:00, 161.12it/s]\n",
      "[31 / 300]   Val: Loss = 4.08075, PPX = 59.19: 100%|██████████| 19/19 [00:00<00:00, 166.80it/s]\n",
      "[32 / 300] Train: Loss = 3.30739, PPX = 27.31:   4%|▎         | 25/677 [00:00<00:05, 128.46it/s]"
     ]
    },
    {
     "name": "stdout",
     "output_type": "stream",
     "text": [
      "Optimizer lr = 4.44089e-15\n",
      "\n",
      "зухрасбукетомнаработу\\nивэтомнетсовсехсторон\\nнотыирыбувэтомтапки\\nвосмысле\\n</s>\n"
     ]
    },
    {
     "name": "stderr",
     "output_type": "stream",
     "text": [
      "[32 / 300] Train: Loss = 3.40972, PPX = 30.26: 100%|██████████| 677/677 [00:04<00:00, 157.96it/s]\n",
      "[32 / 300]   Val: Loss = 4.08270, PPX = 59.31: 100%|██████████| 19/19 [00:00<00:00, 157.56it/s]\n",
      "[33 / 300] Train: Loss = 3.41039, PPX = 30.28:   3%|▎         | 23/677 [00:00<00:05, 119.65it/s]"
     ]
    },
    {
     "name": "stdout",
     "output_type": "stream",
     "text": [
      "Optimizer lr = 1.11022e-15\n",
      "\n",
      "враювидалмывсемывместе\\nянемогупонятьвамгод\\nонможетбытьинехватает\\nвпакет\\n</s>\n"
     ]
    },
    {
     "name": "stderr",
     "output_type": "stream",
     "text": [
      "[33 / 300] Train: Loss = 3.40963, PPX = 30.25: 100%|██████████| 677/677 [00:04<00:00, 157.85it/s]\n",
      "[33 / 300]   Val: Loss = 4.08207, PPX = 59.27: 100%|██████████| 19/19 [00:00<00:00, 164.84it/s]\n",
      "[34 / 300] Train: Loss = 3.35462, PPX = 28.63:   4%|▎         | 25/677 [00:00<00:04, 132.56it/s]"
     ]
    },
    {
     "name": "stdout",
     "output_type": "stream",
     "text": [
      "Optimizer lr = 2.77556e-16\n",
      "\n",
      "начтотожуткотамприснилось\\nитымнеговоришькакзнать\\nамыстобойвглазахнистранно\\nнивчём\\n</s>\n"
     ]
    },
    {
     "name": "stderr",
     "output_type": "stream",
     "text": [
      "[34 / 300] Train: Loss = 3.40975, PPX = 30.26: 100%|██████████| 677/677 [00:04<00:00, 157.10it/s]\n",
      "[34 / 300]   Val: Loss = 4.08204, PPX = 59.27: 100%|██████████| 19/19 [00:00<00:00, 152.70it/s]\n",
      "[35 / 300] Train: Loss = 3.26702, PPX = 26.23:   4%|▎         | 24/677 [00:00<00:05, 126.85it/s]"
     ]
    },
    {
     "name": "stdout",
     "output_type": "stream",
     "text": [
      "Optimizer lr = 6.93889e-17\n",
      "\n",
      "нучтожтызнаешьоприроде\\nчтовэтомбылсовсемнерад\\nионвсебяилишьпожизни\\nвконе\\n</s>\n"
     ]
    },
    {
     "name": "stderr",
     "output_type": "stream",
     "text": [
      "[35 / 300] Train: Loss = 3.40968, PPX = 30.26: 100%|██████████| 677/677 [00:04<00:00, 154.48it/s]\n",
      "[35 / 300]   Val: Loss = 4.08195, PPX = 59.26: 100%|██████████| 19/19 [00:00<00:00, 156.75it/s]\n",
      "[36 / 300] Train: Loss = 3.29997, PPX = 27.11:   3%|▎         | 23/677 [00:00<00:05, 126.03it/s]"
     ]
    },
    {
     "name": "stdout",
     "output_type": "stream",
     "text": [
      "Optimizer lr = 1.73472e-17\n",
      "\n",
      "неточтобоченьчастовжизни\\nнепотомучтоянебыл\\nтыбснейлитывтеплеивбелом\\nнея\\n</s>\n"
     ]
    },
    {
     "name": "stderr",
     "output_type": "stream",
     "text": [
      "[36 / 300] Train: Loss = 3.40954, PPX = 30.25: 100%|██████████| 677/677 [00:04<00:00, 155.26it/s]\n",
      "[36 / 300]   Val: Loss = 4.08176, PPX = 59.25: 100%|██████████| 19/19 [00:00<00:00, 157.49it/s]\n",
      "[37 / 300] Train: Loss = 3.37480, PPX = 29.22:   4%|▎         | 24/677 [00:00<00:05, 124.85it/s]"
     ]
    },
    {
     "name": "stdout",
     "output_type": "stream",
     "text": [
      "Optimizer lr = 4.33681e-18\n",
      "\n",
      "накухнескемтостранно\\nивдомедажекнимб\\nлишьяженанеёнотоже\\nнераз\\n</s>\n"
     ]
    },
    {
     "name": "stderr",
     "output_type": "stream",
     "text": [
      "[37 / 300] Train: Loss = 3.40964, PPX = 30.25: 100%|██████████| 677/677 [00:04<00:00, 154.61it/s]\n",
      "[37 / 300]   Val: Loss = 4.08271, PPX = 59.31: 100%|██████████| 19/19 [00:00<00:00, 160.36it/s]\n",
      "[38 / 300] Train: Loss = 3.32142, PPX = 27.70:   4%|▎         | 25/677 [00:00<00:04, 132.43it/s]"
     ]
    },
    {
     "name": "stdout",
     "output_type": "stream",
     "text": [
      "Optimizer lr = 1.0842e-18\n",
      "\n",
      "влесунадняхолегсцветами\\nнанеберекииротвпальто\\nнанольияиягдесоздал\\nвквадрат\\n</s>\n"
     ]
    },
    {
     "name": "stderr",
     "output_type": "stream",
     "text": [
      "[38 / 300] Train: Loss = 3.40947, PPX = 30.25: 100%|██████████| 677/677 [00:04<00:00, 161.86it/s]\n",
      "[38 / 300]   Val: Loss = 4.08255, PPX = 59.30: 100%|██████████| 19/19 [00:00<00:00, 153.77it/s]\n",
      "[39 / 300] Train: Loss = 3.57475, PPX = 35.69:   3%|▎         | 23/677 [00:00<00:05, 125.48it/s]"
     ]
    },
    {
     "name": "stdout",
     "output_type": "stream",
     "text": [
      "Optimizer lr = 2.71051e-19\n",
      "\n",
      "мывсебнарынкетакнаместе\\nчтонавойненетакужплох\\nматьлишьнастолекнейскриком\\nивпуть\\n</s>\n"
     ]
    },
    {
     "name": "stderr",
     "output_type": "stream",
     "text": [
      "[39 / 300] Train: Loss = 3.40972, PPX = 30.26: 100%|██████████| 677/677 [00:04<00:00, 154.06it/s]\n",
      "[39 / 300]   Val: Loss = 4.08146, PPX = 59.23: 100%|██████████| 19/19 [00:00<00:00, 157.10it/s]\n",
      "[40 / 300] Train: Loss = 3.49006, PPX = 32.79:   4%|▎         | 24/677 [00:00<00:05, 126.66it/s]"
     ]
    },
    {
     "name": "stdout",
     "output_type": "stream",
     "text": [
      "Optimizer lr = 6.77626e-20\n",
      "\n",
      "авотивсёжечтотоестьли\\nненадобылоинето\\nчтожтытакэтовсёкаквжизни\\nспетром\\n</s>\n"
     ]
    },
    {
     "name": "stderr",
     "output_type": "stream",
     "text": [
      "[40 / 300] Train: Loss = 3.40955, PPX = 30.25: 100%|██████████| 677/677 [00:04<00:00, 154.95it/s]\n",
      "[40 / 300]   Val: Loss = 4.08288, PPX = 59.32: 100%|██████████| 19/19 [00:00<00:00, 156.45it/s]\n",
      "[41 / 300] Train: Loss = 3.49503, PPX = 32.95:   3%|▎         | 23/677 [00:00<00:05, 117.57it/s]"
     ]
    },
    {
     "name": "stdout",
     "output_type": "stream",
     "text": [
      "Optimizer lr = 1.69407e-20\n",
      "\n",
      "ясдетстваваснепонимаю\\nновотивсёневнейнивчём\\nнивнихниестьнипосленина\\nавчём\\n</s>\n"
     ]
    },
    {
     "name": "stderr",
     "output_type": "stream",
     "text": [
      "[41 / 300] Train: Loss = 3.40968, PPX = 30.26: 100%|██████████| 677/677 [00:04<00:00, 154.88it/s]\n",
      "[41 / 300]   Val: Loss = 4.08202, PPX = 59.27: 100%|██████████| 19/19 [00:00<00:00, 152.15it/s]\n",
      "[42 / 300] Train: Loss = 3.36896, PPX = 29.05:   4%|▎         | 24/677 [00:00<00:05, 123.24it/s]"
     ]
    },
    {
     "name": "stdout",
     "output_type": "stream",
     "text": [
      "Optimizer lr = 4.23516e-21\n",
      "\n",
      "воттыбнезнаешьчтослучилось\\nиснамиялежитвпальто\\nивдругвглазахивуховпарке\\nвгостях\\n</s>\n"
     ]
    },
    {
     "name": "stderr",
     "output_type": "stream",
     "text": [
      "[42 / 300] Train: Loss = 3.40981, PPX = 30.26: 100%|██████████| 677/677 [00:04<00:00, 154.56it/s]\n",
      "[42 / 300]   Val: Loss = 4.08198, PPX = 59.26: 100%|██████████| 19/19 [00:00<00:00, 164.46it/s]\n",
      "[43 / 300] Train: Loss = 3.41845, PPX = 30.52:   4%|▎         | 25/677 [00:00<00:04, 133.00it/s]"
     ]
    },
    {
     "name": "stdout",
     "output_type": "stream",
     "text": [
      "Optimizer lr = 1.05879e-21\n",
      "\n",
      "зухрасогромнымивпостели\\nзаходитвкартынастоле\\nпоканетенетолькоане\\nкаквсе\\n</s>\n"
     ]
    },
    {
     "name": "stderr",
     "output_type": "stream",
     "text": [
      "[43 / 300] Train: Loss = 3.40972, PPX = 30.26: 100%|██████████| 677/677 [00:04<00:00, 159.38it/s]\n",
      "[43 / 300]   Val: Loss = 4.08207, PPX = 59.27: 100%|██████████| 19/19 [00:00<00:00, 162.07it/s]\n",
      "[44 / 300] Train: Loss = 3.33099, PPX = 27.97:   4%|▎         | 25/677 [00:00<00:05, 129.47it/s]"
     ]
    },
    {
     "name": "stdout",
     "output_type": "stream",
     "text": [
      "Optimizer lr = 2.64698e-22\n",
      "\n",
      "кнамизкустовоксаны\\nивужасеконецбокал\\nитутжевдомевсёбезводки\\nвокно\\n</s>\n"
     ]
    },
    {
     "name": "stderr",
     "output_type": "stream",
     "text": [
      "[44 / 300] Train: Loss = 3.40976, PPX = 30.26: 100%|██████████| 677/677 [00:04<00:00, 159.14it/s]\n",
      "[44 / 300]   Val: Loss = 4.08250, PPX = 59.29: 100%|██████████| 19/19 [00:00<00:00, 157.37it/s]\n",
      "[45 / 300] Train: Loss = 3.42746, PPX = 30.80:   3%|▎         | 22/677 [00:00<00:06, 108.87it/s]"
     ]
    },
    {
     "name": "stdout",
     "output_type": "stream",
     "text": [
      "Optimizer lr = 6.61744e-23\n",
      "\n",
      "воттакябьюпрочудомама\\nпотомещёводинлицо\\nвокновглазахменяисердце\\nитут\\n</s>\n"
     ]
    },
    {
     "name": "stderr",
     "output_type": "stream",
     "text": [
      "[45 / 300] Train: Loss = 3.40988, PPX = 30.26: 100%|██████████| 677/677 [00:04<00:00, 152.65it/s]\n",
      "[45 / 300]   Val: Loss = 4.08156, PPX = 59.24: 100%|██████████| 19/19 [00:00<00:00, 154.28it/s]\n",
      "[46 / 300] Train: Loss = 3.52913, PPX = 34.09:   3%|▎         | 23/677 [00:00<00:05, 125.50it/s]"
     ]
    },
    {
     "name": "stdout",
     "output_type": "stream",
     "text": [
      "Optimizer lr = 1.65436e-23\n",
      "\n",
      "агдетовпрошломзатобою\\nвоттаквотэтувотгусь\\nинатаблоиванвсемтелом\\nичорт\\n</s>\n"
     ]
    },
    {
     "name": "stderr",
     "output_type": "stream",
     "text": [
      "[46 / 300] Train: Loss = 3.40964, PPX = 30.25: 100%|██████████| 677/677 [00:04<00:00, 153.78it/s]\n",
      "[46 / 300]   Val: Loss = 4.08178, PPX = 59.25: 100%|██████████| 19/19 [00:00<00:00, 158.36it/s]\n",
      "[47 / 300] Train: Loss = 3.33764, PPX = 28.15:   4%|▎         | 25/677 [00:00<00:05, 127.69it/s]"
     ]
    },
    {
     "name": "stdout",
     "output_type": "stream",
     "text": [
      "Optimizer lr = 4.1359e-24\n",
      "\n",
      "однаждывпещеренепомню\\nктомучтовэтотгоддругой\\nитольковцеломнехватает\\nвруке\\n</s>\n"
     ]
    },
    {
     "name": "stderr",
     "output_type": "stream",
     "text": [
      "[47 / 300] Train: Loss = 3.40963, PPX = 30.25: 100%|██████████| 677/677 [00:04<00:00, 152.82it/s]\n",
      "[47 / 300]   Val: Loss = 4.08397, PPX = 59.38: 100%|██████████| 19/19 [00:00<00:00, 153.18it/s]\n",
      "[48 / 300] Train: Loss = 3.54482, PPX = 34.63:   4%|▎         | 25/677 [00:00<00:05, 126.43it/s]"
     ]
    },
    {
     "name": "stdout",
     "output_type": "stream",
     "text": [
      "Optimizer lr = 1.03398e-24\n",
      "\n",
      "янемогутебяродная\\nзачтоиянерадносекс\\nаэтопростоговоритьв\\nяне\\n</s>\n"
     ]
    },
    {
     "name": "stderr",
     "output_type": "stream",
     "text": [
      "[48 / 300] Train: Loss = 3.40935, PPX = 30.25: 100%|██████████| 677/677 [00:04<00:00, 155.15it/s]\n",
      "[48 / 300]   Val: Loss = 4.08227, PPX = 59.28: 100%|██████████| 19/19 [00:00<00:00, 157.45it/s]\n",
      "[49 / 300] Train: Loss = 3.44610, PPX = 31.38:   3%|▎         | 22/677 [00:00<00:05, 117.72it/s]"
     ]
    },
    {
     "name": "stdout",
     "output_type": "stream",
     "text": [
      "Optimizer lr = 2.58494e-25\n",
      "\n",
      "неждётмыбудеммыхотели\\nянасебявтомсутьнедам\\nатоскемвынетакужплохо\\nатыб\\n</s>\n"
     ]
    },
    {
     "name": "stderr",
     "output_type": "stream",
     "text": [
      "[49 / 300] Train: Loss = 3.40966, PPX = 30.25: 100%|██████████| 677/677 [00:04<00:00, 155.45it/s]\n",
      "[49 / 300]   Val: Loss = 4.08221, PPX = 59.28: 100%|██████████| 19/19 [00:00<00:00, 152.37it/s]\n",
      "[50 / 300] Train: Loss = 3.51529, PPX = 33.63:   3%|▎         | 23/677 [00:00<00:05, 126.86it/s]"
     ]
    },
    {
     "name": "stdout",
     "output_type": "stream",
     "text": [
      "Optimizer lr = 6.46235e-26\n",
      "\n",
      "втишиженывнииивпарке\\nиговоритнучтожтыж\\nноонвлесуиснимидаже\\nвплену\\n</s>\n"
     ]
    },
    {
     "name": "stderr",
     "output_type": "stream",
     "text": [
      "[50 / 300] Train: Loss = 3.40990, PPX = 30.26: 100%|██████████| 677/677 [00:04<00:00, 153.35it/s]\n",
      "[50 / 300]   Val: Loss = 4.08180, PPX = 59.25: 100%|██████████| 19/19 [00:00<00:00, 150.67it/s]\n",
      "[51 / 300] Train: Loss = 3.58484, PPX = 36.05:   4%|▎         | 24/677 [00:00<00:05, 125.92it/s]"
     ]
    },
    {
     "name": "stdout",
     "output_type": "stream",
     "text": [
      "Optimizer lr = 1.61559e-26\n",
      "\n",
      "олегкричитмнеснитсягород\\nитольковтишинеполос\\nянемогутебесегодня\\nния\\n</s>\n"
     ]
    },
    {
     "name": "stderr",
     "output_type": "stream",
     "text": [
      "[51 / 300] Train: Loss = 3.40952, PPX = 30.25: 100%|██████████| 677/677 [00:04<00:00, 155.19it/s]\n",
      "[51 / 300]   Val: Loss = 4.08069, PPX = 59.19: 100%|██████████| 19/19 [00:00<00:00, 156.19it/s]\n",
      "[52 / 300] Train: Loss = 3.43613, PPX = 31.07:   4%|▎         | 25/677 [00:00<00:05, 127.56it/s]"
     ]
    },
    {
     "name": "stdout",
     "output_type": "stream",
     "text": [
      "Optimizer lr = 4.03897e-27\n",
      "\n",
      "авынебылотакаркадий\\nвсеэтисмотрятналуну\\nииззагорсработымордой\\nнадне\\n</s>\n"
     ]
    },
    {
     "name": "stderr",
     "output_type": "stream",
     "text": [
      "[52 / 300] Train: Loss = 3.40968, PPX = 30.26: 100%|██████████| 677/677 [00:04<00:00, 155.57it/s]\n",
      "[52 / 300]   Val: Loss = 4.08303, PPX = 59.32: 100%|██████████| 19/19 [00:00<00:00, 168.26it/s]\n",
      "[53 / 300] Train: Loss = 3.42038, PPX = 30.58:   4%|▎         | 24/677 [00:00<00:05, 124.14it/s]"
     ]
    },
    {
     "name": "stdout",
     "output_type": "stream",
     "text": [
      "Optimizer lr = 1.00974e-27\n",
      "\n",
      "янемогуяэтобольше\\nнеоченьбылоинето\\nивтомянебылбольшениза\\nния\\n</s>\n"
     ]
    },
    {
     "name": "stderr",
     "output_type": "stream",
     "text": [
      "[53 / 300] Train: Loss = 3.40939, PPX = 30.25: 100%|██████████| 677/677 [00:04<00:00, 155.90it/s]\n",
      "[53 / 300]   Val: Loss = 4.08323, PPX = 59.34: 100%|██████████| 19/19 [00:00<00:00, 157.60it/s]\n",
      "[54 / 300] Train: Loss = 3.35100, PPX = 28.53:   4%|▎         | 24/677 [00:00<00:05, 124.62it/s]"
     ]
    },
    {
     "name": "stdout",
     "output_type": "stream",
     "text": [
      "Optimizer lr = 2.52435e-28\n",
      "\n",
      "вглазахуженщинытакая\\nвконтактеянетакужплох\\nномненедалиноначтото\\nвглаза\\n</s>\n"
     ]
    },
    {
     "name": "stderr",
     "output_type": "stream",
     "text": [
      "[54 / 300] Train: Loss = 3.40983, PPX = 30.26: 100%|██████████| 677/677 [00:04<00:00, 163.02it/s]\n",
      "[54 / 300]   Val: Loss = 4.08189, PPX = 59.26: 100%|██████████| 19/19 [00:00<00:00, 167.14it/s]\n",
      "[55 / 300] Train: Loss = 3.29045, PPX = 26.85:   4%|▍         | 26/677 [00:00<00:04, 133.88it/s]"
     ]
    },
    {
     "name": "stdout",
     "output_type": "stream",
     "text": [
      "Optimizer lr = 6.31089e-29\n",
      "\n",
      "вконцеконцовмынезаметил\\nинеодинниктосума\\nавчёмтобылоднапотом\\nкакты\\n</s>\n"
     ]
    },
    {
     "name": "stderr",
     "output_type": "stream",
     "text": [
      "[55 / 300] Train: Loss = 3.40987, PPX = 30.26: 100%|██████████| 677/677 [00:04<00:00, 164.70it/s]\n",
      "[55 / 300]   Val: Loss = 4.08234, PPX = 59.28: 100%|██████████| 19/19 [00:00<00:00, 164.52it/s]\n",
      "[56 / 300] Train: Loss = 3.20253, PPX = 24.59:   4%|▍         | 26/677 [00:00<00:04, 134.86it/s]"
     ]
    },
    {
     "name": "stdout",
     "output_type": "stream",
     "text": [
      "Optimizer lr = 1.57772e-29\n",
      "\n",
      "вмоихглазахкогдатымнебы\\nнесталлинонезаспиной\\nябудусталеёнемного\\nдоста\\n</s>\n"
     ]
    },
    {
     "name": "stderr",
     "output_type": "stream",
     "text": [
      "[56 / 300] Train: Loss = 3.40976, PPX = 30.26: 100%|██████████| 677/677 [00:04<00:00, 161.09it/s]\n",
      "[56 / 300]   Val: Loss = 4.08312, PPX = 59.33: 100%|██████████| 19/19 [00:00<00:00, 166.69it/s]\n",
      "[57 / 300] Train: Loss = 3.56507, PPX = 35.34:   4%|▎         | 24/677 [00:00<00:05, 119.37it/s]"
     ]
    },
    {
     "name": "stdout",
     "output_type": "stream",
     "text": [
      "Optimizer lr = 3.9443e-30\n",
      "\n",
      "ясдетстваднёмкаквдетствевреку\\nивэтомбыловсёине\\nкакбудтобынепопадает\\nнаты\\n</s>\n"
     ]
    },
    {
     "name": "stderr",
     "output_type": "stream",
     "text": [
      "[57 / 300] Train: Loss = 3.40970, PPX = 30.26: 100%|██████████| 677/677 [00:04<00:00, 157.42it/s]\n",
      "[57 / 300]   Val: Loss = 4.08320, PPX = 59.33: 100%|██████████| 19/19 [00:00<00:00, 153.03it/s]\n",
      "[58 / 300] Train: Loss = 3.47298, PPX = 32.23:   4%|▎         | 24/677 [00:00<00:05, 129.25it/s]"
     ]
    },
    {
     "name": "stdout",
     "output_type": "stream",
     "text": [
      "Optimizer lr = 9.86076e-31\n",
      "\n",
      "яждалтебявтебеработу\\nитутжеясовсемнерад\\nнувотисделаймненадежда\\nваду\\n</s>\n"
     ]
    },
    {
     "name": "stderr",
     "output_type": "stream",
     "text": [
      "[58 / 300] Train: Loss = 3.40986, PPX = 30.26: 100%|██████████| 677/677 [00:04<00:00, 161.66it/s]\n",
      "[58 / 300]   Val: Loss = 4.08146, PPX = 59.23: 100%|██████████| 19/19 [00:00<00:00, 150.24it/s]\n",
      "[59 / 300] Train: Loss = 3.41803, PPX = 30.51:   3%|▎         | 23/677 [00:00<00:05, 122.71it/s]"
     ]
    },
    {
     "name": "stdout",
     "output_type": "stream",
     "text": [
      "Optimizer lr = 2.46519e-31\n",
      "\n",
      "янемогупонятьаркадий\\nнеточтояужедомой\\nяпростотакжемогизагроши\\nваду\\n</s>\n"
     ]
    },
    {
     "name": "stderr",
     "output_type": "stream",
     "text": [
      "[59 / 300] Train: Loss = 3.40971, PPX = 30.26: 100%|██████████| 677/677 [00:04<00:00, 150.63it/s]\n",
      "[59 / 300]   Val: Loss = 4.08140, PPX = 59.23: 100%|██████████| 19/19 [00:00<00:00, 151.05it/s]\n",
      "[60 / 300] Train: Loss = 3.44938, PPX = 31.48:   4%|▎         | 24/677 [00:00<00:05, 119.66it/s]"
     ]
    },
    {
     "name": "stdout",
     "output_type": "stream",
     "text": [
      "Optimizer lr = 6.16298e-32\n",
      "\n",
      "явдетствебылнеходит\\nчтовтишинеиложь\\nтытакдавнобынехотелось\\nавдруг\\n</s>\n"
     ]
    },
    {
     "name": "stderr",
     "output_type": "stream",
     "text": [
      "[60 / 300] Train: Loss = 3.40979, PPX = 30.26: 100%|██████████| 677/677 [00:04<00:00, 155.14it/s]\n",
      "[60 / 300]   Val: Loss = 4.08183, PPX = 59.25: 100%|██████████| 19/19 [00:00<00:00, 157.89it/s]\n",
      "[61 / 300] Train: Loss = 3.41357, PPX = 30.37:   3%|▎         | 23/677 [00:00<00:05, 124.06it/s]"
     ]
    },
    {
     "name": "stdout",
     "output_type": "stream",
     "text": [
      "Optimizer lr = 1.54074e-32\n",
      "\n",
      "янемогутеберодная\\nавытакоемнеббезслов\\nнеяльнезналчтоввидучтовнём\\nивпах\\n</s>\n"
     ]
    },
    {
     "name": "stderr",
     "output_type": "stream",
     "text": [
      "[61 / 300] Train: Loss = 3.40955, PPX = 30.25: 100%|██████████| 677/677 [00:04<00:00, 159.10it/s]\n",
      "[61 / 300]   Val: Loss = 4.08216, PPX = 59.27: 100%|██████████| 19/19 [00:00<00:00, 170.15it/s]\n",
      "[62 / 300] Train: Loss = 3.36505, PPX = 28.94:   4%|▎         | 25/677 [00:00<00:04, 132.27it/s]"
     ]
    },
    {
     "name": "stdout",
     "output_type": "stream",
     "text": [
      "Optimizer lr = 3.85186e-33\n",
      "\n",
      "втуночькогдатымнеприснился\\nшепнулмнедокторнавчера\\nаоннехочетхотьсцветами\\nавглаз\\n</s>\n"
     ]
    },
    {
     "name": "stderr",
     "output_type": "stream",
     "text": [
      "[62 / 300] Train: Loss = 3.40978, PPX = 30.26: 100%|██████████| 677/677 [00:04<00:00, 156.59it/s]\n",
      "[62 / 300]   Val: Loss = 4.08144, PPX = 59.23: 100%|██████████| 19/19 [00:00<00:00, 156.21it/s]\n",
      "[63 / 300] Train: Loss = 3.32658, PPX = 27.84:   4%|▎         | 24/677 [00:00<00:05, 127.46it/s]"
     ]
    },
    {
     "name": "stdout",
     "output_type": "stream",
     "text": [
      "Optimizer lr = 9.62965e-34\n",
      "\n",
      "явдетствебылидукночи\\nивнихпопрежнемукакцой\\nнаэтомнадобылобыло\\nвтвери\\n</s>\n"
     ]
    },
    {
     "name": "stderr",
     "output_type": "stream",
     "text": [
      "[63 / 300] Train: Loss = 3.40972, PPX = 30.26: 100%|██████████| 677/677 [00:04<00:00, 155.94it/s]\n",
      "[63 / 300]   Val: Loss = 4.08230, PPX = 59.28: 100%|██████████| 19/19 [00:00<00:00, 157.95it/s]\n",
      "[64 / 300] Train: Loss = 3.41238, PPX = 30.34:   4%|▎         | 24/677 [00:00<00:05, 126.21it/s]"
     ]
    },
    {
     "name": "stdout",
     "output_type": "stream",
     "text": [
      "Optimizer lr = 2.40741e-34\n",
      "\n",
      "наберегупятойпоколено\\nивновьнаголовуминут\\nивдругнатрёхпроцентовкрикнуть\\nнея\\n</s>\n"
     ]
    },
    {
     "name": "stderr",
     "output_type": "stream",
     "text": [
      "[64 / 300] Train: Loss = 3.40991, PPX = 30.26: 100%|██████████| 677/677 [00:04<00:00, 156.07it/s]\n",
      "[64 / 300]   Val: Loss = 4.08105, PPX = 59.21: 100%|██████████| 19/19 [00:00<00:00, 154.51it/s]\n",
      "[65 / 300] Train: Loss = 3.43528, PPX = 31.04:   4%|▎         | 24/677 [00:00<00:05, 126.63it/s]"
     ]
    },
    {
     "name": "stdout",
     "output_type": "stream",
     "text": [
      "Optimizer lr = 6.01853e-35\n",
      "\n",
      "янехочубытьвжизнибольше\\nянемогусказатьвамплох\\nнежальчтовэтомнеосталось\\nнимест\\n</s>\n"
     ]
    },
    {
     "name": "stderr",
     "output_type": "stream",
     "text": [
      "[65 / 300] Train: Loss = 3.40980, PPX = 30.26: 100%|██████████| 677/677 [00:04<00:00, 156.34it/s]\n",
      "[65 / 300]   Val: Loss = 4.08214, PPX = 59.27: 100%|██████████| 19/19 [00:00<00:00, 154.46it/s]\n",
      "[66 / 300] Train: Loss = 3.48496, PPX = 32.62:   4%|▎         | 24/677 [00:00<00:05, 126.00it/s]"
     ]
    },
    {
     "name": "stdout",
     "output_type": "stream",
     "text": [
      "Optimizer lr = 1.50463e-35\n",
      "\n",
      "яждалвасраднонезаметил\\nинемогусказатьзнакдом\\nаянепротивнонебудет\\nссобой\\n</s>\n"
     ]
    },
    {
     "name": "stderr",
     "output_type": "stream",
     "text": [
      "[66 / 300] Train: Loss = 3.40973, PPX = 30.26: 100%|██████████| 677/677 [00:04<00:00, 163.88it/s]\n",
      "[66 / 300]   Val: Loss = 4.08266, PPX = 59.30: 100%|██████████| 19/19 [00:00<00:00, 168.37it/s]\n",
      "[67 / 300] Train: Loss = 3.44323, PPX = 31.29:   4%|▍         | 26/677 [00:00<00:04, 134.78it/s]"
     ]
    },
    {
     "name": "stdout",
     "output_type": "stream",
     "text": [
      "Optimizer lr = 3.76158e-36\n",
      "\n",
      "янехочубытьподругому\\nвчёмможнодажевдоменет\\nибылнемногонемешает\\nссобой\\n</s>\n"
     ]
    },
    {
     "name": "stderr",
     "output_type": "stream",
     "text": [
      "[67 / 300] Train: Loss = 3.40956, PPX = 30.25: 100%|██████████| 677/677 [00:04<00:00, 151.61it/s]\n",
      "[67 / 300]   Val: Loss = 4.08196, PPX = 59.26: 100%|██████████| 19/19 [00:00<00:00, 153.46it/s]\n",
      "[68 / 300] Train: Loss = 3.33807, PPX = 28.16:   4%|▎         | 24/677 [00:00<00:05, 123.72it/s]"
     ]
    },
    {
     "name": "stdout",
     "output_type": "stream",
     "text": [
      "Optimizer lr = 9.40395e-37\n",
      "\n",
      "явваслюблютебяжениться\\nияинемогувина\\nамневответещенебудет\\nнораз\\n</s>\n"
     ]
    },
    {
     "name": "stderr",
     "output_type": "stream",
     "text": [
      "[68 / 300] Train: Loss = 3.40973, PPX = 30.26: 100%|██████████| 677/677 [00:04<00:00, 154.98it/s]\n",
      "[68 / 300]   Val: Loss = 4.08223, PPX = 59.28: 100%|██████████| 19/19 [00:00<00:00, 165.60it/s]\n",
      "[69 / 300] Train: Loss = 3.24697, PPX = 25.71:   4%|▎         | 24/677 [00:00<00:05, 125.39it/s]"
     ]
    },
    {
     "name": "stdout",
     "output_type": "stream",
     "text": [
      "Optimizer lr = 2.35099e-37\n",
      "\n",
      "втритридцатьстосемьлетненадо\\nябылначтотовсянесу\\nидажесразувиднобыло\\nвсебя\\n</s>\n"
     ]
    },
    {
     "name": "stderr",
     "output_type": "stream",
     "text": [
      "[69 / 300] Train: Loss = 3.40984, PPX = 30.26: 100%|██████████| 677/677 [00:04<00:00, 158.49it/s]\n",
      "[69 / 300]   Val: Loss = 4.08214, PPX = 59.27: 100%|██████████| 19/19 [00:00<00:00, 156.48it/s]\n",
      "[70 / 300] Train: Loss = 3.28977, PPX = 26.84:   4%|▎         | 24/677 [00:00<00:05, 125.79it/s]"
     ]
    },
    {
     "name": "stdout",
     "output_type": "stream",
     "text": [
      "Optimizer lr = 5.87747e-38\n",
      "\n",
      "ябылнаразнавернодура\\nтакиеэтотмысльнета\\nинехватаетзаворота\\nдодна\\n</s>\n"
     ]
    },
    {
     "name": "stderr",
     "output_type": "stream",
     "text": [
      "[70 / 300] Train: Loss = 3.40993, PPX = 30.26: 100%|██████████| 677/677 [00:04<00:00, 155.96it/s]\n",
      "[70 / 300]   Val: Loss = 4.08162, PPX = 59.24: 100%|██████████| 19/19 [00:00<00:00, 156.64it/s]\n",
      "[71 / 300] Train: Loss = 3.41499, PPX = 30.42:   3%|▎         | 23/677 [00:00<00:05, 127.32it/s]"
     ]
    },
    {
     "name": "stdout",
     "output_type": "stream",
     "text": [
      "Optimizer lr = 1.46937e-38\n",
      "\n",
      "янелюбилаяприехал\\nиневадуянемила\\nяжневтотпервойуоксаны\\nивнос\\n</s>\n"
     ]
    },
    {
     "name": "stderr",
     "output_type": "stream",
     "text": [
      "[71 / 300] Train: Loss = 3.40949, PPX = 30.25: 100%|██████████| 677/677 [00:04<00:00, 155.41it/s]\n",
      "[71 / 300]   Val: Loss = 4.08205, PPX = 59.27: 100%|██████████| 19/19 [00:00<00:00, 154.27it/s]\n",
      "[72 / 300] Train: Loss = 3.49349, PPX = 32.90:   4%|▎         | 24/677 [00:00<00:05, 122.93it/s]"
     ]
    },
    {
     "name": "stdout",
     "output_type": "stream",
     "text": [
      "Optimizer lr = 3.67342e-39\n",
      "\n",
      "меняназваляверю\\nразвчаспикеёнедели\\nивоттеперьнепишетпитер\\nсоси\\n</s>\n"
     ]
    },
    {
     "name": "stderr",
     "output_type": "stream",
     "text": [
      "[72 / 300] Train: Loss = 3.40941, PPX = 30.25: 100%|██████████| 677/677 [00:04<00:00, 154.11it/s]\n",
      "[72 / 300]   Val: Loss = 4.08167, PPX = 59.24: 100%|██████████| 19/19 [00:00<00:00, 155.22it/s]\n",
      "[73 / 300] Train: Loss = 3.32227, PPX = 27.72:   4%|▎         | 24/677 [00:00<00:05, 127.51it/s]"
     ]
    },
    {
     "name": "stdout",
     "output_type": "stream",
     "text": [
      "Optimizer lr = 9.18355e-40\n",
      "\n",
      "яухожуиззакровати\\nикакдавайнанейвопрос\\nивэтомместебылещёи\\nдодна\\n</s>\n"
     ]
    },
    {
     "name": "stderr",
     "output_type": "stream",
     "text": [
      "[73 / 300] Train: Loss = 3.40969, PPX = 30.26: 100%|██████████| 677/677 [00:04<00:00, 154.65it/s]\n",
      "[73 / 300]   Val: Loss = 4.08083, PPX = 59.19: 100%|██████████| 19/19 [00:00<00:00, 149.80it/s]\n",
      "[74 / 300] Train: Loss = 3.45685, PPX = 31.72:   3%|▎         | 23/677 [00:00<00:05, 119.41it/s]"
     ]
    },
    {
     "name": "stdout",
     "output_type": "stream",
     "text": [
      "Optimizer lr = 2.29589e-40\n",
      "\n",
      "всвязисутранакухнефото\\nитамнаголовевижузал\\nаялюблютебяродная\\nая\\n</s>\n"
     ]
    },
    {
     "name": "stderr",
     "output_type": "stream",
     "text": [
      "[74 / 300] Train: Loss = 3.40990, PPX = 30.26: 100%|██████████| 677/677 [00:04<00:00, 153.91it/s]\n",
      "[74 / 300]   Val: Loss = 4.08296, PPX = 59.32: 100%|██████████| 19/19 [00:00<00:00, 155.94it/s]\n",
      "[75 / 300] Train: Loss = 3.34296, PPX = 28.30:   4%|▎         | 24/677 [00:00<00:05, 123.76it/s]"
     ]
    },
    {
     "name": "stdout",
     "output_type": "stream",
     "text": [
      "Optimizer lr = 5.73972e-41\n",
      "\n",
      "вчетвёртыйразвмоейпостели\\nвобъятьяхнетиниодной\\nачтоподелатьесличестно\\nтыза\\n</s>\n"
     ]
    },
    {
     "name": "stderr",
     "output_type": "stream",
     "text": [
      "[75 / 300] Train: Loss = 3.40953, PPX = 30.25: 100%|██████████| 677/677 [00:04<00:00, 154.22it/s]\n",
      "[75 / 300]   Val: Loss = 4.08292, PPX = 59.32: 100%|██████████| 19/19 [00:00<00:00, 153.57it/s]\n",
      "[76 / 300] Train: Loss = 3.25275, PPX = 25.86:   4%|▎         | 24/677 [00:00<00:05, 126.13it/s]"
     ]
    },
    {
     "name": "stdout",
     "output_type": "stream",
     "text": [
      "Optimizer lr = 1.43493e-41\n",
      "\n",
      "аянезнаешьчтоналето\\nязастоломсказалсврачу\\nаяидуипопривычке\\nирад\\n</s>\n"
     ]
    },
    {
     "name": "stderr",
     "output_type": "stream",
     "text": [
      "[76 / 300] Train: Loss = 3.40970, PPX = 30.26: 100%|██████████| 677/677 [00:04<00:00, 154.96it/s]\n",
      "[76 / 300]   Val: Loss = 4.08123, PPX = 59.22: 100%|██████████| 19/19 [00:00<00:00, 152.63it/s]\n",
      "[77 / 300] Train: Loss = 3.40946, PPX = 30.25:   4%|▎         | 25/677 [00:00<00:05, 127.42it/s]"
     ]
    },
    {
     "name": "stdout",
     "output_type": "stream",
     "text": [
      "Optimizer lr = 3.58732e-42\n",
      "\n",
      "явюностистобоюкаждый\\nибылсогласеннастоле\\nнокактовсамомделевсё\\nруккх\\n</s>\n"
     ]
    },
    {
     "name": "stderr",
     "output_type": "stream",
     "text": [
      "[77 / 300] Train: Loss = 3.40969, PPX = 30.26: 100%|██████████| 677/677 [00:04<00:00, 160.08it/s]\n",
      "[77 / 300]   Val: Loss = 4.08259, PPX = 59.30: 100%|██████████| 19/19 [00:00<00:00, 161.07it/s]\n",
      "[78 / 300] Train: Loss = 3.43783, PPX = 31.12:   3%|▎         | 23/677 [00:00<00:05, 117.99it/s]"
     ]
    },
    {
     "name": "stdout",
     "output_type": "stream",
     "text": [
      "Optimizer lr = 8.96831e-43\n",
      "\n",
      "агдетовтойтовверхтовверхто\\nчтовдетствежизниинирук\\nтуттолькоскаждымгодомдесять\\nсконём\\n</s>\n"
     ]
    },
    {
     "name": "stderr",
     "output_type": "stream",
     "text": [
      "[78 / 300] Train: Loss = 3.40988, PPX = 30.26: 100%|██████████| 677/677 [00:04<00:00, 161.87it/s]\n",
      "[78 / 300]   Val: Loss = 4.08197, PPX = 59.26: 100%|██████████| 19/19 [00:00<00:00, 167.75it/s]\n",
      "[79 / 300] Train: Loss = 3.28956, PPX = 26.83:   3%|▎         | 23/677 [00:00<00:05, 116.92it/s]"
     ]
    },
    {
     "name": "stdout",
     "output_type": "stream",
     "text": [
      "Optimizer lr = 2.24208e-43\n",
      "\n",
      "нагрудьукларыссобою\\nяненавижулетизрук\\nаявответвконцетоннеля\\nнета\\n</s>\n"
     ]
    },
    {
     "name": "stderr",
     "output_type": "stream",
     "text": [
      "[79 / 300] Train: Loss = 3.40969, PPX = 30.26: 100%|██████████| 677/677 [00:04<00:00, 155.56it/s]\n",
      "[79 / 300]   Val: Loss = 4.08135, PPX = 59.23: 100%|██████████| 19/19 [00:00<00:00, 154.16it/s]\n",
      "[80 / 300] Train: Loss = 3.58333, PPX = 35.99:   4%|▎         | 24/677 [00:00<00:05, 124.71it/s]"
     ]
    },
    {
     "name": "stdout",
     "output_type": "stream",
     "text": [
      "Optimizer lr = 5.60519e-44\n",
      "\n",
      "однаждывдомсемьтысяч\\nномнененадобытькакбог\\nвытакмнененужныаможет\\nивас\\n</s>\n"
     ]
    },
    {
     "name": "stderr",
     "output_type": "stream",
     "text": [
      "[80 / 300] Train: Loss = 3.40972, PPX = 30.26: 100%|██████████| 677/677 [00:04<00:00, 153.82it/s]\n",
      "[80 / 300]   Val: Loss = 4.08292, PPX = 59.32: 100%|██████████| 19/19 [00:00<00:00, 151.42it/s]\n",
      "[81 / 300] Train: Loss = 3.36918, PPX = 29.05:   4%|▎         | 25/677 [00:00<00:05, 127.01it/s]"
     ]
    },
    {
     "name": "stdout",
     "output_type": "stream",
     "text": [
      "Optimizer lr = 1.4013e-44\n",
      "\n",
      "янелюблювасзагоды\\nиэтовсёравностихи\\nиявесьманепонимаю\\nия\\n</s>\n"
     ]
    },
    {
     "name": "stderr",
     "output_type": "stream",
     "text": [
      "[81 / 300] Train: Loss = 3.40972, PPX = 30.26: 100%|██████████| 677/677 [00:04<00:00, 153.48it/s]\n",
      "[81 / 300]   Val: Loss = 4.08177, PPX = 59.25: 100%|██████████| 19/19 [00:00<00:00, 154.61it/s]\n",
      "[82 / 300] Train: Loss = 3.56191, PPX = 35.23:   3%|▎         | 23/677 [00:00<00:05, 117.96it/s]"
     ]
    },
    {
     "name": "stdout",
     "output_type": "stream",
     "text": [
      "Optimizer lr = 3.50325e-45\n",
      "\n",
      "янелюблюпричинвокошко\\nсвоймирнезналчтозаспиной\\nнетакужбольшенехватает\\nсутра\\n</s>\n"
     ]
    },
    {
     "name": "stderr",
     "output_type": "stream",
     "text": [
      "[82 / 300] Train: Loss = 3.40953, PPX = 30.25: 100%|██████████| 677/677 [00:04<00:00, 153.30it/s]\n",
      "[82 / 300]   Val: Loss = 4.08156, PPX = 59.24: 100%|██████████| 19/19 [00:00<00:00, 156.48it/s]\n",
      "[83 / 300] Train: Loss = 3.45089, PPX = 31.53:   4%|▎         | 25/677 [00:00<00:05, 125.80it/s]"
     ]
    },
    {
     "name": "stdout",
     "output_type": "stream",
     "text": [
      "Optimizer lr = 8.75812e-46\n",
      "\n",
      "явдетствебылсовсемнексчастью\\nавотужеиполицу\\nдаипопрежнемунелюбишь\\nсконца\\n</s>\n"
     ]
    },
    {
     "name": "stderr",
     "output_type": "stream",
     "text": [
      "[83 / 300] Train: Loss = 3.40972, PPX = 30.26: 100%|██████████| 677/677 [00:04<00:00, 157.52it/s]\n",
      "[83 / 300]   Val: Loss = 4.08169, PPX = 59.25: 100%|██████████| 19/19 [00:00<00:00, 151.81it/s]\n",
      "[84 / 300] Train: Loss = 3.40525, PPX = 30.12:   4%|▎         | 24/677 [00:00<00:05, 127.88it/s]"
     ]
    },
    {
     "name": "stdout",
     "output_type": "stream",
     "text": [
      "Optimizer lr = 2.18953e-46\n",
      "\n",
      "всемьеунаспроблемыхьюстон\\nитутоднанамнеодна\\nатотжекактостранновреку\\nнавсе\\n</s>\n"
     ]
    },
    {
     "name": "stderr",
     "output_type": "stream",
     "text": [
      "[84 / 300] Train: Loss = 3.40989, PPX = 30.26: 100%|██████████| 677/677 [00:04<00:00, 153.07it/s]\n",
      "[84 / 300]   Val: Loss = 4.08209, PPX = 59.27: 100%|██████████| 19/19 [00:00<00:00, 155.67it/s]\n",
      "[85 / 300] Train: Loss = 3.41412, PPX = 30.39:   4%|▎         | 24/677 [00:00<00:05, 129.60it/s]"
     ]
    },
    {
     "name": "stdout",
     "output_type": "stream",
     "text": [
      "Optimizer lr = 5.47382e-47\n",
      "\n",
      "насклонелетнадвадцатьслучай\\nивнёмбылбудетхорошо\\nвдругбаципрямопопривычке\\nнаюг\\n</s>\n"
     ]
    },
    {
     "name": "stderr",
     "output_type": "stream",
     "text": [
      "[85 / 300] Train: Loss = 3.40965, PPX = 30.25: 100%|██████████| 677/677 [00:04<00:00, 154.50it/s]\n",
      "[85 / 300]   Val: Loss = 4.08177, PPX = 59.25: 100%|██████████| 19/19 [00:00<00:00, 153.17it/s]\n",
      "[86 / 300] Train: Loss = 3.34367, PPX = 28.32:   3%|▎         | 23/677 [00:00<00:05, 125.58it/s]"
     ]
    },
    {
     "name": "stdout",
     "output_type": "stream",
     "text": [
      "Optimizer lr = 1.36846e-47\n",
      "\n",
      "вкоторыйразтебявсёлюди\\nсказалнамсэтимнеидёт\\nатымойангелвбеломскриком\\nвгробу\\n</s>\n"
     ]
    },
    {
     "name": "stderr",
     "output_type": "stream",
     "text": [
      "[86 / 300] Train: Loss = 3.41012, PPX = 30.27: 100%|██████████| 677/677 [00:04<00:00, 160.83it/s]\n",
      "[86 / 300]   Val: Loss = 4.08282, PPX = 59.31: 100%|██████████| 19/19 [00:00<00:00, 162.08it/s]\n",
      "[87 / 300] Train: Loss = 3.33823, PPX = 28.17:   4%|▎         | 25/677 [00:00<00:05, 125.01it/s]"
     ]
    },
    {
     "name": "stdout",
     "output_type": "stream",
     "text": [
      "Optimizer lr = 3.42114e-48\n",
      "\n",
      "оксанавтёмномпаркелето\\nивсердцедажелишьворжи\\nинаполднярожденья\\nвговно\\n</s>\n"
     ]
    },
    {
     "name": "stderr",
     "output_type": "stream",
     "text": [
      "[87 / 300] Train: Loss = 3.40962, PPX = 30.25: 100%|██████████| 677/677 [00:04<00:00, 157.23it/s]\n",
      "[87 / 300]   Val: Loss = 4.08232, PPX = 59.28: 100%|██████████| 19/19 [00:00<00:00, 153.50it/s]\n",
      "[88 / 300] Train: Loss = 3.48585, PPX = 32.65:   4%|▎         | 24/677 [00:00<00:05, 124.67it/s]"
     ]
    },
    {
     "name": "stdout",
     "output_type": "stream",
     "text": [
      "Optimizer lr = 8.55285e-49\n",
      "\n",
      "япервыйзапахиззадверью\\nтакинесмогбынетая\\nмненужнобылочтостобою\\nвпесок\\n</s>\n"
     ]
    },
    {
     "name": "stderr",
     "output_type": "stream",
     "text": [
      "[88 / 300] Train: Loss = 3.40975, PPX = 30.26: 100%|██████████| 677/677 [00:04<00:00, 154.55it/s]\n",
      "[88 / 300]   Val: Loss = 4.08404, PPX = 59.38: 100%|██████████| 19/19 [00:00<00:00, 153.96it/s]\n",
      "[89 / 300] Train: Loss = 3.53081, PPX = 34.15:   4%|▎         | 24/677 [00:00<00:05, 124.83it/s]"
     ]
    },
    {
     "name": "stdout",
     "output_type": "stream",
     "text": [
      "Optimizer lr = 2.13821e-49\n",
      "\n",
      "невсилахвамянезачто\\nтамсдетстванебылотак\\nананегонебудетпозже\\nнемой\\n</s>\n"
     ]
    },
    {
     "name": "stderr",
     "output_type": "stream",
     "text": [
      "[89 / 300] Train: Loss = 3.40965, PPX = 30.25: 100%|██████████| 677/677 [00:04<00:00, 155.08it/s]\n",
      "[89 / 300]   Val: Loss = 4.08288, PPX = 59.32: 100%|██████████| 19/19 [00:00<00:00, 149.51it/s]\n",
      "[90 / 300] Train: Loss = 3.53090, PPX = 34.15:   4%|▎         | 24/677 [00:00<00:05, 122.11it/s]"
     ]
    },
    {
     "name": "stdout",
     "output_type": "stream",
     "text": [
      "Optimizer lr = 5.34553e-50\n",
      "\n",
      "унасвдеревневсёслучилось\\nнавсеженщиныион\\nаязанеюнехватает\\nимозг\\n</s>\n"
     ]
    },
    {
     "name": "stderr",
     "output_type": "stream",
     "text": [
      "[90 / 300] Train: Loss = 3.40970, PPX = 30.26: 100%|██████████| 677/677 [00:04<00:00, 153.49it/s]\n",
      "[90 / 300]   Val: Loss = 4.08284, PPX = 59.31: 100%|██████████| 19/19 [00:00<00:00, 150.65it/s]\n",
      "[91 / 300] Train: Loss = 3.35290, PPX = 28.59:   3%|▎         | 23/677 [00:00<00:05, 115.80it/s]"
     ]
    },
    {
     "name": "stdout",
     "output_type": "stream",
     "text": [
      "Optimizer lr = 1.33638e-50\n",
      "\n",
      "ясдетствавижувшколу\\nтаксразухорошо\\nамытонехотелбы\\nикак\\n</s>\n"
     ]
    },
    {
     "name": "stderr",
     "output_type": "stream",
     "text": [
      "[91 / 300] Train: Loss = 3.40967, PPX = 30.26: 100%|██████████| 677/677 [00:04<00:00, 156.23it/s]\n",
      "[91 / 300]   Val: Loss = 4.08236, PPX = 59.29: 100%|██████████| 19/19 [00:00<00:00, 170.79it/s]\n",
      "[92 / 300] Train: Loss = 3.26795, PPX = 26.26:   4%|▎         | 25/677 [00:00<00:05, 127.70it/s]"
     ]
    },
    {
     "name": "stdout",
     "output_type": "stream",
     "text": [
      "Optimizer lr = 3.34096e-51\n",
      "\n",
      "намойвопросбылестьпроблема\\nивэтомсамомделелайков\\nинеочемянежелаю\\nнидруг\\n</s>\n"
     ]
    },
    {
     "name": "stderr",
     "output_type": "stream",
     "text": [
      "[92 / 300] Train: Loss = 3.40959, PPX = 30.25: 100%|██████████| 677/677 [00:04<00:00, 163.62it/s]\n",
      "[92 / 300]   Val: Loss = 4.08261, PPX = 59.30: 100%|██████████| 19/19 [00:00<00:00, 161.21it/s]\n",
      "[93 / 300] Train: Loss = 3.41705, PPX = 30.48:   4%|▎         | 24/677 [00:00<00:05, 123.61it/s]"
     ]
    },
    {
     "name": "stdout",
     "output_type": "stream",
     "text": [
      "Optimizer lr = 8.35239e-52\n",
      "\n",
      "тымневсемьеневиделя\\nавымнедвадцатьлеткакбэ\\nкактысгодамидалдовстречи\\nнаюг\\n</s>\n"
     ]
    },
    {
     "name": "stderr",
     "output_type": "stream",
     "text": [
      "[93 / 300] Train: Loss = 3.40955, PPX = 30.25: 100%|██████████| 677/677 [00:04<00:00, 158.46it/s]\n",
      "[93 / 300]   Val: Loss = 4.08255, PPX = 59.30: 100%|██████████| 19/19 [00:00<00:00, 159.34it/s]\n",
      "[94 / 300] Train: Loss = 3.43162, PPX = 30.93:   4%|▎         | 24/677 [00:00<00:05, 125.98it/s]"
     ]
    },
    {
     "name": "stdout",
     "output_type": "stream",
     "text": [
      "Optimizer lr = 2.0881e-52\n",
      "\n",
      "ненадомнеянехудожник\\nнеможетбылобневчом\\nтыбзалюбовьменянетрожь\\nнеты\\n</s>\n"
     ]
    },
    {
     "name": "stderr",
     "output_type": "stream",
     "text": [
      "[94 / 300] Train: Loss = 3.40949, PPX = 30.25: 100%|██████████| 677/677 [00:04<00:00, 155.69it/s]\n",
      "[94 / 300]   Val: Loss = 4.08168, PPX = 59.25: 100%|██████████| 19/19 [00:00<00:00, 157.14it/s]\n",
      "[95 / 300] Train: Loss = 3.43755, PPX = 31.11:   4%|▎         | 24/677 [00:00<00:05, 125.72it/s]"
     ]
    },
    {
     "name": "stdout",
     "output_type": "stream",
     "text": [
      "Optimizer lr = 5.22024e-53\n",
      "\n",
      "наместеуневестыречки\\nнаполисголовыдоног\\nидажевпаркенеосталось\\nнизги\\n</s>\n"
     ]
    },
    {
     "name": "stderr",
     "output_type": "stream",
     "text": [
      "[95 / 300] Train: Loss = 3.40988, PPX = 30.26: 100%|██████████| 677/677 [00:04<00:00, 153.68it/s]\n",
      "[95 / 300]   Val: Loss = 4.08151, PPX = 59.23: 100%|██████████| 19/19 [00:00<00:00, 158.50it/s]\n",
      "[96 / 300] Train: Loss = 3.33970, PPX = 28.21:   4%|▎         | 24/677 [00:00<00:05, 125.64it/s]"
     ]
    },
    {
     "name": "stdout",
     "output_type": "stream",
     "text": [
      "Optimizer lr = 1.30506e-53\n",
      "\n",
      "играявспальнюнепроходит\\nихрустичестьиречь\\nивэтомяинесогласен\\nнета\\n</s>\n"
     ]
    },
    {
     "name": "stderr",
     "output_type": "stream",
     "text": [
      "[96 / 300] Train: Loss = 3.40976, PPX = 30.26: 100%|██████████| 677/677 [00:04<00:00, 150.41it/s]\n",
      "[96 / 300]   Val: Loss = 4.08242, PPX = 59.29: 100%|██████████| 19/19 [00:00<00:00, 161.02it/s]\n",
      "[97 / 300] Train: Loss = 3.40908, PPX = 30.24:   4%|▎         | 24/677 [00:00<00:05, 125.43it/s]"
     ]
    },
    {
     "name": "stdout",
     "output_type": "stream",
     "text": [
      "Optimizer lr = 3.26265e-54\n",
      "\n",
      "вотвыбвпорядкебылневидно\\nчтоякричуянемогу\\nябвамдолженбытьзаэто\\nпроцесс\\n</s>\n"
     ]
    },
    {
     "name": "stderr",
     "output_type": "stream",
     "text": [
      "[97 / 300] Train: Loss = 3.40952, PPX = 30.25: 100%|██████████| 677/677 [00:04<00:00, 160.11it/s]\n",
      "[97 / 300]   Val: Loss = 4.08115, PPX = 59.21: 100%|██████████| 19/19 [00:00<00:00, 166.82it/s]\n",
      "[98 / 300] Train: Loss = 3.35991, PPX = 28.79:   4%|▎         | 25/677 [00:00<00:05, 127.35it/s]"
     ]
    },
    {
     "name": "stdout",
     "output_type": "stream",
     "text": [
      "Optimizer lr = 8.15663e-55\n",
      "\n",
      "унасвдеревнедвепроцентов\\nведьянесмогтеперьния\\nатовраюуженезная\\nивид\\n</s>\n"
     ]
    },
    {
     "name": "stderr",
     "output_type": "stream",
     "text": [
      "[98 / 300] Train: Loss = 3.40968, PPX = 30.26: 100%|██████████| 677/677 [00:04<00:00, 154.19it/s]\n",
      "[98 / 300]   Val: Loss = 4.08210, PPX = 59.27: 100%|██████████| 19/19 [00:00<00:00, 155.80it/s]\n",
      "[99 / 300] Train: Loss = 3.42180, PPX = 30.62:   4%|▎         | 24/677 [00:00<00:05, 125.39it/s]"
     ]
    },
    {
     "name": "stdout",
     "output_type": "stream",
     "text": [
      "Optimizer lr = 2.03916e-55\n",
      "\n",
      "нувотивсёсказалаольга\\nаяпросилужедавно\\nивэтомяегокакпрежде\\nвуме\\n</s>\n"
     ]
    },
    {
     "name": "stderr",
     "output_type": "stream",
     "text": [
      "[99 / 300] Train: Loss = 3.40955, PPX = 30.25: 100%|██████████| 677/677 [00:04<00:00, 153.30it/s]\n",
      "[99 / 300]   Val: Loss = 4.08126, PPX = 59.22: 100%|██████████| 19/19 [00:00<00:00, 157.73it/s]\n",
      "[100 / 300] Train: Loss = 3.39936, PPX = 29.94:   3%|▎         | 23/677 [00:00<00:05, 127.23it/s]"
     ]
    },
    {
     "name": "stdout",
     "output_type": "stream",
     "text": [
      "Optimizer lr = 5.09789e-56\n",
      "\n",
      "мысдругомсчастьювваннусмороза\\nкогдавночивплащесума\\nиявтебяивсеневнёмне\\nукасс\\n</s>\n"
     ]
    },
    {
     "name": "stderr",
     "output_type": "stream",
     "text": [
      "[100 / 300] Train: Loss = 3.40956, PPX = 30.25: 100%|██████████| 677/677 [00:04<00:00, 155.44it/s]\n",
      "[100 / 300]   Val: Loss = 4.08228, PPX = 59.28: 100%|██████████| 19/19 [00:00<00:00, 156.77it/s]\n",
      "[101 / 300] Train: Loss = 3.39949, PPX = 29.95:   4%|▎         | 24/677 [00:00<00:05, 127.87it/s]"
     ]
    },
    {
     "name": "stdout",
     "output_type": "stream",
     "text": [
      "Optimizer lr = 1.27447e-56\n",
      "\n",
      "когдаятотсказаларкадий\\nивотужеитотжегод\\nивнёмявижувсёивсёже\\nнето\\n</s>\n"
     ]
    },
    {
     "name": "stderr",
     "output_type": "stream",
     "text": [
      "[101 / 300] Train: Loss = 3.40959, PPX = 30.25: 100%|██████████| 677/677 [00:04<00:00, 155.12it/s]\n",
      "[101 / 300]   Val: Loss = 4.08235, PPX = 59.28: 100%|██████████| 19/19 [00:00<00:00, 159.52it/s]\n",
      "[102 / 300] Train: Loss = 3.43179, PPX = 30.93:   4%|▎         | 25/677 [00:00<00:04, 132.57it/s]"
     ]
    },
    {
     "name": "stdout",
     "output_type": "stream",
     "text": [
      "Optimizer lr = 3.18618e-57\n",
      "\n",
      "янемогуявамрешили\\nнотымнебудешьневполне\\nмогусказатьнонехотелось\\nакак\\n</s>\n"
     ]
    },
    {
     "name": "stderr",
     "output_type": "stream",
     "text": [
      "[102 / 300] Train: Loss = 3.40953, PPX = 30.25: 100%|██████████| 677/677 [00:04<00:00, 161.38it/s]\n",
      "[102 / 300]   Val: Loss = 4.08148, PPX = 59.23: 100%|██████████| 19/19 [00:00<00:00, 159.28it/s]\n",
      "[103 / 300] Train: Loss = 3.50620, PPX = 33.32:   4%|▎         | 24/677 [00:00<00:05, 124.52it/s]"
     ]
    },
    {
     "name": "stdout",
     "output_type": "stream",
     "text": [
      "Optimizer lr = 7.96546e-58\n",
      "\n",
      "олегсработынарыбалку\\nиемидоутраану\\nатытакойчтовсёнебудет\\nвмужья\\n</s>\n"
     ]
    },
    {
     "name": "stderr",
     "output_type": "stream",
     "text": [
      "[103 / 300] Train: Loss = 3.40956, PPX = 30.25: 100%|██████████| 677/677 [00:04<00:00, 156.48it/s]\n",
      "[103 / 300]   Val: Loss = 4.08051, PPX = 59.18: 100%|██████████| 19/19 [00:00<00:00, 157.49it/s]\n",
      "[104 / 300] Train: Loss = 3.44877, PPX = 31.46:   4%|▎         | 24/677 [00:00<00:05, 125.67it/s]"
     ]
    },
    {
     "name": "stdout",
     "output_type": "stream",
     "text": [
      "Optimizer lr = 1.99136e-58\n",
      "\n",
      "какаяжетымнеприснилось\\nимыстобойкакнизаней\\nаяивовсененавстречу\\nикак\\n</s>\n"
     ]
    },
    {
     "name": "stderr",
     "output_type": "stream",
     "text": [
      "[104 / 300] Train: Loss = 3.40969, PPX = 30.26: 100%|██████████| 677/677 [00:04<00:00, 155.25it/s]\n",
      "[104 / 300]   Val: Loss = 4.08082, PPX = 59.19: 100%|██████████| 19/19 [00:00<00:00, 154.08it/s]\n",
      "[105 / 300] Train: Loss = 3.35920, PPX = 28.77:   4%|▎         | 25/677 [00:00<00:05, 126.73it/s]"
     ]
    },
    {
     "name": "stdout",
     "output_type": "stream",
     "text": [
      "Optimizer lr = 4.97841e-59\n",
      "\n",
      "японимаювваснебуду\\nатывсюжизньнедодыр\\nкакразтебявсебенеможет\\nкакзнать\\n</s>\n"
     ]
    },
    {
     "name": "stderr",
     "output_type": "stream",
     "text": [
      "[105 / 300] Train: Loss = 3.40983, PPX = 30.26: 100%|██████████| 677/677 [00:04<00:00, 155.88it/s]\n",
      "[105 / 300]   Val: Loss = 4.08272, PPX = 59.31: 100%|██████████| 19/19 [00:00<00:00, 157.89it/s]\n",
      "[106 / 300] Train: Loss = 3.38419, PPX = 29.49:   3%|▎         | 22/677 [00:00<00:05, 114.63it/s]"
     ]
    },
    {
     "name": "stdout",
     "output_type": "stream",
     "text": [
      "Optimizer lr = 1.2446e-59\n",
      "\n",
      "втотденькогдатымнесказали\\nневсилахянетакужплох\\nябневсюжизнькакнистранно\\nневшутку\\n</s>\n"
     ]
    },
    {
     "name": "stderr",
     "output_type": "stream",
     "text": [
      "[106 / 300] Train: Loss = 3.40953, PPX = 30.25: 100%|██████████| 677/677 [00:04<00:00, 156.25it/s]\n",
      "[106 / 300]   Val: Loss = 4.08265, PPX = 59.30: 100%|██████████| 19/19 [00:00<00:00, 150.55it/s]\n",
      "[107 / 300] Train: Loss = 3.36488, PPX = 28.93:   4%|▎         | 24/677 [00:00<00:05, 125.39it/s]"
     ]
    },
    {
     "name": "stdout",
     "output_type": "stream",
     "text": [
      "Optimizer lr = 3.11151e-60\n",
      "\n",
      "янехочумогудетейя\\nнотакионсовсемнерад\\nявообщенепонимаю\\nнонеожиданно\\n</s>\n"
     ]
    },
    {
     "name": "stderr",
     "output_type": "stream",
     "text": [
      "[107 / 300] Train: Loss = 3.40970, PPX = 30.26: 100%|██████████| 677/677 [00:04<00:00, 160.17it/s]\n",
      "[107 / 300]   Val: Loss = 4.08110, PPX = 59.21: 100%|██████████| 19/19 [00:00<00:00, 161.31it/s]\n",
      "[108 / 300] Train: Loss = 3.44904, PPX = 31.47:   4%|▎         | 25/677 [00:00<00:05, 127.54it/s]"
     ]
    },
    {
     "name": "stdout",
     "output_type": "stream",
     "text": [
      "Optimizer lr = 7.77877e-61\n",
      "\n",
      "втвоихглазахугробапоэты\\nиначалянетакужпрост\\nакакжевсётакитакое\\nназла\\n</s>\n"
     ]
    },
    {
     "name": "stderr",
     "output_type": "stream",
     "text": [
      "[108 / 300] Train: Loss = 3.40969, PPX = 30.26: 100%|██████████| 677/677 [00:04<00:00, 155.65it/s]\n",
      "[108 / 300]   Val: Loss = 4.08189, PPX = 59.26: 100%|██████████| 19/19 [00:00<00:00, 156.13it/s]\n",
      "[109 / 300] Train: Loss = 3.44559, PPX = 31.36:   4%|▎         | 24/677 [00:00<00:05, 124.86it/s]"
     ]
    },
    {
     "name": "stdout",
     "output_type": "stream",
     "text": [
      "Optimizer lr = 1.94469e-61\n",
      "\n",
      "ввасбыловсёнаэтомсвете\\nотомчтотынетакужплох\\nимыстобойкакнистранно\\nвниесть\\n</s>\n"
     ]
    },
    {
     "name": "stderr",
     "output_type": "stream",
     "text": [
      "[109 / 300] Train: Loss = 3.40970, PPX = 30.26: 100%|██████████| 677/677 [00:04<00:00, 152.19it/s]\n",
      "[109 / 300]   Val: Loss = 4.08149, PPX = 59.23: 100%|██████████| 19/19 [00:00<00:00, 154.58it/s]\n",
      "[110 / 300] Train: Loss = 3.48768, PPX = 32.71:   4%|▎         | 25/677 [00:00<00:05, 124.37it/s]"
     ]
    },
    {
     "name": "stdout",
     "output_type": "stream",
     "text": [
      "Optimizer lr = 4.86173e-62\n",
      "\n",
      "мывсеумрёмнапланете\\nтыснимидоутра\\nамненаскладенесцветами\\nичто\\n</s>\n"
     ]
    },
    {
     "name": "stderr",
     "output_type": "stream",
     "text": [
      "[110 / 300] Train: Loss = 3.40964, PPX = 30.25: 100%|██████████| 677/677 [00:04<00:00, 162.88it/s]\n",
      "[110 / 300]   Val: Loss = 4.08184, PPX = 59.25: 100%|██████████| 19/19 [00:00<00:00, 167.66it/s]\n",
      "[111 / 300] Train: Loss = 3.28258, PPX = 26.64:   4%|▎         | 24/677 [00:00<00:04, 135.13it/s]"
     ]
    },
    {
     "name": "stdout",
     "output_type": "stream",
     "text": [
      "Optimizer lr = 1.21543e-62\n",
      "\n",
      "немноговбабполокотьнужно\\nнеможетяневиноват\\nяжнелюблюябудустану\\nнеточтобянезаместа\\nмынемогупонятьженубы\\nнепьян\\n</s>\n"
     ]
    },
    {
     "name": "stderr",
     "output_type": "stream",
     "text": [
      "[111 / 300] Train: Loss = 3.40972, PPX = 30.26: 100%|██████████| 677/677 [00:04<00:00, 164.99it/s]\n",
      "[111 / 300]   Val: Loss = 4.08209, PPX = 59.27: 100%|██████████| 19/19 [00:00<00:00, 183.10it/s]\n",
      "[112 / 300] Train: Loss = 3.40134, PPX = 30.00:   4%|▎         | 25/677 [00:00<00:04, 134.95it/s]"
     ]
    },
    {
     "name": "stdout",
     "output_type": "stream",
     "text": [
      "Optimizer lr = 3.03858e-63\n",
      "\n",
      "изтехктотольковэтоммире\\nстехпоркаквнебегусьдвабыл\\nатывозьмименяобратно\\nвнёму\\n</s>\n"
     ]
    },
    {
     "name": "stderr",
     "output_type": "stream",
     "text": [
      "[112 / 300] Train: Loss = 3.40944, PPX = 30.25: 100%|██████████| 677/677 [00:04<00:00, 158.42it/s]\n",
      "[112 / 300]   Val: Loss = 4.08098, PPX = 59.20: 100%|██████████| 19/19 [00:00<00:00, 153.11it/s]\n",
      "[113 / 300] Train: Loss = 3.41354, PPX = 30.37:   3%|▎         | 23/677 [00:00<00:05, 116.87it/s]"
     ]
    },
    {
     "name": "stdout",
     "output_type": "stream",
     "text": [
      "Optimizer lr = 7.59645e-64\n",
      "\n",
      "тынемоглибыябы\\nнеточтобвынетакужплох\\nнуладнодайбынонеслишком\\nая\\n</s>\n"
     ]
    },
    {
     "name": "stderr",
     "output_type": "stream",
     "text": [
      "[113 / 300] Train: Loss = 3.40969, PPX = 30.26: 100%|██████████| 677/677 [00:04<00:00, 154.39it/s]\n",
      "[113 / 300]   Val: Loss = 4.08178, PPX = 59.25: 100%|██████████| 19/19 [00:00<00:00, 158.42it/s]\n",
      "[114 / 300] Train: Loss = 3.42085, PPX = 30.60:   4%|▎         | 24/677 [00:00<00:05, 125.39it/s]"
     ]
    },
    {
     "name": "stdout",
     "output_type": "stream",
     "text": [
      "Optimizer lr = 1.89911e-64\n",
      "\n",
      "неверюясказалгеннадий\\nвынемоглибымненатреть\\nияинежноключназавтрак\\nсгубх\\n</s>\n"
     ]
    },
    {
     "name": "stderr",
     "output_type": "stream",
     "text": [
      "[114 / 300] Train: Loss = 3.40978, PPX = 30.26: 100%|██████████| 677/677 [00:04<00:00, 153.86it/s]\n",
      "[114 / 300]   Val: Loss = 4.08067, PPX = 59.19: 100%|██████████| 19/19 [00:00<00:00, 157.49it/s]\n",
      "[115 / 300] Train: Loss = 3.37092, PPX = 29.11:   4%|▎         | 24/677 [00:00<00:05, 125.17it/s]"
     ]
    },
    {
     "name": "stdout",
     "output_type": "stream",
     "text": [
      "Optimizer lr = 4.74778e-65\n",
      "\n",
      "яехалвротнамгновенье\\nменявконцеконцовярад\\nинемогутебеответить\\nнея\\n</s>\n"
     ]
    },
    {
     "name": "stderr",
     "output_type": "stream",
     "text": [
      "[115 / 300] Train: Loss = 3.40980, PPX = 30.26: 100%|██████████| 677/677 [00:04<00:00, 156.76it/s]\n",
      "[115 / 300]   Val: Loss = 4.08248, PPX = 59.29: 100%|██████████| 19/19 [00:00<00:00, 164.74it/s]\n",
      "[116 / 300] Train: Loss = 3.41295, PPX = 30.35:   4%|▎         | 25/677 [00:00<00:05, 129.51it/s]"
     ]
    },
    {
     "name": "stdout",
     "output_type": "stream",
     "text": [
      "Optimizer lr = 1.18695e-65\n",
      "\n",
      "аянепотвоимкриков\\nненужносделатьлишьвлюбви\\nявнёмиянепростосекса\\nнельзя\\n</s>\n"
     ]
    },
    {
     "name": "stderr",
     "output_type": "stream",
     "text": [
      "[116 / 300] Train: Loss = 3.40966, PPX = 30.26: 100%|██████████| 677/677 [00:04<00:00, 156.61it/s]\n",
      "[116 / 300]   Val: Loss = 4.08037, PPX = 59.17: 100%|██████████| 19/19 [00:00<00:00, 163.03it/s]\n",
      "[117 / 300] Train: Loss = 3.47780, PPX = 32.39:   4%|▎         | 25/677 [00:00<00:05, 129.95it/s]"
     ]
    },
    {
     "name": "stdout",
     "output_type": "stream",
     "text": [
      "Optimizer lr = 2.96736e-66\n",
      "\n",
      "унасопятьпроблемыхьюстон\\nнепотомучтоячтокот\\nичтотохочетсяневсилах\\nния\\n</s>\n"
     ]
    },
    {
     "name": "stderr",
     "output_type": "stream",
     "text": [
      "[117 / 300] Train: Loss = 3.40986, PPX = 30.26: 100%|██████████| 677/677 [00:04<00:00, 160.24it/s]\n",
      "[117 / 300]   Val: Loss = 4.08089, PPX = 59.20: 100%|██████████| 19/19 [00:00<00:00, 150.84it/s]\n",
      "[118 / 300] Train: Loss = 3.44207, PPX = 31.25:   3%|▎         | 23/677 [00:00<00:05, 119.50it/s]"
     ]
    },
    {
     "name": "stdout",
     "output_type": "stream",
     "text": [
      "Optimizer lr = 7.41841e-67\n",
      "\n",
      "явдетствебылнемногомного\\nинелюблюкуданивчём\\nяпростотакхочутудаи\\nнея\\n</s>\n"
     ]
    },
    {
     "name": "stderr",
     "output_type": "stream",
     "text": [
      "[118 / 300] Train: Loss = 3.40977, PPX = 30.26: 100%|██████████| 677/677 [00:04<00:00, 155.57it/s]\n",
      "[118 / 300]   Val: Loss = 4.08126, PPX = 59.22: 100%|██████████| 19/19 [00:00<00:00, 154.23it/s]\n",
      "[119 / 300] Train: Loss = 3.45623, PPX = 31.70:   4%|▎         | 24/677 [00:00<00:05, 125.90it/s]"
     ]
    },
    {
     "name": "stdout",
     "output_type": "stream",
     "text": [
      "Optimizer lr = 1.8546e-67\n",
      "\n",
      "тыпомнишькакнакухнеморе\\nивпоискахлюдейвысокя\\nауолегатольковкосмос\\nнеон\\n</s>\n"
     ]
    },
    {
     "name": "stderr",
     "output_type": "stream",
     "text": [
      "[119 / 300] Train: Loss = 3.40980, PPX = 30.26: 100%|██████████| 677/677 [00:04<00:00, 154.46it/s]\n",
      "[119 / 300]   Val: Loss = 4.08131, PPX = 59.22: 100%|██████████| 19/19 [00:00<00:00, 150.69it/s]\n",
      "[120 / 300] Train: Loss = 3.44765, PPX = 31.43:   4%|▎         | 25/677 [00:00<00:05, 125.74it/s]"
     ]
    },
    {
     "name": "stdout",
     "output_type": "stream",
     "text": [
      "Optimizer lr = 4.63651e-68\n",
      "\n",
      "нанебесахминутнапляже\\nиоченьжеоднапримат\\nитутжесталопоквартире\\nнаюг\\n</s>\n"
     ]
    },
    {
     "name": "stderr",
     "output_type": "stream",
     "text": [
      "[120 / 300] Train: Loss = 3.40963, PPX = 30.25: 100%|██████████| 677/677 [00:04<00:00, 155.71it/s]\n",
      "[120 / 300]   Val: Loss = 4.08183, PPX = 59.25: 100%|██████████| 19/19 [00:00<00:00, 156.04it/s]\n",
      "[121 / 300] Train: Loss = 3.31941, PPX = 27.64:   4%|▎         | 25/677 [00:00<00:05, 127.14it/s]"
     ]
    },
    {
     "name": "stdout",
     "output_type": "stream",
     "text": [
      "Optimizer lr = 1.15913e-68\n",
      "\n",
      "актоунастутсамыйумный\\nоннемогупонятьвамнет\\nавывответятакужлучше\\nивпуть\\n</s>\n"
     ]
    },
    {
     "name": "stderr",
     "output_type": "stream",
     "text": [
      "[121 / 300] Train: Loss = 3.40954, PPX = 30.25: 100%|██████████| 677/677 [00:04<00:00, 154.62it/s]\n",
      "[121 / 300]   Val: Loss = 4.08232, PPX = 59.28: 100%|██████████| 19/19 [00:00<00:00, 157.79it/s]\n",
      "[122 / 300] Train: Loss = 3.45886, PPX = 31.78:   4%|▎         | 24/677 [00:00<00:05, 126.95it/s]"
     ]
    },
    {
     "name": "stdout",
     "output_type": "stream",
     "text": [
      "Optimizer lr = 2.89782e-69\n",
      "\n",
      "янехочучтобэтолетом\\nтоятотамнетотоесть\\nавсмыслеснимибниподвсяких\\nнивив\\n</s>\n"
     ]
    },
    {
     "name": "stderr",
     "output_type": "stream",
     "text": [
      "[122 / 300] Train: Loss = 3.40938, PPX = 30.25: 100%|██████████| 677/677 [00:04<00:00, 155.55it/s]\n",
      "[122 / 300]   Val: Loss = 4.08264, PPX = 59.30: 100%|██████████| 19/19 [00:00<00:00, 151.93it/s]\n",
      "[123 / 300] Train: Loss = 3.39536, PPX = 29.83:   4%|▎         | 25/677 [00:00<00:05, 129.24it/s]"
     ]
    },
    {
     "name": "stdout",
     "output_type": "stream",
     "text": [
      "Optimizer lr = 7.24454e-70\n",
      "\n",
      "какмноговэтоммиремире\\nянемогупонятьместа\\nиялишьчайвнанемуглеба\\nневся\\n</s>\n"
     ]
    },
    {
     "name": "stderr",
     "output_type": "stream",
     "text": [
      "[123 / 300] Train: Loss = 3.40970, PPX = 30.26: 100%|██████████| 677/677 [00:04<00:00, 160.52it/s]\n",
      "[123 / 300]   Val: Loss = 4.08218, PPX = 59.27: 100%|██████████| 19/19 [00:00<00:00, 168.27it/s]\n",
      "[124 / 300] Train: Loss = 3.50226, PPX = 33.19:   4%|▍         | 26/677 [00:00<00:04, 134.27it/s]"
     ]
    },
    {
     "name": "stdout",
     "output_type": "stream",
     "text": [
      "Optimizer lr = 1.81114e-70\n",
      "\n",
      "явдетствебылчутьневпостели\\nинеумелнастоле\\nштобзамнойянежелаю\\nнеты\\n</s>\n"
     ]
    },
    {
     "name": "stderr",
     "output_type": "stream",
     "text": [
      "[124 / 300] Train: Loss = 3.40972, PPX = 30.26: 100%|██████████| 677/677 [00:04<00:00, 151.37it/s]\n",
      "[124 / 300]   Val: Loss = 4.08276, PPX = 59.31: 100%|██████████| 19/19 [00:00<00:00, 150.37it/s]\n",
      "[125 / 300] Train: Loss = 3.34812, PPX = 28.45:   3%|▎         | 23/677 [00:00<00:05, 121.84it/s]"
     ]
    },
    {
     "name": "stdout",
     "output_type": "stream",
     "text": [
      "Optimizer lr = 4.52784e-71\n",
      "\n",
      "аеслибянинежелаю\\nневсилахоттогочтоб\\nнелюбятнетуданебудет\\nивплач\\n</s>\n"
     ]
    },
    {
     "name": "stderr",
     "output_type": "stream",
     "text": [
      "[125 / 300] Train: Loss = 3.40991, PPX = 30.26: 100%|██████████| 677/677 [00:04<00:00, 153.17it/s]\n",
      "[125 / 300]   Val: Loss = 4.08052, PPX = 59.18: 100%|██████████| 19/19 [00:00<00:00, 153.12it/s]\n",
      "[126 / 300] Train: Loss = 3.44357, PPX = 31.30:   4%|▎         | 25/677 [00:00<00:05, 125.07it/s]"
     ]
    },
    {
     "name": "stdout",
     "output_type": "stream",
     "text": [
      "Optimizer lr = 1.13196e-71\n",
      "\n",
      "какхорошовадуятолько\\nчтовасотэтогодослёз\\nаяхочутебясегодня\\nия\\n</s>\n"
     ]
    },
    {
     "name": "stderr",
     "output_type": "stream",
     "text": [
      "[126 / 300] Train: Loss = 3.40977, PPX = 30.26: 100%|██████████| 677/677 [00:04<00:00, 158.77it/s]\n",
      "[126 / 300]   Val: Loss = 4.08213, PPX = 59.27: 100%|██████████| 19/19 [00:00<00:00, 156.41it/s]\n",
      "[127 / 300] Train: Loss = 3.33420, PPX = 28.06:   3%|▎         | 23/677 [00:00<00:05, 119.76it/s]"
     ]
    },
    {
     "name": "stdout",
     "output_type": "stream",
     "text": [
      "Optimizer lr = 2.8299e-72\n",
      "\n",
      "унаспопоясбродитутром\\nпокругуистрехутра\\nимневраюиграюнадо\\nвглаза\\n</s>\n"
     ]
    },
    {
     "name": "stderr",
     "output_type": "stream",
     "text": [
      "[127 / 300] Train: Loss = 3.40970, PPX = 30.26: 100%|██████████| 677/677 [00:04<00:00, 154.19it/s]\n",
      "[127 / 300]   Val: Loss = 4.08166, PPX = 59.24: 100%|██████████| 19/19 [00:00<00:00, 166.71it/s]\n",
      "[128 / 300] Train: Loss = 3.45834, PPX = 31.76:   4%|▎         | 24/677 [00:00<00:05, 129.12it/s]"
     ]
    },
    {
     "name": "stdout",
     "output_type": "stream",
     "text": [
      "Optimizer lr = 7.07475e-73\n",
      "\n",
      "язалюбовьтебяневидел\\nчтоможновтомчтомненебог\\nаяхочубынехотелось\\nния\\n</s>\n"
     ]
    },
    {
     "name": "stderr",
     "output_type": "stream",
     "text": [
      "[128 / 300] Train: Loss = 3.40998, PPX = 30.26: 100%|██████████| 677/677 [00:04<00:00, 160.45it/s]\n",
      "[128 / 300]   Val: Loss = 4.08225, PPX = 59.28: 100%|██████████| 19/19 [00:00<00:00, 161.84it/s]\n",
      "[129 / 300] Train: Loss = 3.43120, PPX = 30.91:   4%|▎         | 25/677 [00:00<00:05, 127.44it/s]"
     ]
    },
    {
     "name": "stdout",
     "output_type": "stream",
     "text": [
      "Optimizer lr = 1.76869e-73\n",
      "\n",
      "явдетстверазтебянебуду\\nясамневерюбыдослёз\\nауменяестьсполовиной\\nсомной\\n</s>\n"
     ]
    },
    {
     "name": "stderr",
     "output_type": "stream",
     "text": [
      "[129 / 300] Train: Loss = 3.40992, PPX = 30.26: 100%|██████████| 677/677 [00:04<00:00, 157.58it/s]\n",
      "[129 / 300]   Val: Loss = 4.08291, PPX = 59.32: 100%|██████████| 19/19 [00:00<00:00, 158.38it/s]\n",
      "[130 / 300] Train: Loss = 3.46863, PPX = 32.09:   4%|▎         | 24/677 [00:00<00:05, 126.67it/s]"
     ]
    },
    {
     "name": "stdout",
     "output_type": "stream",
     "text": [
      "Optimizer lr = 4.42172e-74\n",
      "\n",
      "вметросутрапроснулсяутром\\nчтовсевтеплеитеневком\\nавсмыслекакбыневернулся\\nкаксыр\\n</s>\n"
     ]
    },
    {
     "name": "stderr",
     "output_type": "stream",
     "text": [
      "[130 / 300] Train: Loss = 3.40960, PPX = 30.25: 100%|██████████| 677/677 [00:04<00:00, 154.72it/s]\n",
      "[130 / 300]   Val: Loss = 4.08246, PPX = 59.29: 100%|██████████| 19/19 [00:00<00:00, 154.65it/s]\n",
      "[131 / 300] Train: Loss = 3.38725, PPX = 29.58:   4%|▎         | 24/677 [00:00<00:05, 125.50it/s]"
     ]
    },
    {
     "name": "stdout",
     "output_type": "stream",
     "text": [
      "Optimizer lr = 1.10543e-74\n",
      "\n",
      "когдатымедленнозателом\\nнадачетвойпокойирот\\nивнёмтеперьянесогласен\\nнея\\n</s>\n"
     ]
    },
    {
     "name": "stderr",
     "output_type": "stream",
     "text": [
      "[131 / 300] Train: Loss = 3.40960, PPX = 30.25: 100%|██████████| 677/677 [00:04<00:00, 154.54it/s]\n",
      "[131 / 300]   Val: Loss = 4.07976, PPX = 59.13: 100%|██████████| 19/19 [00:00<00:00, 152.10it/s]\n",
      "[132 / 300] Train: Loss = 3.28001, PPX = 26.58:   4%|▎         | 25/677 [00:00<00:05, 129.32it/s]"
     ]
    },
    {
     "name": "stdout",
     "output_type": "stream",
     "text": [
      "Optimizer lr = 2.76357e-75\n",
      "\n",
      "явдетствебылневиделсмысла\\nаявответтебенирад\\nиненанейавотисвете\\nнея\\n</s>\n"
     ]
    },
    {
     "name": "stderr",
     "output_type": "stream",
     "text": [
      "[132 / 300] Train: Loss = 3.40960, PPX = 30.25: 100%|██████████| 677/677 [00:04<00:00, 156.06it/s]\n",
      "[132 / 300]   Val: Loss = 4.08230, PPX = 59.28: 100%|██████████| 19/19 [00:00<00:00, 153.56it/s]\n",
      "[133 / 300] Train: Loss = 3.31675, PPX = 27.57:   3%|▎         | 23/677 [00:00<00:05, 119.71it/s]"
     ]
    },
    {
     "name": "stdout",
     "output_type": "stream",
     "text": [
      "Optimizer lr = 6.90893e-76\n",
      "\n",
      "вуглусемьлетспустясемьикс\\nитывменясовсемнерад\\nавэтомчтомнеостаётся\\nнавы\\n</s>\n"
     ]
    },
    {
     "name": "stderr",
     "output_type": "stream",
     "text": [
      "[133 / 300] Train: Loss = 3.40973, PPX = 30.26: 100%|██████████| 677/677 [00:04<00:00, 156.86it/s]\n",
      "[133 / 300]   Val: Loss = 4.08258, PPX = 59.30: 100%|██████████| 19/19 [00:00<00:00, 149.70it/s]\n",
      "[134 / 300] Train: Loss = 3.32310, PPX = 27.75:   4%|▍         | 26/677 [00:00<00:05, 127.31it/s]"
     ]
    },
    {
     "name": "stdout",
     "output_type": "stream",
     "text": [
      "Optimizer lr = 1.72723e-76\n",
      "\n",
      "влесуподпоясназаборе\\nивэтомнетупроник\\nмнеговорятчтомненеможем\\nотвас\\n</s>\n"
     ]
    },
    {
     "name": "stderr",
     "output_type": "stream",
     "text": [
      "[134 / 300] Train: Loss = 3.40963, PPX = 30.25: 100%|██████████| 677/677 [00:04<00:00, 159.68it/s]\n",
      "[134 / 300]   Val: Loss = 4.08145, PPX = 59.23: 100%|██████████| 19/19 [00:00<00:00, 169.92it/s]\n",
      "[135 / 300] Train: Loss = 3.48007, PPX = 32.46:   4%|▎         | 25/677 [00:00<00:05, 128.15it/s]"
     ]
    },
    {
     "name": "stdout",
     "output_type": "stream",
     "text": [
      "Optimizer lr = 4.31808e-77\n",
      "\n",
      "апочемувыбезвсегото\\nябснимповезлоненой\\nнетакужмногонопохоже\\nнете\\n</s>\n"
     ]
    },
    {
     "name": "stderr",
     "output_type": "stream",
     "text": [
      "[135 / 300] Train: Loss = 3.40978, PPX = 30.26: 100%|██████████| 677/677 [00:04<00:00, 158.81it/s]\n",
      "[135 / 300]   Val: Loss = 4.08058, PPX = 59.18: 100%|██████████| 19/19 [00:00<00:00, 155.88it/s]\n",
      "[136 / 300] Train: Loss = 3.54897, PPX = 34.78:   4%|▎         | 25/677 [00:00<00:05, 125.94it/s]"
     ]
    },
    {
     "name": "stdout",
     "output_type": "stream",
     "text": [
      "Optimizer lr = 1.07952e-77\n",
      "\n",
      "янаработенезаметил\\nаяведьинепротив\\nвсети\\n</s>\n"
     ]
    },
    {
     "name": "stderr",
     "output_type": "stream",
     "text": [
      "[136 / 300] Train: Loss = 3.40965, PPX = 30.25: 100%|██████████| 677/677 [00:04<00:00, 156.64it/s]\n",
      "[136 / 300]   Val: Loss = 4.08199, PPX = 59.26: 100%|██████████| 19/19 [00:00<00:00, 160.25it/s]\n",
      "[137 / 300] Train: Loss = 3.48292, PPX = 32.55:   3%|▎         | 23/677 [00:00<00:04, 131.43it/s]"
     ]
    },
    {
     "name": "stdout",
     "output_type": "stream",
     "text": [
      "Optimizer lr = 2.6988e-78\n",
      "\n",
      "мывсебнакухнеэтодело\\nивэтомвремянамвсети\\nвтуденьстобойвмоюпалаты\\nикрест\\n</s>\n"
     ]
    },
    {
     "name": "stderr",
     "output_type": "stream",
     "text": [
      "[137 / 300] Train: Loss = 3.40968, PPX = 30.26: 100%|██████████| 677/677 [00:04<00:00, 155.94it/s]\n",
      "[137 / 300]   Val: Loss = 4.08200, PPX = 59.26: 100%|██████████| 19/19 [00:00<00:00, 152.88it/s]\n",
      "[138 / 300] Train: Loss = 3.38924, PPX = 29.64:   4%|▎         | 24/677 [00:00<00:05, 124.55it/s]"
     ]
    },
    {
     "name": "stdout",
     "output_type": "stream",
     "text": [
      "Optimizer lr = 6.74701e-79\n",
      "\n",
      "аможномненаскладеземлю\\nнеточтобтыменяхотьраз\\nинеизнихотэтихслови\\nябна\\n</s>\n"
     ]
    },
    {
     "name": "stderr",
     "output_type": "stream",
     "text": [
      "[138 / 300] Train: Loss = 3.40965, PPX = 30.25: 100%|██████████| 677/677 [00:04<00:00, 155.22it/s]\n",
      "[138 / 300]   Val: Loss = 4.08272, PPX = 59.31: 100%|██████████| 19/19 [00:00<00:00, 148.79it/s]\n",
      "[139 / 300] Train: Loss = 3.37440, PPX = 29.21:   3%|▎         | 23/677 [00:00<00:05, 118.55it/s]"
     ]
    },
    {
     "name": "stdout",
     "output_type": "stream",
     "text": [
      "Optimizer lr = 1.68675e-79\n",
      "\n",
      "неважноснаминиконцанимеры\\nниногневшуткунинагрудь\\nавотимамаэтопросто\\nвдекрет\\n</s>\n"
     ]
    },
    {
     "name": "stderr",
     "output_type": "stream",
     "text": [
      "[139 / 300] Train: Loss = 3.40976, PPX = 30.26: 100%|██████████| 677/677 [00:04<00:00, 154.14it/s]\n",
      "[139 / 300]   Val: Loss = 4.08177, PPX = 59.25: 100%|██████████| 19/19 [00:00<00:00, 155.30it/s]\n",
      "[140 / 300] Train: Loss = 3.40407, PPX = 30.09:   4%|▎         | 24/677 [00:00<00:05, 127.41it/s]"
     ]
    },
    {
     "name": "stdout",
     "output_type": "stream",
     "text": [
      "Optimizer lr = 4.21688e-80\n",
      "\n",
      "явовторыхучорнойкровати\\nитутжеяуженерад\\nтычтокпримерунемужчина\\nнесмог\\n</s>\n"
     ]
    },
    {
     "name": "stderr",
     "output_type": "stream",
     "text": [
      "[140 / 300] Train: Loss = 3.40966, PPX = 30.26: 100%|██████████| 677/677 [00:04<00:00, 153.78it/s]\n",
      "[140 / 300]   Val: Loss = 4.08199, PPX = 59.26: 100%|██████████| 19/19 [00:00<00:00, 156.04it/s]\n",
      "[141 / 300] Train: Loss = 3.45439, PPX = 31.64:   4%|▎         | 25/677 [00:00<00:04, 131.88it/s]"
     ]
    },
    {
     "name": "stdout",
     "output_type": "stream",
     "text": [
      "Optimizer lr = 1.05422e-80\n",
      "\n",
      "насъездеюныхи\\nявжизнитолькоговорит\\nиговоритнучтотытоже\\nая\\n</s>\n"
     ]
    },
    {
     "name": "stderr",
     "output_type": "stream",
     "text": [
      "[141 / 300] Train: Loss = 3.40972, PPX = 30.26: 100%|██████████| 677/677 [00:04<00:00, 159.94it/s]\n",
      "[141 / 300]   Val: Loss = 4.08253, PPX = 59.30: 100%|██████████| 19/19 [00:00<00:00, 153.69it/s]\n",
      "[142 / 300] Train: Loss = 3.36270, PPX = 28.87:   4%|▎         | 24/677 [00:00<00:05, 129.09it/s]"
     ]
    },
    {
     "name": "stdout",
     "output_type": "stream",
     "text": [
      "Optimizer lr = 2.63555e-81\n",
      "\n",
      "явдетствебылнастолькомного\\nикаквсегдавовсёмвозьми\\nитолькомыегонепара\\nигод\\n</s>\n"
     ]
    },
    {
     "name": "stderr",
     "output_type": "stream",
     "text": [
      "[142 / 300] Train: Loss = 3.40977, PPX = 30.26: 100%|██████████| 677/677 [00:04<00:00, 154.18it/s]\n",
      "[142 / 300]   Val: Loss = 4.08298, PPX = 59.32: 100%|██████████| 19/19 [00:00<00:00, 165.42it/s]\n",
      "[143 / 300] Train: Loss = 3.35506, PPX = 28.65:   4%|▍         | 26/677 [00:00<00:04, 136.14it/s]"
     ]
    },
    {
     "name": "stdout",
     "output_type": "stream",
     "text": [
      "Optimizer lr = 6.58887e-82\n",
      "\n",
      "явдетствебылнепонимаю\\nатыпришёлвовсейкрасе\\nатактодумалчтостобою\\nисдох\\n</s>\n"
     ]
    },
    {
     "name": "stderr",
     "output_type": "stream",
     "text": [
      "[143 / 300] Train: Loss = 3.40971, PPX = 30.26: 100%|██████████| 677/677 [00:04<00:00, 166.11it/s]\n",
      "[143 / 300]   Val: Loss = 4.08252, PPX = 59.29: 100%|██████████| 19/19 [00:00<00:00, 168.21it/s]\n",
      "[144 / 300] Train: Loss = 3.45941, PPX = 31.80:   4%|▎         | 25/677 [00:00<00:05, 126.72it/s]"
     ]
    },
    {
     "name": "stdout",
     "output_type": "stream",
     "text": [
      "Optimizer lr = 1.64722e-82\n",
      "\n",
      "янескажусказалевгений\\nивнёмполноитакилень\\nвсёпотомучтовчёрномслица\\nнемой\\n</s>\n"
     ]
    },
    {
     "name": "stderr",
     "output_type": "stream",
     "text": [
      "[144 / 300] Train: Loss = 3.40965, PPX = 30.25: 100%|██████████| 677/677 [00:04<00:00, 154.27it/s]\n",
      "[144 / 300]   Val: Loss = 4.08276, PPX = 59.31: 100%|██████████| 19/19 [00:00<00:00, 166.06it/s]\n",
      "[145 / 300] Train: Loss = 3.40815, PPX = 30.21:   4%|▍         | 26/677 [00:00<00:05, 128.75it/s]"
     ]
    },
    {
     "name": "stdout",
     "output_type": "stream",
     "text": [
      "Optimizer lr = 4.11805e-83\n",
      "\n",
      "насценусчастьевсёпрекрасно\\nкакбудтонеидёткакойто\\nтамяинебылвэтовремя\\nнивте\\n</s>\n"
     ]
    },
    {
     "name": "stderr",
     "output_type": "stream",
     "text": [
      "[145 / 300] Train: Loss = 3.40962, PPX = 30.25: 100%|██████████| 677/677 [00:04<00:00, 157.84it/s]\n",
      "[145 / 300]   Val: Loss = 4.08181, PPX = 59.25: 100%|██████████| 19/19 [00:00<00:00, 170.21it/s]\n",
      "[146 / 300] Train: Loss = 3.32277, PPX = 27.74:   4%|▎         | 25/677 [00:00<00:05, 129.95it/s]"
     ]
    },
    {
     "name": "stdout",
     "output_type": "stream",
     "text": [
      "Optimizer lr = 1.02951e-83\n",
      "\n",
      "оксанаянепонимаю\\nяпоследвухнетакгруб\\nиневдушексебеавсмысле\\nнивчём\\n</s>\n"
     ]
    },
    {
     "name": "stderr",
     "output_type": "stream",
     "text": [
      "[146 / 300] Train: Loss = 3.40968, PPX = 30.26: 100%|██████████| 677/677 [00:04<00:00, 160.44it/s]\n",
      "[146 / 300]   Val: Loss = 4.08235, PPX = 59.28: 100%|██████████| 19/19 [00:00<00:00, 161.45it/s]\n",
      "[147 / 300] Train: Loss = 3.30863, PPX = 27.35:   4%|▎         | 24/677 [00:00<00:05, 128.17it/s]"
     ]
    },
    {
     "name": "stdout",
     "output_type": "stream",
     "text": [
      "Optimizer lr = 2.57378e-84\n",
      "\n",
      "яобожаювкусвтумане\\nтакинебылоинеесть\\nатутивэтомтовитоге\\nваду\\n</s>\n"
     ]
    },
    {
     "name": "stderr",
     "output_type": "stream",
     "text": [
      "[147 / 300] Train: Loss = 3.40953, PPX = 30.25: 100%|██████████| 677/677 [00:04<00:00, 160.68it/s]\n",
      "[147 / 300]   Val: Loss = 4.08333, PPX = 59.34: 100%|██████████| 19/19 [00:00<00:00, 153.83it/s]\n",
      "[148 / 300] Train: Loss = 3.41048, PPX = 30.28:   4%|▎         | 24/677 [00:00<00:05, 126.87it/s]"
     ]
    },
    {
     "name": "stdout",
     "output_type": "stream",
     "text": [
      "Optimizer lr = 6.43445e-85\n",
      "\n",
      "вамчтотовглубинемнеруки\\nянемогувамдосмертинет\\nнезналчтоявсеголишьпушкин\\nтои\\n</s>\n"
     ]
    },
    {
     "name": "stderr",
     "output_type": "stream",
     "text": [
      "[148 / 300] Train: Loss = 3.40971, PPX = 30.26: 100%|██████████| 677/677 [00:04<00:00, 154.62it/s]\n",
      "[148 / 300]   Val: Loss = 4.08193, PPX = 59.26: 100%|██████████| 19/19 [00:00<00:00, 151.39it/s]\n",
      "[149 / 300] Train: Loss = 3.31297, PPX = 27.47:   4%|▎         | 25/677 [00:00<00:05, 129.91it/s]"
     ]
    },
    {
     "name": "stdout",
     "output_type": "stream",
     "text": [
      "Optimizer lr = 1.60861e-85\n",
      "\n",
      "какойвывсемчеготовморе\\nятакинемогусказать\\nновсёжевэтомнехватает\\nивморг\\n</s>\n"
     ]
    },
    {
     "name": "stderr",
     "output_type": "stream",
     "text": [
      "[149 / 300] Train: Loss = 3.40953, PPX = 30.25: 100%|██████████| 677/677 [00:04<00:00, 160.00it/s]\n",
      "[149 / 300]   Val: Loss = 4.08281, PPX = 59.31: 100%|██████████| 19/19 [00:00<00:00, 156.62it/s]\n",
      "[150 / 300] Train: Loss = 3.26775, PPX = 26.25:   4%|▎         | 25/677 [00:00<00:05, 124.80it/s]"
     ]
    },
    {
     "name": "stdout",
     "output_type": "stream",
     "text": [
      "Optimizer lr = 4.02153e-86\n",
      "\n",
      "влесусоксанойнапороге\\nрешиливочередиза\\nвнёмтридцатьпятьплюсдвадцатьтри\\nвсебя\\n</s>\n"
     ]
    },
    {
     "name": "stderr",
     "output_type": "stream",
     "text": [
      "[150 / 300] Train: Loss = 3.40975, PPX = 30.26: 100%|██████████| 677/677 [00:04<00:00, 155.17it/s]\n",
      "[150 / 300]   Val: Loss = 4.08165, PPX = 59.24: 100%|██████████| 19/19 [00:00<00:00, 150.20it/s]\n",
      "[151 / 300] Train: Loss = 3.52352, PPX = 33.90:   3%|▎         | 23/677 [00:00<00:05, 124.78it/s]"
     ]
    },
    {
     "name": "stdout",
     "output_type": "stream",
     "text": [
      "Optimizer lr = 1.00538e-86\n",
      "\n",
      "незнаюкакяневернулся\\nнезнаючтолинастоле\\nавынескемягдеигдето\\nтыза\\n</s>\n"
     ]
    },
    {
     "name": "stderr",
     "output_type": "stream",
     "text": [
      "[151 / 300] Train: Loss = 3.40969, PPX = 30.26: 100%|██████████| 677/677 [00:04<00:00, 152.74it/s]\n",
      "[151 / 300]   Val: Loss = 4.08257, PPX = 59.30: 100%|██████████| 19/19 [00:00<00:00, 150.51it/s]\n",
      "[152 / 300] Train: Loss = 3.46346, PPX = 31.93:   4%|▎         | 24/677 [00:00<00:05, 124.00it/s]"
     ]
    },
    {
     "name": "stdout",
     "output_type": "stream",
     "text": [
      "Optimizer lr = 2.51346e-87\n",
      "\n",
      "неможетяпроснулсявгости\\nвговненасемьдесятминут\\nядамвамбудетнезаденьги\\nвкусты\\n</s>\n"
     ]
    },
    {
     "name": "stderr",
     "output_type": "stream",
     "text": [
      "[152 / 300] Train: Loss = 3.40976, PPX = 30.26: 100%|██████████| 677/677 [00:04<00:00, 150.87it/s]\n",
      "[152 / 300]   Val: Loss = 4.08355, PPX = 59.36: 100%|██████████| 19/19 [00:00<00:00, 153.97it/s]\n",
      "[153 / 300] Train: Loss = 3.40061, PPX = 29.98:   4%|▎         | 24/677 [00:00<00:05, 123.54it/s]"
     ]
    },
    {
     "name": "stdout",
     "output_type": "stream",
     "text": [
      "Optimizer lr = 6.28364e-88\n",
      "\n",
      "мывсеумрёмвконцетоннеля\\nспорогадажевживоте\\nатыпридётсязасобою\\nвдали\\n</s>\n"
     ]
    },
    {
     "name": "stderr",
     "output_type": "stream",
     "text": [
      "[153 / 300] Train: Loss = 3.40983, PPX = 30.26: 100%|██████████| 677/677 [00:04<00:00, 154.44it/s]\n",
      "[153 / 300]   Val: Loss = 4.08167, PPX = 59.24: 100%|██████████| 19/19 [00:00<00:00, 154.67it/s]\n",
      "[154 / 300] Train: Loss = 3.32159, PPX = 27.70:   4%|▎         | 25/677 [00:00<00:05, 126.70it/s]"
     ]
    },
    {
     "name": "stdout",
     "output_type": "stream",
     "text": [
      "Optimizer lr = 1.57091e-88\n",
      "\n",
      "когдаидиястанулетом\\nянемогусказатьвамтру\\nнояжнебылинехватает\\nборща\\n</s>\n"
     ]
    },
    {
     "name": "stderr",
     "output_type": "stream",
     "text": [
      "[154 / 300] Train: Loss = 3.40971, PPX = 30.26: 100%|██████████| 677/677 [00:04<00:00, 155.04it/s]\n",
      "[154 / 300]   Val: Loss = 4.08161, PPX = 59.24: 100%|██████████| 19/19 [00:00<00:00, 157.00it/s]\n",
      "[155 / 300] Train: Loss = 3.43185, PPX = 30.93:   4%|▎         | 24/677 [00:00<00:05, 127.37it/s]"
     ]
    },
    {
     "name": "stdout",
     "output_type": "stream",
     "text": [
      "Optimizer lr = 3.92727e-89\n",
      "\n",
      "янетогочтомывсказки\\nяиневиноватине\\nнояжнепонимаюмнеостаться\\nнете\\n</s>\n"
     ]
    },
    {
     "name": "stderr",
     "output_type": "stream",
     "text": [
      "[155 / 300] Train: Loss = 3.40945, PPX = 30.25: 100%|██████████| 677/677 [00:04<00:00, 155.15it/s]\n",
      "[155 / 300]   Val: Loss = 4.08339, PPX = 59.35: 100%|██████████| 19/19 [00:00<00:00, 152.12it/s]\n",
      "[156 / 300] Train: Loss = 3.37603, PPX = 29.25:   4%|▎         | 25/677 [00:00<00:05, 127.84it/s]"
     ]
    },
    {
     "name": "stdout",
     "output_type": "stream",
     "text": [
      "Optimizer lr = 9.81819e-90\n",
      "\n",
      "врукахогромныйдвенедели\\nсутраглядитвконцетоннеля\\nивсамомделевсёивсето\\nналбу\\n</s>\n"
     ]
    },
    {
     "name": "stderr",
     "output_type": "stream",
     "text": [
      "[156 / 300] Train: Loss = 3.40954, PPX = 30.25: 100%|██████████| 677/677 [00:04<00:00, 154.70it/s]\n",
      "[156 / 300]   Val: Loss = 4.08287, PPX = 59.32: 100%|██████████| 19/19 [00:00<00:00, 158.10it/s]\n",
      "[157 / 300] Train: Loss = 3.53211, PPX = 34.20:   3%|▎         | 23/677 [00:00<00:05, 119.17it/s]"
     ]
    },
    {
     "name": "stdout",
     "output_type": "stream",
     "text": [
      "Optimizer lr = 2.45455e-90\n",
      "\n",
      "вашмозгнадниминеродился\\nненадобылобненакухне\\nноеслиесливыненужно\\nяжна\\n</s>\n"
     ]
    },
    {
     "name": "stderr",
     "output_type": "stream",
     "text": [
      "[157 / 300] Train: Loss = 3.40973, PPX = 30.26: 100%|██████████| 677/677 [00:04<00:00, 155.54it/s]\n",
      "[157 / 300]   Val: Loss = 4.08222, PPX = 59.28: 100%|██████████| 19/19 [00:00<00:00, 161.02it/s]\n",
      "[158 / 300] Train: Loss = 3.28128, PPX = 26.61:   4%|▎         | 24/677 [00:00<00:05, 126.32it/s]"
     ]
    },
    {
     "name": "stdout",
     "output_type": "stream",
     "text": [
      "Optimizer lr = 6.13637e-91\n",
      "\n",
      "насценумненабеломсвете\\nивотвамхочетсяхотьвчесть\\nичтотохочетсяидаже\\nнея\\n</s>\n"
     ]
    },
    {
     "name": "stderr",
     "output_type": "stream",
     "text": [
      "[158 / 300] Train: Loss = 3.40960, PPX = 30.25: 100%|██████████| 677/677 [00:04<00:00, 155.60it/s]\n",
      "[158 / 300]   Val: Loss = 4.08270, PPX = 59.31: 100%|██████████| 19/19 [00:00<00:00, 154.16it/s]\n",
      "[159 / 300] Train: Loss = 3.25530, PPX = 25.93:   4%|▎         | 25/677 [00:00<00:05, 125.42it/s]"
     ]
    },
    {
     "name": "stdout",
     "output_type": "stream",
     "text": [
      "Optimizer lr = 1.53409e-91\n",
      "\n",
      "ачтовызнаетенаморе\\nянанегоневшуткуни\\nидажевнейнеговорила\\nвтебе\\n</s>\n"
     ]
    },
    {
     "name": "stderr",
     "output_type": "stream",
     "text": [
      "[159 / 300] Train: Loss = 3.40967, PPX = 30.26: 100%|██████████| 677/677 [00:04<00:00, 155.30it/s]\n",
      "[159 / 300]   Val: Loss = 4.08184, PPX = 59.25: 100%|██████████| 19/19 [00:00<00:00, 159.07it/s]\n",
      "[160 / 300] Train: Loss = 3.39187, PPX = 29.72:   3%|▎         | 23/677 [00:00<00:05, 124.25it/s]"
     ]
    },
    {
     "name": "stdout",
     "output_type": "stream",
     "text": [
      "Optimizer lr = 3.83523e-92\n",
      "\n",
      "ачтозавасянезнакомженщин\\nнивчёмкакниоднойнизги\\nапослеваснеостаётся\\nяза\\n</s>\n"
     ]
    },
    {
     "name": "stderr",
     "output_type": "stream",
     "text": [
      "[160 / 300] Train: Loss = 3.40965, PPX = 30.25: 100%|██████████| 677/677 [00:04<00:00, 155.16it/s]\n",
      "[160 / 300]   Val: Loss = 4.08156, PPX = 59.24: 100%|██████████| 19/19 [00:00<00:00, 153.94it/s]\n",
      "[161 / 300] Train: Loss = 3.44850, PPX = 31.45:   4%|▎         | 24/677 [00:00<00:05, 123.77it/s]"
     ]
    },
    {
     "name": "stdout",
     "output_type": "stream",
     "text": [
      "Optimizer lr = 9.58807e-93\n",
      "\n",
      "янехочуяалкоголик\\nаявчераилиневы\\nнокакобычновсёслучилось\\nивпуть\\n</s>\n"
     ]
    },
    {
     "name": "stderr",
     "output_type": "stream",
     "text": [
      "[161 / 300] Train: Loss = 3.40960, PPX = 30.25: 100%|██████████| 677/677 [00:04<00:00, 156.85it/s]\n",
      "[161 / 300]   Val: Loss = 4.08240, PPX = 59.29: 100%|██████████| 19/19 [00:00<00:00, 153.56it/s]\n",
      "[162 / 300] Train: Loss = 3.52746, PPX = 34.04:   4%|▎         | 24/677 [00:00<00:05, 125.30it/s]"
     ]
    },
    {
     "name": "stdout",
     "output_type": "stream",
     "text": [
      "Optimizer lr = 2.39702e-93\n",
      "\n",
      "мнетакненуженчтотохочешь\\nяжнепоймуянезаднём\\nавнейвотэтотвотипросто\\nненой\\n</s>\n"
     ]
    },
    {
     "name": "stderr",
     "output_type": "stream",
     "text": [
      "[162 / 300] Train: Loss = 3.40959, PPX = 30.25: 100%|██████████| 677/677 [00:04<00:00, 154.11it/s]\n",
      "[162 / 300]   Val: Loss = 4.08202, PPX = 59.27: 100%|██████████| 19/19 [00:00<00:00, 157.90it/s]\n",
      "[163 / 300] Train: Loss = 3.38273, PPX = 29.45:   4%|▎         | 24/677 [00:00<00:05, 128.05it/s]"
     ]
    },
    {
     "name": "stdout",
     "output_type": "stream",
     "text": [
      "Optimizer lr = 5.99255e-94\n",
      "\n",
      "мыпилиночьюврусскойплатье\\nавылиневнутриль\\nаяневерилчтооднажды\\nнемуж\\n</s>\n"
     ]
    },
    {
     "name": "stderr",
     "output_type": "stream",
     "text": [
      "[163 / 300] Train: Loss = 3.40968, PPX = 30.26: 100%|██████████| 677/677 [00:04<00:00, 158.92it/s]\n",
      "[163 / 300]   Val: Loss = 4.08181, PPX = 59.25: 100%|██████████| 19/19 [00:00<00:00, 172.79it/s]\n",
      "[164 / 300] Train: Loss = 3.50148, PPX = 33.16:   4%|▎         | 25/677 [00:00<00:04, 132.03it/s]"
     ]
    },
    {
     "name": "stdout",
     "output_type": "stream",
     "text": [
      "Optimizer lr = 1.49814e-94\n",
      "\n",
      "насъездеюныхипесен\\nневсилахмнеинесней\\nанаглазахбылтакжеделать\\nая\\n</s>\n"
     ]
    },
    {
     "name": "stderr",
     "output_type": "stream",
     "text": [
      "[164 / 300] Train: Loss = 3.40987, PPX = 30.26: 100%|██████████| 677/677 [00:04<00:00, 154.25it/s]\n",
      "[164 / 300]   Val: Loss = 4.08241, PPX = 59.29: 100%|██████████| 19/19 [00:00<00:00, 157.50it/s]\n",
      "[165 / 300] Train: Loss = 3.41317, PPX = 30.36:   4%|▎         | 25/677 [00:00<00:05, 127.08it/s]"
     ]
    },
    {
     "name": "stdout",
     "output_type": "stream",
     "text": [
      "Optimizer lr = 3.74534e-95\n",
      "\n",
      "поднувконцетоннелялето\\nвсепередмиромгдекупить\\nивотужтоженеуверен\\nикто\\n</s>\n"
     ]
    },
    {
     "name": "stderr",
     "output_type": "stream",
     "text": [
      "[165 / 300] Train: Loss = 3.40957, PPX = 30.25: 100%|██████████| 677/677 [00:04<00:00, 154.32it/s]\n",
      "[165 / 300]   Val: Loss = 4.07991, PPX = 59.14: 100%|██████████| 19/19 [00:00<00:00, 153.48it/s]\n",
      "[166 / 300] Train: Loss = 3.38630, PPX = 29.56:   4%|▎         | 24/677 [00:00<00:05, 122.37it/s]"
     ]
    },
    {
     "name": "stdout",
     "output_type": "stream",
     "text": [
      "Optimizer lr = 9.36335e-96\n",
      "\n",
      "накоймнечтотакоедело\\nятоженелюблюкогда\\nнотынепростотакужлучше\\nнея\\n</s>\n"
     ]
    },
    {
     "name": "stderr",
     "output_type": "stream",
     "text": [
      "[166 / 300] Train: Loss = 3.40963, PPX = 30.25: 100%|██████████| 677/677 [00:04<00:00, 158.94it/s]\n",
      "[166 / 300]   Val: Loss = 4.08212, PPX = 59.27: 100%|██████████| 19/19 [00:00<00:00, 163.06it/s]\n",
      "[167 / 300] Train: Loss = 3.37500, PPX = 29.22:   4%|▍         | 26/677 [00:00<00:04, 134.77it/s]"
     ]
    },
    {
     "name": "stdout",
     "output_type": "stream",
     "text": [
      "Optimizer lr = 2.34084e-96\n",
      "\n",
      "уольгивэтойпятомвселенной\\nивчёмтобылсовсемнето\\nивдругниктонепредвещало\\nвзагсли\\n</s>\n"
     ]
    },
    {
     "name": "stderr",
     "output_type": "stream",
     "text": [
      "[167 / 300] Train: Loss = 3.40944, PPX = 30.25: 100%|██████████| 677/677 [00:04<00:00, 157.21it/s]\n",
      "[167 / 300]   Val: Loss = 4.08093, PPX = 59.20: 100%|██████████| 19/19 [00:00<00:00, 170.13it/s]\n",
      "[168 / 300] Train: Loss = 3.42106, PPX = 30.60:   4%|▎         | 25/677 [00:00<00:05, 128.80it/s]"
     ]
    },
    {
     "name": "stdout",
     "output_type": "stream",
     "text": [
      "Optimizer lr = 5.8521e-97\n",
      "\n",
      "оксаналебедьколегу\\nподвечерточтомывпрах\\nчтовнихтакбольшенехватает\\nнегрех\\n</s>\n"
     ]
    },
    {
     "name": "stderr",
     "output_type": "stream",
     "text": [
      "[168 / 300] Train: Loss = 3.40967, PPX = 30.26: 100%|██████████| 677/677 [00:04<00:00, 154.32it/s]\n",
      "[168 / 300]   Val: Loss = 4.08278, PPX = 59.31: 100%|██████████| 19/19 [00:00<00:00, 150.24it/s]\n",
      "[169 / 300] Train: Loss = 3.25719, PPX = 25.98:   3%|▎         | 23/677 [00:00<00:05, 117.29it/s]"
     ]
    },
    {
     "name": "stdout",
     "output_type": "stream",
     "text": [
      "Optimizer lr = 1.46302e-97\n",
      "\n",
      "апомнишьвдетствебродитбыло\\nсказалонвэтомнеспеша\\nпохожеяуженебуду\\nкарман\\n</s>\n"
     ]
    },
    {
     "name": "stderr",
     "output_type": "stream",
     "text": [
      "[169 / 300] Train: Loss = 3.40971, PPX = 30.26: 100%|██████████| 677/677 [00:04<00:00, 154.08it/s]\n",
      "[169 / 300]   Val: Loss = 4.08272, PPX = 59.31: 100%|██████████| 19/19 [00:00<00:00, 159.76it/s]\n",
      "[170 / 300] Train: Loss = 3.39686, PPX = 29.87:   3%|▎         | 23/677 [00:00<00:05, 125.87it/s]"
     ]
    },
    {
     "name": "stdout",
     "output_type": "stream",
     "text": [
      "Optimizer lr = 3.65756e-98\n",
      "\n",
      "ачтовызнаетеочомто\\nмненемогусказатьсказать\\nавымневотмойдругнасвете\\nиты\\n</s>\n"
     ]
    },
    {
     "name": "stderr",
     "output_type": "stream",
     "text": [
      "[170 / 300] Train: Loss = 3.40971, PPX = 30.26: 100%|██████████| 677/677 [00:04<00:00, 152.66it/s]\n",
      "[170 / 300]   Val: Loss = 4.08263, PPX = 59.30: 100%|██████████| 19/19 [00:00<00:00, 165.54it/s]\n",
      "[171 / 300] Train: Loss = 3.44350, PPX = 31.30:   4%|▎         | 24/677 [00:00<00:05, 126.80it/s]"
     ]
    },
    {
     "name": "stdout",
     "output_type": "stream",
     "text": [
      "Optimizer lr = 9.1439e-99\n",
      "\n",
      "однаждывморгенепроходит\\nябнатебенетакужплох\\nнетянезнаянасаяне\\nнесмог\\n</s>\n"
     ]
    },
    {
     "name": "stderr",
     "output_type": "stream",
     "text": [
      "[171 / 300] Train: Loss = 3.40973, PPX = 30.26: 100%|██████████| 677/677 [00:04<00:00, 155.33it/s]\n",
      "[171 / 300]   Val: Loss = 4.08096, PPX = 59.20: 100%|██████████| 19/19 [00:00<00:00, 156.62it/s]\n",
      "[172 / 300] Train: Loss = 3.39048, PPX = 29.68:   3%|▎         | 23/677 [00:00<00:05, 119.24it/s]"
     ]
    },
    {
     "name": "stdout",
     "output_type": "stream",
     "text": [
      "Optimizer lr = 2.28597e-99\n",
      "\n",
      "янелюблювасзатобою\\nсказалавсёжеямилее\\nаонвсёэтобылипросто\\nилень\\n</s>\n"
     ]
    },
    {
     "name": "stderr",
     "output_type": "stream",
     "text": [
      "[172 / 300] Train: Loss = 3.40953, PPX = 30.25: 100%|██████████| 677/677 [00:04<00:00, 156.57it/s]\n",
      "[172 / 300]   Val: Loss = 4.08295, PPX = 59.32: 100%|██████████| 19/19 [00:00<00:00, 156.10it/s]\n",
      "[173 / 300] Train: Loss = 3.38510, PPX = 29.52:   4%|▎         | 24/677 [00:00<00:05, 125.19it/s]"
     ]
    },
    {
     "name": "stdout",
     "output_type": "stream",
     "text": [
      "Optimizer lr = 5.71494e-100\n",
      "\n",
      "янехочунемноголет\\nнекаждыйденьвсвоейженой\\nибылнавсюночьстарыйтыкать\\nвменя\\n</s>\n"
     ]
    },
    {
     "name": "stderr",
     "output_type": "stream",
     "text": [
      "[173 / 300] Train: Loss = 3.40965, PPX = 30.25: 100%|██████████| 677/677 [00:04<00:00, 154.15it/s]\n",
      "[173 / 300]   Val: Loss = 4.08138, PPX = 59.23: 100%|██████████| 19/19 [00:00<00:00, 151.75it/s]\n",
      "[174 / 300] Train: Loss = 3.52938, PPX = 34.10:   3%|▎         | 23/677 [00:00<00:05, 122.74it/s]"
     ]
    },
    {
     "name": "stdout",
     "output_type": "stream",
     "text": [
      "Optimizer lr = 1.42873e-100\n",
      "\n",
      "явасмогучегожеболе\\nивотивсёнетакужплох\\nябылстобойкакиетолько\\nсоси\\n</s>\n"
     ]
    },
    {
     "name": "stderr",
     "output_type": "stream",
     "text": [
      "[174 / 300] Train: Loss = 3.40978, PPX = 30.26: 100%|██████████| 677/677 [00:04<00:00, 154.28it/s]\n",
      "[174 / 300]   Val: Loss = 4.08277, PPX = 59.31: 100%|██████████| 19/19 [00:00<00:00, 155.86it/s]\n",
      "[175 / 300] Train: Loss = 3.42138, PPX = 30.61:   3%|▎         | 23/677 [00:00<00:05, 124.18it/s]"
     ]
    },
    {
     "name": "stdout",
     "output_type": "stream",
     "text": [
      "Optimizer lr = 3.57184e-101\n",
      "\n",
      "ачтовызнаетеобоже\\nчтояинемогусказать\\nаянепомнючтотакое\\nмнебсднём\\n</s>\n"
     ]
    },
    {
     "name": "stderr",
     "output_type": "stream",
     "text": [
      "[175 / 300] Train: Loss = 3.40939, PPX = 30.25: 100%|██████████| 677/677 [00:04<00:00, 154.83it/s]\n",
      "[175 / 300]   Val: Loss = 4.08287, PPX = 59.32: 100%|██████████| 19/19 [00:00<00:00, 150.51it/s]\n",
      "[176 / 300] Train: Loss = 3.14605, PPX = 23.24:   4%|▎         | 24/677 [00:00<00:05, 122.97it/s]"
     ]
    },
    {
     "name": "stdout",
     "output_type": "stream",
     "text": [
      "Optimizer lr = 8.92959e-102\n",
      "\n",
      "какхорошочтомывпорядке\\nноневыходитничерта\\nнотуттовжизнивзяливсердце\\nжена\\n</s>\n"
     ]
    },
    {
     "name": "stderr",
     "output_type": "stream",
     "text": [
      "[176 / 300] Train: Loss = 3.40970, PPX = 30.26: 100%|██████████| 677/677 [00:04<00:00, 153.28it/s]\n",
      "[176 / 300]   Val: Loss = 4.08209, PPX = 59.27: 100%|██████████| 19/19 [00:00<00:00, 166.18it/s]\n",
      "[177 / 300] Train: Loss = 3.41350, PPX = 30.37:   4%|▎         | 24/677 [00:00<00:05, 125.81it/s]"
     ]
    },
    {
     "name": "stdout",
     "output_type": "stream",
     "text": [
      "Optimizer lr = 2.2324e-102\n",
      "\n",
      "влюбвивглазахувасвмашине\\nвсёвремявадкаквиноват\\nкругомдачтоещёнебудет\\nнизги\\n</s>\n"
     ]
    },
    {
     "name": "stderr",
     "output_type": "stream",
     "text": [
      "[177 / 300] Train: Loss = 3.40985, PPX = 30.26: 100%|██████████| 677/677 [00:04<00:00, 162.52it/s]\n",
      "[177 / 300]   Val: Loss = 4.08233, PPX = 59.28: 100%|██████████| 19/19 [00:00<00:00, 169.26it/s]\n",
      "[178 / 300] Train: Loss = 3.50686, PPX = 33.34:   4%|▎         | 25/677 [00:00<00:05, 126.13it/s]"
     ]
    },
    {
     "name": "stdout",
     "output_type": "stream",
     "text": [
      "Optimizer lr = 5.58099e-103\n",
      "\n",
      "вытакжекактоговорите\\nаввасподзвукинивчём\\nтамгдетовсердцепревратилась\\nвдругой\\n</s>\n"
     ]
    },
    {
     "name": "stderr",
     "output_type": "stream",
     "text": [
      "[178 / 300] Train: Loss = 3.40956, PPX = 30.25: 100%|██████████| 677/677 [00:04<00:00, 155.27it/s]\n",
      "[178 / 300]   Val: Loss = 4.08243, PPX = 59.29: 100%|██████████| 19/19 [00:00<00:00, 156.88it/s]\n",
      "[179 / 300] Train: Loss = 3.20588, PPX = 24.68:   4%|▎         | 24/677 [00:00<00:05, 124.31it/s]"
     ]
    },
    {
     "name": "stdout",
     "output_type": "stream",
     "text": [
      "Optimizer lr = 1.39525e-103\n",
      "\n",
      "унасвглазахувасвпариже\\nстобоюивплену\\nапросточтобычтотакпросто\\nктоесть\\n</s>\n"
     ]
    },
    {
     "name": "stderr",
     "output_type": "stream",
     "text": [
      "[179 / 300] Train: Loss = 3.40975, PPX = 30.26: 100%|██████████| 677/677 [00:04<00:00, 159.92it/s]\n",
      "[179 / 300]   Val: Loss = 4.08278, PPX = 59.31: 100%|██████████| 19/19 [00:00<00:00, 169.48it/s]\n",
      "[180 / 300] Train: Loss = 3.49076, PPX = 32.81:   4%|▎         | 24/677 [00:00<00:05, 129.07it/s]"
     ]
    },
    {
     "name": "stdout",
     "output_type": "stream",
     "text": [
      "Optimizer lr = 3.48812e-104\n",
      "\n",
      "менянетакужэтоплохо\\nневымневдушуневговно\\nноянакухненескулаками\\nниесть\\n</s>\n"
     ]
    },
    {
     "name": "stderr",
     "output_type": "stream",
     "text": [
      "[180 / 300] Train: Loss = 3.40976, PPX = 30.26: 100%|██████████| 677/677 [00:04<00:00, 156.09it/s]\n",
      "[180 / 300]   Val: Loss = 4.08182, PPX = 59.25: 100%|██████████| 19/19 [00:00<00:00, 153.22it/s]\n",
      "[181 / 300] Train: Loss = 3.69756, PPX = 40.35:   3%|▎         | 23/677 [00:00<00:05, 122.60it/s]"
     ]
    },
    {
     "name": "stdout",
     "output_type": "stream",
     "text": [
      "Optimizer lr = 8.7203e-105\n",
      "\n",
      "явваслюблючегожеболе\\nитутжемнепролобичто\\nотнихменянеговорите\\nнестой\\n</s>\n"
     ]
    },
    {
     "name": "stderr",
     "output_type": "stream",
     "text": [
      "[181 / 300] Train: Loss = 3.40961, PPX = 30.25: 100%|██████████| 677/677 [00:04<00:00, 154.01it/s]\n",
      "[181 / 300]   Val: Loss = 4.08277, PPX = 59.31: 100%|██████████| 19/19 [00:00<00:00, 156.47it/s]\n",
      "[182 / 300] Train: Loss = 3.34060, PPX = 28.24:   4%|▎         | 24/677 [00:00<00:05, 123.31it/s]"
     ]
    },
    {
     "name": "stdout",
     "output_type": "stream",
     "text": [
      "Optimizer lr = 2.18008e-105\n",
      "\n",
      "ямеждупрочимвбане\\nсказалсулыбкойнакраю\\nивдругснимвнатуренебудет\\nния\\n</s>\n"
     ]
    },
    {
     "name": "stderr",
     "output_type": "stream",
     "text": [
      "[182 / 300] Train: Loss = 3.40946, PPX = 30.25: 100%|██████████| 677/677 [00:04<00:00, 154.63it/s]\n",
      "[182 / 300]   Val: Loss = 4.08191, PPX = 59.26: 100%|██████████| 19/19 [00:00<00:00, 154.84it/s]\n",
      "[183 / 300] Train: Loss = 3.39393, PPX = 29.78:   4%|▎         | 24/677 [00:00<00:05, 125.89it/s]"
     ]
    },
    {
     "name": "stdout",
     "output_type": "stream",
     "text": [
      "Optimizer lr = 5.45019e-106\n",
      "\n",
      "нетненужнытвоиячайка\\nгдежеуменядавно\\nнеточтобоченьнужентолько\\nвменя\\n</s>\n"
     ]
    },
    {
     "name": "stderr",
     "output_type": "stream",
     "text": [
      "[183 / 300] Train: Loss = 3.40957, PPX = 30.25: 100%|██████████| 677/677 [00:04<00:00, 153.57it/s]\n",
      "[183 / 300]   Val: Loss = 4.08256, PPX = 59.30: 100%|██████████| 19/19 [00:00<00:00, 152.68it/s]\n",
      "[184 / 300] Train: Loss = 3.34586, PPX = 28.38:   3%|▎         | 23/677 [00:00<00:05, 122.76it/s]"
     ]
    },
    {
     "name": "stdout",
     "output_type": "stream",
     "text": [
      "Optimizer lr = 1.36255e-106\n",
      "\n",
      "вынемоглибывыбы\\nневсмыслеоттогочтосё\\nновыпроститевдругчтоэто\\nикрест\\n</s>\n"
     ]
    },
    {
     "name": "stderr",
     "output_type": "stream",
     "text": [
      "[184 / 300] Train: Loss = 3.40990, PPX = 30.26: 100%|██████████| 677/677 [00:04<00:00, 155.53it/s]\n",
      "[184 / 300]   Val: Loss = 4.08200, PPX = 59.26: 100%|██████████| 19/19 [00:00<00:00, 157.38it/s]\n",
      "[185 / 300] Train: Loss = 3.51658, PPX = 33.67:   4%|▎         | 24/677 [00:00<00:05, 126.89it/s]"
     ]
    },
    {
     "name": "stdout",
     "output_type": "stream",
     "text": [
      "Optimizer lr = 3.40637e-107\n",
      "\n",
      "чтоэтовсёнепоприроде\\nвстранельвпятьразнасветени\\nтонемоглибыкакбымнебы\\nнея\\n</s>\n"
     ]
    },
    {
     "name": "stderr",
     "output_type": "stream",
     "text": [
      "[185 / 300] Train: Loss = 3.40954, PPX = 30.25: 100%|██████████| 677/677 [00:04<00:00, 154.22it/s]\n",
      "[185 / 300]   Val: Loss = 4.08238, PPX = 59.29: 100%|██████████| 19/19 [00:00<00:00, 155.49it/s]\n",
      "[186 / 300] Train: Loss = 3.47570, PPX = 32.32:   4%|▎         | 24/677 [00:00<00:05, 125.15it/s]"
     ]
    },
    {
     "name": "stdout",
     "output_type": "stream",
     "text": [
      "Optimizer lr = 8.51592e-108\n",
      "\n",
      "ясталумрёмвработусмужем\\nнезнаючтонибудьдомой\\nинебылбольшенесомною\\nния\\n</s>\n"
     ]
    },
    {
     "name": "stderr",
     "output_type": "stream",
     "text": [
      "[186 / 300] Train: Loss = 3.40963, PPX = 30.25: 100%|██████████| 677/677 [00:04<00:00, 154.22it/s]\n",
      "[186 / 300]   Val: Loss = 4.08049, PPX = 59.17: 100%|██████████| 19/19 [00:00<00:00, 153.98it/s]\n",
      "[187 / 300] Train: Loss = 3.31116, PPX = 27.42:   4%|▎         | 24/677 [00:00<00:05, 124.60it/s]"
     ]
    },
    {
     "name": "stdout",
     "output_type": "stream",
     "text": [
      "Optimizer lr = 2.12898e-108\n",
      "\n",
      "вынемогуянежелаю\\nядумалчтоеёнето\\nанатебеужелетела\\nсутра\\n</s>\n"
     ]
    },
    {
     "name": "stderr",
     "output_type": "stream",
     "text": [
      "[187 / 300] Train: Loss = 3.40974, PPX = 30.26: 100%|██████████| 677/677 [00:04<00:00, 154.48it/s]\n",
      "[187 / 300]   Val: Loss = 4.08122, PPX = 59.22: 100%|██████████| 19/19 [00:00<00:00, 156.45it/s]\n",
      "[188 / 300] Train: Loss = 3.44970, PPX = 31.49:   4%|▎         | 24/677 [00:00<00:05, 126.22it/s]"
     ]
    },
    {
     "name": "stdout",
     "output_type": "stream",
     "text": [
      "Optimizer lr = 5.32245e-109\n",
      "\n",
      "безголовыунассегодня\\nивнемпопрежнемукаквстарь\\nненравитсятеперьнасбудет\\nвменя\\n</s>\n"
     ]
    },
    {
     "name": "stderr",
     "output_type": "stream",
     "text": [
      "[188 / 300] Train: Loss = 3.40979, PPX = 30.26: 100%|██████████| 677/677 [00:04<00:00, 155.42it/s]\n",
      "[188 / 300]   Val: Loss = 4.08284, PPX = 59.31: 100%|██████████| 19/19 [00:00<00:00, 154.14it/s]\n",
      "[189 / 300] Train: Loss = 3.44026, PPX = 31.20:   3%|▎         | 23/677 [00:00<00:05, 119.49it/s]"
     ]
    },
    {
     "name": "stdout",
     "output_type": "stream",
     "text": [
      "Optimizer lr = 1.33061e-109\n",
      "\n",
      "янеизтехктоневернулся\\nвсёвремявжизнинетнельзя\\nяпонялчтокнемунебуду\\nдыша\\n</s>\n"
     ]
    },
    {
     "name": "stderr",
     "output_type": "stream",
     "text": [
      "[189 / 300] Train: Loss = 3.40969, PPX = 30.26: 100%|██████████| 677/677 [00:04<00:00, 154.51it/s]\n",
      "[189 / 300]   Val: Loss = 4.08195, PPX = 59.26: 100%|██████████| 19/19 [00:00<00:00, 155.81it/s]\n",
      "[190 / 300] Train: Loss = 3.39017, PPX = 29.67:   4%|▎         | 24/677 [00:00<00:05, 126.26it/s]"
     ]
    },
    {
     "name": "stdout",
     "output_type": "stream",
     "text": [
      "Optimizer lr = 3.32653e-110\n",
      "\n",
      "ячастоговорючтодома\\nневсмыслечтолинесмешно\\nатынеможетчтозаэто\\nвответ\\n</s>\n"
     ]
    },
    {
     "name": "stderr",
     "output_type": "stream",
     "text": [
      "[190 / 300] Train: Loss = 3.40969, PPX = 30.26: 100%|██████████| 677/677 [00:04<00:00, 154.68it/s]\n",
      "[190 / 300]   Val: Loss = 4.08277, PPX = 59.31: 100%|██████████| 19/19 [00:00<00:00, 163.70it/s]\n",
      "[191 / 300] Train: Loss = 3.46046, PPX = 31.83:   4%|▎         | 25/677 [00:00<00:05, 129.68it/s]"
     ]
    },
    {
     "name": "stdout",
     "output_type": "stream",
     "text": [
      "Optimizer lr = 8.31633e-111\n",
      "\n",
      "унасвглазахвсёвремявсердце\\nспросилягдетотамдрузья\\nчтодажевнёмнеполучалось\\nнислов\\n</s>\n"
     ]
    },
    {
     "name": "stderr",
     "output_type": "stream",
     "text": [
      "[191 / 300] Train: Loss = 3.40977, PPX = 30.26: 100%|██████████| 677/677 [00:04<00:00, 157.40it/s]\n",
      "[191 / 300]   Val: Loss = 4.08149, PPX = 59.23: 100%|██████████| 19/19 [00:00<00:00, 152.53it/s]\n",
      "[192 / 300] Train: Loss = 3.59456, PPX = 36.40:   3%|▎         | 23/677 [00:00<00:05, 119.53it/s]"
     ]
    },
    {
     "name": "stdout",
     "output_type": "stream",
     "text": [
      "Optimizer lr = 2.07908e-111\n",
      "\n",
      "янелюблюапочемубы\\nневсилахльвтомчтоянерад\\nяпростождунолучшелучше\\nнезнал\\n</s>\n"
     ]
    },
    {
     "name": "stderr",
     "output_type": "stream",
     "text": [
      "[192 / 300] Train: Loss = 3.40971, PPX = 30.26: 100%|██████████| 677/677 [00:04<00:00, 154.41it/s]\n",
      "[192 / 300]   Val: Loss = 4.08176, PPX = 59.25: 100%|██████████| 19/19 [00:00<00:00, 157.13it/s]\n",
      "[193 / 300] Train: Loss = 3.44794, PPX = 31.44:   4%|▎         | 24/677 [00:00<00:05, 124.09it/s]"
     ]
    },
    {
     "name": "stdout",
     "output_type": "stream",
     "text": [
      "Optimizer lr = 5.1977e-112\n",
      "\n",
      "зачеммыбылитакпрекрасно\\nяженщинавтебенерад\\nипустьвответнанихжениться\\nдовас\\n</s>\n"
     ]
    },
    {
     "name": "stderr",
     "output_type": "stream",
     "text": [
      "[193 / 300] Train: Loss = 3.40953, PPX = 30.25: 100%|██████████| 677/677 [00:04<00:00, 154.02it/s]\n",
      "[193 / 300]   Val: Loss = 4.08213, PPX = 59.27: 100%|██████████| 19/19 [00:00<00:00, 154.18it/s]\n",
      "[194 / 300] Train: Loss = 3.44922, PPX = 31.48:   4%|▎         | 24/677 [00:00<00:05, 124.61it/s]"
     ]
    },
    {
     "name": "stdout",
     "output_type": "stream",
     "text": [
      "Optimizer lr = 1.29943e-112\n",
      "\n",
      "явдетствебылнемногосчастья\\nянемогумогумогу\\nаятебенепонимаю\\nничо\\n</s>\n"
     ]
    },
    {
     "name": "stderr",
     "output_type": "stream",
     "text": [
      "[194 / 300] Train: Loss = 3.40965, PPX = 30.25: 100%|██████████| 677/677 [00:04<00:00, 155.13it/s]\n",
      "[194 / 300]   Val: Loss = 4.08225, PPX = 59.28: 100%|██████████| 19/19 [00:00<00:00, 154.51it/s]\n",
      "[195 / 300] Train: Loss = 3.37098, PPX = 29.11:   3%|▎         | 23/677 [00:00<00:05, 125.12it/s]"
     ]
    },
    {
     "name": "stdout",
     "output_type": "stream",
     "text": [
      "Optimizer lr = 3.24857e-113\n",
      "\n",
      "воттымоймилыйчтозачудо\\nивэтотразябылвплену\\nноябынехотелбыябы\\nиза\\n</s>\n"
     ]
    },
    {
     "name": "stderr",
     "output_type": "stream",
     "text": [
      "[195 / 300] Train: Loss = 3.40960, PPX = 30.25: 100%|██████████| 677/677 [00:04<00:00, 156.85it/s]\n",
      "[195 / 300]   Val: Loss = 4.08231, PPX = 59.28: 100%|██████████| 19/19 [00:00<00:00, 156.09it/s]\n",
      "[196 / 300] Train: Loss = 3.42713, PPX = 30.79:   4%|▎         | 24/677 [00:00<00:05, 125.50it/s]"
     ]
    },
    {
     "name": "stdout",
     "output_type": "stream",
     "text": [
      "Optimizer lr = 8.12141e-114\n",
      "\n",
      "вотснамивышелподглазами\\nинесмотрикаквбреду\\nпокругудушиегоидуи\\nвкровать\\n</s>\n"
     ]
    },
    {
     "name": "stderr",
     "output_type": "stream",
     "text": [
      "[196 / 300] Train: Loss = 3.40998, PPX = 30.26: 100%|██████████| 677/677 [00:04<00:00, 155.72it/s]\n",
      "[196 / 300]   Val: Loss = 4.08174, PPX = 59.25: 100%|██████████| 19/19 [00:00<00:00, 156.72it/s]\n",
      "[197 / 300] Train: Loss = 3.41109, PPX = 30.30:   4%|▎         | 24/677 [00:00<00:05, 124.08it/s]"
     ]
    },
    {
     "name": "stdout",
     "output_type": "stream",
     "text": [
      "Optimizer lr = 2.03035e-114\n",
      "\n",
      "комнеодинвсёвремявжизни\\nивсердцесмотрятнабобра\\nичтобнестанетинестанет\\nавлоб\\n</s>\n"
     ]
    },
    {
     "name": "stderr",
     "output_type": "stream",
     "text": [
      "[197 / 300] Train: Loss = 3.40985, PPX = 30.26: 100%|██████████| 677/677 [00:04<00:00, 154.90it/s]\n",
      "[197 / 300]   Val: Loss = 4.08176, PPX = 59.25: 100%|██████████| 19/19 [00:00<00:00, 159.44it/s]\n",
      "[198 / 300] Train: Loss = 3.51683, PPX = 33.68:   4%|▎         | 24/677 [00:00<00:05, 126.87it/s]"
     ]
    },
    {
     "name": "stdout",
     "output_type": "stream",
     "text": [
      "Optimizer lr = 5.07588e-115\n",
      "\n",
      "насклонелетятотпростите\\nикаквтебяиванспешат\\nдаябыраднооказалось\\nнаты\\n</s>\n"
     ]
    },
    {
     "name": "stderr",
     "output_type": "stream",
     "text": [
      "[198 / 300] Train: Loss = 3.40987, PPX = 30.26: 100%|██████████| 677/677 [00:04<00:00, 152.15it/s]\n",
      "[198 / 300]   Val: Loss = 4.08202, PPX = 59.27: 100%|██████████| 19/19 [00:00<00:00, 147.03it/s]\n",
      "[199 / 300] Train: Loss = 3.36201, PPX = 28.85:   3%|▎         | 23/677 [00:00<00:05, 123.38it/s]"
     ]
    },
    {
     "name": "stdout",
     "output_type": "stream",
     "text": [
      "Optimizer lr = 1.26897e-115\n",
      "\n",
      "успеладопорыдокрая\\nивмыслисмертьивнёмвпруду\\nмнеговоритчтонеузнали\\nион\\n</s>\n"
     ]
    },
    {
     "name": "stderr",
     "output_type": "stream",
     "text": [
      "[199 / 300] Train: Loss = 3.40984, PPX = 30.26: 100%|██████████| 677/677 [00:04<00:00, 152.67it/s]\n",
      "[199 / 300]   Val: Loss = 4.08186, PPX = 59.26: 100%|██████████| 19/19 [00:00<00:00, 148.31it/s]\n",
      "[200 / 300] Train: Loss = 3.53936, PPX = 34.44:   3%|▎         | 22/677 [00:00<00:05, 109.81it/s]"
     ]
    },
    {
     "name": "stdout",
     "output_type": "stream",
     "text": [
      "Optimizer lr = 3.17243e-116\n",
      "\n",
      "любовьпохожаянаужин\\nивуходверьитемноте\\nивнёмнасамомделевышло\\nвменя\\n</s>\n"
     ]
    },
    {
     "name": "stderr",
     "output_type": "stream",
     "text": [
      "[200 / 300] Train: Loss = 3.40955, PPX = 30.25: 100%|██████████| 677/677 [00:04<00:00, 151.02it/s]\n",
      "[200 / 300]   Val: Loss = 4.08120, PPX = 59.22: 100%|██████████| 19/19 [00:00<00:00, 157.21it/s]\n",
      "[201 / 300] Train: Loss = 3.44476, PPX = 31.34:   4%|▎         | 24/677 [00:00<00:05, 129.05it/s]"
     ]
    },
    {
     "name": "stdout",
     "output_type": "stream",
     "text": [
      "Optimizer lr = 7.93107e-117\n",
      "\n",
      "нучтовамтакоеосмыслежизни\\nневсилахвшуткуниколай\\nивполделебыловсёжекнейс\\nивгроб\\n</s>\n"
     ]
    },
    {
     "name": "stderr",
     "output_type": "stream",
     "text": [
      "[201 / 300] Train: Loss = 3.40970, PPX = 30.26: 100%|██████████| 677/677 [00:04<00:00, 155.29it/s]\n",
      "[201 / 300]   Val: Loss = 4.08331, PPX = 59.34: 100%|██████████| 19/19 [00:00<00:00, 162.17it/s]\n",
      "[202 / 300] Train: Loss = 3.28249, PPX = 26.64:   3%|▎         | 23/677 [00:00<00:05, 118.47it/s]"
     ]
    },
    {
     "name": "stdout",
     "output_type": "stream",
     "text": [
      "Optimizer lr = 1.98277e-117\n",
      "\n",
      "впустомквартиревсёивполе\\nневсилахльвчёмтутутуту\\nаялишьвчёрномнонакухне\\nнаты\\n</s>\n"
     ]
    },
    {
     "name": "stderr",
     "output_type": "stream",
     "text": [
      "[202 / 300] Train: Loss = 3.40969, PPX = 30.26: 100%|██████████| 677/677 [00:04<00:00, 156.91it/s]\n",
      "[202 / 300]   Val: Loss = 4.08165, PPX = 59.24: 100%|██████████| 19/19 [00:00<00:00, 157.52it/s]\n",
      "[203 / 300] Train: Loss = 3.40531, PPX = 30.12:   3%|▎         | 23/677 [00:00<00:05, 125.68it/s]"
     ]
    },
    {
     "name": "stdout",
     "output_type": "stream",
     "text": [
      "Optimizer lr = 4.95692e-118\n",
      "\n",
      "какбудтобыбыжитьвпорядке\\nтотамналбутонето\\nавэтитридцатьвечербылсегодня\\nвборще\\n</s>\n"
     ]
    },
    {
     "name": "stderr",
     "output_type": "stream",
     "text": [
      "[203 / 300] Train: Loss = 3.40969, PPX = 30.26: 100%|██████████| 677/677 [00:04<00:00, 155.09it/s]\n",
      "[203 / 300]   Val: Loss = 4.08181, PPX = 59.25: 100%|██████████| 19/19 [00:00<00:00, 158.48it/s]\n",
      "[204 / 300] Train: Loss = 3.57131, PPX = 35.56:   4%|▎         | 24/677 [00:00<00:05, 126.52it/s]"
     ]
    },
    {
     "name": "stdout",
     "output_type": "stream",
     "text": [
      "Optimizer lr = 1.23923e-118\n",
      "\n",
      "нучтоужтынезнаешьчтоли\\nябвасвсвойстихнепьюине\\nненадомноюзаокошком\\nия\\n</s>\n"
     ]
    },
    {
     "name": "stderr",
     "output_type": "stream",
     "text": [
      "[204 / 300] Train: Loss = 3.40969, PPX = 30.26: 100%|██████████| 677/677 [00:04<00:00, 159.91it/s]\n",
      "[204 / 300]   Val: Loss = 4.08119, PPX = 59.22: 100%|██████████| 19/19 [00:00<00:00, 166.06it/s]\n",
      "[205 / 300] Train: Loss = 3.34501, PPX = 28.36:   4%|▎         | 25/677 [00:00<00:05, 129.03it/s]"
     ]
    },
    {
     "name": "stdout",
     "output_type": "stream",
     "text": [
      "Optimizer lr = 3.09807e-119\n",
      "\n",
      "олегберётотсчастьяпью\\nаточтогоднемогине\\nтыжнанегонеестьлиэто\\nнея\\n</s>\n"
     ]
    },
    {
     "name": "stderr",
     "output_type": "stream",
     "text": [
      "[205 / 300] Train: Loss = 3.40971, PPX = 30.26: 100%|██████████| 677/677 [00:04<00:00, 163.78it/s]\n",
      "[205 / 300]   Val: Loss = 4.08256, PPX = 59.30: 100%|██████████| 19/19 [00:00<00:00, 159.03it/s]\n",
      "[206 / 300] Train: Loss = 3.40494, PPX = 30.11:   3%|▎         | 23/677 [00:00<00:05, 127.17it/s]"
     ]
    },
    {
     "name": "stdout",
     "output_type": "stream",
     "text": [
      "Optimizer lr = 7.74518e-120\n",
      "\n",
      "янехочупогороскопу\\nанатовремябылбыя\\nинебытьможетотпоэта\\nния\\n</s>\n"
     ]
    },
    {
     "name": "stderr",
     "output_type": "stream",
     "text": [
      "[206 / 300] Train: Loss = 3.40991, PPX = 30.26: 100%|██████████| 677/677 [00:04<00:00, 154.36it/s]\n",
      "[206 / 300]   Val: Loss = 4.08219, PPX = 59.28: 100%|██████████| 19/19 [00:00<00:00, 153.17it/s]\n",
      "[207 / 300] Train: Loss = 3.43605, PPX = 31.06:   4%|▎         | 24/677 [00:00<00:05, 124.97it/s]"
     ]
    },
    {
     "name": "stdout",
     "output_type": "stream",
     "text": [
      "Optimizer lr = 1.9363e-120\n",
      "\n",
      "стоюсцветамиивпостели\\nосмыслежизниктосильней\\nичтотовэтойпервойнету\\nнезнал\\n</s>\n"
     ]
    },
    {
     "name": "stderr",
     "output_type": "stream",
     "text": [
      "[207 / 300] Train: Loss = 3.40962, PPX = 30.25: 100%|██████████| 677/677 [00:04<00:00, 152.73it/s]\n",
      "[207 / 300]   Val: Loss = 4.08165, PPX = 59.24: 100%|██████████| 19/19 [00:00<00:00, 150.48it/s]\n",
      "[208 / 300] Train: Loss = 3.69847, PPX = 40.39:   4%|▎         | 24/677 [00:00<00:05, 126.87it/s]"
     ]
    },
    {
     "name": "stdout",
     "output_type": "stream",
     "text": [
      "Optimizer lr = 4.84074e-121\n",
      "\n",
      "чемменьшеженщинумылюбим\\nтехктостобойвконцеконцов\\nавынезнаючтозаэто\\nзабудь\\n</s>\n"
     ]
    },
    {
     "name": "stderr",
     "output_type": "stream",
     "text": [
      "[208 / 300] Train: Loss = 3.40959, PPX = 30.25: 100%|██████████| 677/677 [00:04<00:00, 155.75it/s]\n",
      "[208 / 300]   Val: Loss = 4.08302, PPX = 59.32: 100%|██████████| 19/19 [00:00<00:00, 153.76it/s]\n",
      "[209 / 300] Train: Loss = 3.23529, PPX = 25.41:   3%|▎         | 23/677 [00:00<00:05, 124.02it/s]"
     ]
    },
    {
     "name": "stdout",
     "output_type": "stream",
     "text": [
      "Optimizer lr = 1.21018e-121\n",
      "\n",
      "янемогупрошувасдома\\nичтобнеможетбытьсмогли\\nябудусамегонемного\\nихдве\\n</s>\n"
     ]
    },
    {
     "name": "stderr",
     "output_type": "stream",
     "text": [
      "[209 / 300] Train: Loss = 3.40968, PPX = 30.26: 100%|██████████| 677/677 [00:04<00:00, 149.83it/s]\n",
      "[209 / 300]   Val: Loss = 4.08241, PPX = 59.29: 100%|██████████| 19/19 [00:00<00:00, 143.46it/s]\n",
      "[210 / 300] Train: Loss = 3.41791, PPX = 30.51:   4%|▎         | 24/677 [00:00<00:05, 123.30it/s]"
     ]
    },
    {
     "name": "stdout",
     "output_type": "stream",
     "text": [
      "Optimizer lr = 3.02546e-122\n",
      "\n",
      "явэтойжизнивсёзамечаю\\nимнеотодногодетей\\nаточтовэтомпервый\\nикак\\n</s>\n"
     ]
    },
    {
     "name": "stderr",
     "output_type": "stream",
     "text": [
      "[210 / 300] Train: Loss = 3.40985, PPX = 30.26: 100%|██████████| 677/677 [00:04<00:00, 151.74it/s]\n",
      "[210 / 300]   Val: Loss = 4.08135, PPX = 59.23: 100%|██████████| 19/19 [00:00<00:00, 152.20it/s]\n",
      "[211 / 300] Train: Loss = 3.34387, PPX = 28.33:   3%|▎         | 23/677 [00:00<00:05, 125.63it/s]"
     ]
    },
    {
     "name": "stdout",
     "output_type": "stream",
     "text": [
      "Optimizer lr = 7.56366e-123\n",
      "\n",
      "ястаринелюблювасболе\\nнапамятьнелюблювасвнём\\nчтоможноскемнемогипрежде\\nакто\\n</s>\n"
     ]
    },
    {
     "name": "stderr",
     "output_type": "stream",
     "text": [
      "[211 / 300] Train: Loss = 3.40942, PPX = 30.25: 100%|██████████| 677/677 [00:04<00:00, 149.92it/s]\n",
      "[211 / 300]   Val: Loss = 4.08188, PPX = 59.26: 100%|██████████| 19/19 [00:00<00:00, 150.26it/s]\n",
      "[212 / 300] Train: Loss = 3.59432, PPX = 36.39:   3%|▎         | 23/677 [00:00<00:05, 119.56it/s]"
     ]
    },
    {
     "name": "stdout",
     "output_type": "stream",
     "text": [
      "Optimizer lr = 1.89091e-123\n",
      "\n",
      "увсехбываетчтоаркадий\\nнаполеснейнеспеша\\nатытакойвоттакичтоже\\nнея\\n</s>\n"
     ]
    },
    {
     "name": "stderr",
     "output_type": "stream",
     "text": [
      "[212 / 300] Train: Loss = 3.40993, PPX = 30.26: 100%|██████████| 677/677 [00:04<00:00, 154.95it/s]\n",
      "[212 / 300]   Val: Loss = 4.08243, PPX = 59.29: 100%|██████████| 19/19 [00:00<00:00, 153.72it/s]\n",
      "[213 / 300] Train: Loss = 3.49664, PPX = 33.00:   4%|▎         | 24/677 [00:00<00:05, 124.57it/s]"
     ]
    },
    {
     "name": "stdout",
     "output_type": "stream",
     "text": [
      "Optimizer lr = 4.72729e-124\n",
      "\n",
      "навсехсвятоговалентина\\nондумалсветаонвплену\\nатынанеместьговорите\\nвокно\\n</s>\n"
     ]
    },
    {
     "name": "stderr",
     "output_type": "stream",
     "text": [
      "[213 / 300] Train: Loss = 3.40968, PPX = 30.26: 100%|██████████| 677/677 [00:04<00:00, 154.64it/s]\n",
      "[213 / 300]   Val: Loss = 4.08314, PPX = 59.33: 100%|██████████| 19/19 [00:00<00:00, 161.18it/s]\n",
      "[214 / 300] Train: Loss = 3.29074, PPX = 26.86:   4%|▎         | 25/677 [00:00<00:04, 132.46it/s]"
     ]
    },
    {
     "name": "stdout",
     "output_type": "stream",
     "text": [
      "Optimizer lr = 1.18182e-124\n",
      "\n",
      "всельпоидоутрадогроба\\nлишьвжизнинетниодного\\nаялюблюсовсемнепомню\\nневсе\\n</s>\n"
     ]
    },
    {
     "name": "stderr",
     "output_type": "stream",
     "text": [
      "[214 / 300] Train: Loss = 3.40960, PPX = 30.25: 100%|██████████| 677/677 [00:04<00:00, 156.87it/s]\n",
      "[214 / 300]   Val: Loss = 4.08155, PPX = 59.24: 100%|██████████| 19/19 [00:00<00:00, 152.31it/s]\n",
      "[215 / 300] Train: Loss = 3.37543, PPX = 29.24:   3%|▎         | 22/677 [00:00<00:05, 114.52it/s]"
     ]
    },
    {
     "name": "stdout",
     "output_type": "stream",
     "text": [
      "Optimizer lr = 2.95455e-125\n",
      "\n",
      "янемогуяверювморе\\nноздесьнебудетинесо\\nномынакухненевнихто\\nнобрат\\n</s>\n"
     ]
    },
    {
     "name": "stderr",
     "output_type": "stream",
     "text": [
      "[215 / 300] Train: Loss = 3.40968, PPX = 30.26: 100%|██████████| 677/677 [00:04<00:00, 153.07it/s]\n",
      "[215 / 300]   Val: Loss = 4.08136, PPX = 59.23: 100%|██████████| 19/19 [00:00<00:00, 157.10it/s]\n",
      "[216 / 300] Train: Loss = 3.28751, PPX = 26.78:   3%|▎         | 23/677 [00:00<00:05, 124.43it/s]"
     ]
    },
    {
     "name": "stdout",
     "output_type": "stream",
     "text": [
      "Optimizer lr = 7.38638e-126\n",
      "\n",
      "апомнишьмыстобойполужам\\nивдомедажебезума\\nаянемогбыбылбыбылбы\\nвсебя\\n</s>\n"
     ]
    },
    {
     "name": "stderr",
     "output_type": "stream",
     "text": [
      "[216 / 300] Train: Loss = 3.40971, PPX = 30.26: 100%|██████████| 677/677 [00:04<00:00, 153.90it/s]\n",
      "[216 / 300]   Val: Loss = 4.08306, PPX = 59.33: 100%|██████████| 19/19 [00:00<00:00, 152.48it/s]\n",
      "[217 / 300] Train: Loss = 3.32832, PPX = 27.89:   4%|▎         | 24/677 [00:00<00:05, 124.20it/s]"
     ]
    },
    {
     "name": "stdout",
     "output_type": "stream",
     "text": [
      "Optimizer lr = 1.8466e-126\n",
      "\n",
      "зачемтыкдвериневтвоиприроде\\nнаэтойновыйтричаса\\nавыневерюкакнасвете\\nиза\\n</s>\n"
     ]
    },
    {
     "name": "stderr",
     "output_type": "stream",
     "text": [
      "[217 / 300] Train: Loss = 3.40954, PPX = 30.25: 100%|██████████| 677/677 [00:04<00:00, 154.53it/s]\n",
      "[217 / 300]   Val: Loss = 4.08194, PPX = 59.26: 100%|██████████| 19/19 [00:00<00:00, 152.12it/s]\n",
      "[218 / 300] Train: Loss = 3.50820, PPX = 33.39:   4%|▎         | 24/677 [00:00<00:05, 122.65it/s]"
     ]
    },
    {
     "name": "stdout",
     "output_type": "stream",
     "text": [
      "Optimizer lr = 4.61649e-127\n",
      "\n",
      "япомнюкакнаэтикосмос\\nнакойнасветевсехмилее\\nувасжеяиневернулся\\nнея\\n</s>\n"
     ]
    },
    {
     "name": "stderr",
     "output_type": "stream",
     "text": [
      "[218 / 300] Train: Loss = 3.40983, PPX = 30.26: 100%|██████████| 677/677 [00:04<00:00, 154.67it/s]\n",
      "[218 / 300]   Val: Loss = 4.08218, PPX = 59.27: 100%|██████████| 19/19 [00:00<00:00, 156.73it/s]\n",
      "[219 / 300] Train: Loss = 3.41667, PPX = 30.47:   4%|▎         | 24/677 [00:00<00:05, 127.51it/s]"
     ]
    },
    {
     "name": "stdout",
     "output_type": "stream",
     "text": [
      "Optimizer lr = 1.15412e-127\n",
      "\n",
      "янемогупонятьродная\\nмнечтоточтозанейне\\nобожечтоянесогласен\\nния\\n</s>\n"
     ]
    },
    {
     "name": "stderr",
     "output_type": "stream",
     "text": [
      "[219 / 300] Train: Loss = 3.40987, PPX = 30.26: 100%|██████████| 677/677 [00:04<00:00, 156.87it/s]\n",
      "[219 / 300]   Val: Loss = 4.08073, PPX = 59.19: 100%|██████████| 19/19 [00:00<00:00, 172.22it/s]\n",
      "[220 / 300] Train: Loss = 3.39736, PPX = 29.89:   4%|▎         | 25/677 [00:00<00:04, 131.72it/s]"
     ]
    },
    {
     "name": "stdout",
     "output_type": "stream",
     "text": [
      "Optimizer lr = 2.88531e-128\n",
      "\n",
      "янемогуястануутром\\nунастутнетуиобид\\nаэтобылсмоейлюбовью\\nнавкус\\n</s>\n"
     ]
    },
    {
     "name": "stderr",
     "output_type": "stream",
     "text": [
      "[220 / 300] Train: Loss = 3.40963, PPX = 30.25: 100%|██████████| 677/677 [00:04<00:00, 156.94it/s]\n",
      "[220 / 300]   Val: Loss = 4.08180, PPX = 59.25: 100%|██████████| 19/19 [00:00<00:00, 154.31it/s]\n",
      "[221 / 300] Train: Loss = 3.38017, PPX = 29.38:   4%|▎         | 24/677 [00:00<00:05, 123.64it/s]"
     ]
    },
    {
     "name": "stdout",
     "output_type": "stream",
     "text": [
      "Optimizer lr = 7.21326e-129\n",
      "\n",
      "ятаклюблючегожеболе\\nиямогудлявастут\\nиявначалелетнебуду\\nнея\\n</s>\n"
     ]
    },
    {
     "name": "stderr",
     "output_type": "stream",
     "text": [
      "[221 / 300] Train: Loss = 3.40963, PPX = 30.25: 100%|██████████| 677/677 [00:04<00:00, 154.01it/s]\n",
      "[221 / 300]   Val: Loss = 4.08194, PPX = 59.26: 100%|██████████| 19/19 [00:00<00:00, 159.59it/s]\n",
      "[222 / 300] Train: Loss = 3.40997, PPX = 30.26:   3%|▎         | 23/677 [00:00<00:05, 116.00it/s]"
     ]
    },
    {
     "name": "stdout",
     "output_type": "stream",
     "text": [
      "Optimizer lr = 1.80332e-129\n",
      "\n",
      "иябоюсьвсебеоксане\\nидрузьнадваносканету\\nяневсвоеймереэточайка\\nнея\\n</s>\n"
     ]
    },
    {
     "name": "stderr",
     "output_type": "stream",
     "text": [
      "[222 / 300] Train: Loss = 3.40972, PPX = 30.26: 100%|██████████| 677/677 [00:04<00:00, 153.74it/s]\n",
      "[222 / 300]   Val: Loss = 4.08294, PPX = 59.32: 100%|██████████| 19/19 [00:00<00:00, 156.19it/s]\n",
      "[223 / 300] Train: Loss = 3.54885, PPX = 34.77:   4%|▎         | 24/677 [00:00<00:05, 124.78it/s]"
     ]
    },
    {
     "name": "stdout",
     "output_type": "stream",
     "text": [
      "Optimizer lr = 4.50829e-130\n",
      "\n",
      "когданибудьуженевзяли\\nидажевэтомнемогу\\nаниколайвответстобою\\nтыправ\\n</s>\n"
     ]
    },
    {
     "name": "stderr",
     "output_type": "stream",
     "text": [
      "[223 / 300] Train: Loss = 3.40983, PPX = 30.26: 100%|██████████| 677/677 [00:04<00:00, 154.89it/s]\n",
      "[223 / 300]   Val: Loss = 4.08233, PPX = 59.28: 100%|██████████| 19/19 [00:00<00:00, 156.65it/s]\n",
      "[224 / 300] Train: Loss = 3.56662, PPX = 35.40:   4%|▎         | 24/677 [00:00<00:05, 126.64it/s]"
     ]
    },
    {
     "name": "stdout",
     "output_type": "stream",
     "text": [
      "Optimizer lr = 1.12707e-130\n",
      "\n",
      "всеговорятчтомывроссии\\nяговорювамнемогу\\nинелюблюятожебуду\\nнеты\\n</s>\n"
     ]
    },
    {
     "name": "stderr",
     "output_type": "stream",
     "text": [
      "[224 / 300] Train: Loss = 3.40974, PPX = 30.26: 100%|██████████| 677/677 [00:04<00:00, 155.46it/s]\n",
      "[224 / 300]   Val: Loss = 4.08291, PPX = 59.32: 100%|██████████| 19/19 [00:00<00:00, 152.24it/s]\n",
      "[225 / 300] Train: Loss = 3.45809, PPX = 31.76:   4%|▎         | 25/677 [00:00<00:05, 124.41it/s]"
     ]
    },
    {
     "name": "stdout",
     "output_type": "stream",
     "text": [
      "Optimizer lr = 2.81768e-131\n",
      "\n",
      "вгипотетическойвселенной\\nиначалхорошо\\nатыприходишьвамнелюбишь\\nивдруг\\n</s>\n"
     ]
    },
    {
     "name": "stderr",
     "output_type": "stream",
     "text": [
      "[225 / 300] Train: Loss = 3.40971, PPX = 30.26: 100%|██████████| 677/677 [00:04<00:00, 154.20it/s]\n",
      "[225 / 300]   Val: Loss = 4.08186, PPX = 59.26: 100%|██████████| 19/19 [00:00<00:00, 153.99it/s]\n",
      "[226 / 300] Train: Loss = 3.39217, PPX = 29.73:   3%|▎         | 23/677 [00:00<00:05, 116.67it/s]"
     ]
    },
    {
     "name": "stdout",
     "output_type": "stream",
     "text": [
      "Optimizer lr = 7.0442e-132\n",
      "\n",
      "враюниразунепоцели\\nхотялюблюявамнетру\\nаятебевтебежениться\\nсутра\\n</s>\n"
     ]
    },
    {
     "name": "stderr",
     "output_type": "stream",
     "text": [
      "[226 / 300] Train: Loss = 3.40964, PPX = 30.25: 100%|██████████| 677/677 [00:04<00:00, 157.44it/s]\n",
      "[226 / 300]   Val: Loss = 4.08210, PPX = 59.27: 100%|██████████| 19/19 [00:00<00:00, 154.87it/s]\n",
      "[227 / 300] Train: Loss = 3.36706, PPX = 28.99:   4%|▎         | 25/677 [00:00<00:05, 128.38it/s]"
     ]
    },
    {
     "name": "stdout",
     "output_type": "stream",
     "text": [
      "Optimizer lr = 1.76105e-132\n",
      "\n",
      "явиделвамвначалемая\\nаясутранеодинок\\nидосихпорнедоутрано\\nссобой\\n</s>\n"
     ]
    },
    {
     "name": "stderr",
     "output_type": "stream",
     "text": [
      "[227 / 300] Train: Loss = 3.40978, PPX = 30.26: 100%|██████████| 677/677 [00:04<00:00, 165.00it/s]\n",
      "[227 / 300]   Val: Loss = 4.08260, PPX = 59.30: 100%|██████████| 19/19 [00:00<00:00, 169.19it/s]\n",
      "[228 / 300] Train: Loss = 3.32856, PPX = 27.90:   4%|▎         | 24/677 [00:00<00:05, 127.57it/s]"
     ]
    },
    {
     "name": "stdout",
     "output_type": "stream",
     "text": [
      "Optimizer lr = 4.40263e-133\n",
      "\n",
      "глебговоритнемноговжизни\\nноеслинетневиноват\\nияпожизнинезанихне\\nненой\\n</s>\n"
     ]
    },
    {
     "name": "stderr",
     "output_type": "stream",
     "text": [
      "[228 / 300] Train: Loss = 3.40983, PPX = 30.26: 100%|██████████| 677/677 [00:04<00:00, 159.46it/s]\n",
      "[228 / 300]   Val: Loss = 4.08254, PPX = 59.30: 100%|██████████| 19/19 [00:00<00:00, 153.48it/s]\n",
      "[229 / 300] Train: Loss = 3.36377, PPX = 28.90:   4%|▎         | 24/677 [00:00<00:05, 125.66it/s]"
     ]
    },
    {
     "name": "stdout",
     "output_type": "stream",
     "text": [
      "Optimizer lr = 1.10066e-133\n",
      "\n",
      "яухожуссебявпостели\\nвсёпотомучтотакидаже\\nавнёмбылбудеточеньплохо\\nвменя\\n</s>\n"
     ]
    },
    {
     "name": "stderr",
     "output_type": "stream",
     "text": [
      "[229 / 300] Train: Loss = 3.40957, PPX = 30.25: 100%|██████████| 677/677 [00:04<00:00, 154.38it/s]\n",
      "[229 / 300]   Val: Loss = 4.07999, PPX = 59.15: 100%|██████████| 19/19 [00:00<00:00, 151.32it/s]\n",
      "[230 / 300] Train: Loss = 3.50906, PPX = 33.42:   4%|▎         | 25/677 [00:00<00:05, 128.34it/s]"
     ]
    },
    {
     "name": "stdout",
     "output_type": "stream",
     "text": [
      "Optimizer lr = 2.75164e-134\n",
      "\n",
      "яваслюблютебяродная\\nчтонемогусказатьвамрад\\nизасобойещёиподпись\\nнемой\\n</s>\n"
     ]
    },
    {
     "name": "stderr",
     "output_type": "stream",
     "text": [
      "[230 / 300] Train: Loss = 3.40971, PPX = 30.26: 100%|██████████| 677/677 [00:04<00:00, 151.35it/s]\n",
      "[230 / 300]   Val: Loss = 4.08260, PPX = 59.30: 100%|██████████| 19/19 [00:00<00:00, 159.74it/s]\n",
      "[231 / 300] Train: Loss = 3.13186, PPX = 22.92:   4%|▎         | 25/677 [00:00<00:05, 128.57it/s]"
     ]
    },
    {
     "name": "stdout",
     "output_type": "stream",
     "text": [
      "Optimizer lr = 6.87911e-135\n",
      "\n",
      "янепоймусегоднявгород\\nябябылтебявсебепальто\\nаэтопростонебывает\\nбезсил\\n</s>\n"
     ]
    },
    {
     "name": "stderr",
     "output_type": "stream",
     "text": [
      "[231 / 300] Train: Loss = 3.40957, PPX = 30.25: 100%|██████████| 677/677 [00:04<00:00, 158.72it/s]\n",
      "[231 / 300]   Val: Loss = 4.08207, PPX = 59.27: 100%|██████████| 19/19 [00:00<00:00, 154.07it/s]\n",
      "[232 / 300] Train: Loss = 3.55350, PPX = 34.94:   3%|▎         | 23/677 [00:00<00:05, 118.57it/s]"
     ]
    },
    {
     "name": "stdout",
     "output_type": "stream",
     "text": [
      "Optimizer lr = 1.71978e-135\n",
      "\n",
      "янехочуячайкавидел\\nибольшетакневиноват\\nанатебеихдвадцатьвосемь\\nневрот\\n</s>\n"
     ]
    },
    {
     "name": "stderr",
     "output_type": "stream",
     "text": [
      "[232 / 300] Train: Loss = 3.40962, PPX = 30.25: 100%|██████████| 677/677 [00:04<00:00, 161.02it/s]\n",
      "[232 / 300]   Val: Loss = 4.08102, PPX = 59.21: 100%|██████████| 19/19 [00:00<00:00, 156.03it/s]\n",
      "[233 / 300] Train: Loss = 3.42515, PPX = 30.73:   4%|▎         | 25/677 [00:00<00:05, 125.95it/s]"
     ]
    },
    {
     "name": "stdout",
     "output_type": "stream",
     "text": [
      "Optimizer lr = 4.29944e-136\n",
      "\n",
      "когдаябылнестанучто\\nяпростосаммогуженой\\nаяврагуинехотелось\\nнета\\n</s>\n"
     ]
    },
    {
     "name": "stderr",
     "output_type": "stream",
     "text": [
      "[233 / 300] Train: Loss = 3.40958, PPX = 30.25: 100%|██████████| 677/677 [00:04<00:00, 157.97it/s]\n",
      "[233 / 300]   Val: Loss = 4.08161, PPX = 59.24: 100%|██████████| 19/19 [00:00<00:00, 167.40it/s]\n",
      "[234 / 300] Train: Loss = 3.49158, PPX = 32.84:   4%|▎         | 25/677 [00:00<00:04, 132.75it/s]"
     ]
    },
    {
     "name": "stdout",
     "output_type": "stream",
     "text": [
      "Optimizer lr = 1.07486e-136\n",
      "\n",
      "янемогупрошувасвидел\\nнехватитвгородеяваду\\nаеслибяинемогуя\\nпросмерть\\n</s>\n"
     ]
    },
    {
     "name": "stderr",
     "output_type": "stream",
     "text": [
      "[234 / 300] Train: Loss = 3.40984, PPX = 30.26: 100%|██████████| 677/677 [00:04<00:00, 156.80it/s]\n",
      "[234 / 300]   Val: Loss = 4.08222, PPX = 59.28: 100%|██████████| 19/19 [00:00<00:00, 150.25it/s]\n",
      "[235 / 300] Train: Loss = 3.30610, PPX = 27.28:   3%|▎         | 23/677 [00:00<00:05, 123.77it/s]"
     ]
    },
    {
     "name": "stdout",
     "output_type": "stream",
     "text": [
      "Optimizer lr = 2.68715e-137\n",
      "\n",
      "всемьенекаждыйкакнасвете\\nнонетакаямнесума\\nноскрикомвдругегододома\\nнавы\\n</s>\n"
     ]
    },
    {
     "name": "stderr",
     "output_type": "stream",
     "text": [
      "[235 / 300] Train: Loss = 3.40970, PPX = 30.26: 100%|██████████| 677/677 [00:04<00:00, 154.47it/s]\n",
      "[235 / 300]   Val: Loss = 4.08286, PPX = 59.31: 100%|██████████| 19/19 [00:00<00:00, 153.79it/s]\n",
      "[236 / 300] Train: Loss = 3.46040, PPX = 31.83:   4%|▎         | 25/677 [00:00<00:05, 128.03it/s]"
     ]
    },
    {
     "name": "stdout",
     "output_type": "stream",
     "text": [
      "Optimizer lr = 6.71788e-138\n",
      "\n",
      "опятькакойтомнеоксана\\nинезаметилвэтомход\\nянетебеаэтозначит\\nния\\n</s>\n"
     ]
    },
    {
     "name": "stderr",
     "output_type": "stream",
     "text": [
      "[236 / 300] Train: Loss = 3.40986, PPX = 30.26: 100%|██████████| 677/677 [00:04<00:00, 154.72it/s]\n",
      "[236 / 300]   Val: Loss = 4.08245, PPX = 59.29: 100%|██████████| 19/19 [00:00<00:00, 167.01it/s]\n",
      "[237 / 300] Train: Loss = 3.37609, PPX = 29.26:   4%|▍         | 26/677 [00:00<00:05, 128.12it/s]"
     ]
    },
    {
     "name": "stdout",
     "output_type": "stream",
     "text": [
      "Optimizer lr = 1.67947e-138\n",
      "\n",
      "аркадийхочетбынепонял\\nиямогутебемогу\\nятакусталиненастолько\\nирад\\n</s>\n"
     ]
    },
    {
     "name": "stderr",
     "output_type": "stream",
     "text": [
      "[237 / 300] Train: Loss = 3.40956, PPX = 30.25: 100%|██████████| 677/677 [00:04<00:00, 153.70it/s]\n",
      "[237 / 300]   Val: Loss = 4.08264, PPX = 59.30: 100%|██████████| 19/19 [00:00<00:00, 165.70it/s]\n",
      "[238 / 300] Train: Loss = 3.27296, PPX = 26.39:   4%|▍         | 26/677 [00:00<00:04, 134.42it/s]"
     ]
    },
    {
     "name": "stdout",
     "output_type": "stream",
     "text": [
      "Optimizer lr = 4.19867e-139\n",
      "\n",
      "тынеповеритеаэто\\nсказалвыжнедлянас\\nипочемутутнеуверен\\nнеда\\n</s>\n"
     ]
    },
    {
     "name": "stderr",
     "output_type": "stream",
     "text": [
      "[238 / 300] Train: Loss = 3.40988, PPX = 30.26: 100%|██████████| 677/677 [00:04<00:00, 159.42it/s]\n",
      "[238 / 300]   Val: Loss = 4.08286, PPX = 59.31: 100%|██████████| 19/19 [00:00<00:00, 156.23it/s]\n",
      "[239 / 300] Train: Loss = 3.32305, PPX = 27.74:   4%|▎         | 24/677 [00:00<00:05, 124.97it/s]"
     ]
    },
    {
     "name": "stdout",
     "output_type": "stream",
     "text": [
      "Optimizer lr = 1.04967e-139\n",
      "\n",
      "ясдетстваднёмипомервсердце\\nневерювдоменемужик\\nаяужеинежелаю\\nнебрат\\n</s>\n"
     ]
    },
    {
     "name": "stderr",
     "output_type": "stream",
     "text": [
      "[239 / 300] Train: Loss = 3.40954, PPX = 30.25: 100%|██████████| 677/677 [00:04<00:00, 156.82it/s]\n",
      "[239 / 300]   Val: Loss = 4.08193, PPX = 59.26: 100%|██████████| 19/19 [00:00<00:00, 152.95it/s]\n",
      "[240 / 300] Train: Loss = 3.43800, PPX = 31.12:   4%|▍         | 26/677 [00:00<00:04, 134.87it/s]"
     ]
    },
    {
     "name": "stdout",
     "output_type": "stream",
     "text": [
      "Optimizer lr = 2.62417e-140\n",
      "\n",
      "ясдетстваднейвконцетоннеля\\nипонатуренетакуж\\nнепьётнебудетвэтомместе\\nвговно\\n</s>\n"
     ]
    },
    {
     "name": "stderr",
     "output_type": "stream",
     "text": [
      "[240 / 300] Train: Loss = 3.40977, PPX = 30.26: 100%|██████████| 677/677 [00:04<00:00, 160.73it/s]\n",
      "[240 / 300]   Val: Loss = 4.08185, PPX = 59.26: 100%|██████████| 19/19 [00:00<00:00, 156.25it/s]\n",
      "[241 / 300] Train: Loss = 3.45570, PPX = 31.68:   4%|▎         | 24/677 [00:00<00:05, 123.04it/s]"
     ]
    },
    {
     "name": "stdout",
     "output_type": "stream",
     "text": [
      "Optimizer lr = 6.56043e-141\n",
      "\n",
      "аэточтотакоестранный\\nянемогупонятькруги\\nисамссебянетакужбольше\\nненой\\n</s>\n"
     ]
    },
    {
     "name": "stderr",
     "output_type": "stream",
     "text": [
      "[241 / 300] Train: Loss = 3.40955, PPX = 30.25: 100%|██████████| 677/677 [00:04<00:00, 152.97it/s]\n",
      "[241 / 300]   Val: Loss = 4.08269, PPX = 59.30: 100%|██████████| 19/19 [00:00<00:00, 149.94it/s]\n",
      "[242 / 300] Train: Loss = 3.26323, PPX = 26.13:   4%|▎         | 24/677 [00:00<00:05, 122.57it/s]"
     ]
    },
    {
     "name": "stdout",
     "output_type": "stream",
     "text": [
      "Optimizer lr = 1.64011e-141\n",
      "\n",
      "когданибудьиянебуду\\nнивчёмможнопростобог\\nатовменяужененадо\\nсменя\\n</s>\n"
     ]
    },
    {
     "name": "stderr",
     "output_type": "stream",
     "text": [
      "[242 / 300] Train: Loss = 3.40977, PPX = 30.26: 100%|██████████| 677/677 [00:04<00:00, 152.94it/s]\n",
      "[242 / 300]   Val: Loss = 4.08315, PPX = 59.33: 100%|██████████| 19/19 [00:00<00:00, 151.20it/s]\n",
      "[243 / 300] Train: Loss = 3.18593, PPX = 24.19:   4%|▎         | 24/677 [00:00<00:05, 127.54it/s]"
     ]
    },
    {
     "name": "stdout",
     "output_type": "stream",
     "text": [
      "Optimizer lr = 4.10027e-142\n",
      "\n",
      "накухнечтотоскулаками\\nиямогутебекаквины\\nчтоневнеёаянепомню\\nничем\\n</s>\n"
     ]
    },
    {
     "name": "stderr",
     "output_type": "stream",
     "text": [
      "[243 / 300] Train: Loss = 3.40967, PPX = 30.26: 100%|██████████| 677/677 [00:04<00:00, 153.95it/s]\n",
      "[243 / 300]   Val: Loss = 4.08218, PPX = 59.27: 100%|██████████| 19/19 [00:00<00:00, 171.05it/s]\n",
      "[244 / 300] Train: Loss = 3.28267, PPX = 26.65:   4%|▎         | 25/677 [00:00<00:05, 128.59it/s]"
     ]
    },
    {
     "name": "stdout",
     "output_type": "stream",
     "text": [
      "Optimizer lr = 1.02507e-142\n",
      "\n",
      "явзеркаленепонимаю\\nнонемогучтоббольшевчом\\nавывпорядкенетудабы\\nнайду\\n</s>\n"
     ]
    },
    {
     "name": "stderr",
     "output_type": "stream",
     "text": [
      "[244 / 300] Train: Loss = 3.40981, PPX = 30.26: 100%|██████████| 677/677 [00:04<00:00, 157.12it/s]\n",
      "[244 / 300]   Val: Loss = 4.08153, PPX = 59.24: 100%|██████████| 19/19 [00:00<00:00, 155.27it/s]\n",
      "[245 / 300] Train: Loss = 3.47474, PPX = 32.29:   3%|▎         | 23/677 [00:00<00:05, 125.85it/s]"
     ]
    },
    {
     "name": "stdout",
     "output_type": "stream",
     "text": [
      "Optimizer lr = 2.56267e-143\n",
      "\n",
      "яговорюочёмтоочень\\nияхочутебялюблю\\nночемтоненачтотозначит\\nжена\\n</s>\n"
     ]
    },
    {
     "name": "stderr",
     "output_type": "stream",
     "text": [
      "[245 / 300] Train: Loss = 3.40969, PPX = 30.26: 100%|██████████| 677/677 [00:04<00:00, 160.16it/s]\n",
      "[245 / 300]   Val: Loss = 4.08148, PPX = 59.23: 100%|██████████| 19/19 [00:00<00:00, 165.89it/s]\n",
      "[246 / 300] Train: Loss = 3.36396, PPX = 28.90:   4%|▎         | 25/677 [00:00<00:04, 131.76it/s]"
     ]
    },
    {
     "name": "stdout",
     "output_type": "stream",
     "text": [
      "Optimizer lr = 6.40667e-144\n",
      "\n",
      "янелюблювасзакемдесять\\nиянанейтаммышьирот\\nакакжехочетсявночной\\nвокно\\n</s>\n"
     ]
    },
    {
     "name": "stderr",
     "output_type": "stream",
     "text": [
      "[246 / 300] Train: Loss = 3.40954, PPX = 30.25: 100%|██████████| 677/677 [00:04<00:00, 154.52it/s]\n",
      "[246 / 300]   Val: Loss = 4.08122, PPX = 59.22: 100%|██████████| 19/19 [00:00<00:00, 153.72it/s]\n",
      "[247 / 300] Train: Loss = 3.45610, PPX = 31.69:   4%|▎         | 24/677 [00:00<00:05, 124.37it/s]"
     ]
    },
    {
     "name": "stdout",
     "output_type": "stream",
     "text": [
      "Optimizer lr = 1.60167e-144\n",
      "\n",
      "каккнамизваснезацели\\nянепоймутебялюблю\\nиначалячтобылвначале\\nвменя\\n</s>\n"
     ]
    },
    {
     "name": "stderr",
     "output_type": "stream",
     "text": [
      "[247 / 300] Train: Loss = 3.40958, PPX = 30.25: 100%|██████████| 677/677 [00:04<00:00, 158.23it/s]\n",
      "[247 / 300]   Val: Loss = 4.08235, PPX = 59.28: 100%|██████████| 19/19 [00:00<00:00, 149.81it/s]\n",
      "[248 / 300] Train: Loss = 3.46261, PPX = 31.90:   4%|▎         | 24/677 [00:00<00:05, 122.86it/s]"
     ]
    },
    {
     "name": "stdout",
     "output_type": "stream",
     "text": [
      "Optimizer lr = 4.00417e-145\n",
      "\n",
      "извсехизречкивышелвышел\\nичтобемунеестнесмог\\nномнебынепожизнинужно\\nана\\n</s>\n"
     ]
    },
    {
     "name": "stderr",
     "output_type": "stream",
     "text": [
      "[248 / 300] Train: Loss = 3.40956, PPX = 30.25: 100%|██████████| 677/677 [00:04<00:00, 149.96it/s]\n",
      "[248 / 300]   Val: Loss = 4.08202, PPX = 59.27: 100%|██████████| 19/19 [00:00<00:00, 145.93it/s]\n",
      "[249 / 300] Train: Loss = 3.33857, PPX = 28.18:   4%|▎         | 24/677 [00:00<00:05, 119.68it/s]"
     ]
    },
    {
     "name": "stdout",
     "output_type": "stream",
     "text": [
      "Optimizer lr = 1.00104e-145\n",
      "\n",
      "явдетствебылсовсемнепомню\\nивсамомделеянемог\\nинемогучтобмнененадо\\nвобед\\n</s>\n"
     ]
    },
    {
     "name": "stderr",
     "output_type": "stream",
     "text": [
      "[249 / 300] Train: Loss = 3.40958, PPX = 30.25: 100%|██████████| 677/677 [00:04<00:00, 151.62it/s]\n",
      "[249 / 300]   Val: Loss = 4.08281, PPX = 59.31: 100%|██████████| 19/19 [00:00<00:00, 156.55it/s]\n",
      "[250 / 300] Train: Loss = 3.36790, PPX = 29.02:   4%|▎         | 25/677 [00:00<00:05, 124.04it/s]"
     ]
    },
    {
     "name": "stdout",
     "output_type": "stream",
     "text": [
      "Optimizer lr = 2.5026e-146\n",
      "\n",
      "апомнишьтанябылокакто\\nаснимижизньамнеодна\\nаяхотелипонимаю\\nваду\\n</s>\n"
     ]
    },
    {
     "name": "stderr",
     "output_type": "stream",
     "text": [
      "[250 / 300] Train: Loss = 3.40951, PPX = 30.25: 100%|██████████| 677/677 [00:04<00:00, 155.74it/s]\n",
      "[250 / 300]   Val: Loss = 4.08242, PPX = 59.29: 100%|██████████| 19/19 [00:00<00:00, 166.04it/s]\n",
      "[251 / 300] Train: Loss = 3.34839, PPX = 28.46:   4%|▎         | 24/677 [00:00<00:05, 122.39it/s]"
     ]
    },
    {
     "name": "stdout",
     "output_type": "stream",
     "text": [
      "Optimizer lr = 6.25651e-147\n",
      "\n",
      "олегсработынаработу\\nивсёжеиногдадавно\\nичтотовобщемтовсказке\\nсженой\\n</s>\n"
     ]
    },
    {
     "name": "stderr",
     "output_type": "stream",
     "text": [
      "[251 / 300] Train: Loss = 3.40975, PPX = 30.26: 100%|██████████| 677/677 [00:04<00:00, 153.71it/s]\n",
      "[251 / 300]   Val: Loss = 4.08250, PPX = 59.29: 100%|██████████| 19/19 [00:00<00:00, 160.57it/s]\n",
      "[252 / 300] Train: Loss = 3.37038, PPX = 29.09:   4%|▎         | 25/677 [00:00<00:05, 129.40it/s]"
     ]
    },
    {
     "name": "stdout",
     "output_type": "stream",
     "text": [
      "Optimizer lr = 1.56413e-147\n",
      "\n",
      "вшкафуукрадкойснебакрыши\\nснатурыивглазахмозгу\\nилишьвглазахубабытоже\\nструдом\\n</s>\n"
     ]
    },
    {
     "name": "stderr",
     "output_type": "stream",
     "text": [
      "[252 / 300] Train: Loss = 3.40990, PPX = 30.26: 100%|██████████| 677/677 [00:04<00:00, 159.80it/s]\n",
      "[252 / 300]   Val: Loss = 4.08194, PPX = 59.26: 100%|██████████| 19/19 [00:00<00:00, 164.28it/s]\n",
      "[253 / 300] Train: Loss = 3.45326, PPX = 31.60:   4%|▎         | 25/677 [00:00<00:05, 128.65it/s]"
     ]
    },
    {
     "name": "stdout",
     "output_type": "stream",
     "text": [
      "Optimizer lr = 3.91032e-148\n",
      "\n",
      "явваслюблютебяпостроил\\nноянезнаючтотысам\\nнемнеужбольшенеосталось\\nнете\\n</s>\n"
     ]
    },
    {
     "name": "stderr",
     "output_type": "stream",
     "text": [
      "[253 / 300] Train: Loss = 3.40962, PPX = 30.25: 100%|██████████| 677/677 [00:04<00:00, 163.93it/s]\n",
      "[253 / 300]   Val: Loss = 4.08242, PPX = 59.29: 100%|██████████| 19/19 [00:00<00:00, 169.89it/s]\n",
      "[254 / 300] Train: Loss = 3.36495, PPX = 28.93:   4%|▍         | 26/677 [00:00<00:04, 133.03it/s]"
     ]
    },
    {
     "name": "stdout",
     "output_type": "stream",
     "text": [
      "Optimizer lr = 9.7758e-149\n",
      "\n",
      "янемогучемпередвами\\nикнеймедведьмояжена\\nискаждымднёмеёикцели\\nсебя\\n</s>\n"
     ]
    },
    {
     "name": "stderr",
     "output_type": "stream",
     "text": [
      "[254 / 300] Train: Loss = 3.40955, PPX = 30.25: 100%|██████████| 677/677 [00:04<00:00, 158.85it/s]\n",
      "[254 / 300]   Val: Loss = 4.08197, PPX = 59.26: 100%|██████████| 19/19 [00:00<00:00, 155.09it/s]\n",
      "[255 / 300] Train: Loss = 3.47130, PPX = 32.18:   3%|▎         | 23/677 [00:00<00:05, 121.24it/s]"
     ]
    },
    {
     "name": "stdout",
     "output_type": "stream",
     "text": [
      "Optimizer lr = 2.44395e-149\n",
      "\n",
      "явваслюблючегожеболе\\nинемогусказатьсмотреть\\nтогдавотиупаловшколу\\nнащи\\n</s>\n"
     ]
    },
    {
     "name": "stderr",
     "output_type": "stream",
     "text": [
      "[255 / 300] Train: Loss = 3.40942, PPX = 30.25: 100%|██████████| 677/677 [00:04<00:00, 154.29it/s]\n",
      "[255 / 300]   Val: Loss = 4.08035, PPX = 59.17: 100%|██████████| 19/19 [00:00<00:00, 155.09it/s]\n",
      "[256 / 300] Train: Loss = 3.50573, PPX = 33.31:   4%|▎         | 24/677 [00:00<00:05, 124.37it/s]"
     ]
    },
    {
     "name": "stdout",
     "output_type": "stream",
     "text": [
      "Optimizer lr = 6.10987e-150\n",
      "\n",
      "наберегуунасвроссии\\nянемогучемпотому\\nагдежетыменянаужин\\nнепей\\n</s>\n"
     ]
    },
    {
     "name": "stderr",
     "output_type": "stream",
     "text": [
      "[256 / 300] Train: Loss = 3.40951, PPX = 30.25: 100%|██████████| 677/677 [00:04<00:00, 155.67it/s]\n",
      "[256 / 300]   Val: Loss = 4.08194, PPX = 59.26: 100%|██████████| 19/19 [00:00<00:00, 151.46it/s]\n",
      "[257 / 300] Train: Loss = 3.50615, PPX = 33.32:   4%|▎         | 24/677 [00:00<00:05, 127.51it/s]"
     ]
    },
    {
     "name": "stdout",
     "output_type": "stream",
     "text": [
      "Optimizer lr = 1.52747e-150\n",
      "\n",
      "ачтоподелатьеслиэто\\nсутраитакнемог\\nнаэтихднейянесогласен\\nвтебе\\n</s>\n"
     ]
    },
    {
     "name": "stderr",
     "output_type": "stream",
     "text": [
      "[257 / 300] Train: Loss = 3.40979, PPX = 30.26: 100%|██████████| 677/677 [00:04<00:00, 155.13it/s]\n",
      "[257 / 300]   Val: Loss = 4.08250, PPX = 59.29: 100%|██████████| 19/19 [00:00<00:00, 156.05it/s]\n",
      "[258 / 300] Train: Loss = 3.34249, PPX = 28.29:   4%|▎         | 24/677 [00:00<00:05, 127.26it/s]"
     ]
    },
    {
     "name": "stdout",
     "output_type": "stream",
     "text": [
      "Optimizer lr = 3.81867e-151\n",
      "\n",
      "вотмойлетитнапляже\\nаэтобылятакдавно\\nноясовздохомвашусчастье\\nнезря\\n</s>\n"
     ]
    },
    {
     "name": "stderr",
     "output_type": "stream",
     "text": [
      "[258 / 300] Train: Loss = 3.40959, PPX = 30.25: 100%|██████████| 677/677 [00:04<00:00, 153.63it/s]\n",
      "[258 / 300]   Val: Loss = 4.08260, PPX = 59.30: 100%|██████████| 19/19 [00:00<00:00, 151.67it/s]\n",
      "[259 / 300] Train: Loss = 3.44345, PPX = 31.29:   4%|▎         | 25/677 [00:00<00:05, 125.37it/s]"
     ]
    },
    {
     "name": "stdout",
     "output_type": "stream",
     "text": [
      "Optimizer lr = 9.54668e-152\n",
      "\n",
      "влучахквартирекаждыйсердце\\nабылвокнобольшойипуст\\nаможномненасамомделе\\nсходил\\n</s>\n"
     ]
    },
    {
     "name": "stderr",
     "output_type": "stream",
     "text": [
      "[259 / 300] Train: Loss = 3.40946, PPX = 30.25: 100%|██████████| 677/677 [00:04<00:00, 162.65it/s]\n",
      "[259 / 300]   Val: Loss = 4.08259, PPX = 59.30: 100%|██████████| 19/19 [00:00<00:00, 157.31it/s]\n",
      "[260 / 300] Train: Loss = 3.41484, PPX = 30.41:   3%|▎         | 23/677 [00:00<00:05, 118.48it/s]"
     ]
    },
    {
     "name": "stdout",
     "output_type": "stream",
     "text": [
      "Optimizer lr = 2.38667e-152\n",
      "\n",
      "явваслюблючегожеболе\\nясдетстванепоймунепойму\\nхотябыжитьидоболине\\nтыбес\\n</s>\n"
     ]
    },
    {
     "name": "stderr",
     "output_type": "stream",
     "text": [
      "[260 / 300] Train: Loss = 3.40953, PPX = 30.25: 100%|██████████| 677/677 [00:04<00:00, 157.55it/s]\n",
      "[260 / 300]   Val: Loss = 4.08132, PPX = 59.22: 100%|██████████| 19/19 [00:00<00:00, 161.80it/s]\n",
      "[261 / 300] Train: Loss = 3.41517, PPX = 30.42:   4%|▎         | 25/677 [00:00<00:05, 128.80it/s]"
     ]
    },
    {
     "name": "stdout",
     "output_type": "stream",
     "text": [
      "Optimizer lr = 5.96667e-153\n",
      "\n",
      "вменялунавкостюмемая\\nнавсёчтосдавнихпор\\nаявесьденьбылвпервыйвечер\\nиза\\n</s>\n"
     ]
    },
    {
     "name": "stderr",
     "output_type": "stream",
     "text": [
      "[261 / 300] Train: Loss = 3.40993, PPX = 30.26: 100%|██████████| 677/677 [00:04<00:00, 159.41it/s]\n",
      "[261 / 300]   Val: Loss = 4.08291, PPX = 59.32: 100%|██████████| 19/19 [00:00<00:00, 153.87it/s]\n",
      "[262 / 300] Train: Loss = 3.35392, PPX = 28.61:   4%|▎         | 24/677 [00:00<00:05, 124.82it/s]"
     ]
    },
    {
     "name": "stdout",
     "output_type": "stream",
     "text": [
      "Optimizer lr = 1.49167e-153\n",
      "\n",
      "отомчтоянепонимаю\\nчтоянетакужмноголет\\nятакинехотелосьзамуж\\nнея\\n</s>\n"
     ]
    },
    {
     "name": "stderr",
     "output_type": "stream",
     "text": [
      "[262 / 300] Train: Loss = 3.40973, PPX = 30.26: 100%|██████████| 677/677 [00:04<00:00, 154.65it/s]\n",
      "[262 / 300]   Val: Loss = 4.08181, PPX = 59.25: 100%|██████████| 19/19 [00:00<00:00, 156.45it/s]\n",
      "[263 / 300] Train: Loss = 3.45329, PPX = 31.60:   4%|▎         | 25/677 [00:00<00:05, 126.63it/s]"
     ]
    },
    {
     "name": "stdout",
     "output_type": "stream",
     "text": [
      "Optimizer lr = 3.72917e-154\n",
      "\n",
      "люблювоттаквотвотвотраньше\\nавотуменячетвёртыйгод\\nнеточтобпостоянновжизни\\nстоски\\n</s>\n"
     ]
    },
    {
     "name": "stderr",
     "output_type": "stream",
     "text": [
      "[263 / 300] Train: Loss = 3.40979, PPX = 30.26: 100%|██████████| 677/677 [00:04<00:00, 155.53it/s]\n",
      "[263 / 300]   Val: Loss = 4.08294, PPX = 59.32: 100%|██████████| 19/19 [00:00<00:00, 150.66it/s]\n",
      "[264 / 300] Train: Loss = 3.17030, PPX = 23.81:   4%|▎         | 24/677 [00:00<00:05, 124.88it/s]"
     ]
    },
    {
     "name": "stdout",
     "output_type": "stream",
     "text": [
      "Optimizer lr = 9.32293e-155\n",
      "\n",
      "намойвопросбылвэтойжизни\\nолегссобойнаберегу\\nисталчитатькакмноговжизни\\nвгостях\\n</s>\n"
     ]
    },
    {
     "name": "stderr",
     "output_type": "stream",
     "text": [
      "[264 / 300] Train: Loss = 3.40968, PPX = 30.26: 100%|██████████| 677/677 [00:04<00:00, 153.49it/s]\n",
      "[264 / 300]   Val: Loss = 4.08179, PPX = 59.25: 100%|██████████| 19/19 [00:00<00:00, 156.78it/s]\n",
      "[265 / 300] Train: Loss = 3.47096, PPX = 32.17:   4%|▎         | 24/677 [00:00<00:05, 125.32it/s]"
     ]
    },
    {
     "name": "stdout",
     "output_type": "stream",
     "text": [
      "Optimizer lr = 2.33073e-155\n",
      "\n",
      "аеслитыдавнонеможет\\nябудурадноонвтебя\\nавотивсёотэтихделать\\nвтебя\\n</s>\n"
     ]
    },
    {
     "name": "stderr",
     "output_type": "stream",
     "text": [
      "[265 / 300] Train: Loss = 3.40962, PPX = 30.25: 100%|██████████| 677/677 [00:04<00:00, 152.44it/s]\n",
      "[265 / 300]   Val: Loss = 4.08255, PPX = 59.30: 100%|██████████| 19/19 [00:00<00:00, 154.33it/s]\n",
      "[266 / 300] Train: Loss = 3.45648, PPX = 31.71:   4%|▍         | 27/677 [00:00<00:05, 123.82it/s]"
     ]
    },
    {
     "name": "stdout",
     "output_type": "stream",
     "text": [
      "Optimizer lr = 5.82683e-156\n",
      "\n",
      "сутрапораньшескрикомна</s>\n"
     ]
    },
    {
     "name": "stderr",
     "output_type": "stream",
     "text": [
      "[266 / 300] Train: Loss = 3.40976, PPX = 30.26: 100%|██████████| 677/677 [00:04<00:00, 152.26it/s]\n",
      "[266 / 300]   Val: Loss = 4.08290, PPX = 59.32: 100%|██████████| 19/19 [00:00<00:00, 155.81it/s]\n",
      "[267 / 300] Train: Loss = 3.48290, PPX = 32.55:   3%|▎         | 23/677 [00:00<00:05, 125.57it/s]"
     ]
    },
    {
     "name": "stdout",
     "output_type": "stream",
     "text": [
      "Optimizer lr = 1.45671e-156\n",
      "\n",
      "нучтожможнобезсмерти\\nяпростонехочубытьрад\\nвитогеянетенетолько\\nния\\n</s>\n"
     ]
    },
    {
     "name": "stderr",
     "output_type": "stream",
     "text": [
      "[267 / 300] Train: Loss = 3.40978, PPX = 30.26: 100%|██████████| 677/677 [00:04<00:00, 155.19it/s]\n",
      "[267 / 300]   Val: Loss = 4.08304, PPX = 59.33: 100%|██████████| 19/19 [00:00<00:00, 152.94it/s]\n",
      "[268 / 300] Train: Loss = 3.42620, PPX = 30.76:   4%|▎         | 24/677 [00:00<00:05, 124.78it/s]"
     ]
    },
    {
     "name": "stdout",
     "output_type": "stream",
     "text": [
      "Optimizer lr = 3.64177e-157\n",
      "\n",
      "унасвпалатеуоксаны\\nчтовнервныйразвсеголишьгод\\nауменявдругойконцовне\\nнесмог\\n</s>\n"
     ]
    },
    {
     "name": "stderr",
     "output_type": "stream",
     "text": [
      "[268 / 300] Train: Loss = 3.40961, PPX = 30.25: 100%|██████████| 677/677 [00:04<00:00, 155.17it/s]\n",
      "[268 / 300]   Val: Loss = 4.08248, PPX = 59.29: 100%|██████████| 19/19 [00:00<00:00, 154.26it/s]\n",
      "[269 / 300] Train: Loss = 3.46549, PPX = 31.99:   4%|▎         | 25/677 [00:00<00:05, 128.41it/s]"
     ]
    },
    {
     "name": "stdout",
     "output_type": "stream",
     "text": [
      "Optimizer lr = 9.10442e-158\n",
      "\n",
      "влучахгрудивселенной\\nкаквтонмедведьидёткврачу\\nнаужинятамподногами\\nвметро\\n</s>\n"
     ]
    },
    {
     "name": "stderr",
     "output_type": "stream",
     "text": [
      "[269 / 300] Train: Loss = 3.40963, PPX = 30.25: 100%|██████████| 677/677 [00:04<00:00, 155.14it/s]\n",
      "[269 / 300]   Val: Loss = 4.08243, PPX = 59.29: 100%|██████████| 19/19 [00:00<00:00, 150.45it/s]\n",
      "[270 / 300] Train: Loss = 3.35191, PPX = 28.56:   4%|▎         | 24/677 [00:00<00:05, 124.64it/s]"
     ]
    },
    {
     "name": "stdout",
     "output_type": "stream",
     "text": [
      "Optimizer lr = 2.2761e-158\n",
      "\n",
      "мыстольколетсовсемнемною\\nнукакжевынемнель\\nвмоюль\\n</s>\n"
     ]
    },
    {
     "name": "stderr",
     "output_type": "stream",
     "text": [
      "[270 / 300] Train: Loss = 3.40977, PPX = 30.26: 100%|██████████| 677/677 [00:04<00:00, 150.19it/s]\n",
      "[270 / 300]   Val: Loss = 4.08191, PPX = 59.26: 100%|██████████| 19/19 [00:00<00:00, 145.44it/s]\n",
      "[271 / 300] Train: Loss = 3.48063, PPX = 32.48:   3%|▎         | 22/677 [00:00<00:05, 112.87it/s]"
     ]
    },
    {
     "name": "stdout",
     "output_type": "stream",
     "text": [
      "Optimizer lr = 5.69026e-159\n",
      "\n",
      "вмоихглазахседыелето\\nизгодавгодизнихневчём\\nятольколишьнаэтомсвете\\nнеты\\n</s>\n"
     ]
    },
    {
     "name": "stderr",
     "output_type": "stream",
     "text": [
      "[271 / 300] Train: Loss = 3.40967, PPX = 30.26: 100%|██████████| 677/677 [00:04<00:00, 152.95it/s]\n",
      "[271 / 300]   Val: Loss = 4.08095, PPX = 59.20: 100%|██████████| 19/19 [00:00<00:00, 160.14it/s]\n",
      "[272 / 300] Train: Loss = 3.31324, PPX = 27.47:   4%|▎         | 24/677 [00:00<00:05, 123.06it/s]"
     ]
    },
    {
     "name": "stdout",
     "output_type": "stream",
     "text": [
      "Optimizer lr = 1.42257e-159\n",
      "\n",
      "вчасденькогдатымнеприснился\\nисразусталохорошо\\nясталнеголовуавотне\\nнуда\\n</s>\n"
     ]
    },
    {
     "name": "stderr",
     "output_type": "stream",
     "text": [
      "[272 / 300] Train: Loss = 3.40961, PPX = 30.25: 100%|██████████| 677/677 [00:04<00:00, 153.42it/s]\n",
      "[272 / 300]   Val: Loss = 4.08152, PPX = 59.24: 100%|██████████| 19/19 [00:00<00:00, 152.47it/s]\n",
      "[273 / 300] Train: Loss = 3.49847, PPX = 33.06:   3%|▎         | 23/677 [00:00<00:05, 124.40it/s]"
     ]
    },
    {
     "name": "stdout",
     "output_type": "stream",
     "text": [
      "Optimizer lr = 3.55641e-160\n",
      "\n",
      "ктотамгдераньшевэтоммире\\nябвамнемогусказатьбно\\nнезналчтохочешьжизньневсилах\\nитак\\n</s>\n"
     ]
    },
    {
     "name": "stderr",
     "output_type": "stream",
     "text": [
      "[273 / 300] Train: Loss = 3.40978, PPX = 30.26: 100%|██████████| 677/677 [00:04<00:00, 156.35it/s]\n",
      "[273 / 300]   Val: Loss = 4.08201, PPX = 59.26: 100%|██████████| 19/19 [00:00<00:00, 152.14it/s]\n",
      "[274 / 300] Train: Loss = 3.35679, PPX = 28.70:   4%|▎         | 24/677 [00:00<00:05, 122.87it/s]"
     ]
    },
    {
     "name": "stdout",
     "output_type": "stream",
     "text": [
      "Optimizer lr = 8.89103e-161\n",
      "\n",
      "влесунаольгувсёслучилось\\nивэтомнужнобыловсё\\nивашиснаминебывает\\nваду\\n</s>\n"
     ]
    },
    {
     "name": "stderr",
     "output_type": "stream",
     "text": [
      "[274 / 300] Train: Loss = 3.40964, PPX = 30.25: 100%|██████████| 677/677 [00:04<00:00, 154.74it/s]\n",
      "[274 / 300]   Val: Loss = 4.08282, PPX = 59.31: 100%|██████████| 19/19 [00:00<00:00, 154.59it/s]\n",
      "[275 / 300] Train: Loss = 3.31175, PPX = 27.43:   3%|▎         | 22/677 [00:00<00:06, 107.74it/s]"
     ]
    },
    {
     "name": "stdout",
     "output_type": "stream",
     "text": [
      "Optimizer lr = 2.22276e-161\n",
      "\n",
      "отсловибудетнехватает\\nивэтотразеётайком\\nисновапроситнехватает\\nвгостях\\n</s>\n"
     ]
    },
    {
     "name": "stderr",
     "output_type": "stream",
     "text": [
      "[275 / 300] Train: Loss = 3.40961, PPX = 30.25: 100%|██████████| 677/677 [00:04<00:00, 156.64it/s]\n",
      "[275 / 300]   Val: Loss = 4.08257, PPX = 59.30: 100%|██████████| 19/19 [00:00<00:00, 172.70it/s]\n",
      "[276 / 300] Train: Loss = 3.49910, PPX = 33.09:   4%|▎         | 25/677 [00:00<00:05, 128.84it/s]"
     ]
    },
    {
     "name": "stdout",
     "output_type": "stream",
     "text": [
      "Optimizer lr = 5.5569e-162\n",
      "\n",
      "яналунуиванпетрович\\nяпонялчтостобойногой\\nипостепенноначинает\\nвводе\\n</s>\n"
     ]
    },
    {
     "name": "stderr",
     "output_type": "stream",
     "text": [
      "[276 / 300] Train: Loss = 3.40944, PPX = 30.25: 100%|██████████| 677/677 [00:04<00:00, 162.97it/s]\n",
      "[276 / 300]   Val: Loss = 4.08215, PPX = 59.27: 100%|██████████| 19/19 [00:00<00:00, 169.26it/s]\n",
      "[277 / 300] Train: Loss = 3.64114, PPX = 38.14:   4%|▍         | 26/677 [00:00<00:04, 133.44it/s]"
     ]
    },
    {
     "name": "stdout",
     "output_type": "stream",
     "text": [
      "Optimizer lr = 1.38922e-162\n",
      "\n",
      "янемогуамывэтовремя\\nвсеэтиносомвмагазин\\nанаглазахтакиебабы\\nввине\\n</s>\n"
     ]
    },
    {
     "name": "stderr",
     "output_type": "stream",
     "text": [
      "[277 / 300] Train: Loss = 3.40963, PPX = 30.25: 100%|██████████| 677/677 [00:04<00:00, 164.13it/s]\n",
      "[277 / 300]   Val: Loss = 4.08109, PPX = 59.21: 100%|██████████| 19/19 [00:00<00:00, 171.37it/s]\n",
      "[278 / 300] Train: Loss = 3.35900, PPX = 28.76:   4%|▎         | 25/677 [00:00<00:05, 129.95it/s]"
     ]
    },
    {
     "name": "stdout",
     "output_type": "stream",
     "text": [
      "Optimizer lr = 3.47306e-163\n",
      "\n",
      "женаидетиэтомама\\nядаженемогудетей\\nноятосороктысячгода\\nвпальто\\n</s>\n"
     ]
    },
    {
     "name": "stderr",
     "output_type": "stream",
     "text": [
      "[278 / 300] Train: Loss = 3.40957, PPX = 30.25: 100%|██████████| 677/677 [00:04<00:00, 163.37it/s]\n",
      "[278 / 300]   Val: Loss = 4.08284, PPX = 59.31: 100%|██████████| 19/19 [00:00<00:00, 170.11it/s]\n",
      "[279 / 300] Train: Loss = 3.32977, PPX = 27.93:   4%|▎         | 25/677 [00:00<00:05, 128.74it/s]"
     ]
    },
    {
     "name": "stdout",
     "output_type": "stream",
     "text": [
      "Optimizer lr = 8.68265e-164\n",
      "\n",
      "извсехменяроднаятолько\\nненадобылочтоестьвтом\\nневбровьянебылпервый\\nвтоске\\n</s>\n"
     ]
    },
    {
     "name": "stderr",
     "output_type": "stream",
     "text": [
      "[279 / 300] Train: Loss = 3.40963, PPX = 30.25: 100%|██████████| 677/677 [00:04<00:00, 160.08it/s]\n",
      "[279 / 300]   Val: Loss = 4.08198, PPX = 59.26: 100%|██████████| 19/19 [00:00<00:00, 151.50it/s]\n",
      "[280 / 300] Train: Loss = 3.46385, PPX = 31.94:   4%|▎         | 24/677 [00:00<00:05, 125.67it/s]"
     ]
    },
    {
     "name": "stdout",
     "output_type": "stream",
     "text": [
      "Optimizer lr = 2.17066e-164\n",
      "\n",
      "накухнескрышиневернулся\\nинепоймучтоонзаней\\nнеточтобразнемогмнетоже\\nнея\\n</s>\n"
     ]
    },
    {
     "name": "stderr",
     "output_type": "stream",
     "text": [
      "[280 / 300] Train: Loss = 3.40975, PPX = 30.26: 100%|██████████| 677/677 [00:04<00:00, 156.49it/s]\n",
      "[280 / 300]   Val: Loss = 4.08314, PPX = 59.33: 100%|██████████| 19/19 [00:00<00:00, 153.83it/s]\n",
      "[281 / 300] Train: Loss = 3.38943, PPX = 29.65:   4%|▎         | 24/677 [00:00<00:05, 128.64it/s]"
     ]
    },
    {
     "name": "stdout",
     "output_type": "stream",
     "text": [
      "Optimizer lr = 5.42666e-165\n",
      "\n",
      "наденьсвятоговалентина\\nвночиупетраитакужплох\\nчтоонменязаточтобольше\\nнеты\\n</s>\n"
     ]
    },
    {
     "name": "stderr",
     "output_type": "stream",
     "text": [
      "[281 / 300] Train: Loss = 3.40959, PPX = 30.25: 100%|██████████| 677/677 [00:04<00:00, 153.34it/s]\n",
      "[281 / 300]   Val: Loss = 4.08235, PPX = 59.28: 100%|██████████| 19/19 [00:00<00:00, 150.72it/s]\n",
      "[282 / 300] Train: Loss = 3.40904, PPX = 30.24:   4%|▎         | 24/677 [00:00<00:05, 124.46it/s]"
     ]
    },
    {
     "name": "stdout",
     "output_type": "stream",
     "text": [
      "Optimizer lr = 1.35666e-165\n",
      "\n",
      "апомнишькактутходит\\nясмысльюнехватало\\nнонемогутеперьнаместе\\nавпуть\\n</s>\n"
     ]
    },
    {
     "name": "stderr",
     "output_type": "stream",
     "text": [
      "[282 / 300] Train: Loss = 3.40964, PPX = 30.25: 100%|██████████| 677/677 [00:04<00:00, 152.50it/s]\n",
      "[282 / 300]   Val: Loss = 4.08348, PPX = 59.35: 100%|██████████| 19/19 [00:00<00:00, 154.47it/s]\n",
      "[283 / 300] Train: Loss = 3.56943, PPX = 35.50:   4%|▎         | 24/677 [00:00<00:05, 123.37it/s]"
     ]
    },
    {
     "name": "stdout",
     "output_type": "stream",
     "text": [
      "Optimizer lr = 3.39166e-166\n",
      "\n",
      "втотденькогдатымнеприснился\\nиясогласензаспиной\\nночтотовэтотвиде\\nвокно\\n</s>\n"
     ]
    },
    {
     "name": "stderr",
     "output_type": "stream",
     "text": [
      "[283 / 300] Train: Loss = 3.40988, PPX = 30.26: 100%|██████████| 677/677 [00:04<00:00, 155.59it/s]\n",
      "[283 / 300]   Val: Loss = 4.08238, PPX = 59.29: 100%|██████████| 19/19 [00:00<00:00, 157.21it/s]\n",
      "[284 / 300] Train: Loss = 3.59220, PPX = 36.31:   4%|▎         | 24/677 [00:00<00:05, 126.40it/s]"
     ]
    },
    {
     "name": "stdout",
     "output_type": "stream",
     "text": [
      "Optimizer lr = 8.47915e-167\n",
      "\n",
      "стобойимыегонестало\\nиневответнизасобой\\nиниоднойизнихнестанет\\nнида\\n</s>\n"
     ]
    },
    {
     "name": "stderr",
     "output_type": "stream",
     "text": [
      "[284 / 300] Train: Loss = 3.40967, PPX = 30.26: 100%|██████████| 677/677 [00:04<00:00, 156.08it/s]\n",
      "[284 / 300]   Val: Loss = 4.08239, PPX = 59.29: 100%|██████████| 19/19 [00:00<00:00, 151.76it/s]\n",
      "[285 / 300] Train: Loss = 3.44204, PPX = 31.25:   4%|▎         | 25/677 [00:00<00:05, 124.40it/s]"
     ]
    },
    {
     "name": "stdout",
     "output_type": "stream",
     "text": [
      "Optimizer lr = 2.11979e-167\n",
      "\n",
      "впорядкевсёпрекраснодело\\nмнепростодолженбытькаклох\\nатысовсемкактакипервый\\nкакжаль\\n</s>\n"
     ]
    },
    {
     "name": "stderr",
     "output_type": "stream",
     "text": [
      "[285 / 300] Train: Loss = 3.40966, PPX = 30.25: 100%|██████████| 677/677 [00:04<00:00, 155.31it/s]\n",
      "[285 / 300]   Val: Loss = 4.08204, PPX = 59.27: 100%|██████████| 19/19 [00:00<00:00, 155.21it/s]\n",
      "[286 / 300] Train: Loss = 3.49679, PPX = 33.01:   3%|▎         | 23/677 [00:00<00:05, 124.34it/s]"
     ]
    },
    {
     "name": "stdout",
     "output_type": "stream",
     "text": [
      "Optimizer lr = 5.29947e-168\n",
      "\n",
      "тыпомнишькаквымнесказали\\nненадоснейнетакужплох\\nнокакобычноонвответна\\nменя\\n</s>\n"
     ]
    },
    {
     "name": "stderr",
     "output_type": "stream",
     "text": [
      "[286 / 300] Train: Loss = 3.40959, PPX = 30.25: 100%|██████████| 677/677 [00:04<00:00, 155.72it/s]\n",
      "[286 / 300]   Val: Loss = 4.08299, PPX = 59.32: 100%|██████████| 19/19 [00:00<00:00, 155.66it/s]\n",
      "[287 / 300] Train: Loss = 3.54291, PPX = 34.57:   4%|▎         | 24/677 [00:00<00:05, 124.09it/s]"
     ]
    },
    {
     "name": "stdout",
     "output_type": "stream",
     "text": [
      "Optimizer lr = 1.32487e-168\n",
      "\n",
      "нетакужмноговжизнинужно\\nянемогутебесказать\\nкакякричуявижувнебо\\nоттить\\n</s>\n"
     ]
    },
    {
     "name": "stderr",
     "output_type": "stream",
     "text": [
      "[287 / 300] Train: Loss = 3.40949, PPX = 30.25: 100%|██████████| 677/677 [00:04<00:00, 154.54it/s]\n",
      "[287 / 300]   Val: Loss = 4.08205, PPX = 59.27: 100%|██████████| 19/19 [00:00<00:00, 157.11it/s]\n",
      "[288 / 300] Train: Loss = 3.37296, PPX = 29.16:   4%|▎         | 24/677 [00:00<00:05, 124.35it/s]"
     ]
    },
    {
     "name": "stdout",
     "output_type": "stream",
     "text": [
      "Optimizer lr = 3.31217e-169\n",
      "\n",
      "аэточтозачтоаркадий\\nнеможетдобрыйвотужгод\\nнотыжнебылотакинеот\\nизагс\\n</s>\n"
     ]
    },
    {
     "name": "stderr",
     "output_type": "stream",
     "text": [
      "[288 / 300] Train: Loss = 3.40971, PPX = 30.26: 100%|██████████| 677/677 [00:04<00:00, 152.45it/s]\n",
      "[288 / 300]   Val: Loss = 4.08276, PPX = 59.31: 100%|██████████| 19/19 [00:00<00:00, 174.72it/s]\n",
      "[289 / 300] Train: Loss = 3.45477, PPX = 31.65:   4%|▎         | 25/677 [00:00<00:05, 127.69it/s]"
     ]
    },
    {
     "name": "stdout",
     "output_type": "stream",
     "text": [
      "Optimizer lr = 8.28042e-170\n",
      "\n",
      "намигявижумирвпорядке\\nкаквдругтычтоещёнемог\\nавасвитогебылоб\\nнепей\\n</s>\n"
     ]
    },
    {
     "name": "stderr",
     "output_type": "stream",
     "text": [
      "[289 / 300] Train: Loss = 3.40972, PPX = 30.26: 100%|██████████| 677/677 [00:04<00:00, 156.63it/s]\n",
      "[289 / 300]   Val: Loss = 4.08336, PPX = 59.34: 100%|██████████| 19/19 [00:00<00:00, 157.87it/s]\n",
      "[290 / 300] Train: Loss = 3.49783, PPX = 33.04:   4%|▎         | 24/677 [00:00<00:05, 123.76it/s]"
     ]
    },
    {
     "name": "stdout",
     "output_type": "stream",
     "text": [
      "Optimizer lr = 2.07011e-170\n",
      "\n",
      "япредтобойвчератывшколу\\nнетакужбольшенелюблю\\nянемогусебенапамять\\nсижу\\n</s>\n"
     ]
    },
    {
     "name": "stderr",
     "output_type": "stream",
     "text": [
      "[290 / 300] Train: Loss = 3.40971, PPX = 30.26: 100%|██████████| 677/677 [00:04<00:00, 154.83it/s]\n",
      "[290 / 300]   Val: Loss = 4.08168, PPX = 59.24: 100%|██████████| 19/19 [00:00<00:00, 153.20it/s]\n",
      "[291 / 300] Train: Loss = 3.51224, PPX = 33.52:   4%|▎         | 25/677 [00:00<00:05, 125.90it/s]"
     ]
    },
    {
     "name": "stdout",
     "output_type": "stream",
     "text": [
      "Optimizer lr = 5.17526e-171\n",
      "\n",
      "оксанавечеромкоксане\\nивэтомсамомделестих\\nиначаллучшейотоксаны\\nвкровать\\n</s>\n"
     ]
    },
    {
     "name": "stderr",
     "output_type": "stream",
     "text": [
      "[291 / 300] Train: Loss = 3.40956, PPX = 30.25: 100%|██████████| 677/677 [00:04<00:00, 159.95it/s]\n",
      "[291 / 300]   Val: Loss = 4.08246, PPX = 59.29: 100%|██████████| 19/19 [00:00<00:00, 155.76it/s]\n",
      "[292 / 300] Train: Loss = 3.26614, PPX = 26.21:   4%|▎         | 25/677 [00:00<00:05, 125.08it/s]"
     ]
    },
    {
     "name": "stdout",
     "output_type": "stream",
     "text": [
      "Optimizer lr = 1.29382e-171\n",
      "\n",
      "ненужноинечеловеком\\nненадобылобневхрам\\nатамстобойвпостели\\nивпах\\n</s>\n"
     ]
    },
    {
     "name": "stderr",
     "output_type": "stream",
     "text": [
      "[292 / 300] Train: Loss = 3.40968, PPX = 30.26: 100%|██████████| 677/677 [00:04<00:00, 156.61it/s]\n",
      "[292 / 300]   Val: Loss = 4.08126, PPX = 59.22: 100%|██████████| 19/19 [00:00<00:00, 170.10it/s]\n",
      "[293 / 300] Train: Loss = 3.39321, PPX = 29.76:   4%|▎         | 25/677 [00:00<00:05, 127.24it/s]"
     ]
    },
    {
     "name": "stdout",
     "output_type": "stream",
     "text": [
      "Optimizer lr = 3.23454e-172\n",
      "\n",
      "аркадийвкартысоксаной\\nиговоритондоутра\\nавыкакразбымнестобою\\nия\\n</s>\n"
     ]
    },
    {
     "name": "stderr",
     "output_type": "stream",
     "text": [
      "[293 / 300] Train: Loss = 3.40970, PPX = 30.26: 100%|██████████| 677/677 [00:04<00:00, 157.78it/s]\n",
      "[293 / 300]   Val: Loss = 4.08161, PPX = 59.24: 100%|██████████| 19/19 [00:00<00:00, 154.85it/s]\n",
      "[294 / 300] Train: Loss = 3.34242, PPX = 28.29:   4%|▎         | 24/677 [00:00<00:05, 122.92it/s]"
     ]
    },
    {
     "name": "stdout",
     "output_type": "stream",
     "text": [
      "Optimizer lr = 8.08635e-173\n",
      "\n",
      "мневдетствеснегещенебойся\\nдлянасженикогданесмог\\nаянаихродился\\nсутра\\n</s>\n"
     ]
    },
    {
     "name": "stderr",
     "output_type": "stream",
     "text": [
      "[294 / 300] Train: Loss = 3.40976, PPX = 30.26: 100%|██████████| 677/677 [00:04<00:00, 150.56it/s]\n",
      "[294 / 300]   Val: Loss = 4.08153, PPX = 59.24: 100%|██████████| 19/19 [00:00<00:00, 149.97it/s]\n",
      "[295 / 300] Train: Loss = 3.40839, PPX = 30.22:   4%|▎         | 24/677 [00:00<00:05, 126.86it/s]"
     ]
    },
    {
     "name": "stdout",
     "output_type": "stream",
     "text": [
      "Optimizer lr = 2.02159e-173\n",
      "\n",
      "яваспрошунепонимаю\\nдатыжесамтакойиэти\\nномневсёэтовсётаки\\nнатреть\\n</s>\n"
     ]
    },
    {
     "name": "stderr",
     "output_type": "stream",
     "text": [
      "[295 / 300] Train: Loss = 3.40963, PPX = 30.25: 100%|██████████| 677/677 [00:04<00:00, 157.52it/s]\n",
      "[295 / 300]   Val: Loss = 4.08232, PPX = 59.28: 100%|██████████| 19/19 [00:00<00:00, 160.11it/s]\n",
      "[296 / 300] Train: Loss = 3.38923, PPX = 29.64:   4%|▍         | 26/677 [00:00<00:04, 134.03it/s]"
     ]
    },
    {
     "name": "stdout",
     "output_type": "stream",
     "text": [
      "Optimizer lr = 5.05397e-174\n",
      "\n",
      "ятакхочубытьстануутром\\nвесьденьиникогоневтот\\nпишувчёмразвначалелета\\nвсети\\n</s>\n"
     ]
    },
    {
     "name": "stderr",
     "output_type": "stream",
     "text": [
      "[296 / 300] Train: Loss = 3.40966, PPX = 30.26: 100%|██████████| 677/677 [00:04<00:00, 155.45it/s]\n",
      "[296 / 300]   Val: Loss = 4.08182, PPX = 59.25: 100%|██████████| 19/19 [00:00<00:00, 167.54it/s]\n",
      "[297 / 300] Train: Loss = 3.38780, PPX = 29.60:   4%|▎         | 25/677 [00:00<00:05, 128.13it/s]"
     ]
    },
    {
     "name": "stdout",
     "output_type": "stream",
     "text": [
      "Optimizer lr = 1.26349e-174\n",
      "\n",
      "вметронаместесмотритвполночь\\nзанимябылсказалчтомы\\nкаквдругнавидтыэтотам\\nвменя\\n</s>\n"
     ]
    },
    {
     "name": "stderr",
     "output_type": "stream",
     "text": [
      "[297 / 300] Train: Loss = 3.40994, PPX = 30.26: 100%|██████████| 677/677 [00:04<00:00, 153.96it/s]\n",
      "[297 / 300]   Val: Loss = 4.08207, PPX = 59.27: 100%|██████████| 19/19 [00:00<00:00, 162.23it/s]\n",
      "[298 / 300] Train: Loss = 3.43564, PPX = 31.05:   4%|▎         | 25/677 [00:00<00:05, 129.98it/s]"
     ]
    },
    {
     "name": "stdout",
     "output_type": "stream",
     "text": [
      "Optimizer lr = 3.15873e-175\n",
      "\n",
      "янехочусегоднявкосмос\\nвнёмбылооченьвсёравно\\nичтостобоюделатьдаже\\nкакты\\n</s>\n"
     ]
    },
    {
     "name": "stderr",
     "output_type": "stream",
     "text": [
      "[298 / 300] Train: Loss = 3.40969, PPX = 30.26: 100%|██████████| 677/677 [00:04<00:00, 155.32it/s]\n",
      "[298 / 300]   Val: Loss = 4.08331, PPX = 59.34: 100%|██████████| 19/19 [00:00<00:00, 154.96it/s]\n",
      "[299 / 300] Train: Loss = 3.36825, PPX = 29.03:   4%|▎         | 24/677 [00:00<00:05, 124.70it/s]"
     ]
    },
    {
     "name": "stdout",
     "output_type": "stream",
     "text": [
      "Optimizer lr = 7.89683e-176\n",
      "\n",
      "ачтотымненевидел\\nявнихвассутранесталпоэт\\nязатебяяпонимаю\\nисвой\\n</s>\n"
     ]
    },
    {
     "name": "stderr",
     "output_type": "stream",
     "text": [
      "[299 / 300] Train: Loss = 3.40956, PPX = 30.25: 100%|██████████| 677/677 [00:04<00:00, 156.39it/s]\n",
      "[299 / 300]   Val: Loss = 4.08120, PPX = 59.22: 100%|██████████| 19/19 [00:00<00:00, 158.45it/s]\n",
      "[300 / 300] Train: Loss = 3.27135, PPX = 26.35:   4%|▎         | 24/677 [00:00<00:05, 124.71it/s]"
     ]
    },
    {
     "name": "stdout",
     "output_type": "stream",
     "text": [
      "Optimizer lr = 1.97421e-176\n",
      "\n",
      "тымнесовсемнесомужчины\\nаяопятьневиноват\\nнотынеможеттакстобою\\nая\\n</s>\n"
     ]
    },
    {
     "name": "stderr",
     "output_type": "stream",
     "text": [
      "[300 / 300] Train: Loss = 3.40970, PPX = 30.26: 100%|██████████| 677/677 [00:04<00:00, 153.70it/s]\n",
      "[300 / 300]   Val: Loss = 4.08263, PPX = 59.30: 100%|██████████| 19/19 [00:00<00:00, 150.12it/s]\n"
     ]
    },
    {
     "name": "stdout",
     "output_type": "stream",
     "text": [
      "Optimizer lr = 4.93552e-177\n",
      "\n",
      "втотденькогдатымнеприснился\\nянемогувамнемогу\\nянеостатьсябытьнеможет\\nнея\\n</s>\n"
     ]
    }
   ],
   "source": [
    "model = LMModelv2(vocab_size=len(train_iter.dataset.fields['text'].vocab)).to(DEVICE)\n",
    "\n",
    "pad_idx = train_iter.dataset.fields['text'].vocab.stoi['<pad>']\n",
    "unk_idx = train_iter.dataset.fields['text'].vocab.stoi['<unk>']\n",
    "criterion = nn.CrossEntropyLoss(reduction='none').to(DEVICE)\n",
    "\n",
    "optimizer = optim.SGD(model.parameters(), lr=20., weight_decay=1e-6)\n",
    "\n",
    "fit(model, criterion, optimizer, train_iter, epochs_count=300, unk_idx=unk_idx, pad_idx=pad_idx, val_iter=test_iter)"
   ]
  },
  {
   "cell_type": "markdown",
   "metadata": {
    "colab_type": "text",
    "id": "N8I3QC4a_a8q"
   },
   "source": [
    "### Добавление информации в выборку\n",
    "\n",
    "Сейчас у нас каждое слово предствляется одним индексом. Модели очень сложно узнать, сколько в нем слогов - а значит, сложно генерировать корректное стихотворение.\n",
    "\n",
    "На самом деле к каждому слову можно приписать кусочек из метрического шаблона:\n",
    "\n",
    "![](https://hsto.org/web/59a/b39/bd0/59ab39bd020c49a78a12cbab62c80181.png \" \")\n",
    "\n",
    "**Задание** Обновите функцию `read_poem`, пусть она генерирует два списка - список слов и список кусков шаблона.  \n",
    "Добавьте в модель вход - последовательности шаблонов, конкатенируйте их эмбеддинги со словами.  \n",
    "Дополнительная идея - заставьте модель угадывать, какой шаблон должен идти следующим (где-то половина будет подходящими, остальные - нет). Добавьте дополнительные потери от угадывания шаблона."
   ]
  },
  {
   "cell_type": "code",
   "execution_count": 317,
   "metadata": {},
   "outputs": [
    {
     "data": {
      "text/plain": [
       "['sf', 'wdf', 'wfwe']"
      ]
     },
     "execution_count": 317,
     "metadata": {},
     "output_type": "execute_result"
    }
   ],
   "source": [
    "import numpy as np\n",
    "def split_pattern(p, _list):\n",
    "    #assert len(p) >= sum(_list)\n",
    "    _list = np.concatenate([[0], np.cumsum(_list)])\n",
    "    return [p[_list[i]: _list[i+1]] for i in range(len(_list) - 1)]\n",
    "\n",
    "split_pattern(\"sfwdfwfwe\", [2,3,4])"
   ]
  },
  {
   "cell_type": "code",
   "execution_count": 318,
   "metadata": {},
   "outputs": [],
   "source": [
    "def vowels_cout(word):\n",
    "    return sum([1 if c in vowels else 0 for c in word])\n",
    "\n",
    "def read_poem(path, P):\n",
    "    poem = []\n",
    "    parts = []\n",
    "    with open(path, encoding='utf8') as f:\n",
    "        i = 0\n",
    "        for line in f:\n",
    "            line = line.rstrip()\n",
    "            if len(line) == 0:\n",
    "                yield poem, parts\n",
    "                poem = []\n",
    "                parts = []\n",
    "                continue\n",
    "            \n",
    "            pattern = P\n",
    "            pattern_split = split_pattern(\n",
    "                pattern, \n",
    "                [\n",
    "                    vowels_cout(word) \n",
    "                    for word in line.split()\n",
    "                ]\n",
    "            )\n",
    "            #pattern_split = [x if x != '' else '-' for x in pattern_split]\n",
    "            parts.extend(pattern_split + ['\\\\n'])\n",
    "            poem.extend(line.split() + ['\\\\n'])\n",
    "            \n",
    "perashki = list(read_poem('perashki.txt', odd_pattern))\n",
    "poroshki = list(read_poem('poroshki.txt', even_pattern))"
   ]
  },
  {
   "cell_type": "code",
   "execution_count": 319,
   "metadata": {},
   "outputs": [
    {
     "name": "stdout",
     "output_type": "stream",
     "text": [
      "Vocab size = 6298\n",
      "Vocab size = 21\n"
     ]
    }
   ],
   "source": [
    "from torchtext.data import Field, Example, Dataset, BucketIterator\n",
    "\n",
    "text_field = Field(init_token='<s>', eos_token='</s>')\n",
    "pattern_field = Field(init_token='<s>', eos_token='</s>')\n",
    "        \n",
    "fields = [('text', text_field), ('pattern', pattern_field)]\n",
    "examples = [Example.fromlist([poem[0], poem[1]], fields) for poem in poroshki]\n",
    "dataset = Dataset(examples, fields)\n",
    "\n",
    "text_field.build_vocab(dataset, min_freq=7)\n",
    "pattern_field.build_vocab(dataset, min_freq = 1)\n",
    "\n",
    "print('Vocab size =', len(text_field.vocab))\n",
    "print('Vocab size =', len(pattern_field.vocab))\n",
    "train_dataset, test_dataset = dataset.split(split_ratio=0.9)\n",
    "\n",
    "train_iter, test_iter = BucketIterator.splits(datasets=(train_dataset, test_dataset), batch_sizes=(32, 128), \n",
    "                                              shuffle=True, device=DEVICE, sort=False)"
   ]
  },
  {
   "cell_type": "code",
   "execution_count": 320,
   "metadata": {},
   "outputs": [
    {
     "name": "stdout",
     "output_type": "stream",
     "text": [
      "['<s>', '-+', '-', '+-', '+', '-+', '\\\\n', '', '-+-', '+', '-+-+', '\\\\n', '-', '+', '-+-', '+-+', '\\\\n', '', '-+', '\\\\n', '</s>', '<pad>', '<pad>', '<pad>']\n",
      "['<s>', 'илья', 'не', 'хочет', 'быть', '<unk>', '\\\\n', 'в', '<unk>', '<unk>', '<unk>', '\\\\n', 'и', 'не', 'подходят', '<unk>', '\\\\n', 'к', '<unk>', '\\\\n', '</s>', '<pad>', '<pad>', '<pad>']\n"
     ]
    }
   ],
   "source": [
    "i = 1\n",
    "batch.pattern.shape\n",
    "seq = batch.pattern[:,i]\n",
    "print([pattern_field.vocab.itos[x] for x in seq])\n",
    "seq = batch.text[:,i]\n",
    "print([text_field.vocab.itos[x] for x in seq])"
   ]
  },
  {
   "cell_type": "code",
   "execution_count": 321,
   "metadata": {},
   "outputs": [],
   "source": [
    "class LMModelv3(nn.Module):\n",
    "    def __init__(self, vocab_size, vocab_size_pattern, emb_dim=256, emb_dim_pattern=256, lstm_hidden_dim=256, num_layers=1):\n",
    "        super().__init__()\n",
    "\n",
    "        self._emb = nn.Embedding(vocab_size, emb_dim)\n",
    "        self._emb_pattern = nn.Embedding(vocab_size_pattern, emb_dim_pattern)\n",
    "        self._rnn = nn.LSTM(input_size=emb_dim + emb_dim_pattern, hidden_size=lstm_hidden_dim)\n",
    "        self._out_layer = nn.Linear(lstm_hidden_dim, vocab_size)\n",
    "        self._out_layer_pattern = nn.Linear(lstm_hidden_dim, vocab_size_pattern)\n",
    "        \n",
    "        self._init_weights()\n",
    "        #self._out_layer.weight = self._emb.weight\n",
    "\n",
    "    def _init_weights(self, init_range=0.1):\n",
    "        self._emb.weight.data.uniform_(-init_range, init_range)\n",
    "        self._out_layer.bias.data.zero_()\n",
    "        self._out_layer.weight.data.uniform_(-init_range, init_range)\n",
    "        \n",
    "        self._emb_pattern.weight.data.uniform_(-init_range, init_range)\n",
    "        self._out_layer_pattern.bias.data.zero_()\n",
    "        self._out_layer.weight.data.uniform_(-init_range, init_range)\n",
    "\n",
    "    def forward(self, inputs, patterns, hidden=None):\n",
    "        x = self._emb(inputs)\n",
    "        y = self._emb_pattern(patterns)\n",
    "        x = torch.cat([x,y], dim = 2)\n",
    "        x, hidden = self._rnn(x, hidden)\n",
    "        out = self._out_layer(x)\n",
    "        out1 = self._out_layer_pattern(x)\n",
    "        return out, out1, hidden"
   ]
  },
  {
   "cell_type": "code",
   "execution_count": 322,
   "metadata": {},
   "outputs": [
    {
     "name": "stdout",
     "output_type": "stream",
     "text": [
      "torch.Size([24, 32, 6298]) torch.Size([24, 32, 21])\n"
     ]
    }
   ],
   "source": [
    "batch = next(iter(train_iter))\n",
    "model = LMModelv3(\n",
    "    vocab_size=len(train_iter.dataset.fields['text'].vocab),\n",
    "    vocab_size_pattern=len(train_iter.dataset.fields['pattern'].vocab)).to(DEVICE)\n",
    "\n",
    "x = model(batch.text, batch.pattern)\n",
    "print(x[0].shape, x[1].shape)"
   ]
  },
  {
   "cell_type": "code",
   "execution_count": null,
   "metadata": {},
   "outputs": [],
   "source": []
  },
  {
   "cell_type": "code",
   "execution_count": 323,
   "metadata": {},
   "outputs": [
    {
     "name": "stdout",
     "output_type": "stream",
     "text": [
      "тайнзачатьшапкизнайуткалучшекаждымджонзлодейлюдьмичетвёртыйнязениттоварищипридётсякрышеобщемребятбуратиноневесткнигаособопромолвилбобрыжеланьенебетёщабюджетрассветеосланеплохострахаположилбровейцеоткрытыйдвиженьязапойпроводитзабралигакингпрохожихпредставитьступайтэконтрольныйдругомукустонесинатюрмортминусоказалсявоетворонстарухулыбкойеврейоткрытымвпрочемлисувинилзаявляетглазамрельсахайпадшучуидёшьнебесныйиграянадоеламилыйвдвойнеполюртыбольнасомненьяанфастенейотраженьепилаповарполялитраженщиныутромподрядврагсдаётсяглухойухомпианисткарядоммытьсемёнаписалскажешьрубашкаитогволчоквызвалкняжначестипредлагаетчасыутюгстохамвойтизаводитсвязьфомарусикоролевачелоплывётстучитмеломштирлицзнайнадёжнотудаохотугрекисидятатуполапожарколялюбуюсьнервноушейоксанасугробнебесныйвасяночнойвначалеэтомузлодейждетделаюбровиподписьпредлагаетпиратстатуссыгралтамбовзять"
     ]
    }
   ],
   "source": [
    "def generate(model, temp=0.6):\n",
    "    model.eval()\n",
    "    with torch.no_grad():        \n",
    "        prev_token = train_iter.dataset.fields['text'].vocab.stoi['<s>']\n",
    "        prev_pattern = train_iter.dataset.fields['pattern'].vocab.stoi['<s>']\n",
    "        \n",
    "        end_token = train_iter.dataset.fields['text'].vocab.stoi['</s>']\n",
    "        end_pattern = train_iter.dataset.fields['pattern'].vocab.stoi['</s>']\n",
    "        #print(prev_token)\n",
    "        \n",
    "        hidden = None\n",
    "        for _ in range(150):\n",
    "            probs_text, probs_pattern, hidden = model(LongTensor([[prev_token]]), LongTensor([[prev_pattern]]), hidden)\n",
    "            prev_token = sample(probs_text, temp)\n",
    "            prev_pattern = sample(probs_pattern, temp)\n",
    "            print(train_iter.dataset.fields['text'].vocab.itos[prev_token], end='')\n",
    "            #print(train_iter.dataset.fields['pattern'].vocab.itos[prev_pattern], end='')\n",
    "            \n",
    "            if prev_token == end_token:\n",
    "                return\n",
    "#             if prev_pattern == end_pattern:\n",
    "#                 return\n",
    "                \n",
    "generate(model)"
   ]
  },
  {
   "cell_type": "code",
   "execution_count": 324,
   "metadata": {},
   "outputs": [],
   "source": [
    "import math\n",
    "from tqdm import tqdm\n",
    "tqdm.get_lock().locks = []\n",
    "\n",
    "\n",
    "def do_epoch(model, criterion, data_iter, unk_idx, pad_idx, optimizer=None, name=None):\n",
    "    epoch_loss = 0\n",
    "    \n",
    "    is_train = not optimizer is None\n",
    "    name = name or ''\n",
    "    model.train(is_train)\n",
    "    \n",
    "    batches_count = len(data_iter)\n",
    "    \n",
    "    pad_idx_p = train_iter.dataset.fields['pattern'].vocab.stoi['<pad>']\n",
    "    unk_idx_p = train_iter.dataset.fields['pattern'].vocab.stoi['<unk>']\n",
    "    \n",
    "    with torch.autograd.set_grad_enabled(is_train):\n",
    "        with tqdm(total=batches_count) as progress_bar:\n",
    "            for i, batch in enumerate(data_iter):                \n",
    "                logits, patterns, _ = model(batch.text, batch.pattern)\n",
    "\n",
    "                targets_text = torch.cat(\n",
    "                    [\n",
    "                        batch.text[1:], batch.text.new_ones((1, batch.text.shape[1]))\n",
    "                    ]\n",
    "                )\n",
    "                \n",
    "                targets_pat = torch.cat(\n",
    "                    [\n",
    "                        batch.pattern[1:], batch.pattern.new_ones((1, batch.pattern.shape[1]))\n",
    "                    ]\n",
    "                )\n",
    "                \n",
    "                loss1 = criterion(logits.view(-1, logits.shape[-1]), targets_text.view(-1))\n",
    "                loss2 = criterion(patterns.view(-1, patterns.shape[-1]), targets_pat.view(-1))\n",
    "                \n",
    "                mask1 = (1 - ((targets_text.view(-1) == unk_idx) + (targets_text.view(-1) == pad_idx))).float().cuda()\n",
    "                mask2 = (1 - ((targets_pat.view(-1) == unk_idx_p) + (targets_pat.view(-1) == pad_idx_p))).float().cuda()\n",
    "                \n",
    "                loss1 = (loss1 * mask1).sum() / mask1.sum()\n",
    "                loss2 = (loss2 * mask2).sum() / mask2.sum()\n",
    "                loss = loss1 #+ loss2\n",
    "\n",
    "                epoch_loss += loss.item()\n",
    "                if optimizer:\n",
    "                    optimizer.zero_grad()\n",
    "                    loss.backward()\n",
    "                    nn.utils.clip_grad_norm_(model.parameters(), 1.)\n",
    "                    optimizer.step()\n",
    "\n",
    "                progress_bar.update()\n",
    "                progress_bar.set_description('{:>5s} Loss = {:.5f}, PPX = {:.2f}'.format(name, loss.item(), \n",
    "                                                                                         math.exp(loss.item())))\n",
    "                \n",
    "            progress_bar.set_description('{:>5s} Loss = {:.5f}, PPX = {:.2f}'.format(\n",
    "                name, \n",
    "                epoch_loss / batches_count, \n",
    "                math.exp(epoch_loss / batches_count)\n",
    "            )\n",
    "            )\n",
    "            progress_bar.refresh()\n",
    "\n",
    "    return epoch_loss / batches_count\n",
    "\n",
    "\n",
    "def fit(model, criterion, optimizer, train_iter, epochs_count=1, unk_idx=0, pad_idx=1, val_iter=None):\n",
    "    best_val_loss = None\n",
    "    for epoch in range(epochs_count):\n",
    "        name_prefix = '[{} / {}] '.format(epoch + 1, epochs_count)\n",
    "        train_loss = do_epoch(model, criterion, train_iter, unk_idx, pad_idx, optimizer, name_prefix + 'Train:')\n",
    "        \n",
    "        if not val_iter is None:\n",
    "            val_loss = do_epoch(model, criterion, val_iter, unk_idx, pad_idx, None, name_prefix + '  Val:')\n",
    "            \n",
    "            if best_val_loss and val_loss > best_val_loss:\n",
    "                optimizer.param_groups[0]['lr'] /= 4.\n",
    "                print('Optimizer lr = {:g}'.format(optimizer.param_groups[0]['lr']))\n",
    "            else:\n",
    "                best_val_loss = val_loss\n",
    "        print()\n",
    "        generate(model)\n",
    "        print()"
   ]
  },
  {
   "cell_type": "code",
   "execution_count": 325,
   "metadata": {},
   "outputs": [
    {
     "name": "stderr",
     "output_type": "stream",
     "text": [
      "[1 / 30] Train: Loss = 5.00039, PPX = 148.47: 100%|██████████| 677/677 [00:05<00:00, 129.34it/s]\n",
      "[1 / 30]   Val: Loss = 4.41071, PPX = 82.33: 100%|██████████| 19/19 [00:00<00:00, 125.54it/s]\n",
      "[2 / 30] Train: Loss = 4.72636, PPX = 112.88:   3%|▎         | 21/677 [00:00<00:06, 105.55it/s]"
     ]
    },
    {
     "name": "stdout",
     "output_type": "stream",
     "text": [
      "\n",
      "аввасвночь\\nвресторане\\n</s>\n"
     ]
    },
    {
     "name": "stderr",
     "output_type": "stream",
     "text": [
      "[2 / 30] Train: Loss = 4.29092, PPX = 73.03: 100%|██████████| 677/677 [00:05<00:00, 131.32it/s]\n",
      "[2 / 30]   Val: Loss = 4.14415, PPX = 63.06: 100%|██████████| 19/19 [00:00<00:00, 125.17it/s]\n",
      "[3 / 30] Train: Loss = 3.87826, PPX = 48.34:   3%|▎         | 21/677 [00:00<00:06, 109.01it/s]"
     ]
    },
    {
     "name": "stdout",
     "output_type": "stream",
     "text": [
      "\n",
      "кактыэто\\nатоябзначит\\nза\\nивдень\\nне\\n</s>\n"
     ]
    },
    {
     "name": "stderr",
     "output_type": "stream",
     "text": [
      "[3 / 30] Train: Loss = 4.01747, PPX = 55.56: 100%|██████████| 677/677 [00:05<00:00, 129.76it/s]\n",
      "[3 / 30]   Val: Loss = 4.02892, PPX = 56.20: 100%|██████████| 19/19 [00:00<00:00, 125.71it/s]\n",
      "[4 / 30] Train: Loss = 3.95667, PPX = 52.28:   2%|▏         | 14/677 [00:00<00:06, 105.31it/s]"
     ]
    },
    {
     "name": "stdout",
     "output_type": "stream",
     "text": [
      "\n",
      "тынемог\\nияне\\nиразвдрузьяянето\\nкакявгод\\nвгодты\\nвгодвнёмночью\\nскем\\nвнём\\nяв\\nтеловвнём\\nчтоочень\\nвгодчтоя\\nвльто\\nне\\nявмирнезнаю\\nвнём\\n</s>\n"
     ]
    },
    {
     "name": "stderr",
     "output_type": "stream",
     "text": [
      "[4 / 30] Train: Loss = 4.03682, PPX = 56.65: 100%|██████████| 677/677 [00:05<00:00, 131.28it/s]\n",
      "[4 / 30]   Val: Loss = 4.00713, PPX = 54.99: 100%|██████████| 19/19 [00:00<00:00, 130.46it/s]\n",
      "[5 / 30] Train: Loss = 3.91788, PPX = 50.29:   3%|▎         | 21/677 [00:00<00:06, 108.34it/s]"
     ]
    },
    {
     "name": "stdout",
     "output_type": "stream",
     "text": [
      "\n",
      "вденьв\\nивдругв\\nивденьдомспор\\nи\\n</s>\n"
     ]
    },
    {
     "name": "stderr",
     "output_type": "stream",
     "text": [
      "[5 / 30] Train: Loss = 3.79535, PPX = 44.49: 100%|██████████| 677/677 [00:05<00:00, 129.85it/s]\n",
      "[5 / 30]   Val: Loss = 3.96058, PPX = 52.49: 100%|██████████| 19/19 [00:00<00:00, 128.95it/s]\n",
      "[6 / 30] Train: Loss = 3.56802, PPX = 35.45:   3%|▎         | 20/677 [00:00<00:06, 106.54it/s]"
     ]
    },
    {
     "name": "stdout",
     "output_type": "stream",
     "text": [
      "\n",
      "аясгодамиглеба\\nсвас\\nчтотозаэто\\nнеякогда\\n</s>\n"
     ]
    },
    {
     "name": "stderr",
     "output_type": "stream",
     "text": [
      "[6 / 30] Train: Loss = 3.74739, PPX = 42.41: 100%|██████████| 677/677 [00:05<00:00, 131.91it/s]\n",
      "[6 / 30]   Val: Loss = 3.96189, PPX = 52.56: 100%|██████████| 19/19 [00:00<00:00, 128.83it/s]\n",
      "[7 / 30] Train: Loss = 3.67279, PPX = 39.36:   2%|▏         | 13/677 [00:00<00:06, 108.12it/s]"
     ]
    },
    {
     "name": "stdout",
     "output_type": "stream",
     "text": [
      "Optimizer lr = 5\n",
      "\n",
      "мыздесьэтокашу\\nдавестьсемью\\nмытутмышь\\nчтоячайсней\\nновгодне\\nдобраспросилхреналетабред\\nновотсвотнетне\\nновротнет\\nяненезмеябжальбввгодучас\\nивпятьлет\\nнесчтовразяввзором\\nнамать\\n</s>\n"
     ]
    },
    {
     "name": "stderr",
     "output_type": "stream",
     "text": [
      "[7 / 30] Train: Loss = 3.45810, PPX = 31.76: 100%|██████████| 677/677 [00:05<00:00, 129.96it/s]\n",
      "[7 / 30]   Val: Loss = 3.92578, PPX = 50.69: 100%|██████████| 19/19 [00:00<00:00, 121.97it/s]\n",
      "[8 / 30] Train: Loss = 3.40247, PPX = 30.04:   3%|▎         | 18/677 [00:00<00:06, 105.35it/s]"
     ]
    },
    {
     "name": "stdout",
     "output_type": "stream",
     "text": [
      "\n",
      "иныеу\\nлишьочень\\nвнашвопрос\\nкогдавремя\\nлишьонавтригодаив\\nсказалапришвиншок\\nто\\nикак\\nвдругбосс\\nяналучшийсорок\\n</s>\n"
     ]
    },
    {
     "name": "stderr",
     "output_type": "stream",
     "text": [
      "[8 / 30] Train: Loss = 3.39395, PPX = 29.78: 100%|██████████| 677/677 [00:05<00:00, 131.66it/s]\n",
      "[8 / 30]   Val: Loss = 3.92822, PPX = 50.82: 100%|██████████| 19/19 [00:00<00:00, 128.40it/s]\n",
      "[9 / 30] Train: Loss = 3.29619, PPX = 27.01:   1%|          | 7/677 [00:00<00:07, 91.63it/s]"
     ]
    },
    {
     "name": "stdout",
     "output_type": "stream",
     "text": [
      "Optimizer lr = 1.25\n",
      "\n",
      "когдамывсебаба\\nвотииснимпорвгодслон\\nвбульончтоб\\nиснасбылв\\nвострый\\nнасамомделебреддней\\nавгодзанимиватсон\\nвв\\nвот\\nнаи\\nвгодделевотнет\\nвотсчего\\nвысвасвнас\\nи\\nсвотвамвотв\\nявнев\\nнавал\\nвдорогу\\nатовэтомкаквтригода\\nвтото\\nвлесуневиктотамвденьмамыможно\\nсмать\\nвтебя\\n</s>\n"
     ]
    },
    {
     "name": "stderr",
     "output_type": "stream",
     "text": [
      "[9 / 30] Train: Loss = 3.29199, PPX = 26.90: 100%|██████████| 677/677 [00:05<00:00, 129.04it/s]\n",
      "[9 / 30]   Val: Loss = 3.93226, PPX = 51.02: 100%|██████████| 19/19 [00:00<00:00, 129.25it/s]\n",
      "[10 / 30] Train: Loss = 3.17163, PPX = 23.85:   1%|          | 4/677 [00:00<00:08, 79.94it/s]"
     ]
    },
    {
     "name": "stdout",
     "output_type": "stream",
     "text": [
      "Optimizer lr = 0.3125\n",
      "\n",
      "яверюктебераньшесвамивсамомделе\\nизподтолстымрешилналице\\nтымнебыты\\nневшутку\\nятварьчесть\\nябскулаками\\nвявгоднезрясгод\\nнагрудьнедамужин\\nвавгоджизнив\\nтония\\nнамыаневлюдис\\nводновсехтехктотоже\\nяимвнейлужерот\\nнанёмтыввечер\\nвтебесбожевсказке\\nиз\\nначтовдень\\nвходит\\nчтоянена\\nчтоясивчетыре\\nнальду\\n\\n\\nсутра\\nвденьсвязьсльейод\\nвчаснев\\nвот\\nмыинавесь\\nидушавдень\n"
     ]
    },
    {
     "name": "stderr",
     "output_type": "stream",
     "text": [
      "[10 / 30] Train: Loss = 3.25635, PPX = 25.95: 100%|██████████| 677/677 [00:05<00:00, 133.12it/s]\n",
      "[10 / 30]   Val: Loss = 3.93554, PPX = 51.19: 100%|██████████| 19/19 [00:00<00:00, 133.13it/s]\n",
      "[11 / 30] Train: Loss = 3.31279, PPX = 27.46:   2%|▏         | 13/677 [00:00<00:06, 107.58it/s]"
     ]
    },
    {
     "name": "stdout",
     "output_type": "stream",
     "text": [
      "Optimizer lr = 0.078125\n",
      "\n",
      "насердцелетогоды\\nтынаужин\\nиврот\\nаяднём\\nчто\\nназло\\nтакчтоснас\\nвтриявгости\\nвденьвсе\\n\\nзачтонеза\\nвчассточки\\nпо\\nпотриднядругиимо\\nвчас\\nситригодаввечер\\nвмигвбредув\\nвденьтридцать\\nв\\n</s>\n"
     ]
    },
    {
     "name": "stderr",
     "output_type": "stream",
     "text": [
      "[11 / 30] Train: Loss = 3.24615, PPX = 25.69: 100%|██████████| 677/677 [00:05<00:00, 134.29it/s]\n",
      "[11 / 30]   Val: Loss = 3.93661, PPX = 51.24: 100%|██████████| 19/19 [00:00<00:00, 135.20it/s]\n",
      "[12 / 30] Train: Loss = 3.27433, PPX = 26.43:   2%|▏         | 13/677 [00:00<00:06, 104.93it/s]"
     ]
    },
    {
     "name": "stdout",
     "output_type": "stream",
     "text": [
      "Optimizer lr = 0.0195312\n",
      "\n",
      "вденьолегс\\nвтрине\\n\\nночтоневгодестьбог\\nнетопокавселетасорокгубыввосемь\\nвдень\\nтоянетоянатри\\n\\nвденьсоль\\nияневснеграз\\nвденьмнебвморевечер\\nявгости\\nтаквотониненицшедамымамававгодпьян\\nчтоподним</s>\n"
     ]
    },
    {
     "name": "stderr",
     "output_type": "stream",
     "text": [
      "[12 / 30] Train: Loss = 3.24381, PPX = 25.63: 100%|██████████| 677/677 [00:05<00:00, 132.57it/s]\n",
      "[12 / 30]   Val: Loss = 3.93672, PPX = 51.25: 100%|██████████| 19/19 [00:00<00:00, 125.57it/s]\n",
      "[13 / 30] Train: Loss = 3.36022, PPX = 28.80:   3%|▎         | 19/677 [00:00<00:06, 103.60it/s]"
     ]
    },
    {
     "name": "stdout",
     "output_type": "stream",
     "text": [
      "Optimizer lr = 0.00488281\n",
      "\n",
      "якакна\\nты\\nбежитна\\nчтониябэтовсёчтоможно\\nвбожекак\\nврот\\n</s>\n"
     ]
    },
    {
     "name": "stderr",
     "output_type": "stream",
     "text": [
      "[13 / 30] Train: Loss = 3.24317, PPX = 25.61: 100%|██████████| 677/677 [00:05<00:00, 133.82it/s]\n",
      "[13 / 30]   Val: Loss = 3.93749, PPX = 51.29: 100%|██████████| 19/19 [00:00<00:00, 133.13it/s]\n",
      "[14 / 30] Train: Loss = 3.20652, PPX = 24.69:   2%|▏         | 13/677 [00:00<00:06, 108.30it/s]"
     ]
    },
    {
     "name": "stdout",
     "output_type": "stream",
     "text": [
      "Optimizer lr = 0.0012207\n",
      "\n",
      "вотвотпуск\\nявточку\\nив\\nчтотовнивчёмвремя\\nтебе\\nя\\nневденьадомавс\\nвотсчемдаложьматьбред\\nвотватсон\\nвкаквсетивв\\nиневя\\nнаось\\nвомне\\nввасвненадопростонужно\\nинивгоднеизруквгодвуза\\nбезруквдень\\n</s>\n"
     ]
    },
    {
     "name": "stderr",
     "output_type": "stream",
     "text": [
      "[14 / 30] Train: Loss = 3.24329, PPX = 25.62: 100%|██████████| 677/677 [00:05<00:00, 133.70it/s]\n",
      "[14 / 30]   Val: Loss = 3.93629, PPX = 51.23: 100%|██████████| 19/19 [00:00<00:00, 130.11it/s]\n",
      "[15 / 30] Train: Loss = 3.21960, PPX = 25.02:   1%|          | 5/677 [00:00<00:07, 84.33it/s]"
     ]
    },
    {
     "name": "stdout",
     "output_type": "stream",
     "text": [
      "Optimizer lr = 0.000305176\n",
      "\n",
      "ямогувжизни\\nчтоневремясчасбог\\nсвотвотнети\\nвотвотвотвотсивотвотвотвотвоти\\nтеперьбыловнёмв\\nввотвлодке\\nисвасявасв\\nсдуши\\nнесмогтойльвчассж\\nскакойнелень\\nзачемда\\nявчасвденьгодыстрингивиз\\nаяв\\nчтояматьслонслон\\nноуж\\nтымневсевто\\nнарядсвет\\nнафонеаятамвдень\\nвгодгдеэтобыловпраздник\\nвтом\\nчтода\\nтоестьвчасв\\nвденьмнев\\n\\n</s>\n"
     ]
    },
    {
     "name": "stderr",
     "output_type": "stream",
     "text": [
      "[15 / 30] Train: Loss = 3.24298, PPX = 25.61: 100%|██████████| 677/677 [00:05<00:00, 131.20it/s]\n",
      "[15 / 30]   Val: Loss = 3.93643, PPX = 51.24: 100%|██████████| 19/19 [00:00<00:00, 130.01it/s]\n",
      "[16 / 30] Train: Loss = 3.21944, PPX = 25.01:   2%|▏         | 16/677 [00:00<00:06, 104.44it/s]"
     ]
    },
    {
     "name": "stdout",
     "output_type": "stream",
     "text": [
      "Optimizer lr = 7.62939e-05\n",
      "\n",
      "яитывдень\\nневсилахвглазавчасчассожаленьюсвасвгодты\\nсдоутра\\nневрайраз\\nтеперьбыунасв\\nвнанёмвдень\\nвлюк\\nвдушемне\\n</s>\n"
     ]
    },
    {
     "name": "stderr",
     "output_type": "stream",
     "text": [
      "[16 / 30] Train: Loss = 3.24309, PPX = 25.61: 100%|██████████| 677/677 [00:05<00:00, 130.15it/s]\n",
      "[16 / 30]   Val: Loss = 3.93716, PPX = 51.27: 100%|██████████| 19/19 [00:00<00:00, 123.32it/s]\n",
      "[17 / 30] Train: Loss = 3.29661, PPX = 27.02:   1%|          | 4/677 [00:00<00:09, 73.97it/s]"
     ]
    },
    {
     "name": "stdout",
     "output_type": "stream",
     "text": [
      "Optimizer lr = 1.90735e-05\n",
      "\n",
      "наоксанеу\\nкнигавморе\\nвденьпланывчастыв\\nналицеим\\nясмотрюспахдамбредкто\\nдавносвотвотнетявотнетнетнетнет\\nяжнехочупрочтолицойсхлебомбред\\nивотявотвотвденьвденьвчас\\nвглазахвчас\\nкакто\\nвсе\\nвбредизрукав\\nнапол\\nиктеперьонневжвчасввчас\\nнеталькаквдва\\nвтриктактакже\\nизподгрудиногивжекак\\nнагрудь\\n\\nвот\\nтеперьонмнебы\\nвсутьначесть\\nнедотой\\nнетыбудешь\\n\\n</s>\n"
     ]
    },
    {
     "name": "stderr",
     "output_type": "stream",
     "text": [
      "[17 / 30] Train: Loss = 3.24303, PPX = 25.61: 100%|██████████| 677/677 [00:05<00:00, 130.22it/s]\n",
      "[17 / 30]   Val: Loss = 3.93585, PPX = 51.21: 100%|██████████| 19/19 [00:00<00:00, 126.29it/s]\n",
      "[18 / 30] Train: Loss = 3.12346, PPX = 22.72:   2%|▏         | 13/677 [00:00<00:06, 99.86it/s]"
     ]
    },
    {
     "name": "stdout",
     "output_type": "stream",
     "text": [
      "Optimizer lr = 4.76837e-06\n",
      "\n",
      "мненесейчасневчассутьдел\\nвтвойраз\\nнаработувточтотовчас\\nмысваснаоксанебыловчас\\nвкрасноминаполсыра\\nсневсон\\nвденьдень\\nяидояваснедосмерти\\nневойкостьчтовысбольшойдо\\nсикрикомдетства\\nвне\\nтычо</s>\n"
     ]
    },
    {
     "name": "stderr",
     "output_type": "stream",
     "text": [
      "[18 / 30] Train: Loss = 3.24314, PPX = 25.61: 100%|██████████| 677/677 [00:05<00:00, 130.16it/s]\n",
      "[18 / 30]   Val: Loss = 3.93726, PPX = 51.28: 100%|██████████| 19/19 [00:00<00:00, 132.99it/s]\n",
      "[19 / 30] Train: Loss = 3.30519, PPX = 27.25:   3%|▎         | 17/677 [00:00<00:06, 108.94it/s]"
     ]
    },
    {
     "name": "stdout",
     "output_type": "stream",
     "text": [
      "Optimizer lr = 1.19209e-06\n",
      "\n",
      "когдаявгодявгод\\nкактяжеловонвтригода\\nвденьневдень\\nнетонкак\\nновсёжевчоммог\\nспросилмнев\\nвотвотвначалесмертьсивдень\\nсвот\\nназемле</s>\n"
     ]
    },
    {
     "name": "stderr",
     "output_type": "stream",
     "text": [
      "[19 / 30] Train: Loss = 3.24279, PPX = 25.60: 100%|██████████| 677/677 [00:05<00:00, 130.46it/s]\n",
      "[19 / 30]   Val: Loss = 3.93666, PPX = 51.25: 100%|██████████| 19/19 [00:00<00:00, 130.64it/s]\n",
      "[20 / 30] Train: Loss = 3.27818, PPX = 26.53:   2%|▏         | 16/677 [00:00<00:06, 104.98it/s]"
     ]
    },
    {
     "name": "stdout",
     "output_type": "stream",
     "text": [
      "Optimizer lr = 2.98023e-07\n",
      "\n",
      "янаэтоммногомиресмамывгодыснами\\nмненеивотпятьлетдней\\nноматьесть\\nявсвас\\nчтожизньсчемедетбогвстрасть\\nнедохера\\nвместесвашей\\n\\n</s>\n"
     ]
    },
    {
     "name": "stderr",
     "output_type": "stream",
     "text": [
      "[20 / 30] Train: Loss = 3.24303, PPX = 25.61: 100%|██████████| 677/677 [00:05<00:00, 130.84it/s]\n",
      "[20 / 30]   Val: Loss = 3.93696, PPX = 51.26: 100%|██████████| 19/19 [00:00<00:00, 126.06it/s]\n",
      "[21 / 30] Train: Loss = 3.33416, PPX = 28.05:   3%|▎         | 20/677 [00:00<00:06, 106.89it/s]"
     ]
    },
    {
     "name": "stdout",
     "output_type": "stream",
     "text": [
      "Optimizer lr = 7.45058e-08\n",
      "\n",
      "вденьнасуткискому\\nвземлюсутра\\nвденьмнеплачивденьлето\\nяи\\n</s>\n"
     ]
    },
    {
     "name": "stderr",
     "output_type": "stream",
     "text": [
      "[21 / 30] Train: Loss = 3.24309, PPX = 25.61: 100%|██████████| 677/677 [00:05<00:00, 132.32it/s]\n",
      "[21 / 30]   Val: Loss = 3.93828, PPX = 51.33: 100%|██████████| 19/19 [00:00<00:00, 129.94it/s]\n",
      "[22 / 30] Train: Loss = 3.06833, PPX = 21.51:   3%|▎         | 18/677 [00:00<00:06, 107.47it/s]"
     ]
    },
    {
     "name": "stdout",
     "output_type": "stream",
     "text": [
      "Optimizer lr = 1.86265e-08\n",
      "\n",
      "настонучтото\\nтымынектебенезапогода\\nвот\\nзаночьна\\nвотвот\\nвотвотслон\\nи\\nя\\n</s>\n"
     ]
    },
    {
     "name": "stderr",
     "output_type": "stream",
     "text": [
      "[22 / 30] Train: Loss = 3.24305, PPX = 25.61: 100%|██████████| 677/677 [00:05<00:00, 130.83it/s]\n",
      "[22 / 30]   Val: Loss = 3.93599, PPX = 51.21: 100%|██████████| 19/19 [00:00<00:00, 131.38it/s]\n",
      "[23 / 30] Train: Loss = 3.18912, PPX = 24.27:   2%|▏         | 16/677 [00:00<00:06, 107.37it/s]"
     ]
    },
    {
     "name": "stdout",
     "output_type": "stream",
     "text": [
      "Optimizer lr = 4.65661e-09\n",
      "\n",
      "ясказалмиг\\nявтишиввсёчтовя\\nвотноменянеправ\\nянемог\\nаякактонебылонадевятьпраздник\\nялюблюс\\nвотсдвухнамивгодвунас\\nвчасвкровати\\nпрости\\n\\n</s>\n"
     ]
    },
    {
     "name": "stderr",
     "output_type": "stream",
     "text": [
      "[23 / 30] Train: Loss = 3.24306, PPX = 25.61: 100%|██████████| 677/677 [00:05<00:00, 128.00it/s]\n",
      "[23 / 30]   Val: Loss = 3.93536, PPX = 51.18: 100%|██████████| 19/19 [00:00<00:00, 131.65it/s]\n",
      "[24 / 30] Train: Loss = 3.20314, PPX = 24.61:   2%|▏         | 16/677 [00:00<00:06, 105.44it/s]"
     ]
    },
    {
     "name": "stdout",
     "output_type": "stream",
     "text": [
      "Optimizer lr = 1.16415e-09\n",
      "\n",
      "яклюдямна\\nатоочень\\nзаивнебовдомевсамом\\n\\nисв\\nкактыльяльбвдругбудусс\\n\\nияраб\\nвнихявасржал\\nвстенку\\n</s>\n"
     ]
    },
    {
     "name": "stderr",
     "output_type": "stream",
     "text": [
      "[24 / 30] Train: Loss = 3.24318, PPX = 25.61: 100%|██████████| 677/677 [00:05<00:00, 130.86it/s]\n",
      "[24 / 30]   Val: Loss = 3.93756, PPX = 51.29: 100%|██████████| 19/19 [00:00<00:00, 136.98it/s]\n",
      "[25 / 30] Train: Loss = 3.08161, PPX = 21.79:   0%|          | 3/677 [00:00<00:09, 69.13it/s]"
     ]
    },
    {
     "name": "stdout",
     "output_type": "stream",
     "text": [
      "Optimizer lr = 2.91038e-10\n",
      "\n",
      "явденьстенувморге\\nвсвойяненапамять\\nато\\nпотомвденьэтих\\nивсонгдепростотак\\nтамза\\nненасветев\\nвшкафудни\\nизивто\\nножомивжея\\nвнейуснусбожеглядяв\\nввжизнивечер\\nнамневбольно\\nвтригода\\nнетовдругизсердцав\\nвэтатыивдень\\nне\\nвненинивто\\nвденьвденьсместавчасосеньс\\nвоткто\\nяльбтамвденьчас\\nвмойчасбыло\\nвточтобнеот\\nподкраюи\\nвивнём\\nвотты\\nсейчасвасне\\n\\nнавесь\\n\n"
     ]
    },
    {
     "name": "stderr",
     "output_type": "stream",
     "text": [
      "[25 / 30] Train: Loss = 3.24324, PPX = 25.62: 100%|██████████| 677/677 [00:05<00:00, 131.63it/s]\n",
      "[25 / 30]   Val: Loss = 3.93718, PPX = 51.27: 100%|██████████| 19/19 [00:00<00:00, 128.96it/s]\n",
      "[26 / 30] Train: Loss = 3.33055, PPX = 27.95:   3%|▎         | 18/677 [00:00<00:06, 105.45it/s]"
     ]
    },
    {
     "name": "stdout",
     "output_type": "stream",
     "text": [
      "Optimizer lr = 7.27596e-11\n",
      "\n",
      "мыстобойвнаш\\nввотя\\nвневхвостивсебе\\nчтовгод\\nчтотывмозгая\\nвлишь\\nкакне\\n</s>\n"
     ]
    },
    {
     "name": "stderr",
     "output_type": "stream",
     "text": [
      "[26 / 30] Train: Loss = 3.24282, PPX = 25.61: 100%|██████████| 677/677 [00:05<00:00, 128.51it/s]\n",
      "[26 / 30]   Val: Loss = 3.93676, PPX = 51.25: 100%|██████████| 19/19 [00:00<00:00, 122.44it/s]\n",
      "[27 / 30] Train: Loss = 3.12122, PPX = 22.67:   2%|▏         | 14/677 [00:00<00:06, 98.28it/s]"
     ]
    },
    {
     "name": "stdout",
     "output_type": "stream",
     "text": [
      "Optimizer lr = 1.81899e-11\n",
      "\n",
      "олегналбусновасбогомв\\nянесодоски\\nвденьиз\\nвмигместмноговгодбред\\nчтобневточтоб\\nнемнеавдень\\nноввподарок\\nкаквденьявгодслон\\nтынея\\nнев\\n</s>\n"
     ]
    },
    {
     "name": "stderr",
     "output_type": "stream",
     "text": [
      "[27 / 30] Train: Loss = 3.24303, PPX = 25.61: 100%|██████████| 677/677 [00:05<00:00, 131.16it/s]\n",
      "[27 / 30]   Val: Loss = 3.93667, PPX = 51.25: 100%|██████████| 19/19 [00:00<00:00, 128.75it/s]\n",
      "[28 / 30] Train: Loss = 3.35721, PPX = 28.71:   1%|          | 4/677 [00:00<00:09, 74.19it/s]"
     ]
    },
    {
     "name": "stdout",
     "output_type": "stream",
     "text": [
      "Optimizer lr = 4.54747e-12\n",
      "\n",
      "аяправданеочень\\nянезнаюянонетнет\\nхотябсчаскто\\nясвасбвполне\\nночто\\nнетда\\nневнезапноячтотолько\\nянетварьбредзрясвотсчемжизнь\\nвденьмнеотом\\nдаявамс\\nссобой\\nвбокал\\nипоуму\\nвот\\nвотв\\nопятьпокинулнасемь\\nивнёмявчас\\nснимившколу\\nи\\nна\\nвдушевивденьтымненетак\\nвтри\\nсва\\nтывмесяцчащевычтожневвчас\\nвокновсеот\\nтри\\nлишь\\nкогдавстого\\nвявасвсказке\\nвтрив\n"
     ]
    },
    {
     "name": "stderr",
     "output_type": "stream",
     "text": [
      "[28 / 30] Train: Loss = 3.24287, PPX = 25.61: 100%|██████████| 677/677 [00:05<00:00, 131.93it/s]\n",
      "[28 / 30]   Val: Loss = 3.93688, PPX = 51.26: 100%|██████████| 19/19 [00:00<00:00, 129.04it/s]\n",
      "[29 / 30] Train: Loss = 3.27225, PPX = 26.37:   0%|          | 3/677 [00:00<00:09, 68.82it/s]"
     ]
    },
    {
     "name": "stdout",
     "output_type": "stream",
     "text": [
      "Optimizer lr = 1.13687e-12\n",
      "\n",
      "онпостаройморювбанесутравчасвдень\\nавяхочучтов\\nявдвагодасчтовчас\\nатоткаконвыбыть\\nиводнодвагода\\nотводки\\nивотявгодчестьсна\\nнеатобоже\\nвденьнев\\nяо\\nвотивотвечервроткак\\nвгрудьвсёвпорядке\\n\\nавотвотвтригода\\nв\\nвотвотнет\\nвоттыснова\\nвот\\nноже\\nиснова\\nавнёмвсётакнету\\n\\nикактов\\nвотвденьспол\\nвденьновых\\nяаявсев\\nссмертьбредместа\\nсдуши\\nвдне\\nизнедоя\n"
     ]
    },
    {
     "name": "stderr",
     "output_type": "stream",
     "text": [
      "[29 / 30] Train: Loss = 3.24303, PPX = 25.61: 100%|██████████| 677/677 [00:05<00:00, 133.21it/s]\n",
      "[29 / 30]   Val: Loss = 3.93818, PPX = 51.33: 100%|██████████| 19/19 [00:00<00:00, 130.39it/s]\n",
      "[30 / 30] Train: Loss = 3.35244, PPX = 28.57:   1%|          | 7/677 [00:00<00:06, 103.37it/s]"
     ]
    },
    {
     "name": "stdout",
     "output_type": "stream",
     "text": [
      "Optimizer lr = 2.84217e-13\n",
      "\n",
      "унеё\\nянасутки\\nвденьнетывдушу\\nсказалчтоты\\nкаквотпуск\\nвденьсутраявраз\\nисулыбкой\\nв\\nвденьвденьсвчасместа\\nяв\\nчтовгодвдень\\nвденьдве\\nвотвчасвнём\\nневденьчас\\nвнёмнаокневдень\\nмыбыяноскемтывечно\\nчтояненадо\\nтамявяжнеживу\\nно\\nатыкаквче\\nспросилякактовтоямогу\\nвчасна\\nяденьгиотпуск\\nя\\nаизподпятнасдевятьдетства\\nвденьточки\\nдуракктоя\\n</s>\n"
     ]
    },
    {
     "name": "stderr",
     "output_type": "stream",
     "text": [
      "[30 / 30] Train: Loss = 3.24317, PPX = 25.61: 100%|██████████| 677/677 [00:05<00:00, 132.30it/s]\n",
      "[30 / 30]   Val: Loss = 3.93708, PPX = 51.27: 100%|██████████| 19/19 [00:00<00:00, 122.36it/s]\n"
     ]
    },
    {
     "name": "stdout",
     "output_type": "stream",
     "text": [
      "Optimizer lr = 7.10543e-14\n",
      "\n",
      "какрыбавынеякактостранно\\nнаработу\\nнетявамне\\nжелаюдамзлотытварь\\nкакты\\nчто\\n\\nводной\\nянежты\\nкак\\nсвасвнет\\nвжизничаслень\\nвразневгодввденьмне\\nнадне\\nвне\\nвротсмух\\nно\\nтынаночь\\nвтишивтруп\\nввотвотвотвчасиз\\nизподбой\\nзлоскак\\nснимвамив\\nнедодна\\nвгодстобойс\\nнавсехявтовтовечер\\nвденьдрожь\\n\\nвчасивдень\\nвденьлетоместавосемьденегза\\nнеточтоя\\n</s>\n"
     ]
    }
   ],
   "source": [
    "model = LMModelv3(\n",
    "    vocab_size=len(train_iter.dataset.fields['text'].vocab),\n",
    "    vocab_size_pattern=len(train_iter.dataset.fields['pattern'].vocab)).to(DEVICE)\n",
    "\n",
    "pad_idx = train_iter.dataset.fields['text'].vocab.stoi['<pad>']\n",
    "unk_idx = train_iter.dataset.fields['text'].vocab.stoi['<unk>']\n",
    "criterion = nn.CrossEntropyLoss(reduction='none').to(DEVICE)\n",
    "\n",
    "optimizer = optim.SGD(model.parameters(), lr=20., weight_decay=1e-6)\n",
    "\n",
    "fit(model, criterion, optimizer, train_iter, epochs_count=30, unk_idx=unk_idx, pad_idx=pad_idx, val_iter=test_iter)"
   ]
  },
  {
   "cell_type": "markdown",
   "metadata": {
    "colab_type": "text",
    "id": "MBX4NjzZ-0Hc"
   },
   "source": [
    "### Увеличиваем выборку\n",
    "\n",
    "У нас есть выборка для пирожков, которая заметно больше.\n",
    "\n",
    "**Задание** Обучитесь на ней.\n",
    "\n",
    "### Transfer learning\n",
    "\n",
    "Простой и приятный способ улучшения модели - сделать перенос обученной на большом корпусе модели на меньшего объема датасет.\n",
    "\n",
    "Популярен этот способ больше в компьютерном зрении: [Transfer learning, cs231n](http://cs231n.github.io/transfer-learning/) - там есть огромный ImageNet, на котором предобучают модель, чтобы потом заморозить нижние слои и заменить выходные. В итоге модель использует универсальные представления данных, выученные на большом корпусе, но для предсказания совсем других меток - и качество очень здорово растет.\n",
    "\n",
    "Нам такие извращения пока не нужны (хотя потом пригодятся, ключевые слова: ULMFiT, ELMo и компания). Просто возьмем обученную на большем корпусе модель и поучим ее на меньшем корпусе. Ей всего-то нужно новый матрический шаблон последней строки выучить.\n",
    "\n",
    "**Задание** Обученную в прошлом пункте модель дообучите на порошки.\n",
    "\n",
    "### Conditional language model\n",
    "\n",
    "Ещё лучше - просто учиться на обоих корпусах сразу. Объедините пирожки и порошки, для каждого храните индекс 0/1 - был ли это пирожок или порошок. Добавьте вход - этот индекс и конкатенируйте его либо к каждому эмбеддингу слов, либо к каждому выходу из LSTM.\n",
    "\n",
    "**Задание** Научите единую модель, у которой можно просить сгенерировать пирожок или порошок."
   ]
  },
  {
   "cell_type": "markdown",
   "metadata": {
    "colab_type": "text",
    "id": "WnP743CM-bY6"
   },
   "source": [
    "### Variational & word dropout\n",
    "\n",
    "**Задание** На прошлом занятии приводились примеры более приспособленных к RNN'ам dropout'ов. Добавьте их.\n",
    "\n",
    "**Задание** Кроме этого, попробуйте увеличивать размер модели или количество слоев в ней, чтобы улучшить качество."
   ]
  },
  {
   "cell_type": "markdown",
   "metadata": {
    "colab_type": "text",
    "id": "Ejqx6BC0JcG2"
   },
   "source": [
    "## Multi-task learning\n",
    "\n",
    "Ещё один важный способ улучшения модели - multi-task learning. Это когда одна модель учится делать предсказания сразу для нескольких задач.\n",
    "\n",
    "В нашем случае это может быть предсказанием отдельно леммы слова и отдельно - его грамматического значения:\n",
    "![](https://hsto.org/web/e97/8a8/6e8/e978a86e8a874d8d946bb15e6a49a713.png =x350)\n",
    "\n",
    "В итоге модель выучивает как языковую модель по леммам, так и модель POS tagging'а. Одновременно!\n",
    "\n",
    "Возьмем корпус из universal dependencies - он уже размечен, как нужно.\n",
    "\n",
    "Почитаем его:"
   ]
  },
  {
   "cell_type": "code",
   "execution_count": null,
   "metadata": {
    "colab": {},
    "colab_type": "code",
    "id": "YT-kzC2_KuLX"
   },
   "outputs": [],
   "source": [
    "from corpus_iterator import Token, CorpusIterator\n",
    "\n",
    "fields = [('word', Field()), ('lemma', Field()), ('gram_val', Field())]\n",
    "examples = []\n",
    "\n",
    "with CorpusIterator('UD_Russian-SynTagRus/ru_syntagrus-ud-train.conllu') as corpus_iter:\n",
    "    for sent in corpus_iter:\n",
    "        words = ['<s>'] + [tok.token.lower() for tok in sent] + ['</s>']\n",
    "        lemmas = ['<s>'] + [tok.lemma.lower() for tok in sent] + ['</s>']\n",
    "        gr_vals = ['<s>'] + [tok.grammar_value for tok in sent] + ['</s>']\n",
    "        examples.append(Example.fromlist([words, lemmas, gr_vals], fields))"
   ]
  },
  {
   "cell_type": "code",
   "execution_count": null,
   "metadata": {
    "colab": {},
    "colab_type": "code",
    "id": "l_3xaD-2KwNW"
   },
   "outputs": [],
   "source": [
    "print('Words:', examples[1].word)\n",
    "print('Lemmas:', examples[1].lemma)\n",
    "print('Grammar vals:', examples[1].gram_val)"
   ]
  },
  {
   "cell_type": "markdown",
   "metadata": {
    "colab_type": "text",
    "id": "HcGm5fPsLESH"
   },
   "source": [
    "Таким образом, размер словаря может быть существенно сокращен - лемм меньше, чем слов, а предсказание грамматики вынуждает модель быть более осведомленной о согласовании слов."
   ]
  },
  {
   "cell_type": "code",
   "execution_count": null,
   "metadata": {
    "colab": {},
    "colab_type": "code",
    "id": "xZe5HimdLb9i"
   },
   "outputs": [],
   "source": [
    "dataset = Dataset(examples, fields)\n",
    "\n",
    "dataset.fields['word'].build_vocab(dataset, min_freq=3)\n",
    "print('Word vocab size =', len(dataset.fields['word'].vocab))\n",
    "dataset.fields['lemma'].build_vocab(dataset, min_freq=3)\n",
    "print('Lemma vocab size =', len(dataset.fields['lemma'].vocab))\n",
    "dataset.fields['gram_val'].build_vocab(dataset)\n",
    "print('Grammar val vocab size =', len(dataset.fields['gram_val'].vocab))\n",
    "\n",
    "train_dataset, test_dataset = dataset.split(split_ratio=0.75)\n",
    "\n",
    "train_iter, test_iter = BucketIterator.splits(datasets=(train_dataset, test_dataset), batch_sizes=(32, 128), \n",
    "                                              shuffle=True, device=DEVICE, sort=False)"
   ]
  },
  {
   "cell_type": "markdown",
   "metadata": {
    "colab_type": "text",
    "id": "Y7xlr15lLm78"
   },
   "source": [
    "Построим маппинг из пары (лемма, грамматическое значение) в слово - если бы у нас под рукой был морфологический словарь, маппинг можно было бы пополнить, добавить слова для лемм из корпуса, которые не встретились в обучении."
   ]
  },
  {
   "cell_type": "code",
   "execution_count": null,
   "metadata": {
    "colab": {},
    "colab_type": "code",
    "id": "_AvT2MgeLmP8"
   },
   "outputs": [],
   "source": [
    "dictionary = {\n",
    "    (lemma, gr_val): word\n",
    "    for example in train_iter.dataset.examples \n",
    "    for word, lemma, gr_val in zip(example.word, example.lemma, example.gram_val)\n",
    "}"
   ]
  },
  {
   "cell_type": "markdown",
   "metadata": {
    "colab_type": "text",
    "id": "VaP8Krx1LeJl"
   },
   "source": [
    "**Задание**  Обновите генератор - например, можно сэмплировать лемму и находить самое вероятное грамматическое значение, которое встречается  в паре с этой леммой в `dictionary`."
   ]
  },
  {
   "cell_type": "code",
   "execution_count": null,
   "metadata": {
    "colab": {},
    "colab_type": "code",
    "id": "PeBH0WYjMQ5h"
   },
   "outputs": [],
   "source": [
    "def generate(model, temp=0.7):\n",
    "    ..."
   ]
  },
  {
   "cell_type": "markdown",
   "metadata": {
    "colab_type": "text",
    "id": "w3GzOZ8dMVMJ"
   },
   "source": [
    "**Задание** Обновите модель и функцию обучения.\n",
    "\n",
    "Модель должна принимать пары `lemma, gr_val`, конкатенировать их эмбеддинги и предсказывать следующие `lemma, gr_val` по выходу из LSTM.\n",
    "\n",
    "Функция `do_epoch` должна суммировать потери по предсказанию леммы (делая маскинг для `<unk>` и `<pad>`) + потери по предсказанию грамматического значения (с маскингом по `<pad>`)."
   ]
  },
  {
   "cell_type": "markdown",
   "metadata": {
    "colab_type": "text",
    "id": "vL2xPe-BNRhu"
   },
   "source": [
    "## Контролируемая генерация\n",
    "\n",
    "Хочется сделать генерацию более контролируемой - в идеале, задавать тему.\n",
    "\n",
    "Простой способ - сделать тематическое моделирование и найти в текстах какие-то темы - а потом передавать вектор тем вместе с эмбеддингом слова, чтобы модель училась генерировать тематически-согласованный текст."
   ]
  },
  {
   "cell_type": "code",
   "execution_count": null,
   "metadata": {
    "colab": {},
    "colab_type": "code",
    "id": "exopH1jlN4fc"
   },
   "outputs": [],
   "source": [
    "from gensim import corpora, models\n",
    "\n",
    "docs = [[word for word in poem if word != '\\\\n'] for poem in perashki]\n",
    "\n",
    "dictionary = corpora.Dictionary(docs)\n",
    "dictionary.filter_n_most_frequent(100)\n",
    "\n",
    "bow_corpus = [dictionary.doc2bow(doc) for doc in docs]\n",
    "\n",
    "lda_model = models.LdaModel(bow_corpus, num_topics=5, id2word=dictionary, passes=5)"
   ]
  },
  {
   "cell_type": "markdown",
   "metadata": {
    "colab_type": "text",
    "id": "LLPO9U1-Pakp"
   },
   "source": [
    "Посмотреть, что выучилось, можно так:"
   ]
  },
  {
   "cell_type": "code",
   "execution_count": null,
   "metadata": {
    "colab": {},
    "colab_type": "code",
    "id": "hzEg-8SZs8t7"
   },
   "outputs": [],
   "source": [
    "import pyLDAvis\n",
    "import pyLDAvis.gensim\n",
    "\n",
    "pyLDAvis.enable_notebook()\n",
    "pyLDAvis.gensim.prepare(lda_model, bow_corpus, dictionary)"
   ]
  },
  {
   "cell_type": "markdown",
   "metadata": {
    "colab_type": "text",
    "id": "mHx1GJrWPkM8"
   },
   "source": [
    "Предсказывает распределение модель как-то так:"
   ]
  },
  {
   "cell_type": "code",
   "execution_count": null,
   "metadata": {
    "colab": {},
    "colab_type": "code",
    "id": "rTD0CGMdPsF5"
   },
   "outputs": [],
   "source": [
    "for word in perashki[10]:\n",
    "    if word == '\\\\n':\n",
    "        print()\n",
    "    else:\n",
    "        print(word, end=' ')"
   ]
  },
  {
   "cell_type": "code",
   "execution_count": null,
   "metadata": {
    "colab": {},
    "colab_type": "code",
    "id": "0m0b6i2MPlKD"
   },
   "outputs": [],
   "source": [
    "lda_model.get_document_topics(bow_corpus[10])"
   ]
  },
  {
   "cell_type": "markdown",
   "metadata": {
    "colab_type": "text",
    "id": "-imKaGGUQM5K"
   },
   "source": [
    "**Задание** Посчитайте для всех текстов вектора тем, передавайте их вместе со словами (конкатенируя к эмбеддингам). Посмотрите, вдруг чего получится."
   ]
  },
  {
   "cell_type": "markdown",
   "metadata": {
    "colab_type": "text",
    "id": "w8V0KAz_CNf0"
   },
   "source": [
    "# Дополнительные материалы\n",
    "\n",
    "## Статьи\n",
    "\n",
    "Regularizing and Optimizing LSTM Language Models, 2017 [[arxiv]](https://arxiv.org/abs/1708.02182), [[github]](https://github.com/salesforce/awd-lstm-lm) - одна из самых полезных статей про языковые модели + репозиторий, в котором реализовано много полезного, стоит заглянуть\n",
    "\n",
    "Exploring the Limits of Language Modeling, 2016 [[arxiv]](https://arxiv.org/abs/1602.02410)\n",
    "\n",
    "Using the Output Embedding to Improve Language Models, 2017 [[pdf]](http://www.aclweb.org/anthology/E17-2025)\n",
    "\n",
    "\n",
    "## Transfer learning\n",
    "[Transfer learning, cs231n](http://cs231n.github.io/transfer-learning/)  \n",
    "[Transfer learning, Ruder](http://ruder.io/transfer-learning/) - очень подробная статья от чувака из NLP\n",
    "\n",
    "## Multi-task learning\n",
    "[An Overview of Multi-Task Learning in Deep Neural Networks, Ruder](http://ruder.io/multi-task/)  \n",
    "[Multi-Task Learning Objectives for Natural Language Processing, Ruder](http://ruder.io/multi-task-learning-nlp/)"
   ]
  },
  {
   "cell_type": "markdown",
   "metadata": {
    "colab_type": "text",
    "id": "Vwb5e5hPQebd"
   },
   "source": [
    "# Сдача\n",
    "\n",
    "[Форма для сдачи](https://goo.gl/forms/ASLLjYncKUcIHmuO2)  \n",
    "[Feedback](https://goo.gl/forms/9aizSzOUrx7EvGlG3)"
   ]
  }
 ],
 "metadata": {
  "accelerator": "GPU",
  "colab": {
   "collapsed_sections": [],
   "name": "Week 08 - Language Models (Part 2).ipynb",
   "provenance": [],
   "version": "0.3.2"
  },
  "kernelspec": {
   "display_name": "Python 3",
   "language": "python",
   "name": "python3"
  },
  "language_info": {
   "codemirror_mode": {
    "name": "ipython",
    "version": 3
   },
   "file_extension": ".py",
   "mimetype": "text/x-python",
   "name": "python",
   "nbconvert_exporter": "python",
   "pygments_lexer": "ipython3",
   "version": "3.6.7"
  }
 },
 "nbformat": 4,
 "nbformat_minor": 2
}
